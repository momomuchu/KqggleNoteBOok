{
 "cells": [
  {
   "cell_type": "markdown",
   "metadata": {
    "_cell_guid": "876e8a2c-d81d-4cb3-a343-c5921d4ed147",
    "_uuid": "918251f839e8a80df6c2d59c13643241eb358ba4"
   },
   "source": [
    "# Introduction\n",
    "\n",
    "There are some amazing baseline kernels shared with all kinds of models (either custom or pre-trained) throughout this competition. However, things can get messy really fast if we just keep piling on various snippets into our own codebase - different custom and Keras pre-trained models examples, some people allow base model training and some don't, some people use angles and some don't, and so on. \n",
    "\n",
    "Below I propose a clean API to remedy these issues by combining Factory Pattern with Python's lambas."
   ]
  },
  {
   "cell_type": "code",
   "execution_count": 1,
   "metadata": {
    "_cell_guid": "a83ea6d3-172b-4981-8922-65d6ef8c859f",
    "_uuid": "130c3c391b9c164adea2c2a9ec50a9ae4a055426"
   },
   "outputs": [
    {
     "name": "stderr",
     "output_type": "stream",
     "text": [
      "Using TensorFlow backend.\n",
      "/opt/conda/lib/python3.6/importlib/_bootstrap.py:219: RuntimeWarning: compiletime version 3.5 of module 'tensorflow.python.framework.fast_tensor_util' does not match runtime version 3.6\n",
      "  return f(*args, **kwds)\n"
     ]
    }
   ],
   "source": [
    "import numpy as np, pandas as pd\n",
    "from keras.optimizers import Adam\n",
    "from keras.models import Model, Sequential\n",
    "from keras.layers import Dense, Dropout, Conv2D, MaxPooling2D, Input, concatenate, GlobalMaxPooling2D\n",
    "\n",
    "# only needed for Kaggle Kernel, locally just use weights='imagenet'\n",
    "vgg16_fl = \"../input/vgg16/vgg16_weights_tf_dim_ordering_tf_kernels_notop.h5\""
   ]
  },
  {
   "cell_type": "markdown",
   "metadata": {
    "_cell_guid": "73b6daa1-b87b-469d-8066-aaf663fb9563",
    "_uuid": "6b599650979698899be9c2d9982aac54646dc839"
   },
   "source": [
    "## Basic setup\n",
    "\n",
    "Nothing exciting just yet, here we import pre-trained models we might like to use and additionally define a simple ConvNet model to show how to use custom models with API below. Notice that we only define base conv layers for our custom model."
   ]
  },
  {
   "cell_type": "code",
   "execution_count": 2,
   "metadata": {
    "_cell_guid": "aa5c4212-411b-49d6-ad71-f7786dc3f2e4",
    "_uuid": "9ee17c3b2a79123fd0803cab7b436c81e3448dce",
    "collapsed": true
   },
   "outputs": [],
   "source": [
    "from keras.applications import VGG16, VGG19, ResNet50, Xception\n",
    "\n",
    "def get_simple(dropout=0.5):\n",
    "    model = Sequential()\n",
    "\n",
    "    model.add(Conv2D(64, kernel_size=(3, 3), activation='relu', input_shape=(75, 75, 3)))\n",
    "    model.add(MaxPooling2D(pool_size=(3, 3), strides=(2, 2)))\n",
    "    model.add(Dropout(dropout))\n",
    "\n",
    "    model.add(Conv2D(128, kernel_size=(3, 3), activation='relu'))\n",
    "    model.add(MaxPooling2D(pool_size=(3, 3), strides=(2, 2)))\n",
    "    model.add(Dropout(dropout))\n",
    "\n",
    "    model.add(Conv2D(256, kernel_size=(3, 3), activation='relu'))\n",
    "    model.add(MaxPooling2D(pool_size=(3, 3), strides=(2, 2)))\n",
    "    model.add(Dropout(dropout))\n",
    "\n",
    "    return model"
   ]
  },
  {
   "cell_type": "markdown",
   "metadata": {
    "_cell_guid": "03a360f2-1a46-4f82-bd62-02dff347a246",
    "_uuid": "90c74712f220dea95bb1c6a2c7dbd4fecc8de5a1"
   },
   "source": [
    "## API\n",
    "\n",
    "And here's where all the magic happens. Thanks to Python lambdas, we can keep `get_model` clean & small in size, but abstract enough to support use of any base model, adding angle as input, turning base training on/off, and customizing FC layers. Note that the aim was to keep it simple rather than full of features. Some things you might want to add: \n",
    "\n",
    "* Define separate dropout values per FC layer\n",
    "* Fine-tune pre-trained model by training only on a sub-set of layers (instead of current on/off switch)\n",
    "* Use `Flatten` or `GlobalAveragePooling2D` instead of `GlobalMaxPooling2D`"
   ]
  },
  {
   "cell_type": "code",
   "execution_count": 3,
   "metadata": {
    "_cell_guid": "288d5183-6c14-4304-87b1-81e071868185",
    "_uuid": "f24f9c2f1d3d34a8eece220104833a2a53f23005",
    "collapsed": true
   },
   "outputs": [],
   "source": [
    "factory = {\n",
    "    'vgg16': lambda: VGG16(include_top=False, input_shape=(75, 75, 3), weights=vgg16_fl),\n",
    "    'vgg19': lambda: VGG19(include_top=False, input_shape=(75, 75, 3)),\n",
    "    'xception': lambda: Xception(include_top=False, input_shape=(75, 75, 3)),\n",
    "    'resnet50': lambda: ResNet50(include_top=False, input_shape=(200, 200, 3)),\n",
    "    'simple': lambda: get_simple()\n",
    "}\n",
    "\n",
    "def get_model(name='simple',train_base=True,use_angle=False,dropout=0.5,layers=(512,256)):\n",
    "    base = factory[name]()\n",
    "    inputs = [base.input]\n",
    "    x = GlobalMaxPooling2D()(base.output)\n",
    "\n",
    "    if use_angle:\n",
    "        angle_in = Input(shape=(1,))\n",
    "        angle_x = Dense(1, activation='relu')(angle_in)\n",
    "        inputs.append(angle_in)\n",
    "        x = concatenate([x, angle_x])\n",
    "\n",
    "    for l_sz in layers:\n",
    "        x = Dense(l_sz, activation='relu')(x)\n",
    "        x = Dropout(dropout)(x)\n",
    "\n",
    "    x = Dense(1, activation='sigmoid')(x)\n",
    "\n",
    "    for l in base.layers:\n",
    "        l.trainable = train_base\n",
    "\n",
    "    return Model(inputs=inputs, outputs=x)"
   ]
  },
  {
   "cell_type": "markdown",
   "metadata": {
    "_cell_guid": "c9d99ea0-a530-4dfb-acc7-ec96b4fc8ca5",
    "_uuid": "0dfe04b4d345229391593a3fa4bfbffff430363a"
   },
   "source": [
    "## Example\n",
    "\n",
    "Let's try it out!  \n",
    "Note that this is only for illustrative purposes, in practice you'd need to run this on GPU and preferably in two stages where you first train your FC layers and then fine-tune the rest of the model."
   ]
  },
  {
   "cell_type": "code",
   "execution_count": 4,
   "metadata": {
    "_cell_guid": "4bfd5976-6bdf-4f50-a8c2-83616877a7a5",
    "_uuid": "aa32712c51fab2bc0d474868f66cec2b63a3afad",
    "collapsed": true
   },
   "outputs": [],
   "source": [
    "data = pd.read_json('../input/statoil-iceberg-classifier-challenge/train.json')\n",
    "b1 = np.array(data[\"band_1\"].values.tolist()).reshape(-1, 75, 75, 1)\n",
    "b2 = np.array(data[\"band_2\"].values.tolist()).reshape(-1, 75, 75, 1)\n",
    "b3 = b1 + b2\n",
    "\n",
    "X = np.concatenate([b1, b2, b3], axis=3)\n",
    "y = np.array(data['is_iceberg'])\n",
    "angle = np.array(pd.to_numeric(data['inc_angle'], errors='coerce').fillna(0))"
   ]
  },
  {
   "cell_type": "code",
   "execution_count": 5,
   "metadata": {
    "_cell_guid": "4724f210-2049-4743-b32f-393cd78060d8",
    "_uuid": "2b473306b287f5efa831dbc9a5dace208249e946",
    "collapsed": true
   },
   "outputs": [
    {
     "name": "stdout",
     "output_type": "stream",
     "text": [
      "Epoch 1/5\n",
      "1604/1604 [==============================] - 98s 61ms/step - loss: 0.8289 - acc: 0.6565\n",
      "Epoch 2/5\n",
      "1604/1604 [==============================] - 98s 61ms/step - loss: 0.5095 - acc: 0.7350\n",
      "Epoch 3/5\n",
      "1604/1604 [==============================] - 98s 61ms/step - loss: 0.4599 - acc: 0.7681\n",
      "Epoch 4/5\n",
      "1604/1604 [==============================] - 102s 64ms/step - loss: 0.4498 - acc: 0.7587\n",
      "Epoch 5/5\n",
      "1604/1604 [==============================] - 96s 60ms/step - loss: 0.4075 - acc: 0.7924\n"
     ]
    }
   ],
   "source": [
    "model = get_model('vgg16', train_base=False, use_angle=True)\n",
    "model.compile(loss='binary_crossentropy', optimizer=Adam(lr=1e-3), metrics=['accuracy'])\n",
    "history = model.fit([X, angle], y, shuffle=True, verbose=1, epochs=5)"
   ]
  }
 ],
 "metadata": {
  "kernelspec": {
   "display_name": "Python 3",
   "language": "python",
   "name": "python3"
  },
  "language_info": {
   "codemirror_mode": {
    "name": "ipython",
    "version": 3
   },
   "file_extension": ".py",
   "mimetype": "text/x-python",
   "name": "python",
   "nbconvert_exporter": "python",
   "pygments_lexer": "ipython3",
   "version": "3.6.3"
  }
 },
 "nbformat": 4,
 "nbformat_minor": 1
}
