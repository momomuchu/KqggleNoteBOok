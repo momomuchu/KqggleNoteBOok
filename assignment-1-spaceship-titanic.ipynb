{
 "cells": [
  {
   "cell_type": "code",
   "execution_count": 1,
   "id": "07918600",
   "metadata": {
    "_cell_guid": "b1076dfc-b9ad-4769-8c92-a6c4dae69d19",
    "_uuid": "8f2839f25d086af736a60e9eeb907d3b93b6e0e5",
    "execution": {
     "iopub.execute_input": "2022-12-25T12:05:23.707246Z",
     "iopub.status.busy": "2022-12-25T12:05:23.706356Z",
     "iopub.status.idle": "2022-12-25T12:05:23.724811Z",
     "shell.execute_reply": "2022-12-25T12:05:23.723016Z"
    },
    "papermill": {
     "duration": 0.036434,
     "end_time": "2022-12-25T12:05:23.727692",
     "exception": false,
     "start_time": "2022-12-25T12:05:23.691258",
     "status": "completed"
    },
    "tags": []
   },
   "outputs": [
    {
     "name": "stdout",
     "output_type": "stream",
     "text": [
      "/kaggle/input/spaceship-titanic/sample_submission.csv\n",
      "/kaggle/input/spaceship-titanic/train.csv\n",
      "/kaggle/input/spaceship-titanic/test.csv\n"
     ]
    }
   ],
   "source": [
    "# This Python 3 environment comes with many helpful analytics libraries installed\n",
    "# It is defined by the kaggle/python Docker image: https://github.com/kaggle/docker-python\n",
    "# For example, here's several helpful packages to load\n",
    "\n",
    "import numpy as np # linear algebra\n",
    "import pandas as pd # data processing, CSV file I/O (e.g. pd.read_csv)\n",
    "\n",
    "# Input data files are available in the read-only \"../input/\" directory\n",
    "# For example, running this (by clicking run or pressing Shift+Enter) will list all files under the input directory\n",
    "\n",
    "import os\n",
    "for dirname, _, filenames in os.walk('/kaggle/input'):\n",
    "    for filename in filenames:\n",
    "        print(os.path.join(dirname, filename))\n",
    "\n",
    "# You can write up to 20GB to the current directory (/kaggle/working/) that gets preserved as output when you create a version using \"Save & Run All\" \n",
    "# You can also write temporary files to /kaggle/temp/, but they won't be saved outside of the current session"
   ]
  },
  {
   "cell_type": "markdown",
   "id": "2fca5479",
   "metadata": {
    "papermill": {
     "duration": 0.013636,
     "end_time": "2022-12-25T12:05:23.753624",
     "exception": false,
     "start_time": "2022-12-25T12:05:23.739988",
     "status": "completed"
    },
    "tags": []
   },
   "source": [
    "# Exploratory Data Analysis (EDA)\n",
    "\n",
    "Generally, exploratory data analysis (EDA) is termed as an approach to look inside the big-data by using multiple techniques particularly graphical visualization. Data exploratory techniques are commonly quantitative in nature which are typically used to plot the raw data to identify the distribution of provided data.\n",
    "\n",
    "Current work is based on the interstellar ship named as \"Spaceship Titanic\" which carried about 13,000 passengers from different regions of our solar system, launched a month ago. Unfortunately,the ship faced an accident due to space-time anomaly inside dust cloud. About half of the passengers were transported to another destination safely. This data includes detail attributes of passengers including their Passenger_Id,Home_Planet, Cabin, Age and etc collected from the damaged operating computer system.\n"
   ]
  },
  {
   "cell_type": "markdown",
   "id": "d5adeebc",
   "metadata": {
    "papermill": {
     "duration": 0.011891,
     "end_time": "2022-12-25T12:05:23.777650",
     "exception": false,
     "start_time": "2022-12-25T12:05:23.765759",
     "status": "completed"
    },
    "tags": []
   },
   "source": [
    "## Steps Including EDA of Spaceship Titatnic\n",
    "\n",
    "1. Import libraries\n",
    "2. Uploading Input Data\n",
    "3. Data Description\n",
    "4. Evaluation of Missing Data Values\n",
    "5. Combining input datasets\n",
    "6. Characterization of features in dataset\n",
    "7. Handling Missing Data Values\n",
    "8. Data Visualization\n",
    "9. Conclusions\n"
   ]
  },
  {
   "cell_type": "markdown",
   "id": "502c2269",
   "metadata": {
    "papermill": {
     "duration": 0.011468,
     "end_time": "2022-12-25T12:05:23.800989",
     "exception": false,
     "start_time": "2022-12-25T12:05:23.789521",
     "status": "completed"
    },
    "tags": []
   },
   "source": [
    "### 1. Import Libraries"
   ]
  },
  {
   "cell_type": "code",
   "execution_count": 2,
   "id": "e9a1c639",
   "metadata": {
    "execution": {
     "iopub.execute_input": "2022-12-25T12:05:23.826973Z",
     "iopub.status.busy": "2022-12-25T12:05:23.826571Z",
     "iopub.status.idle": "2022-12-25T12:05:24.929031Z",
     "shell.execute_reply": "2022-12-25T12:05:24.928115Z"
    },
    "papermill": {
     "duration": 1.118344,
     "end_time": "2022-12-25T12:05:24.931526",
     "exception": false,
     "start_time": "2022-12-25T12:05:23.813182",
     "status": "completed"
    },
    "tags": []
   },
   "outputs": [],
   "source": [
    "import numpy as np\n",
    "import pandas as pd\n",
    "import matplotlib.pyplot as plt\n",
    "import seaborn as sns\n",
    "import missingno"
   ]
  },
  {
   "cell_type": "markdown",
   "id": "7cf14cd3",
   "metadata": {
    "papermill": {
     "duration": 0.011523,
     "end_time": "2022-12-25T12:05:24.955274",
     "exception": false,
     "start_time": "2022-12-25T12:05:24.943751",
     "status": "completed"
    },
    "tags": []
   },
   "source": [
    "### 2. Uploading Input Data"
   ]
  },
  {
   "cell_type": "code",
   "execution_count": 3,
   "id": "dc71e8db",
   "metadata": {
    "execution": {
     "iopub.execute_input": "2022-12-25T12:05:24.981381Z",
     "iopub.status.busy": "2022-12-25T12:05:24.980348Z",
     "iopub.status.idle": "2022-12-25T12:05:25.069763Z",
     "shell.execute_reply": "2022-12-25T12:05:25.068732Z"
    },
    "papermill": {
     "duration": 0.105446,
     "end_time": "2022-12-25T12:05:25.072577",
     "exception": false,
     "start_time": "2022-12-25T12:05:24.967131",
     "status": "completed"
    },
    "tags": []
   },
   "outputs": [],
   "source": [
    "train_df = pd.read_csv('/kaggle/input/spaceship-titanic/train.csv', index_col=\"PassengerId\")\n",
    "test_df  = pd.read_csv('/kaggle/input/spaceship-titanic/test.csv',  index_col=\"PassengerId\")"
   ]
  },
  {
   "cell_type": "code",
   "execution_count": 4,
   "id": "2c8e9bb5",
   "metadata": {
    "execution": {
     "iopub.execute_input": "2022-12-25T12:05:25.098975Z",
     "iopub.status.busy": "2022-12-25T12:05:25.098342Z",
     "iopub.status.idle": "2022-12-25T12:05:25.137253Z",
     "shell.execute_reply": "2022-12-25T12:05:25.136366Z"
    },
    "papermill": {
     "duration": 0.054787,
     "end_time": "2022-12-25T12:05:25.139640",
     "exception": false,
     "start_time": "2022-12-25T12:05:25.084853",
     "status": "completed"
    },
    "tags": []
   },
   "outputs": [
    {
     "data": {
      "text/html": [
       "<div>\n",
       "<style scoped>\n",
       "    .dataframe tbody tr th:only-of-type {\n",
       "        vertical-align: middle;\n",
       "    }\n",
       "\n",
       "    .dataframe tbody tr th {\n",
       "        vertical-align: top;\n",
       "    }\n",
       "\n",
       "    .dataframe thead th {\n",
       "        text-align: right;\n",
       "    }\n",
       "</style>\n",
       "<table border=\"1\" class=\"dataframe\">\n",
       "  <thead>\n",
       "    <tr style=\"text-align: right;\">\n",
       "      <th></th>\n",
       "      <th>HomePlanet</th>\n",
       "      <th>CryoSleep</th>\n",
       "      <th>Cabin</th>\n",
       "      <th>Destination</th>\n",
       "      <th>Age</th>\n",
       "      <th>VIP</th>\n",
       "      <th>RoomService</th>\n",
       "      <th>FoodCourt</th>\n",
       "      <th>ShoppingMall</th>\n",
       "      <th>Spa</th>\n",
       "      <th>VRDeck</th>\n",
       "      <th>Name</th>\n",
       "      <th>Transported</th>\n",
       "    </tr>\n",
       "    <tr>\n",
       "      <th>PassengerId</th>\n",
       "      <th></th>\n",
       "      <th></th>\n",
       "      <th></th>\n",
       "      <th></th>\n",
       "      <th></th>\n",
       "      <th></th>\n",
       "      <th></th>\n",
       "      <th></th>\n",
       "      <th></th>\n",
       "      <th></th>\n",
       "      <th></th>\n",
       "      <th></th>\n",
       "      <th></th>\n",
       "    </tr>\n",
       "  </thead>\n",
       "  <tbody>\n",
       "    <tr>\n",
       "      <th>0001_01</th>\n",
       "      <td>Europa</td>\n",
       "      <td>False</td>\n",
       "      <td>B/0/P</td>\n",
       "      <td>TRAPPIST-1e</td>\n",
       "      <td>39.0</td>\n",
       "      <td>False</td>\n",
       "      <td>0.0</td>\n",
       "      <td>0.0</td>\n",
       "      <td>0.0</td>\n",
       "      <td>0.0</td>\n",
       "      <td>0.0</td>\n",
       "      <td>Maham Ofracculy</td>\n",
       "      <td>False</td>\n",
       "    </tr>\n",
       "    <tr>\n",
       "      <th>0002_01</th>\n",
       "      <td>Earth</td>\n",
       "      <td>False</td>\n",
       "      <td>F/0/S</td>\n",
       "      <td>TRAPPIST-1e</td>\n",
       "      <td>24.0</td>\n",
       "      <td>False</td>\n",
       "      <td>109.0</td>\n",
       "      <td>9.0</td>\n",
       "      <td>25.0</td>\n",
       "      <td>549.0</td>\n",
       "      <td>44.0</td>\n",
       "      <td>Juanna Vines</td>\n",
       "      <td>True</td>\n",
       "    </tr>\n",
       "    <tr>\n",
       "      <th>0003_01</th>\n",
       "      <td>Europa</td>\n",
       "      <td>False</td>\n",
       "      <td>A/0/S</td>\n",
       "      <td>TRAPPIST-1e</td>\n",
       "      <td>58.0</td>\n",
       "      <td>True</td>\n",
       "      <td>43.0</td>\n",
       "      <td>3576.0</td>\n",
       "      <td>0.0</td>\n",
       "      <td>6715.0</td>\n",
       "      <td>49.0</td>\n",
       "      <td>Altark Susent</td>\n",
       "      <td>False</td>\n",
       "    </tr>\n",
       "    <tr>\n",
       "      <th>0003_02</th>\n",
       "      <td>Europa</td>\n",
       "      <td>False</td>\n",
       "      <td>A/0/S</td>\n",
       "      <td>TRAPPIST-1e</td>\n",
       "      <td>33.0</td>\n",
       "      <td>False</td>\n",
       "      <td>0.0</td>\n",
       "      <td>1283.0</td>\n",
       "      <td>371.0</td>\n",
       "      <td>3329.0</td>\n",
       "      <td>193.0</td>\n",
       "      <td>Solam Susent</td>\n",
       "      <td>False</td>\n",
       "    </tr>\n",
       "    <tr>\n",
       "      <th>0004_01</th>\n",
       "      <td>Earth</td>\n",
       "      <td>False</td>\n",
       "      <td>F/1/S</td>\n",
       "      <td>TRAPPIST-1e</td>\n",
       "      <td>16.0</td>\n",
       "      <td>False</td>\n",
       "      <td>303.0</td>\n",
       "      <td>70.0</td>\n",
       "      <td>151.0</td>\n",
       "      <td>565.0</td>\n",
       "      <td>2.0</td>\n",
       "      <td>Willy Santantines</td>\n",
       "      <td>True</td>\n",
       "    </tr>\n",
       "    <tr>\n",
       "      <th>...</th>\n",
       "      <td>...</td>\n",
       "      <td>...</td>\n",
       "      <td>...</td>\n",
       "      <td>...</td>\n",
       "      <td>...</td>\n",
       "      <td>...</td>\n",
       "      <td>...</td>\n",
       "      <td>...</td>\n",
       "      <td>...</td>\n",
       "      <td>...</td>\n",
       "      <td>...</td>\n",
       "      <td>...</td>\n",
       "      <td>...</td>\n",
       "    </tr>\n",
       "    <tr>\n",
       "      <th>9276_01</th>\n",
       "      <td>Europa</td>\n",
       "      <td>False</td>\n",
       "      <td>A/98/P</td>\n",
       "      <td>55 Cancri e</td>\n",
       "      <td>41.0</td>\n",
       "      <td>True</td>\n",
       "      <td>0.0</td>\n",
       "      <td>6819.0</td>\n",
       "      <td>0.0</td>\n",
       "      <td>1643.0</td>\n",
       "      <td>74.0</td>\n",
       "      <td>Gravior Noxnuther</td>\n",
       "      <td>False</td>\n",
       "    </tr>\n",
       "    <tr>\n",
       "      <th>9278_01</th>\n",
       "      <td>Earth</td>\n",
       "      <td>True</td>\n",
       "      <td>G/1499/S</td>\n",
       "      <td>PSO J318.5-22</td>\n",
       "      <td>18.0</td>\n",
       "      <td>False</td>\n",
       "      <td>0.0</td>\n",
       "      <td>0.0</td>\n",
       "      <td>0.0</td>\n",
       "      <td>0.0</td>\n",
       "      <td>0.0</td>\n",
       "      <td>Kurta Mondalley</td>\n",
       "      <td>False</td>\n",
       "    </tr>\n",
       "    <tr>\n",
       "      <th>9279_01</th>\n",
       "      <td>Earth</td>\n",
       "      <td>False</td>\n",
       "      <td>G/1500/S</td>\n",
       "      <td>TRAPPIST-1e</td>\n",
       "      <td>26.0</td>\n",
       "      <td>False</td>\n",
       "      <td>0.0</td>\n",
       "      <td>0.0</td>\n",
       "      <td>1872.0</td>\n",
       "      <td>1.0</td>\n",
       "      <td>0.0</td>\n",
       "      <td>Fayey Connon</td>\n",
       "      <td>True</td>\n",
       "    </tr>\n",
       "    <tr>\n",
       "      <th>9280_01</th>\n",
       "      <td>Europa</td>\n",
       "      <td>False</td>\n",
       "      <td>E/608/S</td>\n",
       "      <td>55 Cancri e</td>\n",
       "      <td>32.0</td>\n",
       "      <td>False</td>\n",
       "      <td>0.0</td>\n",
       "      <td>1049.0</td>\n",
       "      <td>0.0</td>\n",
       "      <td>353.0</td>\n",
       "      <td>3235.0</td>\n",
       "      <td>Celeon Hontichre</td>\n",
       "      <td>False</td>\n",
       "    </tr>\n",
       "    <tr>\n",
       "      <th>9280_02</th>\n",
       "      <td>Europa</td>\n",
       "      <td>False</td>\n",
       "      <td>E/608/S</td>\n",
       "      <td>TRAPPIST-1e</td>\n",
       "      <td>44.0</td>\n",
       "      <td>False</td>\n",
       "      <td>126.0</td>\n",
       "      <td>4688.0</td>\n",
       "      <td>0.0</td>\n",
       "      <td>0.0</td>\n",
       "      <td>12.0</td>\n",
       "      <td>Propsh Hontichre</td>\n",
       "      <td>True</td>\n",
       "    </tr>\n",
       "  </tbody>\n",
       "</table>\n",
       "<p>8693 rows × 13 columns</p>\n",
       "</div>"
      ],
      "text/plain": [
       "            HomePlanet CryoSleep     Cabin    Destination   Age    VIP  \\\n",
       "PassengerId                                                              \n",
       "0001_01         Europa     False     B/0/P    TRAPPIST-1e  39.0  False   \n",
       "0002_01          Earth     False     F/0/S    TRAPPIST-1e  24.0  False   \n",
       "0003_01         Europa     False     A/0/S    TRAPPIST-1e  58.0   True   \n",
       "0003_02         Europa     False     A/0/S    TRAPPIST-1e  33.0  False   \n",
       "0004_01          Earth     False     F/1/S    TRAPPIST-1e  16.0  False   \n",
       "...                ...       ...       ...            ...   ...    ...   \n",
       "9276_01         Europa     False    A/98/P    55 Cancri e  41.0   True   \n",
       "9278_01          Earth      True  G/1499/S  PSO J318.5-22  18.0  False   \n",
       "9279_01          Earth     False  G/1500/S    TRAPPIST-1e  26.0  False   \n",
       "9280_01         Europa     False   E/608/S    55 Cancri e  32.0  False   \n",
       "9280_02         Europa     False   E/608/S    TRAPPIST-1e  44.0  False   \n",
       "\n",
       "             RoomService  FoodCourt  ShoppingMall     Spa  VRDeck  \\\n",
       "PassengerId                                                         \n",
       "0001_01              0.0        0.0           0.0     0.0     0.0   \n",
       "0002_01            109.0        9.0          25.0   549.0    44.0   \n",
       "0003_01             43.0     3576.0           0.0  6715.0    49.0   \n",
       "0003_02              0.0     1283.0         371.0  3329.0   193.0   \n",
       "0004_01            303.0       70.0         151.0   565.0     2.0   \n",
       "...                  ...        ...           ...     ...     ...   \n",
       "9276_01              0.0     6819.0           0.0  1643.0    74.0   \n",
       "9278_01              0.0        0.0           0.0     0.0     0.0   \n",
       "9279_01              0.0        0.0        1872.0     1.0     0.0   \n",
       "9280_01              0.0     1049.0           0.0   353.0  3235.0   \n",
       "9280_02            126.0     4688.0           0.0     0.0    12.0   \n",
       "\n",
       "                          Name  Transported  \n",
       "PassengerId                                  \n",
       "0001_01        Maham Ofracculy        False  \n",
       "0002_01           Juanna Vines         True  \n",
       "0003_01          Altark Susent        False  \n",
       "0003_02           Solam Susent        False  \n",
       "0004_01      Willy Santantines         True  \n",
       "...                        ...          ...  \n",
       "9276_01      Gravior Noxnuther        False  \n",
       "9278_01        Kurta Mondalley        False  \n",
       "9279_01           Fayey Connon         True  \n",
       "9280_01       Celeon Hontichre        False  \n",
       "9280_02       Propsh Hontichre         True  \n",
       "\n",
       "[8693 rows x 13 columns]"
      ]
     },
     "execution_count": 4,
     "metadata": {},
     "output_type": "execute_result"
    }
   ],
   "source": [
    "train_df"
   ]
  },
  {
   "cell_type": "code",
   "execution_count": 5,
   "id": "6b4c3f9a",
   "metadata": {
    "execution": {
     "iopub.execute_input": "2022-12-25T12:05:25.166657Z",
     "iopub.status.busy": "2022-12-25T12:05:25.165887Z",
     "iopub.status.idle": "2022-12-25T12:05:25.193168Z",
     "shell.execute_reply": "2022-12-25T12:05:25.191862Z"
    },
    "papermill": {
     "duration": 0.043952,
     "end_time": "2022-12-25T12:05:25.196010",
     "exception": false,
     "start_time": "2022-12-25T12:05:25.152058",
     "status": "completed"
    },
    "tags": []
   },
   "outputs": [
    {
     "data": {
      "text/html": [
       "<div>\n",
       "<style scoped>\n",
       "    .dataframe tbody tr th:only-of-type {\n",
       "        vertical-align: middle;\n",
       "    }\n",
       "\n",
       "    .dataframe tbody tr th {\n",
       "        vertical-align: top;\n",
       "    }\n",
       "\n",
       "    .dataframe thead th {\n",
       "        text-align: right;\n",
       "    }\n",
       "</style>\n",
       "<table border=\"1\" class=\"dataframe\">\n",
       "  <thead>\n",
       "    <tr style=\"text-align: right;\">\n",
       "      <th></th>\n",
       "      <th>HomePlanet</th>\n",
       "      <th>CryoSleep</th>\n",
       "      <th>Cabin</th>\n",
       "      <th>Destination</th>\n",
       "      <th>Age</th>\n",
       "      <th>VIP</th>\n",
       "      <th>RoomService</th>\n",
       "      <th>FoodCourt</th>\n",
       "      <th>ShoppingMall</th>\n",
       "      <th>Spa</th>\n",
       "      <th>VRDeck</th>\n",
       "      <th>Name</th>\n",
       "    </tr>\n",
       "    <tr>\n",
       "      <th>PassengerId</th>\n",
       "      <th></th>\n",
       "      <th></th>\n",
       "      <th></th>\n",
       "      <th></th>\n",
       "      <th></th>\n",
       "      <th></th>\n",
       "      <th></th>\n",
       "      <th></th>\n",
       "      <th></th>\n",
       "      <th></th>\n",
       "      <th></th>\n",
       "      <th></th>\n",
       "    </tr>\n",
       "  </thead>\n",
       "  <tbody>\n",
       "    <tr>\n",
       "      <th>0013_01</th>\n",
       "      <td>Earth</td>\n",
       "      <td>True</td>\n",
       "      <td>G/3/S</td>\n",
       "      <td>TRAPPIST-1e</td>\n",
       "      <td>27.0</td>\n",
       "      <td>False</td>\n",
       "      <td>0.0</td>\n",
       "      <td>0.0</td>\n",
       "      <td>0.0</td>\n",
       "      <td>0.0</td>\n",
       "      <td>0.0</td>\n",
       "      <td>Nelly Carsoning</td>\n",
       "    </tr>\n",
       "    <tr>\n",
       "      <th>0018_01</th>\n",
       "      <td>Earth</td>\n",
       "      <td>False</td>\n",
       "      <td>F/4/S</td>\n",
       "      <td>TRAPPIST-1e</td>\n",
       "      <td>19.0</td>\n",
       "      <td>False</td>\n",
       "      <td>0.0</td>\n",
       "      <td>9.0</td>\n",
       "      <td>0.0</td>\n",
       "      <td>2823.0</td>\n",
       "      <td>0.0</td>\n",
       "      <td>Lerome Peckers</td>\n",
       "    </tr>\n",
       "    <tr>\n",
       "      <th>0019_01</th>\n",
       "      <td>Europa</td>\n",
       "      <td>True</td>\n",
       "      <td>C/0/S</td>\n",
       "      <td>55 Cancri e</td>\n",
       "      <td>31.0</td>\n",
       "      <td>False</td>\n",
       "      <td>0.0</td>\n",
       "      <td>0.0</td>\n",
       "      <td>0.0</td>\n",
       "      <td>0.0</td>\n",
       "      <td>0.0</td>\n",
       "      <td>Sabih Unhearfus</td>\n",
       "    </tr>\n",
       "    <tr>\n",
       "      <th>0021_01</th>\n",
       "      <td>Europa</td>\n",
       "      <td>False</td>\n",
       "      <td>C/1/S</td>\n",
       "      <td>TRAPPIST-1e</td>\n",
       "      <td>38.0</td>\n",
       "      <td>False</td>\n",
       "      <td>0.0</td>\n",
       "      <td>6652.0</td>\n",
       "      <td>0.0</td>\n",
       "      <td>181.0</td>\n",
       "      <td>585.0</td>\n",
       "      <td>Meratz Caltilter</td>\n",
       "    </tr>\n",
       "    <tr>\n",
       "      <th>0023_01</th>\n",
       "      <td>Earth</td>\n",
       "      <td>False</td>\n",
       "      <td>F/5/S</td>\n",
       "      <td>TRAPPIST-1e</td>\n",
       "      <td>20.0</td>\n",
       "      <td>False</td>\n",
       "      <td>10.0</td>\n",
       "      <td>0.0</td>\n",
       "      <td>635.0</td>\n",
       "      <td>0.0</td>\n",
       "      <td>0.0</td>\n",
       "      <td>Brence Harperez</td>\n",
       "    </tr>\n",
       "    <tr>\n",
       "      <th>...</th>\n",
       "      <td>...</td>\n",
       "      <td>...</td>\n",
       "      <td>...</td>\n",
       "      <td>...</td>\n",
       "      <td>...</td>\n",
       "      <td>...</td>\n",
       "      <td>...</td>\n",
       "      <td>...</td>\n",
       "      <td>...</td>\n",
       "      <td>...</td>\n",
       "      <td>...</td>\n",
       "      <td>...</td>\n",
       "    </tr>\n",
       "    <tr>\n",
       "      <th>9266_02</th>\n",
       "      <td>Earth</td>\n",
       "      <td>True</td>\n",
       "      <td>G/1496/S</td>\n",
       "      <td>TRAPPIST-1e</td>\n",
       "      <td>34.0</td>\n",
       "      <td>False</td>\n",
       "      <td>0.0</td>\n",
       "      <td>0.0</td>\n",
       "      <td>0.0</td>\n",
       "      <td>0.0</td>\n",
       "      <td>0.0</td>\n",
       "      <td>Jeron Peter</td>\n",
       "    </tr>\n",
       "    <tr>\n",
       "      <th>9269_01</th>\n",
       "      <td>Earth</td>\n",
       "      <td>False</td>\n",
       "      <td>NaN</td>\n",
       "      <td>TRAPPIST-1e</td>\n",
       "      <td>42.0</td>\n",
       "      <td>False</td>\n",
       "      <td>0.0</td>\n",
       "      <td>847.0</td>\n",
       "      <td>17.0</td>\n",
       "      <td>10.0</td>\n",
       "      <td>144.0</td>\n",
       "      <td>Matty Scheron</td>\n",
       "    </tr>\n",
       "    <tr>\n",
       "      <th>9271_01</th>\n",
       "      <td>Mars</td>\n",
       "      <td>True</td>\n",
       "      <td>D/296/P</td>\n",
       "      <td>55 Cancri e</td>\n",
       "      <td>NaN</td>\n",
       "      <td>False</td>\n",
       "      <td>0.0</td>\n",
       "      <td>0.0</td>\n",
       "      <td>0.0</td>\n",
       "      <td>0.0</td>\n",
       "      <td>0.0</td>\n",
       "      <td>Jayrin Pore</td>\n",
       "    </tr>\n",
       "    <tr>\n",
       "      <th>9273_01</th>\n",
       "      <td>Europa</td>\n",
       "      <td>False</td>\n",
       "      <td>D/297/P</td>\n",
       "      <td>NaN</td>\n",
       "      <td>NaN</td>\n",
       "      <td>False</td>\n",
       "      <td>0.0</td>\n",
       "      <td>2680.0</td>\n",
       "      <td>0.0</td>\n",
       "      <td>0.0</td>\n",
       "      <td>523.0</td>\n",
       "      <td>Kitakan Conale</td>\n",
       "    </tr>\n",
       "    <tr>\n",
       "      <th>9277_01</th>\n",
       "      <td>Earth</td>\n",
       "      <td>True</td>\n",
       "      <td>G/1498/S</td>\n",
       "      <td>PSO J318.5-22</td>\n",
       "      <td>43.0</td>\n",
       "      <td>False</td>\n",
       "      <td>0.0</td>\n",
       "      <td>0.0</td>\n",
       "      <td>0.0</td>\n",
       "      <td>0.0</td>\n",
       "      <td>0.0</td>\n",
       "      <td>Lilace Leonzaley</td>\n",
       "    </tr>\n",
       "  </tbody>\n",
       "</table>\n",
       "<p>4277 rows × 12 columns</p>\n",
       "</div>"
      ],
      "text/plain": [
       "            HomePlanet CryoSleep     Cabin    Destination   Age    VIP  \\\n",
       "PassengerId                                                              \n",
       "0013_01          Earth      True     G/3/S    TRAPPIST-1e  27.0  False   \n",
       "0018_01          Earth     False     F/4/S    TRAPPIST-1e  19.0  False   \n",
       "0019_01         Europa      True     C/0/S    55 Cancri e  31.0  False   \n",
       "0021_01         Europa     False     C/1/S    TRAPPIST-1e  38.0  False   \n",
       "0023_01          Earth     False     F/5/S    TRAPPIST-1e  20.0  False   \n",
       "...                ...       ...       ...            ...   ...    ...   \n",
       "9266_02          Earth      True  G/1496/S    TRAPPIST-1e  34.0  False   \n",
       "9269_01          Earth     False       NaN    TRAPPIST-1e  42.0  False   \n",
       "9271_01           Mars      True   D/296/P    55 Cancri e   NaN  False   \n",
       "9273_01         Europa     False   D/297/P            NaN   NaN  False   \n",
       "9277_01          Earth      True  G/1498/S  PSO J318.5-22  43.0  False   \n",
       "\n",
       "             RoomService  FoodCourt  ShoppingMall     Spa  VRDeck  \\\n",
       "PassengerId                                                         \n",
       "0013_01              0.0        0.0           0.0     0.0     0.0   \n",
       "0018_01              0.0        9.0           0.0  2823.0     0.0   \n",
       "0019_01              0.0        0.0           0.0     0.0     0.0   \n",
       "0021_01              0.0     6652.0           0.0   181.0   585.0   \n",
       "0023_01             10.0        0.0         635.0     0.0     0.0   \n",
       "...                  ...        ...           ...     ...     ...   \n",
       "9266_02              0.0        0.0           0.0     0.0     0.0   \n",
       "9269_01              0.0      847.0          17.0    10.0   144.0   \n",
       "9271_01              0.0        0.0           0.0     0.0     0.0   \n",
       "9273_01              0.0     2680.0           0.0     0.0   523.0   \n",
       "9277_01              0.0        0.0           0.0     0.0     0.0   \n",
       "\n",
       "                         Name  \n",
       "PassengerId                    \n",
       "0013_01       Nelly Carsoning  \n",
       "0018_01        Lerome Peckers  \n",
       "0019_01       Sabih Unhearfus  \n",
       "0021_01      Meratz Caltilter  \n",
       "0023_01       Brence Harperez  \n",
       "...                       ...  \n",
       "9266_02           Jeron Peter  \n",
       "9269_01         Matty Scheron  \n",
       "9271_01           Jayrin Pore  \n",
       "9273_01        Kitakan Conale  \n",
       "9277_01      Lilace Leonzaley  \n",
       "\n",
       "[4277 rows x 12 columns]"
      ]
     },
     "execution_count": 5,
     "metadata": {},
     "output_type": "execute_result"
    }
   ],
   "source": [
    "test_df"
   ]
  },
  {
   "cell_type": "markdown",
   "id": "ed02fc13",
   "metadata": {
    "papermill": {
     "duration": 0.012857,
     "end_time": "2022-12-25T12:05:25.221745",
     "exception": false,
     "start_time": "2022-12-25T12:05:25.208888",
     "status": "completed"
    },
    "tags": []
   },
   "source": [
    "### 3. Data Description"
   ]
  },
  {
   "cell_type": "code",
   "execution_count": 6,
   "id": "6b282ef9",
   "metadata": {
    "execution": {
     "iopub.execute_input": "2022-12-25T12:05:25.249457Z",
     "iopub.status.busy": "2022-12-25T12:05:25.248456Z",
     "iopub.status.idle": "2022-12-25T12:05:25.271785Z",
     "shell.execute_reply": "2022-12-25T12:05:25.270155Z"
    },
    "papermill": {
     "duration": 0.040106,
     "end_time": "2022-12-25T12:05:25.274644",
     "exception": false,
     "start_time": "2022-12-25T12:05:25.234538",
     "status": "completed"
    },
    "tags": []
   },
   "outputs": [
    {
     "name": "stdout",
     "output_type": "stream",
     "text": [
      "<class 'pandas.core.frame.DataFrame'>\n",
      "Index: 8693 entries, 0001_01 to 9280_02\n",
      "Data columns (total 13 columns):\n",
      " #   Column        Non-Null Count  Dtype  \n",
      "---  ------        --------------  -----  \n",
      " 0   HomePlanet    8492 non-null   object \n",
      " 1   CryoSleep     8476 non-null   object \n",
      " 2   Cabin         8494 non-null   object \n",
      " 3   Destination   8511 non-null   object \n",
      " 4   Age           8514 non-null   float64\n",
      " 5   VIP           8490 non-null   object \n",
      " 6   RoomService   8512 non-null   float64\n",
      " 7   FoodCourt     8510 non-null   float64\n",
      " 8   ShoppingMall  8485 non-null   float64\n",
      " 9   Spa           8510 non-null   float64\n",
      " 10  VRDeck        8505 non-null   float64\n",
      " 11  Name          8493 non-null   object \n",
      " 12  Transported   8693 non-null   bool   \n",
      "dtypes: bool(1), float64(6), object(6)\n",
      "memory usage: 891.4+ KB\n"
     ]
    }
   ],
   "source": [
    "train_df.info()"
   ]
  },
  {
   "cell_type": "code",
   "execution_count": 7,
   "id": "c8032cab",
   "metadata": {
    "execution": {
     "iopub.execute_input": "2022-12-25T12:05:25.303743Z",
     "iopub.status.busy": "2022-12-25T12:05:25.302656Z",
     "iopub.status.idle": "2022-12-25T12:05:25.318549Z",
     "shell.execute_reply": "2022-12-25T12:05:25.317276Z"
    },
    "papermill": {
     "duration": 0.033644,
     "end_time": "2022-12-25T12:05:25.321169",
     "exception": false,
     "start_time": "2022-12-25T12:05:25.287525",
     "status": "completed"
    },
    "tags": []
   },
   "outputs": [
    {
     "name": "stdout",
     "output_type": "stream",
     "text": [
      "<class 'pandas.core.frame.DataFrame'>\n",
      "Index: 4277 entries, 0013_01 to 9277_01\n",
      "Data columns (total 12 columns):\n",
      " #   Column        Non-Null Count  Dtype  \n",
      "---  ------        --------------  -----  \n",
      " 0   HomePlanet    4190 non-null   object \n",
      " 1   CryoSleep     4184 non-null   object \n",
      " 2   Cabin         4177 non-null   object \n",
      " 3   Destination   4185 non-null   object \n",
      " 4   Age           4186 non-null   float64\n",
      " 5   VIP           4184 non-null   object \n",
      " 6   RoomService   4195 non-null   float64\n",
      " 7   FoodCourt     4171 non-null   float64\n",
      " 8   ShoppingMall  4179 non-null   float64\n",
      " 9   Spa           4176 non-null   float64\n",
      " 10  VRDeck        4197 non-null   float64\n",
      " 11  Name          4183 non-null   object \n",
      "dtypes: float64(6), object(6)\n",
      "memory usage: 434.4+ KB\n"
     ]
    }
   ],
   "source": [
    "test_df.info()"
   ]
  },
  {
   "cell_type": "markdown",
   "id": "e5aa33a5",
   "metadata": {
    "papermill": {
     "duration": 0.012276,
     "end_time": "2022-12-25T12:05:25.346353",
     "exception": false,
     "start_time": "2022-12-25T12:05:25.334077",
     "status": "completed"
    },
    "tags": []
   },
   "source": [
    "### 4. Evaluation of Missing Data Values\n",
    "\n",
    " -  Typically, large datasets have some missing values which are quite essential to be evaluated before training the machine for better predictions. "
   ]
  },
  {
   "cell_type": "code",
   "execution_count": 8,
   "id": "b2e0ee66",
   "metadata": {
    "execution": {
     "iopub.execute_input": "2022-12-25T12:05:25.374614Z",
     "iopub.status.busy": "2022-12-25T12:05:25.373778Z",
     "iopub.status.idle": "2022-12-25T12:05:26.105850Z",
     "shell.execute_reply": "2022-12-25T12:05:26.104531Z"
    },
    "papermill": {
     "duration": 0.749424,
     "end_time": "2022-12-25T12:05:26.108634",
     "exception": false,
     "start_time": "2022-12-25T12:05:25.359210",
     "status": "completed"
    },
    "tags": []
   },
   "outputs": [
    {
     "data": {
      "text/plain": [
       "<AxesSubplot:>"
      ]
     },
     "execution_count": 8,
     "metadata": {},
     "output_type": "execute_result"
    },
    {
     "data": {
      "image/png": "[encoded data removed]",
      "text/plain": [
       "<Figure size 1800x720 with 2 Axes>"
      ]
     },
     "metadata": {
      "needs_background": "light"
     },
     "output_type": "display_data"
    }
   ],
   "source": [
    "missingno.matrix(train_df)"
   ]
  },
  {
   "cell_type": "code",
   "execution_count": 9,
   "id": "f9b2d3ce",
   "metadata": {
    "execution": {
     "iopub.execute_input": "2022-12-25T12:05:26.138146Z",
     "iopub.status.busy": "2022-12-25T12:05:26.137726Z",
     "iopub.status.idle": "2022-12-25T12:05:26.781165Z",
     "shell.execute_reply": "2022-12-25T12:05:26.780307Z"
    },
    "papermill": {
     "duration": 0.660827,
     "end_time": "2022-12-25T12:05:26.783412",
     "exception": false,
     "start_time": "2022-12-25T12:05:26.122585",
     "status": "completed"
    },
    "tags": []
   },
   "outputs": [
    {
     "data": {
      "text/plain": [
       "<AxesSubplot:>"
      ]
     },
     "execution_count": 9,
     "metadata": {},
     "output_type": "execute_result"
    },
    {
     "data": {
      "image/png": "[encoded data removed]",
      "text/plain": [
       "<Figure size 1800x720 with 2 Axes>"
      ]
     },
     "metadata": {
      "needs_background": "light"
     },
     "output_type": "display_data"
    }
   ],
   "source": [
    "missingno.matrix(test_df)"
   ]
  },
  {
   "cell_type": "markdown",
   "id": "ae5f0f34",
   "metadata": {
    "papermill": {
     "duration": 0.01432,
     "end_time": "2022-12-25T12:05:26.812439",
     "exception": false,
     "start_time": "2022-12-25T12:05:26.798119",
     "status": "completed"
    },
    "tags": []
   },
   "source": [
    "- Above mentioned plots of both trained and test datasets contained a lot of missing values which required to be handeled carefully. To evaluate number of count of missing values, isnull() function can be used. "
   ]
  },
  {
   "cell_type": "code",
   "execution_count": 10,
   "id": "5bedf2eb",
   "metadata": {
    "execution": {
     "iopub.execute_input": "2022-12-25T12:05:26.844272Z",
     "iopub.status.busy": "2022-12-25T12:05:26.843055Z",
     "iopub.status.idle": "2022-12-25T12:05:26.856307Z",
     "shell.execute_reply": "2022-12-25T12:05:26.855397Z"
    },
    "papermill": {
     "duration": 0.031517,
     "end_time": "2022-12-25T12:05:26.858634",
     "exception": false,
     "start_time": "2022-12-25T12:05:26.827117",
     "status": "completed"
    },
    "tags": []
   },
   "outputs": [
    {
     "data": {
      "text/plain": [
       "HomePlanet      201\n",
       "CryoSleep       217\n",
       "Cabin           199\n",
       "Destination     182\n",
       "Age             179\n",
       "VIP             203\n",
       "RoomService     181\n",
       "FoodCourt       183\n",
       "ShoppingMall    208\n",
       "Spa             183\n",
       "VRDeck          188\n",
       "Name            200\n",
       "Transported       0\n",
       "dtype: int64"
      ]
     },
     "execution_count": 10,
     "metadata": {},
     "output_type": "execute_result"
    }
   ],
   "source": [
    "train_df.isnull().sum() "
   ]
  },
  {
   "cell_type": "code",
   "execution_count": 11,
   "id": "209215c2",
   "metadata": {
    "execution": {
     "iopub.execute_input": "2022-12-25T12:05:26.891092Z",
     "iopub.status.busy": "2022-12-25T12:05:26.890134Z",
     "iopub.status.idle": "2022-12-25T12:05:26.901146Z",
     "shell.execute_reply": "2022-12-25T12:05:26.900115Z"
    },
    "papermill": {
     "duration": 0.029789,
     "end_time": "2022-12-25T12:05:26.903401",
     "exception": false,
     "start_time": "2022-12-25T12:05:26.873612",
     "status": "completed"
    },
    "tags": []
   },
   "outputs": [
    {
     "data": {
      "text/plain": [
       "2324"
      ]
     },
     "execution_count": 11,
     "metadata": {},
     "output_type": "execute_result"
    }
   ],
   "source": [
    "train_df.isnull().sum().sum()"
   ]
  },
  {
   "cell_type": "code",
   "execution_count": 12,
   "id": "e158adcf",
   "metadata": {
    "execution": {
     "iopub.execute_input": "2022-12-25T12:05:26.935215Z",
     "iopub.status.busy": "2022-12-25T12:05:26.934292Z",
     "iopub.status.idle": "2022-12-25T12:05:26.945145Z",
     "shell.execute_reply": "2022-12-25T12:05:26.944158Z"
    },
    "papermill": {
     "duration": 0.029142,
     "end_time": "2022-12-25T12:05:26.947417",
     "exception": false,
     "start_time": "2022-12-25T12:05:26.918275",
     "status": "completed"
    },
    "tags": []
   },
   "outputs": [
    {
     "data": {
      "text/plain": [
       "HomePlanet       87\n",
       "CryoSleep        93\n",
       "Cabin           100\n",
       "Destination      92\n",
       "Age              91\n",
       "VIP              93\n",
       "RoomService      82\n",
       "FoodCourt       106\n",
       "ShoppingMall     98\n",
       "Spa             101\n",
       "VRDeck           80\n",
       "Name             94\n",
       "dtype: int64"
      ]
     },
     "execution_count": 12,
     "metadata": {},
     "output_type": "execute_result"
    }
   ],
   "source": [
    "test_df.isnull().sum() "
   ]
  },
  {
   "cell_type": "code",
   "execution_count": 13,
   "id": "7c852de5",
   "metadata": {
    "execution": {
     "iopub.execute_input": "2022-12-25T12:05:26.980022Z",
     "iopub.status.busy": "2022-12-25T12:05:26.979062Z",
     "iopub.status.idle": "2022-12-25T12:05:26.989686Z",
     "shell.execute_reply": "2022-12-25T12:05:26.988546Z"
    },
    "papermill": {
     "duration": 0.029306,
     "end_time": "2022-12-25T12:05:26.992022",
     "exception": false,
     "start_time": "2022-12-25T12:05:26.962716",
     "status": "completed"
    },
    "tags": []
   },
   "outputs": [
    {
     "data": {
      "text/plain": [
       "1117"
      ]
     },
     "execution_count": 13,
     "metadata": {},
     "output_type": "execute_result"
    }
   ],
   "source": [
    "test_df.isnull().sum().sum()"
   ]
  },
  {
   "cell_type": "markdown",
   "id": "6ff5f904",
   "metadata": {
    "papermill": {
     "duration": 0.014585,
     "end_time": "2022-12-25T12:05:27.021820",
     "exception": false,
     "start_time": "2022-12-25T12:05:27.007235",
     "status": "completed"
    },
    "tags": []
   },
   "source": [
    "- So, trained dataset and test dataset contained about 2324 and 1117 missing data values respectively. "
   ]
  },
  {
   "cell_type": "markdown",
   "id": "a567c784",
   "metadata": {
    "papermill": {
     "duration": 0.014776,
     "end_time": "2022-12-25T12:05:27.051852",
     "exception": false,
     "start_time": "2022-12-25T12:05:27.037076",
     "status": "completed"
    },
    "tags": []
   },
   "source": [
    "### 5. Combining Input Datasets\n",
    "\n",
    "\n",
    "  - Here for EDA, both (train and test) datasets were combined to analyze the summarized characteristics of whole data before training our machine to look inside the trends and co-relations between the variables. "
   ]
  },
  {
   "cell_type": "code",
   "execution_count": 14,
   "id": "1c23bad6",
   "metadata": {
    "execution": {
     "iopub.execute_input": "2022-12-25T12:05:27.084767Z",
     "iopub.status.busy": "2022-12-25T12:05:27.083946Z",
     "iopub.status.idle": "2022-12-25T12:05:27.094080Z",
     "shell.execute_reply": "2022-12-25T12:05:27.093142Z"
    },
    "papermill": {
     "duration": 0.029545,
     "end_time": "2022-12-25T12:05:27.096611",
     "exception": false,
     "start_time": "2022-12-25T12:05:27.067066",
     "status": "completed"
    },
    "tags": []
   },
   "outputs": [],
   "source": [
    "data_df = pd.concat([train_df, test_df], axis=0)"
   ]
  },
  {
   "cell_type": "code",
   "execution_count": 15,
   "id": "5d5d1b99",
   "metadata": {
    "execution": {
     "iopub.execute_input": "2022-12-25T12:05:27.128431Z",
     "iopub.status.busy": "2022-12-25T12:05:27.128025Z",
     "iopub.status.idle": "2022-12-25T12:05:27.155945Z",
     "shell.execute_reply": "2022-12-25T12:05:27.154752Z"
    },
    "papermill": {
     "duration": 0.046975,
     "end_time": "2022-12-25T12:05:27.158654",
     "exception": false,
     "start_time": "2022-12-25T12:05:27.111679",
     "status": "completed"
    },
    "tags": []
   },
   "outputs": [
    {
     "data": {
      "text/html": [
       "<div>\n",
       "<style scoped>\n",
       "    .dataframe tbody tr th:only-of-type {\n",
       "        vertical-align: middle;\n",
       "    }\n",
       "\n",
       "    .dataframe tbody tr th {\n",
       "        vertical-align: top;\n",
       "    }\n",
       "\n",
       "    .dataframe thead th {\n",
       "        text-align: right;\n",
       "    }\n",
       "</style>\n",
       "<table border=\"1\" class=\"dataframe\">\n",
       "  <thead>\n",
       "    <tr style=\"text-align: right;\">\n",
       "      <th></th>\n",
       "      <th>HomePlanet</th>\n",
       "      <th>CryoSleep</th>\n",
       "      <th>Cabin</th>\n",
       "      <th>Destination</th>\n",
       "      <th>Age</th>\n",
       "      <th>VIP</th>\n",
       "      <th>RoomService</th>\n",
       "      <th>FoodCourt</th>\n",
       "      <th>ShoppingMall</th>\n",
       "      <th>Spa</th>\n",
       "      <th>VRDeck</th>\n",
       "      <th>Name</th>\n",
       "      <th>Transported</th>\n",
       "    </tr>\n",
       "    <tr>\n",
       "      <th>PassengerId</th>\n",
       "      <th></th>\n",
       "      <th></th>\n",
       "      <th></th>\n",
       "      <th></th>\n",
       "      <th></th>\n",
       "      <th></th>\n",
       "      <th></th>\n",
       "      <th></th>\n",
       "      <th></th>\n",
       "      <th></th>\n",
       "      <th></th>\n",
       "      <th></th>\n",
       "      <th></th>\n",
       "    </tr>\n",
       "  </thead>\n",
       "  <tbody>\n",
       "    <tr>\n",
       "      <th>0001_01</th>\n",
       "      <td>Europa</td>\n",
       "      <td>False</td>\n",
       "      <td>B/0/P</td>\n",
       "      <td>TRAPPIST-1e</td>\n",
       "      <td>39.0</td>\n",
       "      <td>False</td>\n",
       "      <td>0.0</td>\n",
       "      <td>0.0</td>\n",
       "      <td>0.0</td>\n",
       "      <td>0.0</td>\n",
       "      <td>0.0</td>\n",
       "      <td>Maham Ofracculy</td>\n",
       "      <td>False</td>\n",
       "    </tr>\n",
       "    <tr>\n",
       "      <th>0002_01</th>\n",
       "      <td>Earth</td>\n",
       "      <td>False</td>\n",
       "      <td>F/0/S</td>\n",
       "      <td>TRAPPIST-1e</td>\n",
       "      <td>24.0</td>\n",
       "      <td>False</td>\n",
       "      <td>109.0</td>\n",
       "      <td>9.0</td>\n",
       "      <td>25.0</td>\n",
       "      <td>549.0</td>\n",
       "      <td>44.0</td>\n",
       "      <td>Juanna Vines</td>\n",
       "      <td>True</td>\n",
       "    </tr>\n",
       "    <tr>\n",
       "      <th>0003_01</th>\n",
       "      <td>Europa</td>\n",
       "      <td>False</td>\n",
       "      <td>A/0/S</td>\n",
       "      <td>TRAPPIST-1e</td>\n",
       "      <td>58.0</td>\n",
       "      <td>True</td>\n",
       "      <td>43.0</td>\n",
       "      <td>3576.0</td>\n",
       "      <td>0.0</td>\n",
       "      <td>6715.0</td>\n",
       "      <td>49.0</td>\n",
       "      <td>Altark Susent</td>\n",
       "      <td>False</td>\n",
       "    </tr>\n",
       "    <tr>\n",
       "      <th>0003_02</th>\n",
       "      <td>Europa</td>\n",
       "      <td>False</td>\n",
       "      <td>A/0/S</td>\n",
       "      <td>TRAPPIST-1e</td>\n",
       "      <td>33.0</td>\n",
       "      <td>False</td>\n",
       "      <td>0.0</td>\n",
       "      <td>1283.0</td>\n",
       "      <td>371.0</td>\n",
       "      <td>3329.0</td>\n",
       "      <td>193.0</td>\n",
       "      <td>Solam Susent</td>\n",
       "      <td>False</td>\n",
       "    </tr>\n",
       "    <tr>\n",
       "      <th>0004_01</th>\n",
       "      <td>Earth</td>\n",
       "      <td>False</td>\n",
       "      <td>F/1/S</td>\n",
       "      <td>TRAPPIST-1e</td>\n",
       "      <td>16.0</td>\n",
       "      <td>False</td>\n",
       "      <td>303.0</td>\n",
       "      <td>70.0</td>\n",
       "      <td>151.0</td>\n",
       "      <td>565.0</td>\n",
       "      <td>2.0</td>\n",
       "      <td>Willy Santantines</td>\n",
       "      <td>True</td>\n",
       "    </tr>\n",
       "    <tr>\n",
       "      <th>...</th>\n",
       "      <td>...</td>\n",
       "      <td>...</td>\n",
       "      <td>...</td>\n",
       "      <td>...</td>\n",
       "      <td>...</td>\n",
       "      <td>...</td>\n",
       "      <td>...</td>\n",
       "      <td>...</td>\n",
       "      <td>...</td>\n",
       "      <td>...</td>\n",
       "      <td>...</td>\n",
       "      <td>...</td>\n",
       "      <td>...</td>\n",
       "    </tr>\n",
       "    <tr>\n",
       "      <th>9266_02</th>\n",
       "      <td>Earth</td>\n",
       "      <td>True</td>\n",
       "      <td>G/1496/S</td>\n",
       "      <td>TRAPPIST-1e</td>\n",
       "      <td>34.0</td>\n",
       "      <td>False</td>\n",
       "      <td>0.0</td>\n",
       "      <td>0.0</td>\n",
       "      <td>0.0</td>\n",
       "      <td>0.0</td>\n",
       "      <td>0.0</td>\n",
       "      <td>Jeron Peter</td>\n",
       "      <td>NaN</td>\n",
       "    </tr>\n",
       "    <tr>\n",
       "      <th>9269_01</th>\n",
       "      <td>Earth</td>\n",
       "      <td>False</td>\n",
       "      <td>NaN</td>\n",
       "      <td>TRAPPIST-1e</td>\n",
       "      <td>42.0</td>\n",
       "      <td>False</td>\n",
       "      <td>0.0</td>\n",
       "      <td>847.0</td>\n",
       "      <td>17.0</td>\n",
       "      <td>10.0</td>\n",
       "      <td>144.0</td>\n",
       "      <td>Matty Scheron</td>\n",
       "      <td>NaN</td>\n",
       "    </tr>\n",
       "    <tr>\n",
       "      <th>9271_01</th>\n",
       "      <td>Mars</td>\n",
       "      <td>True</td>\n",
       "      <td>D/296/P</td>\n",
       "      <td>55 Cancri e</td>\n",
       "      <td>NaN</td>\n",
       "      <td>False</td>\n",
       "      <td>0.0</td>\n",
       "      <td>0.0</td>\n",
       "      <td>0.0</td>\n",
       "      <td>0.0</td>\n",
       "      <td>0.0</td>\n",
       "      <td>Jayrin Pore</td>\n",
       "      <td>NaN</td>\n",
       "    </tr>\n",
       "    <tr>\n",
       "      <th>9273_01</th>\n",
       "      <td>Europa</td>\n",
       "      <td>False</td>\n",
       "      <td>D/297/P</td>\n",
       "      <td>NaN</td>\n",
       "      <td>NaN</td>\n",
       "      <td>False</td>\n",
       "      <td>0.0</td>\n",
       "      <td>2680.0</td>\n",
       "      <td>0.0</td>\n",
       "      <td>0.0</td>\n",
       "      <td>523.0</td>\n",
       "      <td>Kitakan Conale</td>\n",
       "      <td>NaN</td>\n",
       "    </tr>\n",
       "    <tr>\n",
       "      <th>9277_01</th>\n",
       "      <td>Earth</td>\n",
       "      <td>True</td>\n",
       "      <td>G/1498/S</td>\n",
       "      <td>PSO J318.5-22</td>\n",
       "      <td>43.0</td>\n",
       "      <td>False</td>\n",
       "      <td>0.0</td>\n",
       "      <td>0.0</td>\n",
       "      <td>0.0</td>\n",
       "      <td>0.0</td>\n",
       "      <td>0.0</td>\n",
       "      <td>Lilace Leonzaley</td>\n",
       "      <td>NaN</td>\n",
       "    </tr>\n",
       "  </tbody>\n",
       "</table>\n",
       "<p>12970 rows × 13 columns</p>\n",
       "</div>"
      ],
      "text/plain": [
       "            HomePlanet CryoSleep     Cabin    Destination   Age    VIP  \\\n",
       "PassengerId                                                              \n",
       "0001_01         Europa     False     B/0/P    TRAPPIST-1e  39.0  False   \n",
       "0002_01          Earth     False     F/0/S    TRAPPIST-1e  24.0  False   \n",
       "0003_01         Europa     False     A/0/S    TRAPPIST-1e  58.0   True   \n",
       "0003_02         Europa     False     A/0/S    TRAPPIST-1e  33.0  False   \n",
       "0004_01          Earth     False     F/1/S    TRAPPIST-1e  16.0  False   \n",
       "...                ...       ...       ...            ...   ...    ...   \n",
       "9266_02          Earth      True  G/1496/S    TRAPPIST-1e  34.0  False   \n",
       "9269_01          Earth     False       NaN    TRAPPIST-1e  42.0  False   \n",
       "9271_01           Mars      True   D/296/P    55 Cancri e   NaN  False   \n",
       "9273_01         Europa     False   D/297/P            NaN   NaN  False   \n",
       "9277_01          Earth      True  G/1498/S  PSO J318.5-22  43.0  False   \n",
       "\n",
       "             RoomService  FoodCourt  ShoppingMall     Spa  VRDeck  \\\n",
       "PassengerId                                                         \n",
       "0001_01              0.0        0.0           0.0     0.0     0.0   \n",
       "0002_01            109.0        9.0          25.0   549.0    44.0   \n",
       "0003_01             43.0     3576.0           0.0  6715.0    49.0   \n",
       "0003_02              0.0     1283.0         371.0  3329.0   193.0   \n",
       "0004_01            303.0       70.0         151.0   565.0     2.0   \n",
       "...                  ...        ...           ...     ...     ...   \n",
       "9266_02              0.0        0.0           0.0     0.0     0.0   \n",
       "9269_01              0.0      847.0          17.0    10.0   144.0   \n",
       "9271_01              0.0        0.0           0.0     0.0     0.0   \n",
       "9273_01              0.0     2680.0           0.0     0.0   523.0   \n",
       "9277_01              0.0        0.0           0.0     0.0     0.0   \n",
       "\n",
       "                          Name Transported  \n",
       "PassengerId                                 \n",
       "0001_01        Maham Ofracculy       False  \n",
       "0002_01           Juanna Vines        True  \n",
       "0003_01          Altark Susent       False  \n",
       "0003_02           Solam Susent       False  \n",
       "0004_01      Willy Santantines        True  \n",
       "...                        ...         ...  \n",
       "9266_02            Jeron Peter         NaN  \n",
       "9269_01          Matty Scheron         NaN  \n",
       "9271_01            Jayrin Pore         NaN  \n",
       "9273_01         Kitakan Conale         NaN  \n",
       "9277_01       Lilace Leonzaley         NaN  \n",
       "\n",
       "[12970 rows x 13 columns]"
      ]
     },
     "execution_count": 15,
     "metadata": {},
     "output_type": "execute_result"
    }
   ],
   "source": [
    "data_df"
   ]
  },
  {
   "cell_type": "code",
   "execution_count": 16,
   "id": "0196e104",
   "metadata": {
    "execution": {
     "iopub.execute_input": "2022-12-25T12:05:27.192157Z",
     "iopub.status.busy": "2022-12-25T12:05:27.191327Z",
     "iopub.status.idle": "2022-12-25T12:05:27.891459Z",
     "shell.execute_reply": "2022-12-25T12:05:27.890071Z"
    },
    "papermill": {
     "duration": 0.719789,
     "end_time": "2022-12-25T12:05:27.894280",
     "exception": false,
     "start_time": "2022-12-25T12:05:27.174491",
     "status": "completed"
    },
    "tags": []
   },
   "outputs": [
    {
     "data": {
      "text/plain": [
       "<AxesSubplot:>"
      ]
     },
     "execution_count": 16,
     "metadata": {},
     "output_type": "execute_result"
    },
    {
     "data": {
      "image/png": "[encoded data removed]",
      "text/plain": [
       "<Figure size 1800x720 with 2 Axes>"
      ]
     },
     "metadata": {
      "needs_background": "light"
     },
     "output_type": "display_data"
    }
   ],
   "source": [
    "missingno.matrix(data_df)"
   ]
  },
  {
   "cell_type": "code",
   "execution_count": 17,
   "id": "8b053980",
   "metadata": {
    "execution": {
     "iopub.execute_input": "2022-12-25T12:05:27.929811Z",
     "iopub.status.busy": "2022-12-25T12:05:27.929399Z",
     "iopub.status.idle": "2022-12-25T12:05:27.946355Z",
     "shell.execute_reply": "2022-12-25T12:05:27.945012Z"
    },
    "papermill": {
     "duration": 0.037573,
     "end_time": "2022-12-25T12:05:27.949037",
     "exception": false,
     "start_time": "2022-12-25T12:05:27.911464",
     "status": "completed"
    },
    "tags": []
   },
   "outputs": [
    {
     "data": {
      "text/plain": [
       "HomePlanet       288\n",
       "CryoSleep        310\n",
       "Cabin            299\n",
       "Destination      274\n",
       "Age              270\n",
       "VIP              296\n",
       "RoomService      263\n",
       "FoodCourt        289\n",
       "ShoppingMall     306\n",
       "Spa              284\n",
       "VRDeck           268\n",
       "Name             294\n",
       "Transported     4277\n",
       "dtype: int64"
      ]
     },
     "execution_count": 17,
     "metadata": {},
     "output_type": "execute_result"
    }
   ],
   "source": [
    "data_df.isnull().sum()"
   ]
  },
  {
   "cell_type": "markdown",
   "id": "0e2d948d",
   "metadata": {
    "papermill": {
     "duration": 0.016254,
     "end_time": "2022-12-25T12:05:27.982017",
     "exception": false,
     "start_time": "2022-12-25T12:05:27.965763",
     "status": "completed"
    },
    "tags": []
   },
   "source": [
    "### 6. Characterization of features in dataset\n",
    "\n",
    "- Mainly, almost all the datasets conatined two different types of features: \n",
    "\n",
    "1. **Categorical Features**: limited or fixed data values like associated user information name, id etc. \n",
    "2. **Numerical Features**:   numeric data in logical order like height, weight etc."
   ]
  },
  {
   "cell_type": "code",
   "execution_count": 18,
   "id": "001b22d7",
   "metadata": {
    "execution": {
     "iopub.execute_input": "2022-12-25T12:05:28.017615Z",
     "iopub.status.busy": "2022-12-25T12:05:28.016413Z",
     "iopub.status.idle": "2022-12-25T12:05:28.027343Z",
     "shell.execute_reply": "2022-12-25T12:05:28.025951Z"
    },
    "papermill": {
     "duration": 0.031831,
     "end_time": "2022-12-25T12:05:28.030292",
     "exception": false,
     "start_time": "2022-12-25T12:05:27.998461",
     "status": "completed"
    },
    "tags": []
   },
   "outputs": [],
   "source": [
    "data_df_categorical_features = data_df.select_dtypes(include='object')"
   ]
  },
  {
   "cell_type": "code",
   "execution_count": 19,
   "id": "72a01446",
   "metadata": {
    "execution": {
     "iopub.execute_input": "2022-12-25T12:05:28.066583Z",
     "iopub.status.busy": "2022-12-25T12:05:28.066145Z",
     "iopub.status.idle": "2022-12-25T12:05:28.084688Z",
     "shell.execute_reply": "2022-12-25T12:05:28.083556Z"
    },
    "papermill": {
     "duration": 0.039736,
     "end_time": "2022-12-25T12:05:28.087194",
     "exception": false,
     "start_time": "2022-12-25T12:05:28.047458",
     "status": "completed"
    },
    "tags": []
   },
   "outputs": [
    {
     "data": {
      "text/html": [
       "<div>\n",
       "<style scoped>\n",
       "    .dataframe tbody tr th:only-of-type {\n",
       "        vertical-align: middle;\n",
       "    }\n",
       "\n",
       "    .dataframe tbody tr th {\n",
       "        vertical-align: top;\n",
       "    }\n",
       "\n",
       "    .dataframe thead th {\n",
       "        text-align: right;\n",
       "    }\n",
       "</style>\n",
       "<table border=\"1\" class=\"dataframe\">\n",
       "  <thead>\n",
       "    <tr style=\"text-align: right;\">\n",
       "      <th></th>\n",
       "      <th>HomePlanet</th>\n",
       "      <th>CryoSleep</th>\n",
       "      <th>Cabin</th>\n",
       "      <th>Destination</th>\n",
       "      <th>VIP</th>\n",
       "      <th>Name</th>\n",
       "      <th>Transported</th>\n",
       "    </tr>\n",
       "    <tr>\n",
       "      <th>PassengerId</th>\n",
       "      <th></th>\n",
       "      <th></th>\n",
       "      <th></th>\n",
       "      <th></th>\n",
       "      <th></th>\n",
       "      <th></th>\n",
       "      <th></th>\n",
       "    </tr>\n",
       "  </thead>\n",
       "  <tbody>\n",
       "    <tr>\n",
       "      <th>0001_01</th>\n",
       "      <td>Europa</td>\n",
       "      <td>False</td>\n",
       "      <td>B/0/P</td>\n",
       "      <td>TRAPPIST-1e</td>\n",
       "      <td>False</td>\n",
       "      <td>Maham Ofracculy</td>\n",
       "      <td>False</td>\n",
       "    </tr>\n",
       "    <tr>\n",
       "      <th>0002_01</th>\n",
       "      <td>Earth</td>\n",
       "      <td>False</td>\n",
       "      <td>F/0/S</td>\n",
       "      <td>TRAPPIST-1e</td>\n",
       "      <td>False</td>\n",
       "      <td>Juanna Vines</td>\n",
       "      <td>True</td>\n",
       "    </tr>\n",
       "    <tr>\n",
       "      <th>0003_01</th>\n",
       "      <td>Europa</td>\n",
       "      <td>False</td>\n",
       "      <td>A/0/S</td>\n",
       "      <td>TRAPPIST-1e</td>\n",
       "      <td>True</td>\n",
       "      <td>Altark Susent</td>\n",
       "      <td>False</td>\n",
       "    </tr>\n",
       "    <tr>\n",
       "      <th>0003_02</th>\n",
       "      <td>Europa</td>\n",
       "      <td>False</td>\n",
       "      <td>A/0/S</td>\n",
       "      <td>TRAPPIST-1e</td>\n",
       "      <td>False</td>\n",
       "      <td>Solam Susent</td>\n",
       "      <td>False</td>\n",
       "    </tr>\n",
       "    <tr>\n",
       "      <th>0004_01</th>\n",
       "      <td>Earth</td>\n",
       "      <td>False</td>\n",
       "      <td>F/1/S</td>\n",
       "      <td>TRAPPIST-1e</td>\n",
       "      <td>False</td>\n",
       "      <td>Willy Santantines</td>\n",
       "      <td>True</td>\n",
       "    </tr>\n",
       "    <tr>\n",
       "      <th>...</th>\n",
       "      <td>...</td>\n",
       "      <td>...</td>\n",
       "      <td>...</td>\n",
       "      <td>...</td>\n",
       "      <td>...</td>\n",
       "      <td>...</td>\n",
       "      <td>...</td>\n",
       "    </tr>\n",
       "    <tr>\n",
       "      <th>9266_02</th>\n",
       "      <td>Earth</td>\n",
       "      <td>True</td>\n",
       "      <td>G/1496/S</td>\n",
       "      <td>TRAPPIST-1e</td>\n",
       "      <td>False</td>\n",
       "      <td>Jeron Peter</td>\n",
       "      <td>NaN</td>\n",
       "    </tr>\n",
       "    <tr>\n",
       "      <th>9269_01</th>\n",
       "      <td>Earth</td>\n",
       "      <td>False</td>\n",
       "      <td>NaN</td>\n",
       "      <td>TRAPPIST-1e</td>\n",
       "      <td>False</td>\n",
       "      <td>Matty Scheron</td>\n",
       "      <td>NaN</td>\n",
       "    </tr>\n",
       "    <tr>\n",
       "      <th>9271_01</th>\n",
       "      <td>Mars</td>\n",
       "      <td>True</td>\n",
       "      <td>D/296/P</td>\n",
       "      <td>55 Cancri e</td>\n",
       "      <td>False</td>\n",
       "      <td>Jayrin Pore</td>\n",
       "      <td>NaN</td>\n",
       "    </tr>\n",
       "    <tr>\n",
       "      <th>9273_01</th>\n",
       "      <td>Europa</td>\n",
       "      <td>False</td>\n",
       "      <td>D/297/P</td>\n",
       "      <td>NaN</td>\n",
       "      <td>False</td>\n",
       "      <td>Kitakan Conale</td>\n",
       "      <td>NaN</td>\n",
       "    </tr>\n",
       "    <tr>\n",
       "      <th>9277_01</th>\n",
       "      <td>Earth</td>\n",
       "      <td>True</td>\n",
       "      <td>G/1498/S</td>\n",
       "      <td>PSO J318.5-22</td>\n",
       "      <td>False</td>\n",
       "      <td>Lilace Leonzaley</td>\n",
       "      <td>NaN</td>\n",
       "    </tr>\n",
       "  </tbody>\n",
       "</table>\n",
       "<p>12970 rows × 7 columns</p>\n",
       "</div>"
      ],
      "text/plain": [
       "            HomePlanet CryoSleep     Cabin    Destination    VIP  \\\n",
       "PassengerId                                                        \n",
       "0001_01         Europa     False     B/0/P    TRAPPIST-1e  False   \n",
       "0002_01          Earth     False     F/0/S    TRAPPIST-1e  False   \n",
       "0003_01         Europa     False     A/0/S    TRAPPIST-1e   True   \n",
       "0003_02         Europa     False     A/0/S    TRAPPIST-1e  False   \n",
       "0004_01          Earth     False     F/1/S    TRAPPIST-1e  False   \n",
       "...                ...       ...       ...            ...    ...   \n",
       "9266_02          Earth      True  G/1496/S    TRAPPIST-1e  False   \n",
       "9269_01          Earth     False       NaN    TRAPPIST-1e  False   \n",
       "9271_01           Mars      True   D/296/P    55 Cancri e  False   \n",
       "9273_01         Europa     False   D/297/P            NaN  False   \n",
       "9277_01          Earth      True  G/1498/S  PSO J318.5-22  False   \n",
       "\n",
       "                          Name Transported  \n",
       "PassengerId                                 \n",
       "0001_01        Maham Ofracculy       False  \n",
       "0002_01           Juanna Vines        True  \n",
       "0003_01          Altark Susent       False  \n",
       "0003_02           Solam Susent       False  \n",
       "0004_01      Willy Santantines        True  \n",
       "...                        ...         ...  \n",
       "9266_02            Jeron Peter         NaN  \n",
       "9269_01          Matty Scheron         NaN  \n",
       "9271_01            Jayrin Pore         NaN  \n",
       "9273_01         Kitakan Conale         NaN  \n",
       "9277_01       Lilace Leonzaley         NaN  \n",
       "\n",
       "[12970 rows x 7 columns]"
      ]
     },
     "execution_count": 19,
     "metadata": {},
     "output_type": "execute_result"
    }
   ],
   "source": [
    "data_df_categorical_features"
   ]
  },
  {
   "cell_type": "code",
   "execution_count": 20,
   "id": "298768da",
   "metadata": {
    "execution": {
     "iopub.execute_input": "2022-12-25T12:05:28.122765Z",
     "iopub.status.busy": "2022-12-25T12:05:28.122345Z",
     "iopub.status.idle": "2022-12-25T12:05:28.129200Z",
     "shell.execute_reply": "2022-12-25T12:05:28.128197Z"
    },
    "papermill": {
     "duration": 0.02727,
     "end_time": "2022-12-25T12:05:28.131341",
     "exception": false,
     "start_time": "2022-12-25T12:05:28.104071",
     "status": "completed"
    },
    "tags": []
   },
   "outputs": [],
   "source": [
    "data_df_numerical_features = data_df.select_dtypes(include='number')"
   ]
  },
  {
   "cell_type": "code",
   "execution_count": 21,
   "id": "c6701ad5",
   "metadata": {
    "execution": {
     "iopub.execute_input": "2022-12-25T12:05:28.167550Z",
     "iopub.status.busy": "2022-12-25T12:05:28.167119Z",
     "iopub.status.idle": "2022-12-25T12:05:28.189143Z",
     "shell.execute_reply": "2022-12-25T12:05:28.187744Z"
    },
    "papermill": {
     "duration": 0.043136,
     "end_time": "2022-12-25T12:05:28.191615",
     "exception": false,
     "start_time": "2022-12-25T12:05:28.148479",
     "status": "completed"
    },
    "tags": []
   },
   "outputs": [
    {
     "data": {
      "text/html": [
       "<div>\n",
       "<style scoped>\n",
       "    .dataframe tbody tr th:only-of-type {\n",
       "        vertical-align: middle;\n",
       "    }\n",
       "\n",
       "    .dataframe tbody tr th {\n",
       "        vertical-align: top;\n",
       "    }\n",
       "\n",
       "    .dataframe thead th {\n",
       "        text-align: right;\n",
       "    }\n",
       "</style>\n",
       "<table border=\"1\" class=\"dataframe\">\n",
       "  <thead>\n",
       "    <tr style=\"text-align: right;\">\n",
       "      <th></th>\n",
       "      <th>Age</th>\n",
       "      <th>RoomService</th>\n",
       "      <th>FoodCourt</th>\n",
       "      <th>ShoppingMall</th>\n",
       "      <th>Spa</th>\n",
       "      <th>VRDeck</th>\n",
       "    </tr>\n",
       "    <tr>\n",
       "      <th>PassengerId</th>\n",
       "      <th></th>\n",
       "      <th></th>\n",
       "      <th></th>\n",
       "      <th></th>\n",
       "      <th></th>\n",
       "      <th></th>\n",
       "    </tr>\n",
       "  </thead>\n",
       "  <tbody>\n",
       "    <tr>\n",
       "      <th>0001_01</th>\n",
       "      <td>39.0</td>\n",
       "      <td>0.0</td>\n",
       "      <td>0.0</td>\n",
       "      <td>0.0</td>\n",
       "      <td>0.0</td>\n",
       "      <td>0.0</td>\n",
       "    </tr>\n",
       "    <tr>\n",
       "      <th>0002_01</th>\n",
       "      <td>24.0</td>\n",
       "      <td>109.0</td>\n",
       "      <td>9.0</td>\n",
       "      <td>25.0</td>\n",
       "      <td>549.0</td>\n",
       "      <td>44.0</td>\n",
       "    </tr>\n",
       "    <tr>\n",
       "      <th>0003_01</th>\n",
       "      <td>58.0</td>\n",
       "      <td>43.0</td>\n",
       "      <td>3576.0</td>\n",
       "      <td>0.0</td>\n",
       "      <td>6715.0</td>\n",
       "      <td>49.0</td>\n",
       "    </tr>\n",
       "    <tr>\n",
       "      <th>0003_02</th>\n",
       "      <td>33.0</td>\n",
       "      <td>0.0</td>\n",
       "      <td>1283.0</td>\n",
       "      <td>371.0</td>\n",
       "      <td>3329.0</td>\n",
       "      <td>193.0</td>\n",
       "    </tr>\n",
       "    <tr>\n",
       "      <th>0004_01</th>\n",
       "      <td>16.0</td>\n",
       "      <td>303.0</td>\n",
       "      <td>70.0</td>\n",
       "      <td>151.0</td>\n",
       "      <td>565.0</td>\n",
       "      <td>2.0</td>\n",
       "    </tr>\n",
       "    <tr>\n",
       "      <th>...</th>\n",
       "      <td>...</td>\n",
       "      <td>...</td>\n",
       "      <td>...</td>\n",
       "      <td>...</td>\n",
       "      <td>...</td>\n",
       "      <td>...</td>\n",
       "    </tr>\n",
       "    <tr>\n",
       "      <th>9266_02</th>\n",
       "      <td>34.0</td>\n",
       "      <td>0.0</td>\n",
       "      <td>0.0</td>\n",
       "      <td>0.0</td>\n",
       "      <td>0.0</td>\n",
       "      <td>0.0</td>\n",
       "    </tr>\n",
       "    <tr>\n",
       "      <th>9269_01</th>\n",
       "      <td>42.0</td>\n",
       "      <td>0.0</td>\n",
       "      <td>847.0</td>\n",
       "      <td>17.0</td>\n",
       "      <td>10.0</td>\n",
       "      <td>144.0</td>\n",
       "    </tr>\n",
       "    <tr>\n",
       "      <th>9271_01</th>\n",
       "      <td>NaN</td>\n",
       "      <td>0.0</td>\n",
       "      <td>0.0</td>\n",
       "      <td>0.0</td>\n",
       "      <td>0.0</td>\n",
       "      <td>0.0</td>\n",
       "    </tr>\n",
       "    <tr>\n",
       "      <th>9273_01</th>\n",
       "      <td>NaN</td>\n",
       "      <td>0.0</td>\n",
       "      <td>2680.0</td>\n",
       "      <td>0.0</td>\n",
       "      <td>0.0</td>\n",
       "      <td>523.0</td>\n",
       "    </tr>\n",
       "    <tr>\n",
       "      <th>9277_01</th>\n",
       "      <td>43.0</td>\n",
       "      <td>0.0</td>\n",
       "      <td>0.0</td>\n",
       "      <td>0.0</td>\n",
       "      <td>0.0</td>\n",
       "      <td>0.0</td>\n",
       "    </tr>\n",
       "  </tbody>\n",
       "</table>\n",
       "<p>12970 rows × 6 columns</p>\n",
       "</div>"
      ],
      "text/plain": [
       "              Age  RoomService  FoodCourt  ShoppingMall     Spa  VRDeck\n",
       "PassengerId                                                            \n",
       "0001_01      39.0          0.0        0.0           0.0     0.0     0.0\n",
       "0002_01      24.0        109.0        9.0          25.0   549.0    44.0\n",
       "0003_01      58.0         43.0     3576.0           0.0  6715.0    49.0\n",
       "0003_02      33.0          0.0     1283.0         371.0  3329.0   193.0\n",
       "0004_01      16.0        303.0       70.0         151.0   565.0     2.0\n",
       "...           ...          ...        ...           ...     ...     ...\n",
       "9266_02      34.0          0.0        0.0           0.0     0.0     0.0\n",
       "9269_01      42.0          0.0      847.0          17.0    10.0   144.0\n",
       "9271_01       NaN          0.0        0.0           0.0     0.0     0.0\n",
       "9273_01       NaN          0.0     2680.0           0.0     0.0   523.0\n",
       "9277_01      43.0          0.0        0.0           0.0     0.0     0.0\n",
       "\n",
       "[12970 rows x 6 columns]"
      ]
     },
     "execution_count": 21,
     "metadata": {},
     "output_type": "execute_result"
    }
   ],
   "source": [
    "data_df_numerical_features"
   ]
  },
  {
   "cell_type": "markdown",
   "id": "a3bea3a6",
   "metadata": {
    "papermill": {
     "duration": 0.016666,
     "end_time": "2022-12-25T12:05:28.225481",
     "exception": false,
     "start_time": "2022-12-25T12:05:28.208815",
     "status": "completed"
    },
    "tags": []
   },
   "source": [
    "### 7. Handling Missing Data Values\n",
    "\n",
    "- In above **section 5**, a detail description of missing data values is provided. Almost all the data features (both categorical or numerical) contain number of missing data values.\n",
    "\n",
    "- As per considering **categorical features** like HomePlanet, missing values can be replaced by using most common values rather than completely drop them from datasets. \n",
    "\n",
    "- However for **numeric features** like Age of the passengers, missing values can be replaced by taking mean of data values. \n"
   ]
  },
  {
   "cell_type": "markdown",
   "id": "9bc47915",
   "metadata": {
    "papermill": {
     "duration": 0.016647,
     "end_time": "2022-12-25T12:05:28.259213",
     "exception": false,
     "start_time": "2022-12-25T12:05:28.242566",
     "status": "completed"
    },
    "tags": []
   },
   "source": [
    "#### 1. Categorical Features"
   ]
  },
  {
   "cell_type": "code",
   "execution_count": 22,
   "id": "6cba240a",
   "metadata": {
    "execution": {
     "iopub.execute_input": "2022-12-25T12:05:28.295586Z",
     "iopub.status.busy": "2022-12-25T12:05:28.295186Z",
     "iopub.status.idle": "2022-12-25T12:05:28.311553Z",
     "shell.execute_reply": "2022-12-25T12:05:28.310281Z"
    },
    "papermill": {
     "duration": 0.037423,
     "end_time": "2022-12-25T12:05:28.314035",
     "exception": false,
     "start_time": "2022-12-25T12:05:28.276612",
     "status": "completed"
    },
    "tags": []
   },
   "outputs": [],
   "source": [
    "data_df['HomePlanet'].fillna(data_df['HomePlanet'].mode() [0], inplace = True)\n",
    "data_df['Cabin'].fillna(data_df['Cabin'].mode() [0], inplace = True)\n",
    "data_df['Destination'].fillna(data_df['Destination'].mode() [0], inplace = True)"
   ]
  },
  {
   "cell_type": "markdown",
   "id": "5e78e3f2",
   "metadata": {
    "papermill": {
     "duration": 0.016578,
     "end_time": "2022-12-25T12:05:28.347709",
     "exception": false,
     "start_time": "2022-12-25T12:05:28.331131",
     "status": "completed"
    },
    "tags": []
   },
   "source": [
    "#### 2. Numerical Features"
   ]
  },
  {
   "cell_type": "code",
   "execution_count": 23,
   "id": "d2e3ba9c",
   "metadata": {
    "execution": {
     "iopub.execute_input": "2022-12-25T12:05:28.383256Z",
     "iopub.status.busy": "2022-12-25T12:05:28.382810Z",
     "iopub.status.idle": "2022-12-25T12:05:28.401487Z",
     "shell.execute_reply": "2022-12-25T12:05:28.400566Z"
    },
    "papermill": {
     "duration": 0.039761,
     "end_time": "2022-12-25T12:05:28.404343",
     "exception": false,
     "start_time": "2022-12-25T12:05:28.364582",
     "status": "completed"
    },
    "tags": []
   },
   "outputs": [],
   "source": [
    "data_df['Age'].fillna(data_df['Age'].mean(), inplace=True)\n",
    "data_df['RoomService'].fillna(data_df['RoomService'].mean(), inplace=True)\n",
    "data_df['FoodCourt'].fillna(data_df['FoodCourt'].mean(), inplace=True)\n",
    "data_df['ShoppingMall'].fillna(data_df['ShoppingMall'].mean(), inplace=True)\n",
    "data_df['Spa'].fillna(data_df['Spa'].mean(), inplace=True)\n",
    "data_df['VRDeck'].fillna(data_df['VRDeck'].mean(), inplace=True)\n",
    "data_df['CryoSleep'].fillna(data_df['CryoSleep'].mean(), inplace=True)\n",
    "data_df['VIP'].fillna(data_df['VIP'].mean(), inplace=True)\n"
   ]
  },
  {
   "cell_type": "code",
   "execution_count": 24,
   "id": "a48805c2",
   "metadata": {
    "execution": {
     "iopub.execute_input": "2022-12-25T12:05:28.440756Z",
     "iopub.status.busy": "2022-12-25T12:05:28.440360Z",
     "iopub.status.idle": "2022-12-25T12:05:28.470497Z",
     "shell.execute_reply": "2022-12-25T12:05:28.469203Z"
    },
    "papermill": {
     "duration": 0.050817,
     "end_time": "2022-12-25T12:05:28.472814",
     "exception": false,
     "start_time": "2022-12-25T12:05:28.421997",
     "status": "completed"
    },
    "tags": []
   },
   "outputs": [
    {
     "data": {
      "text/html": [
       "<div>\n",
       "<style scoped>\n",
       "    .dataframe tbody tr th:only-of-type {\n",
       "        vertical-align: middle;\n",
       "    }\n",
       "\n",
       "    .dataframe tbody tr th {\n",
       "        vertical-align: top;\n",
       "    }\n",
       "\n",
       "    .dataframe thead th {\n",
       "        text-align: right;\n",
       "    }\n",
       "</style>\n",
       "<table border=\"1\" class=\"dataframe\">\n",
       "  <thead>\n",
       "    <tr style=\"text-align: right;\">\n",
       "      <th></th>\n",
       "      <th>HomePlanet</th>\n",
       "      <th>CryoSleep</th>\n",
       "      <th>Cabin</th>\n",
       "      <th>Destination</th>\n",
       "      <th>Age</th>\n",
       "      <th>VIP</th>\n",
       "      <th>RoomService</th>\n",
       "      <th>FoodCourt</th>\n",
       "      <th>ShoppingMall</th>\n",
       "      <th>Spa</th>\n",
       "      <th>VRDeck</th>\n",
       "      <th>Name</th>\n",
       "      <th>Transported</th>\n",
       "    </tr>\n",
       "    <tr>\n",
       "      <th>PassengerId</th>\n",
       "      <th></th>\n",
       "      <th></th>\n",
       "      <th></th>\n",
       "      <th></th>\n",
       "      <th></th>\n",
       "      <th></th>\n",
       "      <th></th>\n",
       "      <th></th>\n",
       "      <th></th>\n",
       "      <th></th>\n",
       "      <th></th>\n",
       "      <th></th>\n",
       "      <th></th>\n",
       "    </tr>\n",
       "  </thead>\n",
       "  <tbody>\n",
       "    <tr>\n",
       "      <th>0001_01</th>\n",
       "      <td>Europa</td>\n",
       "      <td>False</td>\n",
       "      <td>B/0/P</td>\n",
       "      <td>TRAPPIST-1e</td>\n",
       "      <td>39.000000</td>\n",
       "      <td>False</td>\n",
       "      <td>0.0</td>\n",
       "      <td>0.0</td>\n",
       "      <td>0.0</td>\n",
       "      <td>0.0</td>\n",
       "      <td>0.0</td>\n",
       "      <td>Maham Ofracculy</td>\n",
       "      <td>False</td>\n",
       "    </tr>\n",
       "    <tr>\n",
       "      <th>0002_01</th>\n",
       "      <td>Earth</td>\n",
       "      <td>False</td>\n",
       "      <td>F/0/S</td>\n",
       "      <td>TRAPPIST-1e</td>\n",
       "      <td>24.000000</td>\n",
       "      <td>False</td>\n",
       "      <td>109.0</td>\n",
       "      <td>9.0</td>\n",
       "      <td>25.0</td>\n",
       "      <td>549.0</td>\n",
       "      <td>44.0</td>\n",
       "      <td>Juanna Vines</td>\n",
       "      <td>True</td>\n",
       "    </tr>\n",
       "    <tr>\n",
       "      <th>0003_01</th>\n",
       "      <td>Europa</td>\n",
       "      <td>False</td>\n",
       "      <td>A/0/S</td>\n",
       "      <td>TRAPPIST-1e</td>\n",
       "      <td>58.000000</td>\n",
       "      <td>True</td>\n",
       "      <td>43.0</td>\n",
       "      <td>3576.0</td>\n",
       "      <td>0.0</td>\n",
       "      <td>6715.0</td>\n",
       "      <td>49.0</td>\n",
       "      <td>Altark Susent</td>\n",
       "      <td>False</td>\n",
       "    </tr>\n",
       "    <tr>\n",
       "      <th>0003_02</th>\n",
       "      <td>Europa</td>\n",
       "      <td>False</td>\n",
       "      <td>A/0/S</td>\n",
       "      <td>TRAPPIST-1e</td>\n",
       "      <td>33.000000</td>\n",
       "      <td>False</td>\n",
       "      <td>0.0</td>\n",
       "      <td>1283.0</td>\n",
       "      <td>371.0</td>\n",
       "      <td>3329.0</td>\n",
       "      <td>193.0</td>\n",
       "      <td>Solam Susent</td>\n",
       "      <td>False</td>\n",
       "    </tr>\n",
       "    <tr>\n",
       "      <th>0004_01</th>\n",
       "      <td>Earth</td>\n",
       "      <td>False</td>\n",
       "      <td>F/1/S</td>\n",
       "      <td>TRAPPIST-1e</td>\n",
       "      <td>16.000000</td>\n",
       "      <td>False</td>\n",
       "      <td>303.0</td>\n",
       "      <td>70.0</td>\n",
       "      <td>151.0</td>\n",
       "      <td>565.0</td>\n",
       "      <td>2.0</td>\n",
       "      <td>Willy Santantines</td>\n",
       "      <td>True</td>\n",
       "    </tr>\n",
       "    <tr>\n",
       "      <th>...</th>\n",
       "      <td>...</td>\n",
       "      <td>...</td>\n",
       "      <td>...</td>\n",
       "      <td>...</td>\n",
       "      <td>...</td>\n",
       "      <td>...</td>\n",
       "      <td>...</td>\n",
       "      <td>...</td>\n",
       "      <td>...</td>\n",
       "      <td>...</td>\n",
       "      <td>...</td>\n",
       "      <td>...</td>\n",
       "      <td>...</td>\n",
       "    </tr>\n",
       "    <tr>\n",
       "      <th>9266_02</th>\n",
       "      <td>Earth</td>\n",
       "      <td>True</td>\n",
       "      <td>G/1496/S</td>\n",
       "      <td>TRAPPIST-1e</td>\n",
       "      <td>34.000000</td>\n",
       "      <td>False</td>\n",
       "      <td>0.0</td>\n",
       "      <td>0.0</td>\n",
       "      <td>0.0</td>\n",
       "      <td>0.0</td>\n",
       "      <td>0.0</td>\n",
       "      <td>Jeron Peter</td>\n",
       "      <td>NaN</td>\n",
       "    </tr>\n",
       "    <tr>\n",
       "      <th>9269_01</th>\n",
       "      <td>Earth</td>\n",
       "      <td>False</td>\n",
       "      <td>G/160/P</td>\n",
       "      <td>TRAPPIST-1e</td>\n",
       "      <td>42.000000</td>\n",
       "      <td>False</td>\n",
       "      <td>0.0</td>\n",
       "      <td>847.0</td>\n",
       "      <td>17.0</td>\n",
       "      <td>10.0</td>\n",
       "      <td>144.0</td>\n",
       "      <td>Matty Scheron</td>\n",
       "      <td>NaN</td>\n",
       "    </tr>\n",
       "    <tr>\n",
       "      <th>9271_01</th>\n",
       "      <td>Mars</td>\n",
       "      <td>True</td>\n",
       "      <td>D/296/P</td>\n",
       "      <td>55 Cancri e</td>\n",
       "      <td>28.771969</td>\n",
       "      <td>False</td>\n",
       "      <td>0.0</td>\n",
       "      <td>0.0</td>\n",
       "      <td>0.0</td>\n",
       "      <td>0.0</td>\n",
       "      <td>0.0</td>\n",
       "      <td>Jayrin Pore</td>\n",
       "      <td>NaN</td>\n",
       "    </tr>\n",
       "    <tr>\n",
       "      <th>9273_01</th>\n",
       "      <td>Europa</td>\n",
       "      <td>False</td>\n",
       "      <td>D/297/P</td>\n",
       "      <td>TRAPPIST-1e</td>\n",
       "      <td>28.771969</td>\n",
       "      <td>False</td>\n",
       "      <td>0.0</td>\n",
       "      <td>2680.0</td>\n",
       "      <td>0.0</td>\n",
       "      <td>0.0</td>\n",
       "      <td>523.0</td>\n",
       "      <td>Kitakan Conale</td>\n",
       "      <td>NaN</td>\n",
       "    </tr>\n",
       "    <tr>\n",
       "      <th>9277_01</th>\n",
       "      <td>Earth</td>\n",
       "      <td>True</td>\n",
       "      <td>G/1498/S</td>\n",
       "      <td>PSO J318.5-22</td>\n",
       "      <td>43.000000</td>\n",
       "      <td>False</td>\n",
       "      <td>0.0</td>\n",
       "      <td>0.0</td>\n",
       "      <td>0.0</td>\n",
       "      <td>0.0</td>\n",
       "      <td>0.0</td>\n",
       "      <td>Lilace Leonzaley</td>\n",
       "      <td>NaN</td>\n",
       "    </tr>\n",
       "  </tbody>\n",
       "</table>\n",
       "<p>12970 rows × 13 columns</p>\n",
       "</div>"
      ],
      "text/plain": [
       "            HomePlanet CryoSleep     Cabin    Destination        Age    VIP  \\\n",
       "PassengerId                                                                   \n",
       "0001_01         Europa     False     B/0/P    TRAPPIST-1e  39.000000  False   \n",
       "0002_01          Earth     False     F/0/S    TRAPPIST-1e  24.000000  False   \n",
       "0003_01         Europa     False     A/0/S    TRAPPIST-1e  58.000000   True   \n",
       "0003_02         Europa     False     A/0/S    TRAPPIST-1e  33.000000  False   \n",
       "0004_01          Earth     False     F/1/S    TRAPPIST-1e  16.000000  False   \n",
       "...                ...       ...       ...            ...        ...    ...   \n",
       "9266_02          Earth      True  G/1496/S    TRAPPIST-1e  34.000000  False   \n",
       "9269_01          Earth     False   G/160/P    TRAPPIST-1e  42.000000  False   \n",
       "9271_01           Mars      True   D/296/P    55 Cancri e  28.771969  False   \n",
       "9273_01         Europa     False   D/297/P    TRAPPIST-1e  28.771969  False   \n",
       "9277_01          Earth      True  G/1498/S  PSO J318.5-22  43.000000  False   \n",
       "\n",
       "             RoomService  FoodCourt  ShoppingMall     Spa  VRDeck  \\\n",
       "PassengerId                                                         \n",
       "0001_01              0.0        0.0           0.0     0.0     0.0   \n",
       "0002_01            109.0        9.0          25.0   549.0    44.0   \n",
       "0003_01             43.0     3576.0           0.0  6715.0    49.0   \n",
       "0003_02              0.0     1283.0         371.0  3329.0   193.0   \n",
       "0004_01            303.0       70.0         151.0   565.0     2.0   \n",
       "...                  ...        ...           ...     ...     ...   \n",
       "9266_02              0.0        0.0           0.0     0.0     0.0   \n",
       "9269_01              0.0      847.0          17.0    10.0   144.0   \n",
       "9271_01              0.0        0.0           0.0     0.0     0.0   \n",
       "9273_01              0.0     2680.0           0.0     0.0   523.0   \n",
       "9277_01              0.0        0.0           0.0     0.0     0.0   \n",
       "\n",
       "                          Name Transported  \n",
       "PassengerId                                 \n",
       "0001_01        Maham Ofracculy       False  \n",
       "0002_01           Juanna Vines        True  \n",
       "0003_01          Altark Susent       False  \n",
       "0003_02           Solam Susent       False  \n",
       "0004_01      Willy Santantines        True  \n",
       "...                        ...         ...  \n",
       "9266_02            Jeron Peter         NaN  \n",
       "9269_01          Matty Scheron         NaN  \n",
       "9271_01            Jayrin Pore         NaN  \n",
       "9273_01         Kitakan Conale         NaN  \n",
       "9277_01       Lilace Leonzaley         NaN  \n",
       "\n",
       "[12970 rows x 13 columns]"
      ]
     },
     "execution_count": 24,
     "metadata": {},
     "output_type": "execute_result"
    }
   ],
   "source": [
    "data_df"
   ]
  },
  {
   "cell_type": "code",
   "execution_count": 25,
   "id": "a531b258",
   "metadata": {
    "execution": {
     "iopub.execute_input": "2022-12-25T12:05:28.510115Z",
     "iopub.status.busy": "2022-12-25T12:05:28.509153Z",
     "iopub.status.idle": "2022-12-25T12:05:29.183123Z",
     "shell.execute_reply": "2022-12-25T12:05:29.182179Z"
    },
    "papermill": {
     "duration": 0.695296,
     "end_time": "2022-12-25T12:05:29.185614",
     "exception": false,
     "start_time": "2022-12-25T12:05:28.490318",
     "status": "completed"
    },
    "tags": []
   },
   "outputs": [
    {
     "data": {
      "text/plain": [
       "<AxesSubplot:>"
      ]
     },
     "execution_count": 25,
     "metadata": {},
     "output_type": "execute_result"
    },
    {
     "data": {
      "image/png": "[encoded data removed]",
      "text/plain": [
       "<Figure size 1800x720 with 2 Axes>"
      ]
     },
     "metadata": {
      "needs_background": "light"
     },
     "output_type": "display_data"
    }
   ],
   "source": [
    "missingno.matrix(data_df)"
   ]
  },
  {
   "cell_type": "markdown",
   "id": "a2a5409a",
   "metadata": {
    "papermill": {
     "duration": 0.017964,
     "end_time": "2022-12-25T12:05:29.222867",
     "exception": false,
     "start_time": "2022-12-25T12:05:29.204903",
     "status": "completed"
    },
    "tags": []
   },
   "source": [
    "- As **Name** column has uniqe values and not worthy to be considerable for predictions. So, we can eliminate that column from the datatset. "
   ]
  },
  {
   "cell_type": "code",
   "execution_count": 26,
   "id": "cac7585c",
   "metadata": {
    "execution": {
     "iopub.execute_input": "2022-12-25T12:05:29.261611Z",
     "iopub.status.busy": "2022-12-25T12:05:29.260824Z",
     "iopub.status.idle": "2022-12-25T12:05:29.268156Z",
     "shell.execute_reply": "2022-12-25T12:05:29.267197Z"
    },
    "papermill": {
     "duration": 0.029613,
     "end_time": "2022-12-25T12:05:29.270645",
     "exception": false,
     "start_time": "2022-12-25T12:05:29.241032",
     "status": "completed"
    },
    "tags": []
   },
   "outputs": [],
   "source": [
    "data_df.drop(['Name'], axis=1, inplace=True)"
   ]
  },
  {
   "cell_type": "code",
   "execution_count": 27,
   "id": "f5ece4d1",
   "metadata": {
    "execution": {
     "iopub.execute_input": "2022-12-25T12:05:29.309227Z",
     "iopub.status.busy": "2022-12-25T12:05:29.308527Z",
     "iopub.status.idle": "2022-12-25T12:05:29.935438Z",
     "shell.execute_reply": "2022-12-25T12:05:29.934198Z"
    },
    "papermill": {
     "duration": 0.649147,
     "end_time": "2022-12-25T12:05:29.938071",
     "exception": false,
     "start_time": "2022-12-25T12:05:29.288924",
     "status": "completed"
    },
    "tags": []
   },
   "outputs": [
    {
     "data": {
      "text/plain": [
       "<AxesSubplot:>"
      ]
     },
     "execution_count": 27,
     "metadata": {},
     "output_type": "execute_result"
    },
    {
     "data": {
      "image/png": "[encoded data removed]",
      "text/plain": [
       "<Figure size 1800x720 with 2 Axes>"
      ]
     },
     "metadata": {
      "needs_background": "light"
     },
     "output_type": "display_data"
    }
   ],
   "source": [
    "missingno.matrix(data_df)"
   ]
  },
  {
   "cell_type": "markdown",
   "id": "1878c26e",
   "metadata": {
    "papermill": {
     "duration": 0.018819,
     "end_time": "2022-12-25T12:05:29.976152",
     "exception": false,
     "start_time": "2022-12-25T12:05:29.957333",
     "status": "completed"
    },
    "tags": []
   },
   "source": [
    "- **So**, all the missing data values has been successfully handeled and the dataset is ready for further analysis. "
   ]
  },
  {
   "cell_type": "markdown",
   "id": "86875935",
   "metadata": {
    "papermill": {
     "duration": 0.018819,
     "end_time": "2022-12-25T12:05:30.014143",
     "exception": false,
     "start_time": "2022-12-25T12:05:29.995324",
     "status": "completed"
    },
    "tags": []
   },
   "source": [
    "### 8. Data Visualization "
   ]
  },
  {
   "cell_type": "code",
   "execution_count": 28,
   "id": "258443e3",
   "metadata": {
    "execution": {
     "iopub.execute_input": "2022-12-25T12:05:30.055574Z",
     "iopub.status.busy": "2022-12-25T12:05:30.055165Z",
     "iopub.status.idle": "2022-12-25T12:05:54.951092Z",
     "shell.execute_reply": "2022-12-25T12:05:54.949880Z"
    },
    "papermill": {
     "duration": 24.920367,
     "end_time": "2022-12-25T12:05:54.953711",
     "exception": false,
     "start_time": "2022-12-25T12:05:30.033344",
     "status": "completed"
    },
    "tags": []
   },
   "outputs": [
    {
     "data": {
      "text/plain": [
       "<seaborn.axisgrid.FacetGrid at 0x7fb90313bc50>"
      ]
     },
     "execution_count": 28,
     "metadata": {},
     "output_type": "execute_result"
    },
    {
     "data": {
      "image/png": "[encoded data removed]",
      "text/plain": [
       "<Figure size 360x360 with 1 Axes>"
      ]
     },
     "metadata": {
      "needs_background": "light"
     },
     "output_type": "display_data"
    }
   ],
   "source": [
    "sns.catplot(data=data_df, x='HomePlanet', y=\"VIP\", kind=\"bar\")"
   ]
  },
  {
   "cell_type": "markdown",
   "id": "4ab088b8",
   "metadata": {
    "papermill": {
     "duration": 0.019084,
     "end_time": "2022-12-25T12:05:54.992235",
     "exception": false,
     "start_time": "2022-12-25T12:05:54.973151",
     "status": "completed"
    },
    "tags": []
   },
   "source": [
    "- This plot suggested that the passengers belongs from **Europa paid more for VIP services than passengers of Mars.** \n",
    "- Whereas, Passenger from Earth paid significantly less than the Mars and Europa passengers. "
   ]
  },
  {
   "cell_type": "code",
   "execution_count": 29,
   "id": "7ed56e2a",
   "metadata": {
    "execution": {
     "iopub.execute_input": "2022-12-25T12:05:55.033002Z",
     "iopub.status.busy": "2022-12-25T12:05:55.032543Z",
     "iopub.status.idle": "2022-12-25T12:06:19.971079Z",
     "shell.execute_reply": "2022-12-25T12:06:19.969624Z"
    },
    "papermill": {
     "duration": 24.962362,
     "end_time": "2022-12-25T12:06:19.974120",
     "exception": false,
     "start_time": "2022-12-25T12:05:55.011758",
     "status": "completed"
    },
    "tags": []
   },
   "outputs": [
    {
     "data": {
      "text/plain": [
       "<seaborn.axisgrid.FacetGrid at 0x7fb903422710>"
      ]
     },
     "execution_count": 29,
     "metadata": {},
     "output_type": "execute_result"
    },
    {
     "data": {
      "image/png": "[encoded data removed]",
      "text/plain": [
       "<Figure size 360x360 with 1 Axes>"
      ]
     },
     "metadata": {
      "needs_background": "light"
     },
     "output_type": "display_data"
    }
   ],
   "source": [
    "sns.catplot(data=data_df, x='HomePlanet', y=\"CryoSleep\", kind=\"bar\")"
   ]
  },
  {
   "cell_type": "markdown",
   "id": "965ae074",
   "metadata": {
    "papermill": {
     "duration": 0.019417,
     "end_time": "2022-12-25T12:06:20.013480",
     "exception": false,
     "start_time": "2022-12-25T12:06:19.994063",
     "status": "completed"
    },
    "tags": []
   },
   "source": [
    "- According to above results, **passengers of Europa were preferably elected for cryosleep facilities** as compaered to the passnegers belonging from Mars and Earth respectively."
   ]
  },
  {
   "cell_type": "code",
   "execution_count": 30,
   "id": "7c7bc2e5",
   "metadata": {
    "execution": {
     "iopub.execute_input": "2022-12-25T12:06:20.055729Z",
     "iopub.status.busy": "2022-12-25T12:06:20.055302Z",
     "iopub.status.idle": "2022-12-25T12:06:45.046344Z",
     "shell.execute_reply": "2022-12-25T12:06:45.045417Z"
    },
    "papermill": {
     "duration": 25.01501,
     "end_time": "2022-12-25T12:06:45.048977",
     "exception": false,
     "start_time": "2022-12-25T12:06:20.033967",
     "status": "completed"
    },
    "tags": []
   },
   "outputs": [
    {
     "data": {
      "text/plain": [
       "<seaborn.axisgrid.FacetGrid at 0x7fb902f9e810>"
      ]
     },
     "execution_count": 30,
     "metadata": {},
     "output_type": "execute_result"
    },
    {
     "data": {
      "image/png": "[encoded data removed]",
      "text/plain": [
       "<Figure size 360x360 with 1 Axes>"
      ]
     },
     "metadata": {
      "needs_background": "light"
     },
     "output_type": "display_data"
    }
   ],
   "source": [
    "sns.catplot(data=data_df, x='Destination', y=\"CryoSleep\", kind=\"bar\")"
   ]
  },
  {
   "cell_type": "markdown",
   "id": "aeb48e0d",
   "metadata": {
    "papermill": {
     "duration": 0.020422,
     "end_time": "2022-12-25T12:06:45.090662",
     "exception": false,
     "start_time": "2022-12-25T12:06:45.070240",
     "status": "completed"
    },
    "tags": []
   },
   "source": [
    "- In above relationship, most of the passnegers who were facilitated by Cryosleep, were **debarked towards PSO J318.5-22.** \n",
    "- Other people were debarked, without much significant variation, towards the other destinations.  "
   ]
  },
  {
   "cell_type": "markdown",
   "id": "8da96717",
   "metadata": {
    "papermill": {
     "duration": 0.019978,
     "end_time": "2022-12-25T12:06:45.130967",
     "exception": false,
     "start_time": "2022-12-25T12:06:45.110989",
     "status": "completed"
    },
    "tags": []
   },
   "source": []
  },
  {
   "cell_type": "code",
   "execution_count": 31,
   "id": "5abe2a91",
   "metadata": {
    "execution": {
     "iopub.execute_input": "2022-12-25T12:06:45.174123Z",
     "iopub.status.busy": "2022-12-25T12:06:45.173489Z",
     "iopub.status.idle": "2022-12-25T12:07:10.028230Z",
     "shell.execute_reply": "2022-12-25T12:07:10.026902Z"
    },
    "papermill": {
     "duration": 24.879745,
     "end_time": "2022-12-25T12:07:10.030934",
     "exception": false,
     "start_time": "2022-12-25T12:06:45.151189",
     "status": "completed"
    },
    "tags": []
   },
   "outputs": [
    {
     "data": {
      "text/plain": [
       "<seaborn.axisgrid.FacetGrid at 0x7fb9030eead0>"
      ]
     },
     "execution_count": 31,
     "metadata": {},
     "output_type": "execute_result"
    },
    {
     "data": {
      "image/png": "[encoded data removed]",
      "text/plain": [
       "<Figure size 360x360 with 1 Axes>"
      ]
     },
     "metadata": {
      "needs_background": "light"
     },
     "output_type": "display_data"
    }
   ],
   "source": [
    "sns.catplot(data=data_df, x='Destination', y=\"VIP\", kind=\"bar\")\n"
   ]
  },
  {
   "cell_type": "markdown",
   "id": "70f92b01",
   "metadata": {
    "papermill": {
     "duration": 0.020907,
     "end_time": "2022-12-25T12:07:10.072729",
     "exception": false,
     "start_time": "2022-12-25T12:07:10.051822",
     "status": "completed"
    },
    "tags": []
   },
   "source": [
    "- **People who paid for VIP services, were significantly debarked towards 55 Cancri e.**"
   ]
  },
  {
   "cell_type": "code",
   "execution_count": 32,
   "id": "b73a4243",
   "metadata": {
    "execution": {
     "iopub.execute_input": "2022-12-25T12:07:10.116761Z",
     "iopub.status.busy": "2022-12-25T12:07:10.115969Z",
     "iopub.status.idle": "2022-12-25T12:07:10.634431Z",
     "shell.execute_reply": "2022-12-25T12:07:10.633261Z"
    },
    "papermill": {
     "duration": 0.543099,
     "end_time": "2022-12-25T12:07:10.636812",
     "exception": false,
     "start_time": "2022-12-25T12:07:10.093713",
     "status": "completed"
    },
    "tags": []
   },
   "outputs": [
    {
     "data": {
      "text/plain": [
       "<seaborn.axisgrid.FacetGrid at 0x7fb9030bb0d0>"
      ]
     },
     "execution_count": 32,
     "metadata": {},
     "output_type": "execute_result"
    },
    {
     "data": {
      "image/png": "[encoded data removed]",
      "text/plain": [
       "<Figure size 360x360 with 1 Axes>"
      ]
     },
     "metadata": {
      "needs_background": "light"
     },
     "output_type": "display_data"
    }
   ],
   "source": [
    "sns.catplot(data=data_df, x='HomePlanet', y='Age', kind='bar')"
   ]
  },
  {
   "cell_type": "markdown",
   "id": "da247489",
   "metadata": {
    "papermill": {
     "duration": 0.020263,
     "end_time": "2022-12-25T12:07:10.677741",
     "exception": false,
     "start_time": "2022-12-25T12:07:10.657478",
     "status": "completed"
    },
    "tags": []
   },
   "source": [
    "- Moreover, **People from Europa were compartively older than the other passengers belongs from Mars and Earth respectively.** "
   ]
  },
  {
   "cell_type": "code",
   "execution_count": 33,
   "id": "49225c2a",
   "metadata": {
    "execution": {
     "iopub.execute_input": "2022-12-25T12:07:10.721100Z",
     "iopub.status.busy": "2022-12-25T12:07:10.720667Z",
     "iopub.status.idle": "2022-12-25T12:07:10.726019Z",
     "shell.execute_reply": "2022-12-25T12:07:10.725041Z"
    },
    "papermill": {
     "duration": 0.03007,
     "end_time": "2022-12-25T12:07:10.728405",
     "exception": false,
     "start_time": "2022-12-25T12:07:10.698335",
     "status": "completed"
    },
    "tags": []
   },
   "outputs": [],
   "source": [
    "num_cols = [\"Age\", \"RoomService\", \"FoodCourt\", \"ShoppingMall\", \"Spa\", \"VRDeck\"]"
   ]
  },
  {
   "cell_type": "code",
   "execution_count": 34,
   "id": "22588c29",
   "metadata": {
    "execution": {
     "iopub.execute_input": "2022-12-25T12:07:10.777022Z",
     "iopub.status.busy": "2022-12-25T12:07:10.776029Z",
     "iopub.status.idle": "2022-12-25T12:07:11.257912Z",
     "shell.execute_reply": "2022-12-25T12:07:11.256598Z"
    },
    "papermill": {
     "duration": 0.511614,
     "end_time": "2022-12-25T12:07:11.260663",
     "exception": false,
     "start_time": "2022-12-25T12:07:10.749049",
     "status": "completed"
    },
    "tags": []
   },
   "outputs": [
    {
     "data": {
      "text/plain": [
       "<AxesSubplot:>"
      ]
     },
     "execution_count": 34,
     "metadata": {},
     "output_type": "execute_result"
    },
    {
     "data": {
      "image/png": "[encoded data removed]",
      "text/plain": [
       "<Figure size 432x288 with 2 Axes>"
      ]
     },
     "metadata": {
      "needs_background": "light"
     },
     "output_type": "display_data"
    }
   ],
   "source": [
    "sns.heatmap(data_df[num_cols].corr(), annot=True, cmap=\"coolwarm\")"
   ]
  },
  {
   "cell_type": "code",
   "execution_count": 35,
   "id": "e6c64391",
   "metadata": {
    "execution": {
     "iopub.execute_input": "2022-12-25T12:07:11.305553Z",
     "iopub.status.busy": "2022-12-25T12:07:11.305163Z",
     "iopub.status.idle": "2022-12-25T12:07:11.323014Z",
     "shell.execute_reply": "2022-12-25T12:07:11.321851Z"
    },
    "papermill": {
     "duration": 0.04327,
     "end_time": "2022-12-25T12:07:11.325365",
     "exception": false,
     "start_time": "2022-12-25T12:07:11.282095",
     "status": "completed"
    },
    "tags": []
   },
   "outputs": [
    {
     "data": {
      "text/html": [
       "<div>\n",
       "<style scoped>\n",
       "    .dataframe tbody tr th:only-of-type {\n",
       "        vertical-align: middle;\n",
       "    }\n",
       "\n",
       "    .dataframe tbody tr th {\n",
       "        vertical-align: top;\n",
       "    }\n",
       "\n",
       "    .dataframe thead th {\n",
       "        text-align: right;\n",
       "    }\n",
       "</style>\n",
       "<table border=\"1\" class=\"dataframe\">\n",
       "  <thead>\n",
       "    <tr style=\"text-align: right;\">\n",
       "      <th></th>\n",
       "      <th>Age</th>\n",
       "      <th>RoomService</th>\n",
       "      <th>FoodCourt</th>\n",
       "      <th>ShoppingMall</th>\n",
       "      <th>Spa</th>\n",
       "      <th>VRDeck</th>\n",
       "    </tr>\n",
       "  </thead>\n",
       "  <tbody>\n",
       "    <tr>\n",
       "      <th>Age</th>\n",
       "      <td>1.000000</td>\n",
       "      <td>0.066101</td>\n",
       "      <td>0.121210</td>\n",
       "      <td>0.034182</td>\n",
       "      <td>0.115982</td>\n",
       "      <td>0.099858</td>\n",
       "    </tr>\n",
       "    <tr>\n",
       "      <th>RoomService</th>\n",
       "      <td>0.066101</td>\n",
       "      <td>1.000000</td>\n",
       "      <td>-0.019720</td>\n",
       "      <td>0.055787</td>\n",
       "      <td>0.008801</td>\n",
       "      <td>-0.023429</td>\n",
       "    </tr>\n",
       "    <tr>\n",
       "      <th>FoodCourt</th>\n",
       "      <td>0.121210</td>\n",
       "      <td>-0.019720</td>\n",
       "      <td>1.000000</td>\n",
       "      <td>-0.001556</td>\n",
       "      <td>0.225865</td>\n",
       "      <td>0.240868</td>\n",
       "    </tr>\n",
       "    <tr>\n",
       "      <th>ShoppingMall</th>\n",
       "      <td>0.034182</td>\n",
       "      <td>0.055787</td>\n",
       "      <td>-0.001556</td>\n",
       "      <td>1.000000</td>\n",
       "      <td>0.010384</td>\n",
       "      <td>0.004301</td>\n",
       "    </tr>\n",
       "    <tr>\n",
       "      <th>Spa</th>\n",
       "      <td>0.115982</td>\n",
       "      <td>0.008801</td>\n",
       "      <td>0.225865</td>\n",
       "      <td>0.010384</td>\n",
       "      <td>1.000000</td>\n",
       "      <td>0.145348</td>\n",
       "    </tr>\n",
       "    <tr>\n",
       "      <th>VRDeck</th>\n",
       "      <td>0.099858</td>\n",
       "      <td>-0.023429</td>\n",
       "      <td>0.240868</td>\n",
       "      <td>0.004301</td>\n",
       "      <td>0.145348</td>\n",
       "      <td>1.000000</td>\n",
       "    </tr>\n",
       "  </tbody>\n",
       "</table>\n",
       "</div>"
      ],
      "text/plain": [
       "                   Age  RoomService  FoodCourt  ShoppingMall       Spa  \\\n",
       "Age           1.000000     0.066101   0.121210      0.034182  0.115982   \n",
       "RoomService   0.066101     1.000000  -0.019720      0.055787  0.008801   \n",
       "FoodCourt     0.121210    -0.019720   1.000000     -0.001556  0.225865   \n",
       "ShoppingMall  0.034182     0.055787  -0.001556      1.000000  0.010384   \n",
       "Spa           0.115982     0.008801   0.225865      0.010384  1.000000   \n",
       "VRDeck        0.099858    -0.023429   0.240868      0.004301  0.145348   \n",
       "\n",
       "                VRDeck  \n",
       "Age           0.099858  \n",
       "RoomService  -0.023429  \n",
       "FoodCourt     0.240868  \n",
       "ShoppingMall  0.004301  \n",
       "Spa           0.145348  \n",
       "VRDeck        1.000000  "
      ]
     },
     "execution_count": 35,
     "metadata": {},
     "output_type": "execute_result"
    }
   ],
   "source": [
    "data_df[num_cols].corr()"
   ]
  },
  {
   "cell_type": "markdown",
   "id": "19a16057",
   "metadata": {
    "papermill": {
     "duration": 0.021259,
     "end_time": "2022-12-25T12:07:11.368148",
     "exception": false,
     "start_time": "2022-12-25T12:07:11.346889",
     "status": "completed"
    },
    "tags": []
   },
   "source": [
    "- Most of Spaceship Titanic's many luxury amenities are apparently not co-related with each other. \n",
    "- *VRDeck* showed highly **postive** correlation with amount paid at *FoodCourt*. Meanwhile it showed completly **negative** corelation with *shopping malls*.\n",
    "- Whereas *Spa* have highly **positive** correlation values with *FoodCourt* and *Age*. It's mean mostly passengers paid for *Food* and *Spa* services.  "
   ]
  },
  {
   "cell_type": "markdown",
   "id": "338fc597",
   "metadata": {
    "papermill": {
     "duration": 0.021278,
     "end_time": "2022-12-25T12:07:11.410955",
     "exception": false,
     "start_time": "2022-12-25T12:07:11.389677",
     "status": "completed"
    },
    "tags": []
   },
   "source": []
  },
  {
   "cell_type": "markdown",
   "id": "b0f2a70b",
   "metadata": {
    "papermill": {
     "duration": 0.021355,
     "end_time": "2022-12-25T12:07:11.454068",
     "exception": false,
     "start_time": "2022-12-25T12:07:11.432713",
     "status": "completed"
    },
    "tags": []
   },
   "source": [
    "### 9. Conclusions\n",
    "\n",
    "- Apparently, Passengers belonging from Europa showed significant  distribution as compared to other HomePlanets in terms of their ages, Paying for VIP facilities, availing of crayosleep facilities and etc. Further analysis can help to predict the possible transportation of passengers belonging from either homeplanet.  "
   ]
  }
 ],
 "metadata": {
  "kernelspec": {
   "display_name": "Python 3",
   "language": "python",
   "name": "python3"
  },
  "language_info": {
   "codemirror_mode": {
    "name": "ipython",
    "version": 3
   },
   "file_extension": ".py",
   "mimetype": "text/x-python",
   "name": "python",
   "nbconvert_exporter": "python",
   "pygments_lexer": "ipython3",
   "version": "3.7.12"
  },
  "papermill": {
   "default_parameters": {},
   "duration": 119.083183,
   "end_time": "2022-12-25T12:07:12.299114",
   "environment_variables": {},
   "exception": null,
   "input_path": "__notebook__.ipynb",
   "output_path": "__notebook__.ipynb",
   "parameters": {},
   "start_time": "2022-12-25T12:05:13.215931",
   "version": "2.3.4"
  }
 },
 "nbformat": 4,
 "nbformat_minor": 5
}
