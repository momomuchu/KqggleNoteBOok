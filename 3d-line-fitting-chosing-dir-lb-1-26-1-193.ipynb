{
 "cells": [
  {
   "cell_type": "markdown",
   "id": "422074de",
   "metadata": {
    "papermill": {
     "duration": 0.004766,
     "end_time": "2023-01-29T13:52:21.350318",
     "exception": false,
     "start_time": "2023-01-29T13:52:21.345552",
     "status": "completed"
    },
    "tags": []
   },
   "source": [
    "# 3D line fitting + computed vector direction choice\n",
    "In this notebook I will present a way of imporving 3D line fitting by using time values. Using this way I improved my LB score from `1.26` to `1.193`. With chosing a proper direciton of predicted vector the score could be around `0.8`."
   ]
  },
  {
   "cell_type": "code",
   "execution_count": 1,
   "id": "d35e5cdf",
   "metadata": {
    "_cell_guid": "b1076dfc-b9ad-4769-8c92-a6c4dae69d19",
    "_kg_hide-input": true,
    "_uuid": "8f2839f25d086af736a60e9eeb907d3b93b6e0e5",
    "execution": {
     "iopub.execute_input": "2023-01-29T13:52:21.359895Z",
     "iopub.status.busy": "2023-01-29T13:52:21.358786Z",
     "iopub.status.idle": "2023-01-29T13:52:21.378167Z",
     "shell.execute_reply": "2023-01-29T13:52:21.376893Z"
    },
    "papermill": {
     "duration": 0.027668,
     "end_time": "2023-01-29T13:52:21.381264",
     "exception": false,
     "start_time": "2023-01-29T13:52:21.353596",
     "status": "completed"
    },
    "tags": []
   },
   "outputs": [],
   "source": [
    "import numpy as np\n",
    "import pandas as pd\n",
    "import os\n",
    "from pathlib import Path\n",
    "import math\n",
    "from tqdm import tqdm\n",
    "from random import sample"
   ]
  },
  {
   "cell_type": "code",
   "execution_count": 2,
   "id": "5c636bf2",
   "metadata": {
    "execution": {
     "iopub.execute_input": "2023-01-29T13:52:21.390576Z",
     "iopub.status.busy": "2023-01-29T13:52:21.389528Z",
     "iopub.status.idle": "2023-01-29T13:53:06.231155Z",
     "shell.execute_reply": "2023-01-29T13:53:06.229324Z"
    },
    "papermill": {
     "duration": 44.850486,
     "end_time": "2023-01-29T13:53:06.235008",
     "exception": false,
     "start_time": "2023-01-29T13:52:21.384522",
     "status": "completed"
    },
    "tags": []
   },
   "outputs": [],
   "source": [
    "subset = 'train'\n",
    "limit = 10_000\n",
    "\n",
    "dataset_path = Path(r'/kaggle/input/icecube-neutrinos-in-deep-ice')\n",
    "test_meta_data = pd.read_parquet(dataset_path / f'{subset}_meta.parquet')\n",
    "if limit is not None:\n",
    "    test_meta_data = test_meta_data[:limit]\n",
    "sensor_geo = pd.read_csv(dataset_path / 'sensor_geometry.csv')"
   ]
  },
  {
   "cell_type": "code",
   "execution_count": 3,
   "id": "889cd173",
   "metadata": {
    "_kg_hide-input": true,
    "execution": {
     "iopub.execute_input": "2023-01-29T13:53:06.245055Z",
     "iopub.status.busy": "2023-01-29T13:53:06.243768Z",
     "iopub.status.idle": "2023-01-29T13:53:06.257691Z",
     "shell.execute_reply": "2023-01-29T13:53:06.255983Z"
    },
    "papermill": {
     "duration": 0.02219,
     "end_time": "2023-01-29T13:53:06.260718",
     "exception": false,
     "start_time": "2023-01-29T13:53:06.238528",
     "status": "completed"
    },
    "tags": []
   },
   "outputs": [],
   "source": [
    "def angular_dist_score(az_true, zen_true, az_pred, zen_pred):\n",
    "    '''\n",
    "    calculate the MAE of the angular distance between two directions.\n",
    "    The two vectors are first converted to cartesian unit vectors,\n",
    "    and then their scalar product is computed, which is equal to\n",
    "    the cosine of the angle between the two vectors. The inverse \n",
    "    cosine (arccos) thereof is then the angle between the two input vectors\n",
    "    \n",
    "    Parameters:\n",
    "    -----------\n",
    "    \n",
    "    az_true : float (or array thereof)\n",
    "        true azimuth value(s) in radian\n",
    "    zen_true : float (or array thereof)\n",
    "        true zenith value(s) in radian\n",
    "    az_pred : float (or array thereof)\n",
    "        predicted azimuth value(s) in radian\n",
    "    zen_pred : float (or array thereof)\n",
    "        predicted zenith value(s) in radian\n",
    "    \n",
    "    Returns:\n",
    "    --------\n",
    "    \n",
    "    dist : float\n",
    "        mean over the angular distance(s) in radian\n",
    "    '''\n",
    "    \n",
    "    if not (np.all(np.isfinite(az_true)) and\n",
    "            np.all(np.isfinite(zen_true)) and\n",
    "            np.all(np.isfinite(az_pred)) and\n",
    "            np.all(np.isfinite(zen_pred))):\n",
    "        raise ValueError(\"All arguments must be finite\")\n",
    "    \n",
    "    # pre-compute all sine and cosine values\n",
    "    sa1 = np.sin(az_true)\n",
    "    ca1 = np.cos(az_true)\n",
    "    sz1 = np.sin(zen_true)\n",
    "    cz1 = np.cos(zen_true)\n",
    "    \n",
    "    sa2 = np.sin(az_pred)\n",
    "    ca2 = np.cos(az_pred)\n",
    "    sz2 = np.sin(zen_pred)\n",
    "    cz2 = np.cos(zen_pred)\n",
    "    \n",
    "    # scalar product of the two cartesian vectors (x = sz*ca, y = sz*sa, z = cz)\n",
    "    scalar_prod = sz1*sz2*(ca1*ca2 + sa1*sa2) + (cz1*cz2)\n",
    "    \n",
    "    # scalar product of two unit vectors is always between -1 and 1, this is against nummerical instability\n",
    "    # that might otherwise occure from the finite precision of the sine and cosine functions\n",
    "    scalar_prod =  np.clip(scalar_prod, -1, 1)\n",
    "    \n",
    "    # convert back to an angle (in radian)\n",
    "    return np.average(np.abs(np.arccos(scalar_prod)))"
   ]
  },
  {
   "cell_type": "code",
   "execution_count": 4,
   "id": "47d7574f",
   "metadata": {
    "_kg_hide-input": true,
    "execution": {
     "iopub.execute_input": "2023-01-29T13:53:06.269792Z",
     "iopub.status.busy": "2023-01-29T13:53:06.269262Z",
     "iopub.status.idle": "2023-01-29T13:53:06.281411Z",
     "shell.execute_reply": "2023-01-29T13:53:06.279807Z"
    },
    "papermill": {
     "duration": 0.02065,
     "end_time": "2023-01-29T13:53:06.284809",
     "exception": false,
     "start_time": "2023-01-29T13:53:06.264159",
     "status": "completed"
    },
    "tags": []
   },
   "outputs": [],
   "source": [
    "def _cartesian_to_spherical(x, y, z):\n",
    "    r = math.sqrt(x * x + y * y + z * z)\n",
    "    c = -1 if y < 0 else 1\n",
    "    azimuth = math.acos(x / math.sqrt(x * x + y * y)) * c\n",
    "    zenith = math.acos(z / r)\n",
    "    return azimuth, zenith\n",
    "\n",
    "def _adjust_spherical(azimuth, zenith):\n",
    "    if azimuth < 0 and zenith < 0:\n",
    "        azimuth *= -1\n",
    "        zenith *= -1\n",
    "    if azimuth < 0:\n",
    "        azimuth += math.pi * 2\n",
    "    elif zenith < 0:\n",
    "        zenith += math.pi\n",
    "    return azimuth, zenith\n",
    "\n",
    "def cartesian_to_spherical(pred_direction: np.ndarray):\n",
    "    try:\n",
    "        a, z = _adjust_spherical(*_cartesian_to_spherical(*(pred_direction.tolist())))\n",
    "        if np.isnan(a):\n",
    "            a = 0.0\n",
    "        if np.isnan(z):\n",
    "            z = 0.0\n",
    "        return a, z\n",
    "    except:\n",
    "        return 0.0, 0.0"
   ]
  },
  {
   "cell_type": "code",
   "execution_count": 5,
   "id": "9958962a",
   "metadata": {
    "execution": {
     "iopub.execute_input": "2023-01-29T13:53:06.293481Z",
     "iopub.status.busy": "2023-01-29T13:53:06.293024Z",
     "iopub.status.idle": "2023-01-29T13:55:12.012346Z",
     "shell.execute_reply": "2023-01-29T13:55:12.009411Z"
    },
    "papermill": {
     "duration": 125.734351,
     "end_time": "2023-01-29T13:55:12.022521",
     "exception": false,
     "start_time": "2023-01-29T13:53:06.288170",
     "status": "completed"
    },
    "tags": []
   },
   "outputs": [
    {
     "name": "stderr",
     "output_type": "stream",
     "text": [
      "svd: 1.248, svd+t: 1.114, best: 0.765 | :   1%|          | 68/10000 [00:07<08:12, 20.17it/s]/opt/conda/lib/python3.7/site-packages/ipykernel_launcher.py:33: RuntimeWarning: invalid value encountered in true_divide\n",
      "svd: 1.287, svd+t: 1.214, best: 0.830 | : 100%|██████████| 10000/10000 [02:05<00:00, 79.57it/s]\n"
     ]
    }
   ],
   "source": [
    "total_score = {'svd': 0.0, 'svd+t': 0.0, 'best': 0.0}\n",
    "\n",
    "perc = 0.25\n",
    "prev_batch_id = -1\n",
    "\n",
    "progress_bar = tqdm(range(len(test_meta_data)))\n",
    "for i in progress_bar:\n",
    "    meta_data_row = test_meta_data.iloc[i]\n",
    "    batch_id = int(meta_data_row['batch_id'])\n",
    "    first_pulse_index = int(meta_data_row['first_pulse_index'])\n",
    "    last_pulse_index = int(meta_data_row['last_pulse_index'])\n",
    "    \n",
    "    if batch_id != prev_batch_id:\n",
    "        train_batch = pd.read_parquet(dataset_path / (f'{subset}/batch_{batch_id}.parquet'))\n",
    "        prev_batch_id = batch_id\n",
    "\n",
    "    event_data = train_batch.iloc[first_pulse_index:last_pulse_index + 1]\n",
    "    event_data = event_data[~event_data['auxiliary']]\n",
    "    if len(event_data) > 800:\n",
    "        event_data = event_data.sort_values('charge', ascending=False)[:800]\n",
    "\n",
    "    event_data_with_pos = pd.merge(event_data, sensor_geo, on='sensor_id', how='left')\n",
    "\n",
    "    time_sorted = event_data_with_pos.sort_values('time', ascending=True)\n",
    "    m = max(1, int(perc*len(time_sorted)))\n",
    "    first = time_sorted.iloc[:m]\n",
    "    last = time_sorted.iloc[-m:]\n",
    "    \n",
    "    first = np.array([first['x'].mean(), first['y'].mean(), first['z'].mean()])\n",
    "    last = np.array([last['x'].mean(), last['y'].mean(), last['z'].mean()])\n",
    "\n",
    "    time_dir = last - first\n",
    "    time_dir /= np.linalg.norm(time_dir)\n",
    "\n",
    "    data = np.concatenate(\n",
    "        (np.array(event_data_with_pos['x'])[:, np.newaxis], \n",
    "         np.array(event_data_with_pos['y'])[:, np.newaxis], \n",
    "         np.array(event_data_with_pos['z'])[:, np.newaxis]), \n",
    "        axis=1\n",
    "    )\n",
    "\n",
    "    _, _, v = np.linalg.svd(data - data.mean(axis=0))\n",
    "\n",
    "    pred_direction = -v[0]\n",
    "    pred_direction_neg = -pred_direction.copy()\n",
    "    \n",
    "    # check if predicted direction is aligned with vector computed based on time\n",
    "    if np.dot(time_dir, pred_direction) > 0:\n",
    "        pred_direction_t = -pred_direction.copy()\n",
    "    else:\n",
    "        pred_direction_t = pred_direction.copy()\n",
    "    \n",
    "    azimuth, zenith = cartesian_to_spherical(pred_direction)\n",
    "    azimuth_t, zenith_t = cartesian_to_spherical(pred_direction_t)\n",
    "    azimuth_neg, zenith_neg = cartesian_to_spherical(pred_direction_neg)\n",
    "    \n",
    "    if subset == 'train':\n",
    "        true_azimuth = meta_data_row['azimuth']\n",
    "        true_zenith = meta_data_row['zenith']\n",
    "        \n",
    "        score = angular_dist_score(\n",
    "            true_azimuth, true_zenith,\n",
    "            azimuth, zenith\n",
    "        )\n",
    "        score_adj = angular_dist_score(\n",
    "            true_azimuth, true_zenith,\n",
    "            azimuth_t, zenith_t\n",
    "        )\n",
    "        score_neg = angular_dist_score(\n",
    "            true_azimuth, true_zenith,\n",
    "            azimuth_neg, zenith_neg\n",
    "        )\n",
    "        total_score['svd'] += score\n",
    "        total_score['svd+t'] += score_adj\n",
    "        total_score['best'] += min(score, score_neg)\n",
    "    \n",
    "        progress_bar.set_description(\n",
    "            f'svd: {total_score[\"svd\"]/(i + 1):.3f}, '\n",
    "            f'svd+t: {total_score[\"svd+t\"]/(i + 1):.3f}, '\n",
    "            f'best: {total_score[\"best\"]/(i + 1):.3f} | '\n",
    "        )\n",
    "total_score['svd'] /= len(test_meta_data)\n",
    "total_score['svd+t'] /= len(test_meta_data)\n",
    "total_score['best'] /= len(test_meta_data)"
   ]
  },
  {
   "cell_type": "code",
   "execution_count": 6,
   "id": "9defe130",
   "metadata": {
    "_kg_hide-input": true,
    "execution": {
     "iopub.execute_input": "2023-01-29T13:55:13.685966Z",
     "iopub.status.busy": "2023-01-29T13:55:13.685281Z",
     "iopub.status.idle": "2023-01-29T13:55:13.693844Z",
     "shell.execute_reply": "2023-01-29T13:55:13.692802Z"
    },
    "papermill": {
     "duration": 0.756885,
     "end_time": "2023-01-29T13:55:13.696303",
     "exception": false,
     "start_time": "2023-01-29T13:55:12.939418",
     "status": "completed"
    },
    "tags": []
   },
   "outputs": [],
   "source": [
    "result = pd.DataFrame(\n",
    "    data=total_score.values(),\n",
    "    columns=['score'],\n",
    "    index=total_score.keys()\n",
    ")\n",
    "result.index.name = 'method'"
   ]
  },
  {
   "cell_type": "code",
   "execution_count": 7,
   "id": "e98d6177",
   "metadata": {
    "execution": {
     "iopub.execute_input": "2023-01-29T13:55:15.261768Z",
     "iopub.status.busy": "2023-01-29T13:55:15.260213Z",
     "iopub.status.idle": "2023-01-29T13:55:15.282868Z",
     "shell.execute_reply": "2023-01-29T13:55:15.281307Z"
    },
    "papermill": {
     "duration": 0.853234,
     "end_time": "2023-01-29T13:55:15.286513",
     "exception": false,
     "start_time": "2023-01-29T13:55:14.433279",
     "status": "completed"
    },
    "tags": []
   },
   "outputs": [
    {
     "data": {
      "text/html": [
       "<div>\n",
       "<style scoped>\n",
       "    .dataframe tbody tr th:only-of-type {\n",
       "        vertical-align: middle;\n",
       "    }\n",
       "\n",
       "    .dataframe tbody tr th {\n",
       "        vertical-align: top;\n",
       "    }\n",
       "\n",
       "    .dataframe thead th {\n",
       "        text-align: right;\n",
       "    }\n",
       "</style>\n",
       "<table border=\"1\" class=\"dataframe\">\n",
       "  <thead>\n",
       "    <tr style=\"text-align: right;\">\n",
       "      <th></th>\n",
       "      <th>score</th>\n",
       "    </tr>\n",
       "    <tr>\n",
       "      <th>method</th>\n",
       "      <th></th>\n",
       "    </tr>\n",
       "  </thead>\n",
       "  <tbody>\n",
       "    <tr>\n",
       "      <th>svd</th>\n",
       "      <td>1.286676</td>\n",
       "    </tr>\n",
       "    <tr>\n",
       "      <th>svd+t</th>\n",
       "      <td>1.214241</td>\n",
       "    </tr>\n",
       "    <tr>\n",
       "      <th>best</th>\n",
       "      <td>0.829636</td>\n",
       "    </tr>\n",
       "  </tbody>\n",
       "</table>\n",
       "</div>"
      ],
      "text/plain": [
       "           score\n",
       "method          \n",
       "svd     1.286676\n",
       "svd+t   1.214241\n",
       "best    0.829636"
      ]
     },
     "metadata": {},
     "output_type": "display_data"
    }
   ],
   "source": [
    "display(result)"
   ]
  }
 ],
 "metadata": {
  "kernelspec": {
   "display_name": "Python 3",
   "language": "python",
   "name": "python3"
  },
  "language_info": {
   "codemirror_mode": {
    "name": "ipython",
    "version": 3
   },
   "file_extension": ".py",
   "mimetype": "text/x-python",
   "name": "python",
   "nbconvert_exporter": "python",
   "pygments_lexer": "ipython3",
   "version": "3.7.12"
  },
  "papermill": {
   "default_parameters": {},
   "duration": 185.311172,
   "end_time": "2023-01-29T13:55:17.324683",
   "environment_variables": {},
   "exception": null,
   "input_path": "__notebook__.ipynb",
   "output_path": "__notebook__.ipynb",
   "parameters": {},
   "start_time": "2023-01-29T13:52:12.013511",
   "version": "2.3.4"
  }
 },
 "nbformat": 4,
 "nbformat_minor": 5
}
