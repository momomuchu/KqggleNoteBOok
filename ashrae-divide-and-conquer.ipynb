{
 "cells": [
  {
   "cell_type": "markdown",
   "metadata": {},
   "source": [
    "## Divide and Conquer\n",
    "This notebook is to explore features and optimize models for each site_id. The idea is to resolve some data discrepancies that are present by dividing the data rather than cleaning.   \n",
    "\n",
    "Note that this is just another approach, need not necessarily be better or worse, but probably can add some value to ensembles irrespective of its CV or public LB scores."
   ]
  },
  {
   "cell_type": "code",
   "execution_count": 1,
   "metadata": {
    "_cell_guid": "b1076dfc-b9ad-4769-8c92-a6c4dae69d19",
    "_uuid": "8f2839f25d086af736a60e9eeb907d3b93b6e0e5"
   },
   "outputs": [],
   "source": [
    "import gc\n",
    "import os\n",
    "\n",
    "import lightgbm as lgb\n",
    "import numpy as np\n",
    "import pandas as pd\n",
    "\n",
    "from sklearn.metrics import mean_squared_error\n",
    "from sklearn.model_selection import KFold\n",
    "from sklearn.preprocessing import LabelEncoder\n",
    "\n",
    "from tqdm.notebook import tqdm\n",
    "\n",
    "path_data = \"/kaggle/input/ashrae-energy-prediction/\"\n",
    "path_train = path_data + \"train.csv\"\n",
    "path_test = path_data + \"test.csv\"\n",
    "path_building = path_data + \"building_metadata.csv\"\n",
    "path_weather_train = path_data + \"weather_train.csv\"\n",
    "path_weather_test = path_data + \"weather_test.csv\"\n",
    "\n",
    "myfavouritenumber = 13\n",
    "seed = myfavouritenumber"
   ]
  },
  {
   "cell_type": "markdown",
   "metadata": {},
   "source": [
    "## Preparing data\n",
    "There are two files with features that need to be merged with the data. One is building metadata that has information on the buildings and the other is weather data that has information on the weather."
   ]
  },
  {
   "cell_type": "code",
   "execution_count": 2,
   "metadata": {
    "_cell_guid": "79c7e3d0-c299-4dcb-8224-4455121ee9b0",
    "_kg_hide-output": true,
    "_uuid": "d629ff2d2480ee46fbb7e2d37f6b5fab8052498a"
   },
   "outputs": [
    {
     "data": {
      "text/plain": [
       "0"
      ]
     },
     "execution_count": 2,
     "metadata": {},
     "output_type": "execute_result"
    }
   ],
   "source": [
    "df_train = pd.read_csv(path_train)\n",
    "df_test = pd.read_csv(path_test)\n",
    "\n",
    "building = pd.read_csv(path_building)\n",
    "le = LabelEncoder()\n",
    "building.primary_use = le.fit_transform(building.primary_use)\n",
    "\n",
    "weather_train = pd.read_csv(path_weather_train)\n",
    "weather_test = pd.read_csv(path_weather_test)\n",
    "\n",
    "weather_train.drop([\"sea_level_pressure\", \"wind_direction\", \"wind_speed\"], axis=1, inplace=True)\n",
    "weather_test.drop([\"sea_level_pressure\", \"wind_direction\", \"wind_speed\"], axis=1, inplace=True)\n",
    "\n",
    "weather_train = weather_train.groupby(\"site_id\").apply(lambda group: group.interpolate(limit_direction=\"both\"))\n",
    "weather_test = weather_test.groupby(\"site_id\").apply(lambda group: group.interpolate(limit_direction=\"both\"))\n",
    "\n",
    "df_train = df_train.merge(building, on=\"building_id\")\n",
    "df_train = df_train.merge(weather_train, on=[\"site_id\", \"timestamp\"], how=\"left\")\n",
    "df_train = df_train[~((df_train.site_id==0) & (df_train.meter==0) & (df_train.building_id <= 104) & (df_train.timestamp < \"2016-05-21\"))]\n",
    "df_train.reset_index(drop=True, inplace=True)\n",
    "df_train.timestamp = pd.to_datetime(df_train.timestamp, format='%Y-%m-%d %H:%M:%S')\n",
    "df_train[\"log_meter_reading\"] = np.log1p(df_train.meter_reading)\n",
    "\n",
    "df_test = df_test.merge(building, on=\"building_id\")\n",
    "df_test = df_test.merge(weather_test, on=[\"site_id\", \"timestamp\"], how=\"left\")\n",
    "df_test.reset_index(drop=True, inplace=True)\n",
    "df_test.timestamp = pd.to_datetime(df_test.timestamp, format='%Y-%m-%d %H:%M:%S')\n",
    "\n",
    "del building, le\n",
    "gc.collect()"
   ]
  },
  {
   "cell_type": "code",
   "execution_count": 3,
   "metadata": {
    "_kg_hide-input": true
   },
   "outputs": [],
   "source": [
    "## Memory Optimization\n",
    "\n",
    "# Original code from https://www.kaggle.com/gemartin/load-data-reduce-memory-usage by @gemartin\n",
    "# Modified to support timestamp type, categorical type\n",
    "# Modified to add option to use float16\n",
    "\n",
    "from pandas.api.types import is_datetime64_any_dtype as is_datetime\n",
    "from pandas.api.types import is_categorical_dtype\n",
    "\n",
    "def reduce_mem_usage(df, use_float16=False):\n",
    "    \"\"\"\n",
    "    Iterate through all the columns of a dataframe and modify the data type to reduce memory usage.        \n",
    "    \"\"\"\n",
    "    \n",
    "    start_mem = df.memory_usage().sum() / 1024**2\n",
    "    print(\"Memory usage of dataframe is {:.2f} MB\".format(start_mem))\n",
    "    \n",
    "    for col in df.columns:\n",
    "        if is_datetime(df[col]) or is_categorical_dtype(df[col]):\n",
    "            continue\n",
    "        col_type = df[col].dtype\n",
    "        \n",
    "        if col_type != object:\n",
    "            c_min = df[col].min()\n",
    "            c_max = df[col].max()\n",
    "            if str(col_type)[:3] == \"int\":\n",
    "                if c_min > np.iinfo(np.int8).min and c_max < np.iinfo(np.int8).max:\n",
    "                    df[col] = df[col].astype(np.int8)\n",
    "                elif c_min > np.iinfo(np.int16).min and c_max < np.iinfo(np.int16).max:\n",
    "                    df[col] = df[col].astype(np.int16)\n",
    "                elif c_min > np.iinfo(np.int32).min and c_max < np.iinfo(np.int32).max:\n",
    "                    df[col] = df[col].astype(np.int32)\n",
    "                elif c_min > np.iinfo(np.int64).min and c_max < np.iinfo(np.int64).max:\n",
    "                    df[col] = df[col].astype(np.int64)  \n",
    "            else:\n",
    "                if use_float16 and c_min > np.finfo(np.float16).min and c_max < np.finfo(np.float16).max:\n",
    "                    df[col] = df[col].astype(np.float16)\n",
    "                elif c_min > np.finfo(np.float32).min and c_max < np.finfo(np.float32).max:\n",
    "                    df[col] = df[col].astype(np.float32)\n",
    "                else:\n",
    "                    df[col] = df[col].astype(np.float64)\n",
    "        else:\n",
    "            df[col] = df[col].astype(\"category\")\n",
    "\n",
    "    end_mem = df.memory_usage().sum() / 1024**2\n",
    "    print(\"Memory usage after optimization is: {:.2f} MB\".format(end_mem))\n",
    "    print(\"Decreased by {:.1f}%\".format(100 * (start_mem - end_mem) / start_mem))\n",
    "    \n",
    "    return df"
   ]
  },
  {
   "cell_type": "code",
   "execution_count": 4,
   "metadata": {},
   "outputs": [
    {
     "name": "stdout",
     "output_type": "stream",
     "text": [
      "Memory usage of dataframe is 2122.08 MB\n",
      "Memory usage after optimization is: 663.15 MB\n",
      "Decreased by 68.7%\n",
      "Memory usage of dataframe is 4135.66 MB\n",
      "Memory usage after optimization is: 1312.28 MB\n",
      "Decreased by 68.3%\n",
      "Memory usage of dataframe is 6.40 MB\n",
      "Memory usage after optimization is: 2.27 MB\n",
      "Decreased by 64.6%\n",
      "Memory usage of dataframe is 12.69 MB\n",
      "Memory usage after optimization is: 4.49 MB\n",
      "Decreased by 64.6%\n"
     ]
    }
   ],
   "source": [
    "df_train = reduce_mem_usage(df_train, use_float16=True)\n",
    "df_test = reduce_mem_usage(df_test, use_float16=True)\n",
    "\n",
    "weather_train.timestamp = pd.to_datetime(weather_train.timestamp, format='%Y-%m-%d %H:%M:%S')\n",
    "weather_test.timestamp = pd.to_datetime(weather_test.timestamp, format='%Y-%m-%d %H:%M:%S')\n",
    "weather_train = reduce_mem_usage(weather_train, use_float16=True)\n",
    "weather_test = reduce_mem_usage(weather_test, use_float16=True)"
   ]
  },
  {
   "cell_type": "markdown",
   "metadata": {},
   "source": [
    "## Feature Engineering: Time\n",
    "Creating time-based features."
   ]
  },
  {
   "cell_type": "code",
   "execution_count": 5,
   "metadata": {},
   "outputs": [],
   "source": [
    "df_train[\"hour\"] = df_train.timestamp.dt.hour\n",
    "df_train[\"weekday\"] = df_train.timestamp.dt.weekday\n",
    "\n",
    "df_test[\"hour\"] = df_test.timestamp.dt.hour\n",
    "df_test[\"weekday\"] = df_test.timestamp.dt.weekday"
   ]
  },
  {
   "cell_type": "markdown",
   "metadata": {},
   "source": [
    "## Feature Engineering: Aggregation\n",
    "Creating aggregate features for buildings at various levels."
   ]
  },
  {
   "cell_type": "code",
   "execution_count": 6,
   "metadata": {},
   "outputs": [],
   "source": [
    "df_building_meter = df_train.groupby([\"building_id\", \"meter\"]).agg(mean_building_meter=(\"log_meter_reading\", \"mean\"),\n",
    "                                                             median_building_meter=(\"log_meter_reading\", \"median\")).reset_index()\n",
    "\n",
    "df_train = df_train.merge(df_building_meter, on=[\"building_id\", \"meter\"])\n",
    "df_test = df_test.merge(df_building_meter, on=[\"building_id\", \"meter\"])\n",
    "\n",
    "df_building_meter_hour = df_train.groupby([\"building_id\", \"meter\", \"hour\"]).agg(mean_building_meter=(\"log_meter_reading\", \"mean\"),\n",
    "                                                                                median_building_meter=(\"log_meter_reading\", \"median\")).reset_index()\n",
    "\n",
    "df_train = df_train.merge(df_building_meter_hour, on=[\"building_id\", \"meter\", \"hour\"])\n",
    "df_test = df_test.merge(df_building_meter_hour, on=[\"building_id\", \"meter\", \"hour\"])"
   ]
  },
  {
   "cell_type": "markdown",
   "metadata": {},
   "source": [
    "## Feature Engineering: Lags\n",
    "Creating lag-based features. These are statistics of available features looking back in time by fixed intervals.   \n",
    "These features are created in the weather data itself and then merged with the train and test data."
   ]
  },
  {
   "cell_type": "code",
   "execution_count": 7,
   "metadata": {},
   "outputs": [],
   "source": [
    "def create_lag_features(df, window):\n",
    "    \"\"\"\n",
    "    Creating lag-based features looking back in time.\n",
    "    \"\"\"\n",
    "    \n",
    "    feature_cols = [\"air_temperature\", \"cloud_coverage\", \"dew_temperature\", \"precip_depth_1_hr\"]\n",
    "    df_site = df.groupby(\"site_id\")\n",
    "    \n",
    "    df_rolled = df_site[feature_cols].rolling(window=window, min_periods=0)\n",
    "    \n",
    "    df_mean = df_rolled.mean().reset_index().astype(np.float16)\n",
    "    df_median = df_rolled.median().reset_index().astype(np.float16)\n",
    "    df_min = df_rolled.min().reset_index().astype(np.float16)\n",
    "    df_max = df_rolled.max().reset_index().astype(np.float16)\n",
    "    df_std = df_rolled.std().reset_index().astype(np.float16)\n",
    "    df_skew = df_rolled.skew().reset_index().astype(np.float16)\n",
    "    \n",
    "    for feature in feature_cols:\n",
    "        df[f\"{feature}_mean_lag{window}\"] = df_mean[feature]\n",
    "        df[f\"{feature}_median_lag{window}\"] = df_median[feature]\n",
    "        df[f\"{feature}_min_lag{window}\"] = df_min[feature]\n",
    "        df[f\"{feature}_max_lag{window}\"] = df_max[feature]\n",
    "        df[f\"{feature}_std_lag{window}\"] = df_std[feature]\n",
    "        df[f\"{feature}_skew_lag{window}\"] = df_std[feature]\n",
    "        \n",
    "    return df"
   ]
  },
  {
   "cell_type": "markdown",
   "metadata": {},
   "source": [
    "## Features\n",
    "Creating and selecting all the features."
   ]
  },
  {
   "cell_type": "code",
   "execution_count": 8,
   "metadata": {
    "_kg_hide-output": true
   },
   "outputs": [
    {
     "data": {
      "text/plain": [
       "38"
      ]
     },
     "execution_count": 8,
     "metadata": {},
     "output_type": "execute_result"
    }
   ],
   "source": [
    "weather_train = create_lag_features(weather_train, 18)\n",
    "weather_train.drop([\"air_temperature\", \"cloud_coverage\", \"dew_temperature\", \"precip_depth_1_hr\"], axis=1, inplace=True)\n",
    "\n",
    "df_train = df_train.merge(weather_train, on=[\"site_id\", \"timestamp\"], how=\"left\")\n",
    "\n",
    "del weather_train\n",
    "gc.collect()"
   ]
  },
  {
   "cell_type": "code",
   "execution_count": 9,
   "metadata": {},
   "outputs": [],
   "source": [
    "categorical_features = [\n",
    "    \"building_id\",\n",
    "    \"primary_use\",\n",
    "    \"meter\",\n",
    "    \"weekday\",\n",
    "    \"hour\"\n",
    "]\n",
    "\n",
    "all_features = [col for col in df_train.columns if col not in [\"timestamp\", \"site_id\", \"meter_reading\", \"log_meter_reading\"]]"
   ]
  },
  {
   "cell_type": "markdown",
   "metadata": {},
   "source": [
    "## KFold Cross Validation with LGBM\n",
    "Since the test data is out of time and longer than train data, creating a reliable validation strategy is going to be a major challenge. Just using a simple KFold CV here.\n",
    "\n",
    "The folds are applied to each site individually, thus building 16 sites x 3 folds = 48 models in total."
   ]
  },
  {
   "cell_type": "code",
   "execution_count": 10,
   "metadata": {},
   "outputs": [
    {
     "data": {
      "application/vnd.jupyter.widget-view+json": {
       "model_id": "5ab86896268f4f79b63ded87c464bc40",
       "version_major": 2,
       "version_minor": 0
      },
      "text/plain": [
       "HBox(children=(IntProgress(value=0, description='site_id', max=16, style=ProgressStyle(description_width='init…"
      ]
     },
     "metadata": {},
     "output_type": "display_data"
    },
    {
     "name": "stdout",
     "output_type": "stream",
     "text": [
      "2 fold CV for site_id: 0\n"
     ]
    },
    {
     "name": "stderr",
     "output_type": "stream",
     "text": [
      "/opt/conda/lib/python3.6/site-packages/lightgbm/basic.py:1243: UserWarning: Using categorical_feature in Dataset.\n",
      "  warnings.warn('Using categorical_feature in Dataset.')\n"
     ]
    },
    {
     "name": "stdout",
     "output_type": "stream",
     "text": [
      "Training until validation scores don't improve for 21 rounds\n",
      "[101]\ttraining's rmse: 0.754068\tvalid_1's rmse: 0.762785\n",
      "Early stopping, best iteration is:\n",
      "[119]\ttraining's rmse: 0.735001\tvalid_1's rmse: 0.762346\n",
      "Site Id: 0 , Fold: 1 , RMSE: 0.7603602484751305\n"
     ]
    },
    {
     "name": "stderr",
     "output_type": "stream",
     "text": [
      "/opt/conda/lib/python3.6/site-packages/lightgbm/basic.py:1243: UserWarning: Using categorical_feature in Dataset.\n",
      "  warnings.warn('Using categorical_feature in Dataset.')\n"
     ]
    },
    {
     "name": "stdout",
     "output_type": "stream",
     "text": [
      "Training until validation scores don't improve for 21 rounds\n",
      "[101]\ttraining's rmse: 0.568264\tvalid_1's rmse: 0.985372\n",
      "Early stopping, best iteration is:\n",
      "[87]\ttraining's rmse: 0.581728\tvalid_1's rmse: 0.983918\n",
      "Site Id: 0 , Fold: 2 , RMSE: 0.983926888878194\n",
      "\n",
      "Site Id: 0 , CV RMSE: 0.8792780646981602 \n",
      "\n",
      "2 fold CV for site_id: 1\n"
     ]
    },
    {
     "name": "stderr",
     "output_type": "stream",
     "text": [
      "/opt/conda/lib/python3.6/site-packages/lightgbm/basic.py:1243: UserWarning: Using categorical_feature in Dataset.\n",
      "  warnings.warn('Using categorical_feature in Dataset.')\n"
     ]
    },
    {
     "name": "stdout",
     "output_type": "stream",
     "text": [
      "Training until validation scores don't improve for 21 rounds\n",
      "[101]\ttraining's rmse: 0.574773\tvalid_1's rmse: 0.976137\n",
      "[202]\ttraining's rmse: 0.547823\tvalid_1's rmse: 0.970878\n",
      "Early stopping, best iteration is:\n",
      "[181]\ttraining's rmse: 0.552723\tvalid_1's rmse: 0.970334\n",
      "Site Id: 1 , Fold: 1 , RMSE: 0.9709397209129904\n"
     ]
    },
    {
     "name": "stderr",
     "output_type": "stream",
     "text": [
      "/opt/conda/lib/python3.6/site-packages/lightgbm/basic.py:1243: UserWarning: Using categorical_feature in Dataset.\n",
      "  warnings.warn('Using categorical_feature in Dataset.')\n"
     ]
    },
    {
     "name": "stdout",
     "output_type": "stream",
     "text": [
      "Training until validation scores don't improve for 21 rounds\n",
      "[101]\ttraining's rmse: 0.700172\tvalid_1's rmse: 0.750621\n",
      "[202]\ttraining's rmse: 0.645996\tvalid_1's rmse: 0.746141\n",
      "Early stopping, best iteration is:\n",
      "[246]\ttraining's rmse: 0.632218\tvalid_1's rmse: 0.745548\n",
      "Site Id: 1 , Fold: 2 , RMSE: 0.7471926827603798\n",
      "\n",
      "Site Id: 1 , CV RMSE: 0.8663202472340099 \n",
      "\n",
      "2 fold CV for site_id: 2\n"
     ]
    },
    {
     "name": "stderr",
     "output_type": "stream",
     "text": [
      "/opt/conda/lib/python3.6/site-packages/lightgbm/basic.py:1243: UserWarning: Using categorical_feature in Dataset.\n",
      "  warnings.warn('Using categorical_feature in Dataset.')\n"
     ]
    },
    {
     "name": "stdout",
     "output_type": "stream",
     "text": [
      "Training until validation scores don't improve for 21 rounds\n",
      "[101]\ttraining's rmse: 0.730083\tvalid_1's rmse: 0.808682\n",
      "Early stopping, best iteration is:\n",
      "[95]\ttraining's rmse: 0.736491\tvalid_1's rmse: 0.807438\n",
      "Site Id: 2 , Fold: 1 , RMSE: 0.799837847260722\n"
     ]
    },
    {
     "name": "stderr",
     "output_type": "stream",
     "text": [
      "/opt/conda/lib/python3.6/site-packages/lightgbm/basic.py:1243: UserWarning: Using categorical_feature in Dataset.\n",
      "  warnings.warn('Using categorical_feature in Dataset.')\n"
     ]
    },
    {
     "name": "stdout",
     "output_type": "stream",
     "text": [
      "Training until validation scores don't improve for 21 rounds\n",
      "[101]\ttraining's rmse: 0.638016\tvalid_1's rmse: 0.941298\n",
      "Early stopping, best iteration is:\n",
      "[178]\ttraining's rmse: 0.595652\tvalid_1's rmse: 0.936179\n",
      "Site Id: 2 , Fold: 2 , RMSE: 0.9351863685181886\n",
      "\n",
      "Site Id: 2 , CV RMSE: 0.870147724749339 \n",
      "\n",
      "2 fold CV for site_id: 3\n"
     ]
    },
    {
     "name": "stderr",
     "output_type": "stream",
     "text": [
      "/opt/conda/lib/python3.6/site-packages/lightgbm/basic.py:1243: UserWarning: Using categorical_feature in Dataset.\n",
      "  warnings.warn('Using categorical_feature in Dataset.')\n"
     ]
    },
    {
     "name": "stdout",
     "output_type": "stream",
     "text": [
      "Training until validation scores don't improve for 21 rounds\n",
      "[101]\ttraining's rmse: 0.307305\tvalid_1's rmse: 0.438325\n",
      "[202]\ttraining's rmse: 0.280498\tvalid_1's rmse: 0.434314\n",
      "Early stopping, best iteration is:\n",
      "[266]\ttraining's rmse: 0.271233\tvalid_1's rmse: 0.433539\n",
      "Site Id: 3 , Fold: 1 , RMSE: 0.4337620038144956\n"
     ]
    },
    {
     "name": "stderr",
     "output_type": "stream",
     "text": [
      "/opt/conda/lib/python3.6/site-packages/lightgbm/basic.py:1243: UserWarning: Using categorical_feature in Dataset.\n",
      "  warnings.warn('Using categorical_feature in Dataset.')\n"
     ]
    },
    {
     "name": "stdout",
     "output_type": "stream",
     "text": [
      "Training until validation scores don't improve for 21 rounds\n",
      "[101]\ttraining's rmse: 0.329694\tvalid_1's rmse: 0.390556\n",
      "Early stopping, best iteration is:\n",
      "[124]\ttraining's rmse: 0.320484\tvalid_1's rmse: 0.389637\n",
      "Site Id: 3 , Fold: 2 , RMSE: 0.3895220667524987\n",
      "\n",
      "Site Id: 3 , CV RMSE: 0.4122359347555857 \n",
      "\n",
      "2 fold CV for site_id: 4\n"
     ]
    },
    {
     "name": "stderr",
     "output_type": "stream",
     "text": [
      "/opt/conda/lib/python3.6/site-packages/lightgbm/basic.py:1243: UserWarning: Using categorical_feature in Dataset.\n",
      "  warnings.warn('Using categorical_feature in Dataset.')\n"
     ]
    },
    {
     "name": "stdout",
     "output_type": "stream",
     "text": [
      "Training until validation scores don't improve for 21 rounds\n",
      "[101]\ttraining's rmse: 0.14195\tvalid_1's rmse: 0.26554\n",
      "Early stopping, best iteration is:\n",
      "[90]\ttraining's rmse: 0.145861\tvalid_1's rmse: 0.263895\n",
      "Site Id: 4 , Fold: 1 , RMSE: 0.26370571536670734\n"
     ]
    },
    {
     "name": "stderr",
     "output_type": "stream",
     "text": [
      "/opt/conda/lib/python3.6/site-packages/lightgbm/basic.py:1243: UserWarning: Using categorical_feature in Dataset.\n",
      "  warnings.warn('Using categorical_feature in Dataset.')\n"
     ]
    },
    {
     "name": "stdout",
     "output_type": "stream",
     "text": [
      "Training until validation scores don't improve for 21 rounds\n",
      "[101]\ttraining's rmse: 0.210787\tvalid_1's rmse: 0.315069\n",
      "[202]\ttraining's rmse: 0.187287\tvalid_1's rmse: 0.300403\n",
      "[303]\ttraining's rmse: 0.176775\tvalid_1's rmse: 0.299155\n",
      "Early stopping, best iteration is:\n",
      "[285]\ttraining's rmse: 0.178475\tvalid_1's rmse: 0.298991\n",
      "Site Id: 4 , Fold: 2 , RMSE: 0.31027605418360105\n",
      "\n",
      "Site Id: 4 , CV RMSE: 0.28793396301653257 \n",
      "\n",
      "2 fold CV for site_id: 5\n"
     ]
    },
    {
     "name": "stderr",
     "output_type": "stream",
     "text": [
      "/opt/conda/lib/python3.6/site-packages/lightgbm/basic.py:1243: UserWarning: Using categorical_feature in Dataset.\n",
      "  warnings.warn('Using categorical_feature in Dataset.')\n"
     ]
    },
    {
     "name": "stdout",
     "output_type": "stream",
     "text": [
      "Training until validation scores don't improve for 21 rounds\n",
      "Early stopping, best iteration is:\n",
      "[79]\ttraining's rmse: 0.549913\tvalid_1's rmse: 0.70846\n",
      "Site Id: 5 , Fold: 1 , RMSE: 0.7075285005868124\n"
     ]
    },
    {
     "name": "stderr",
     "output_type": "stream",
     "text": [
      "/opt/conda/lib/python3.6/site-packages/lightgbm/basic.py:1243: UserWarning: Using categorical_feature in Dataset.\n",
      "  warnings.warn('Using categorical_feature in Dataset.')\n"
     ]
    },
    {
     "name": "stdout",
     "output_type": "stream",
     "text": [
      "Training until validation scores don't improve for 21 rounds\n",
      "[101]\ttraining's rmse: 0.541455\tvalid_1's rmse: 0.652874\n",
      "[202]\ttraining's rmse: 0.495493\tvalid_1's rmse: 0.630809\n",
      "[303]\ttraining's rmse: 0.467386\tvalid_1's rmse: 0.624115\n",
      "[404]\ttraining's rmse: 0.445317\tvalid_1's rmse: 0.619606\n",
      "[505]\ttraining's rmse: 0.428658\tvalid_1's rmse: 0.616694\n",
      "[606]\ttraining's rmse: 0.4167\tvalid_1's rmse: 0.613616\n",
      "[707]\ttraining's rmse: 0.405188\tvalid_1's rmse: 0.609822\n",
      "[808]\ttraining's rmse: 0.394651\tvalid_1's rmse: 0.608164\n",
      "[909]\ttraining's rmse: 0.385582\tvalid_1's rmse: 0.606174\n",
      "Early stopping, best iteration is:\n",
      "[957]\ttraining's rmse: 0.381804\tvalid_1's rmse: 0.604658\n",
      "Site Id: 5 , Fold: 2 , RMSE: 0.6196898132307027\n",
      "\n",
      "Site Id: 5 , CV RMSE: 0.6650609159184316 \n",
      "\n",
      "2 fold CV for site_id: 6\n"
     ]
    },
    {
     "name": "stderr",
     "output_type": "stream",
     "text": [
      "/opt/conda/lib/python3.6/site-packages/lightgbm/basic.py:1243: UserWarning: Using categorical_feature in Dataset.\n",
      "  warnings.warn('Using categorical_feature in Dataset.')\n"
     ]
    },
    {
     "name": "stdout",
     "output_type": "stream",
     "text": [
      "Training until validation scores don't improve for 21 rounds\n",
      "[101]\ttraining's rmse: 0.993374\tvalid_1's rmse: 1.12765\n",
      "Early stopping, best iteration is:\n",
      "[135]\ttraining's rmse: 0.946248\tvalid_1's rmse: 1.12202\n",
      "Site Id: 6 , Fold: 1 , RMSE: 1.1186400070882925\n"
     ]
    },
    {
     "name": "stderr",
     "output_type": "stream",
     "text": [
      "/opt/conda/lib/python3.6/site-packages/lightgbm/basic.py:1243: UserWarning: Using categorical_feature in Dataset.\n",
      "  warnings.warn('Using categorical_feature in Dataset.')\n"
     ]
    },
    {
     "name": "stdout",
     "output_type": "stream",
     "text": [
      "Training until validation scores don't improve for 21 rounds\n",
      "Early stopping, best iteration is:\n",
      "[52]\ttraining's rmse: 0.932655\tvalid_1's rmse: 1.41368\n",
      "Site Id: 6 , Fold: 2 , RMSE: 1.3962066118879557\n",
      "\n",
      "Site Id: 6 , CV RMSE: 1.2650587582756638 \n",
      "\n",
      "2 fold CV for site_id: 7\n"
     ]
    },
    {
     "name": "stderr",
     "output_type": "stream",
     "text": [
      "/opt/conda/lib/python3.6/site-packages/lightgbm/basic.py:1243: UserWarning: Using categorical_feature in Dataset.\n",
      "  warnings.warn('Using categorical_feature in Dataset.')\n"
     ]
    },
    {
     "name": "stdout",
     "output_type": "stream",
     "text": [
      "Training until validation scores don't improve for 21 rounds\n",
      "Early stopping, best iteration is:\n",
      "[76]\ttraining's rmse: 1.40913\tvalid_1's rmse: 1.69229\n",
      "Site Id: 7 , Fold: 1 , RMSE: 1.6432376097305152\n"
     ]
    },
    {
     "name": "stderr",
     "output_type": "stream",
     "text": [
      "/opt/conda/lib/python3.6/site-packages/lightgbm/basic.py:1243: UserWarning: Using categorical_feature in Dataset.\n",
      "  warnings.warn('Using categorical_feature in Dataset.')\n"
     ]
    },
    {
     "name": "stdout",
     "output_type": "stream",
     "text": [
      "Training until validation scores don't improve for 21 rounds\n",
      "[101]\ttraining's rmse: 0.979455\tvalid_1's rmse: 2.15722\n",
      "Early stopping, best iteration is:\n",
      "[176]\ttraining's rmse: 0.902909\tvalid_1's rmse: 2.1456\n",
      "Site Id: 7 , Fold: 2 , RMSE: 2.1469975025433152\n",
      "\n",
      "Site Id: 7 , CV RMSE: 1.9117822719644604 \n",
      "\n",
      "2 fold CV for site_id: 8\n"
     ]
    },
    {
     "name": "stderr",
     "output_type": "stream",
     "text": [
      "/opt/conda/lib/python3.6/site-packages/lightgbm/basic.py:1243: UserWarning: Using categorical_feature in Dataset.\n",
      "  warnings.warn('Using categorical_feature in Dataset.')\n"
     ]
    },
    {
     "name": "stdout",
     "output_type": "stream",
     "text": [
      "Training until validation scores don't improve for 21 rounds\n",
      "[101]\ttraining's rmse: 0.437353\tvalid_1's rmse: 0.513175\n",
      "[202]\ttraining's rmse: 0.400014\tvalid_1's rmse: 0.509143\n",
      "Early stopping, best iteration is:\n",
      "[185]\ttraining's rmse: 0.405075\tvalid_1's rmse: 0.508816\n",
      "Site Id: 8 , Fold: 1 , RMSE: 0.5067870362727548\n"
     ]
    },
    {
     "name": "stderr",
     "output_type": "stream",
     "text": [
      "/opt/conda/lib/python3.6/site-packages/lightgbm/basic.py:1243: UserWarning: Using categorical_feature in Dataset.\n",
      "  warnings.warn('Using categorical_feature in Dataset.')\n"
     ]
    },
    {
     "name": "stdout",
     "output_type": "stream",
     "text": [
      "Training until validation scores don't improve for 21 rounds\n",
      "[101]\ttraining's rmse: 0.41253\tvalid_1's rmse: 0.653343\n",
      "Early stopping, best iteration is:\n",
      "[115]\ttraining's rmse: 0.405708\tvalid_1's rmse: 0.651856\n",
      "Site Id: 8 , Fold: 2 , RMSE: 0.6556535586130549\n",
      "\n",
      "Site Id: 8 , CV RMSE: 0.5859668865847514 \n",
      "\n",
      "2 fold CV for site_id: 9\n"
     ]
    },
    {
     "name": "stderr",
     "output_type": "stream",
     "text": [
      "/opt/conda/lib/python3.6/site-packages/lightgbm/basic.py:1243: UserWarning: Using categorical_feature in Dataset.\n",
      "  warnings.warn('Using categorical_feature in Dataset.')\n"
     ]
    },
    {
     "name": "stdout",
     "output_type": "stream",
     "text": [
      "Training until validation scores don't improve for 21 rounds\n",
      "[101]\ttraining's rmse: 0.874791\tvalid_1's rmse: 0.949661\n",
      "[202]\ttraining's rmse: 0.765614\tvalid_1's rmse: 0.909197\n",
      "Early stopping, best iteration is:\n",
      "[209]\ttraining's rmse: 0.761647\tvalid_1's rmse: 0.907843\n",
      "Site Id: 9 , Fold: 1 , RMSE: 0.876358715745158\n"
     ]
    },
    {
     "name": "stderr",
     "output_type": "stream",
     "text": [
      "/opt/conda/lib/python3.6/site-packages/lightgbm/basic.py:1243: UserWarning: Using categorical_feature in Dataset.\n",
      "  warnings.warn('Using categorical_feature in Dataset.')\n"
     ]
    },
    {
     "name": "stdout",
     "output_type": "stream",
     "text": [
      "Training until validation scores don't improve for 21 rounds\n",
      "[101]\ttraining's rmse: 0.8235\tvalid_1's rmse: 1.0533\n",
      "Early stopping, best iteration is:\n",
      "[161]\ttraining's rmse: 0.751335\tvalid_1's rmse: 1.03073\n",
      "Site Id: 9 , Fold: 2 , RMSE: 0.9966087708560711\n",
      "\n",
      "Site Id: 9 , CV RMSE: 0.9384118383603081 \n",
      "\n",
      "2 fold CV for site_id: 10\n"
     ]
    },
    {
     "name": "stderr",
     "output_type": "stream",
     "text": [
      "/opt/conda/lib/python3.6/site-packages/lightgbm/basic.py:1243: UserWarning: Using categorical_feature in Dataset.\n",
      "  warnings.warn('Using categorical_feature in Dataset.')\n"
     ]
    },
    {
     "name": "stdout",
     "output_type": "stream",
     "text": [
      "Training until validation scores don't improve for 21 rounds\n",
      "[101]\ttraining's rmse: 1.08256\tvalid_1's rmse: 1.18021\n",
      "[202]\ttraining's rmse: 0.980672\tvalid_1's rmse: 1.17077\n",
      "Early stopping, best iteration is:\n",
      "[240]\ttraining's rmse: 0.948965\tvalid_1's rmse: 1.16908\n",
      "Site Id: 10 , Fold: 1 , RMSE: 1.1795947071699184\n"
     ]
    },
    {
     "name": "stderr",
     "output_type": "stream",
     "text": [
      "/opt/conda/lib/python3.6/site-packages/lightgbm/basic.py:1243: UserWarning: Using categorical_feature in Dataset.\n",
      "  warnings.warn('Using categorical_feature in Dataset.')\n"
     ]
    },
    {
     "name": "stdout",
     "output_type": "stream",
     "text": [
      "Training until validation scores don't improve for 21 rounds\n",
      "[101]\ttraining's rmse: 0.807944\tvalid_1's rmse: 1.46441\n",
      "[202]\ttraining's rmse: 0.750272\tvalid_1's rmse: 1.44934\n",
      "Early stopping, best iteration is:\n",
      "[254]\ttraining's rmse: 0.731262\tvalid_1's rmse: 1.44677\n",
      "Site Id: 10 , Fold: 2 , RMSE: 1.4599551554636896\n",
      "\n",
      "Site Id: 10 , CV RMSE: 1.3271983518640267 \n",
      "\n",
      "2 fold CV for site_id: 11\n"
     ]
    },
    {
     "name": "stderr",
     "output_type": "stream",
     "text": [
      "/opt/conda/lib/python3.6/site-packages/lightgbm/basic.py:1243: UserWarning: Using categorical_feature in Dataset.\n",
      "  warnings.warn('Using categorical_feature in Dataset.')\n"
     ]
    },
    {
     "name": "stdout",
     "output_type": "stream",
     "text": [
      "Training until validation scores don't improve for 21 rounds\n",
      "[101]\ttraining's rmse: 0.600879\tvalid_1's rmse: 0.739121\n",
      "Early stopping, best iteration is:\n",
      "[113]\ttraining's rmse: 0.589399\tvalid_1's rmse: 0.737615\n",
      "Site Id: 11 , Fold: 1 , RMSE: 0.7363616018075736\n"
     ]
    },
    {
     "name": "stderr",
     "output_type": "stream",
     "text": [
      "/opt/conda/lib/python3.6/site-packages/lightgbm/basic.py:1243: UserWarning: Using categorical_feature in Dataset.\n",
      "  warnings.warn('Using categorical_feature in Dataset.')\n"
     ]
    },
    {
     "name": "stdout",
     "output_type": "stream",
     "text": [
      "Training until validation scores don't improve for 21 rounds\n",
      "Early stopping, best iteration is:\n",
      "[31]\ttraining's rmse: 0.678459\tvalid_1's rmse: 1.89251\n",
      "Site Id: 11 , Fold: 2 , RMSE: 1.8923248139307858\n",
      "\n",
      "Site Id: 11 , CV RMSE: 1.4358092096706716 \n",
      "\n",
      "2 fold CV for site_id: 12\n"
     ]
    },
    {
     "name": "stderr",
     "output_type": "stream",
     "text": [
      "/opt/conda/lib/python3.6/site-packages/lightgbm/basic.py:1243: UserWarning: Using categorical_feature in Dataset.\n",
      "  warnings.warn('Using categorical_feature in Dataset.')\n"
     ]
    },
    {
     "name": "stdout",
     "output_type": "stream",
     "text": [
      "Training until validation scores don't improve for 21 rounds\n",
      "[101]\ttraining's rmse: 0.373533\tvalid_1's rmse: 0.421868\n",
      "[202]\ttraining's rmse: 0.328804\tvalid_1's rmse: 0.402469\n",
      "[303]\ttraining's rmse: 0.302873\tvalid_1's rmse: 0.396281\n",
      "[404]\ttraining's rmse: 0.285165\tvalid_1's rmse: 0.393029\n",
      "[505]\ttraining's rmse: 0.271971\tvalid_1's rmse: 0.390854\n",
      "[606]\ttraining's rmse: 0.258939\tvalid_1's rmse: 0.389741\n",
      "[707]\ttraining's rmse: 0.248902\tvalid_1's rmse: 0.388373\n",
      "[808]\ttraining's rmse: 0.238246\tvalid_1's rmse: 0.387691\n",
      "[909]\ttraining's rmse: 0.23049\tvalid_1's rmse: 0.386922\n",
      "Early stopping, best iteration is:\n",
      "[900]\ttraining's rmse: 0.231102\tvalid_1's rmse: 0.386702\n",
      "Site Id: 12 , Fold: 1 , RMSE: 0.3855484279040529\n"
     ]
    },
    {
     "name": "stderr",
     "output_type": "stream",
     "text": [
      "/opt/conda/lib/python3.6/site-packages/lightgbm/basic.py:1243: UserWarning: Using categorical_feature in Dataset.\n",
      "  warnings.warn('Using categorical_feature in Dataset.')\n"
     ]
    },
    {
     "name": "stdout",
     "output_type": "stream",
     "text": [
      "Training until validation scores don't improve for 21 rounds\n",
      "[101]\ttraining's rmse: 0.331468\tvalid_1's rmse: 0.44194\n",
      "[202]\ttraining's rmse: 0.272916\tvalid_1's rmse: 0.424145\n",
      "[303]\ttraining's rmse: 0.242293\tvalid_1's rmse: 0.41937\n",
      "[404]\ttraining's rmse: 0.22451\tvalid_1's rmse: 0.417429\n",
      "[505]\ttraining's rmse: 0.20988\tvalid_1's rmse: 0.416134\n",
      "Early stopping, best iteration is:\n",
      "[509]\ttraining's rmse: 0.20943\tvalid_1's rmse: 0.416057\n",
      "Site Id: 12 , Fold: 2 , RMSE: 0.41591393515378655\n",
      "\n",
      "Site Id: 12 , CV RMSE: 0.40101864961431954 \n",
      "\n",
      "2 fold CV for site_id: 13\n"
     ]
    },
    {
     "name": "stderr",
     "output_type": "stream",
     "text": [
      "/opt/conda/lib/python3.6/site-packages/lightgbm/basic.py:1243: UserWarning: Using categorical_feature in Dataset.\n",
      "  warnings.warn('Using categorical_feature in Dataset.')\n"
     ]
    },
    {
     "name": "stdout",
     "output_type": "stream",
     "text": [
      "Training until validation scores don't improve for 21 rounds\n",
      "[101]\ttraining's rmse: 0.871221\tvalid_1's rmse: 1.22693\n",
      "[202]\ttraining's rmse: 0.778435\tvalid_1's rmse: 1.20029\n",
      "[303]\ttraining's rmse: 0.74379\tvalid_1's rmse: 1.19407\n",
      "[404]\ttraining's rmse: 0.717726\tvalid_1's rmse: 1.19068\n",
      "[505]\ttraining's rmse: 0.696581\tvalid_1's rmse: 1.18823\n",
      "Early stopping, best iteration is:\n",
      "[576]\ttraining's rmse: 0.684269\tvalid_1's rmse: 1.18689\n",
      "Site Id: 13 , Fold: 1 , RMSE: 1.1872913121246813\n"
     ]
    },
    {
     "name": "stderr",
     "output_type": "stream",
     "text": [
      "/opt/conda/lib/python3.6/site-packages/lightgbm/basic.py:1243: UserWarning: Using categorical_feature in Dataset.\n",
      "  warnings.warn('Using categorical_feature in Dataset.')\n"
     ]
    },
    {
     "name": "stdout",
     "output_type": "stream",
     "text": [
      "Training until validation scores don't improve for 21 rounds\n",
      "[101]\ttraining's rmse: 0.860216\tvalid_1's rmse: 1.18772\n",
      "Early stopping, best iteration is:\n",
      "[132]\ttraining's rmse: 0.81879\tvalid_1's rmse: 1.17807\n",
      "Site Id: 13 , Fold: 2 , RMSE: 1.184739846556789\n",
      "\n",
      "Site Id: 13 , CV RMSE: 1.1860162659293443 \n",
      "\n",
      "2 fold CV for site_id: 14\n"
     ]
    },
    {
     "name": "stderr",
     "output_type": "stream",
     "text": [
      "/opt/conda/lib/python3.6/site-packages/lightgbm/basic.py:1243: UserWarning: Using categorical_feature in Dataset.\n",
      "  warnings.warn('Using categorical_feature in Dataset.')\n"
     ]
    },
    {
     "name": "stdout",
     "output_type": "stream",
     "text": [
      "Training until validation scores don't improve for 21 rounds\n",
      "[101]\ttraining's rmse: 1.2151\tvalid_1's rmse: 1.47793\n",
      "[202]\ttraining's rmse: 1.118\tvalid_1's rmse: 1.4572\n",
      "[303]\ttraining's rmse: 1.0684\tvalid_1's rmse: 1.44831\n",
      "Early stopping, best iteration is:\n",
      "[364]\ttraining's rmse: 1.04783\tvalid_1's rmse: 1.44547\n",
      "Site Id: 14 , Fold: 1 , RMSE: 1.445219252561224\n"
     ]
    },
    {
     "name": "stderr",
     "output_type": "stream",
     "text": [
      "/opt/conda/lib/python3.6/site-packages/lightgbm/basic.py:1243: UserWarning: Using categorical_feature in Dataset.\n",
      "  warnings.warn('Using categorical_feature in Dataset.')\n"
     ]
    },
    {
     "name": "stdout",
     "output_type": "stream",
     "text": [
      "Training until validation scores don't improve for 21 rounds\n",
      "[101]\ttraining's rmse: 1.26505\tvalid_1's rmse: 1.53168\n",
      "[202]\ttraining's rmse: 1.18301\tvalid_1's rmse: 1.51246\n",
      "[303]\ttraining's rmse: 1.14269\tvalid_1's rmse: 1.50429\n",
      "[404]\ttraining's rmse: 1.11279\tvalid_1's rmse: 1.49959\n",
      "Early stopping, best iteration is:\n",
      "[457]\ttraining's rmse: 1.09929\tvalid_1's rmse: 1.49732\n",
      "Site Id: 14 , Fold: 2 , RMSE: 1.481708980368324\n",
      "\n",
      "Site Id: 14 , CV RMSE: 1.46357784051238 \n",
      "\n",
      "2 fold CV for site_id: 15\n"
     ]
    },
    {
     "name": "stderr",
     "output_type": "stream",
     "text": [
      "/opt/conda/lib/python3.6/site-packages/lightgbm/basic.py:1243: UserWarning: Using categorical_feature in Dataset.\n",
      "  warnings.warn('Using categorical_feature in Dataset.')\n"
     ]
    },
    {
     "name": "stdout",
     "output_type": "stream",
     "text": [
      "Training until validation scores don't improve for 21 rounds\n",
      "[101]\ttraining's rmse: 0.512123\tvalid_1's rmse: 0.802916\n",
      "[202]\ttraining's rmse: 0.472729\tvalid_1's rmse: 0.783816\n",
      "Early stopping, best iteration is:\n",
      "[243]\ttraining's rmse: 0.46514\tvalid_1's rmse: 0.78054\n",
      "Site Id: 15 , Fold: 1 , RMSE: 0.7686943004764188\n"
     ]
    },
    {
     "name": "stderr",
     "output_type": "stream",
     "text": [
      "/opt/conda/lib/python3.6/site-packages/lightgbm/basic.py:1243: UserWarning: Using categorical_feature in Dataset.\n",
      "  warnings.warn('Using categorical_feature in Dataset.')\n"
     ]
    },
    {
     "name": "stdout",
     "output_type": "stream",
     "text": [
      "Training until validation scores don't improve for 21 rounds\n",
      "[101]\ttraining's rmse: 0.618316\tvalid_1's rmse: 0.673272\n",
      "Early stopping, best iteration is:\n",
      "[120]\ttraining's rmse: 0.603068\tvalid_1's rmse: 0.662807\n",
      "Site Id: 15 , Fold: 2 , RMSE: 0.6542285358699608\n",
      "\n",
      "Site Id: 15 , CV RMSE: 0.7137597301373492 \n",
      "\n",
      "\n"
     ]
    }
   ],
   "source": [
    "cv = 2\n",
    "models = {}\n",
    "cv_scores = {\"site_id\": [], \"cv_score\": []}\n",
    "\n",
    "for site_id in tqdm(range(16), desc=\"site_id\"):\n",
    "    print(cv, \"fold CV for site_id:\", site_id)\n",
    "    kf = KFold(n_splits=cv, random_state=seed)\n",
    "    models[site_id] = []\n",
    "\n",
    "    X_train_site = df_train[df_train.site_id==site_id].reset_index(drop=True)\n",
    "    y_train_site = X_train_site.log_meter_reading\n",
    "    y_pred_train_site = np.zeros(X_train_site.shape[0])\n",
    "    \n",
    "    score = 0\n",
    "\n",
    "    for fold, (train_index, valid_index) in enumerate(kf.split(X_train_site, y_train_site)):\n",
    "        X_train, X_valid = X_train_site.loc[train_index, all_features], X_train_site.loc[valid_index, all_features]\n",
    "        y_train, y_valid = y_train_site.iloc[train_index], y_train_site.iloc[valid_index]\n",
    "\n",
    "        dtrain = lgb.Dataset(X_train, label=y_train, categorical_feature=categorical_features)\n",
    "        dvalid = lgb.Dataset(X_valid, label=y_valid, categorical_feature=categorical_features)\n",
    "\n",
    "        watchlist = [dtrain, dvalid]\n",
    "\n",
    "        params = {\"objective\": \"regression\",\n",
    "                  \"num_leaves\": 41,\n",
    "                  \"learning_rate\": 0.049,\n",
    "                  \"bagging_freq\": 5,\n",
    "                  \"bagging_fraction\": 0.51,\n",
    "                  \"feature_fraction\": 0.81,\n",
    "                  \"metric\": \"rmse\"\n",
    "                  }\n",
    "\n",
    "        model_lgb = lgb.train(params, train_set=dtrain, num_boost_round=999, valid_sets=watchlist, verbose_eval=101, early_stopping_rounds=21)\n",
    "        models[site_id].append(model_lgb)\n",
    "\n",
    "        y_pred_valid = model_lgb.predict(X_valid, num_iteration=model_lgb.best_iteration)\n",
    "        y_pred_train_site[valid_index] = y_pred_valid\n",
    "\n",
    "        rmse = np.sqrt(mean_squared_error(y_valid, y_pred_valid))\n",
    "        print(\"Site Id:\", site_id, \", Fold:\", fold+1, \", RMSE:\", rmse)\n",
    "        score += rmse / cv\n",
    "        \n",
    "        gc.collect()\n",
    "        \n",
    "    cv_scores[\"site_id\"].append(site_id)\n",
    "    cv_scores[\"cv_score\"].append(score)\n",
    "        \n",
    "    print(\"\\nSite Id:\", site_id, \", CV RMSE:\", np.sqrt(mean_squared_error(y_train_site, y_pred_train_site)), \"\\n\")"
   ]
  },
  {
   "cell_type": "code",
   "execution_count": 11,
   "metadata": {},
   "outputs": [
    {
     "data": {
      "text/html": [
       "<div>\n",
       "<style scoped>\n",
       "    .dataframe tbody tr th:only-of-type {\n",
       "        vertical-align: middle;\n",
       "    }\n",
       "\n",
       "    .dataframe tbody tr th {\n",
       "        vertical-align: top;\n",
       "    }\n",
       "\n",
       "    .dataframe thead th {\n",
       "        text-align: right;\n",
       "    }\n",
       "</style>\n",
       "<table border=\"1\" class=\"dataframe\">\n",
       "  <thead>\n",
       "    <tr style=\"text-align: right;\">\n",
       "      <th></th>\n",
       "      <th>site_id</th>\n",
       "      <th>cv_score</th>\n",
       "    </tr>\n",
       "  </thead>\n",
       "  <tbody>\n",
       "    <tr>\n",
       "      <th>0</th>\n",
       "      <td>0</td>\n",
       "      <td>0.872144</td>\n",
       "    </tr>\n",
       "    <tr>\n",
       "      <th>1</th>\n",
       "      <td>1</td>\n",
       "      <td>0.859066</td>\n",
       "    </tr>\n",
       "    <tr>\n",
       "      <th>2</th>\n",
       "      <td>2</td>\n",
       "      <td>0.867512</td>\n",
       "    </tr>\n",
       "    <tr>\n",
       "      <th>3</th>\n",
       "      <td>3</td>\n",
       "      <td>0.411642</td>\n",
       "    </tr>\n",
       "    <tr>\n",
       "      <th>4</th>\n",
       "      <td>4</td>\n",
       "      <td>0.286991</td>\n",
       "    </tr>\n",
       "    <tr>\n",
       "      <th>5</th>\n",
       "      <td>5</td>\n",
       "      <td>0.663609</td>\n",
       "    </tr>\n",
       "    <tr>\n",
       "      <th>6</th>\n",
       "      <td>6</td>\n",
       "      <td>1.257423</td>\n",
       "    </tr>\n",
       "    <tr>\n",
       "      <th>7</th>\n",
       "      <td>7</td>\n",
       "      <td>1.895118</td>\n",
       "    </tr>\n",
       "    <tr>\n",
       "      <th>8</th>\n",
       "      <td>8</td>\n",
       "      <td>0.581220</td>\n",
       "    </tr>\n",
       "    <tr>\n",
       "      <th>9</th>\n",
       "      <td>9</td>\n",
       "      <td>0.936484</td>\n",
       "    </tr>\n",
       "    <tr>\n",
       "      <th>10</th>\n",
       "      <td>10</td>\n",
       "      <td>1.319775</td>\n",
       "    </tr>\n",
       "    <tr>\n",
       "      <th>11</th>\n",
       "      <td>11</td>\n",
       "      <td>1.314343</td>\n",
       "    </tr>\n",
       "    <tr>\n",
       "      <th>12</th>\n",
       "      <td>12</td>\n",
       "      <td>0.400731</td>\n",
       "    </tr>\n",
       "    <tr>\n",
       "      <th>13</th>\n",
       "      <td>13</td>\n",
       "      <td>1.186016</td>\n",
       "    </tr>\n",
       "    <tr>\n",
       "      <th>14</th>\n",
       "      <td>14</td>\n",
       "      <td>1.463464</td>\n",
       "    </tr>\n",
       "    <tr>\n",
       "      <th>15</th>\n",
       "      <td>15</td>\n",
       "      <td>0.711461</td>\n",
       "    </tr>\n",
       "  </tbody>\n",
       "</table>\n",
       "</div>"
      ],
      "text/plain": [
       "    site_id  cv_score\n",
       "0         0  0.872144\n",
       "1         1  0.859066\n",
       "2         2  0.867512\n",
       "3         3  0.411642\n",
       "4         4  0.286991\n",
       "5         5  0.663609\n",
       "6         6  1.257423\n",
       "7         7  1.895118\n",
       "8         8  0.581220\n",
       "9         9  0.936484\n",
       "10       10  1.319775\n",
       "11       11  1.314343\n",
       "12       12  0.400731\n",
       "13       13  1.186016\n",
       "14       14  1.463464\n",
       "15       15  0.711461"
      ]
     },
     "execution_count": 11,
     "metadata": {},
     "output_type": "execute_result"
    }
   ],
   "source": [
    "pd.DataFrame.from_dict(cv_scores)"
   ]
  },
  {
   "cell_type": "code",
   "execution_count": 12,
   "metadata": {
    "_kg_hide-input": true,
    "_kg_hide-output": true
   },
   "outputs": [
    {
     "data": {
      "text/plain": [
       "3"
      ]
     },
     "execution_count": 12,
     "metadata": {},
     "output_type": "execute_result"
    }
   ],
   "source": [
    "del df_train, X_train_site, y_train_site, X_train, y_train, dtrain, X_valid, y_valid, dvalid, y_pred_train_site, y_pred_valid, rmse, score, cv_scores\n",
    "gc.collect()"
   ]
  },
  {
   "cell_type": "markdown",
   "metadata": {},
   "source": [
    "## Scoring on test data\n",
    "The test data for each site is scored individually using the 3 models, one from each fold. The final prediction is the average of the 3 models."
   ]
  },
  {
   "cell_type": "code",
   "execution_count": 13,
   "metadata": {},
   "outputs": [],
   "source": [
    "weather_test = create_lag_features(weather_test, 18)\n",
    "weather_test.drop([\"air_temperature\", \"cloud_coverage\", \"dew_temperature\", \"precip_depth_1_hr\"], axis=1, inplace=True)"
   ]
  },
  {
   "cell_type": "code",
   "execution_count": 14,
   "metadata": {},
   "outputs": [
    {
     "data": {
      "application/vnd.jupyter.widget-view+json": {
       "model_id": "422cf2953fd048da9ac996b92bcc755c",
       "version_major": 2,
       "version_minor": 0
      },
      "text/plain": [
       "HBox(children=(IntProgress(value=0, description='site_id', max=16, style=ProgressStyle(description_width='init…"
      ]
     },
     "metadata": {},
     "output_type": "display_data"
    },
    {
     "name": "stdout",
     "output_type": "stream",
     "text": [
      "Preparing test data for site_id 0\n",
      "Scoring for site_id 0\n",
      "Scoring for site_id 0 completed\n",
      "\n",
      "Preparing test data for site_id 1\n",
      "Scoring for site_id 1\n",
      "Scoring for site_id 1 completed\n",
      "\n",
      "Preparing test data for site_id 2\n",
      "Scoring for site_id 2\n",
      "Scoring for site_id 2 completed\n",
      "\n",
      "Preparing test data for site_id 3\n",
      "Scoring for site_id 3\n",
      "Scoring for site_id 3 completed\n",
      "\n",
      "Preparing test data for site_id 4\n",
      "Scoring for site_id 4\n",
      "Scoring for site_id 4 completed\n",
      "\n",
      "Preparing test data for site_id 5\n",
      "Scoring for site_id 5\n",
      "Scoring for site_id 5 completed\n",
      "\n",
      "Preparing test data for site_id 6\n",
      "Scoring for site_id 6\n",
      "Scoring for site_id 6 completed\n",
      "\n",
      "Preparing test data for site_id 7\n",
      "Scoring for site_id 7\n",
      "Scoring for site_id 7 completed\n",
      "\n",
      "Preparing test data for site_id 8\n",
      "Scoring for site_id 8\n",
      "Scoring for site_id 8 completed\n",
      "\n",
      "Preparing test data for site_id 9\n",
      "Scoring for site_id 9\n",
      "Scoring for site_id 9 completed\n",
      "\n",
      "Preparing test data for site_id 10\n",
      "Scoring for site_id 10\n",
      "Scoring for site_id 10 completed\n",
      "\n",
      "Preparing test data for site_id 11\n",
      "Scoring for site_id 11\n",
      "Scoring for site_id 11 completed\n",
      "\n",
      "Preparing test data for site_id 12\n",
      "Scoring for site_id 12\n",
      "Scoring for site_id 12 completed\n",
      "\n",
      "Preparing test data for site_id 13\n",
      "Scoring for site_id 13\n",
      "Scoring for site_id 13 completed\n",
      "\n",
      "Preparing test data for site_id 14\n",
      "Scoring for site_id 14\n",
      "Scoring for site_id 14 completed\n",
      "\n",
      "Preparing test data for site_id 15\n",
      "Scoring for site_id 15\n",
      "Scoring for site_id 15 completed\n",
      "\n",
      "\n"
     ]
    }
   ],
   "source": [
    "df_test_sites = []\n",
    "\n",
    "for site_id in tqdm(range(16), desc=\"site_id\"):\n",
    "    print(\"Preparing test data for site_id\", site_id)\n",
    "\n",
    "    X_test_site = df_test[df_test.site_id==site_id]\n",
    "    weather_test_site = weather_test[weather_test.site_id==site_id]\n",
    "    \n",
    "    X_test_site = X_test_site.merge(weather_test_site, on=[\"site_id\", \"timestamp\"], how=\"left\")\n",
    "    \n",
    "    row_ids_site = X_test_site.row_id\n",
    "\n",
    "    X_test_site = X_test_site[all_features]\n",
    "    y_pred_test_site = np.zeros(X_test_site.shape[0])\n",
    "\n",
    "    print(\"Scoring for site_id\", site_id)    \n",
    "    for fold in range(cv):\n",
    "        model_lgb = models[site_id][fold]\n",
    "        y_pred_test_site += model_lgb.predict(X_test_site, num_iteration=model_lgb.best_iteration) / cv\n",
    "        gc.collect()\n",
    "        \n",
    "    df_test_site = pd.DataFrame({\"row_id\": row_ids_site, \"meter_reading\": y_pred_test_site})\n",
    "    df_test_sites.append(df_test_site)\n",
    "    \n",
    "    print(\"Scoring for site_id\", site_id, \"completed\\n\")\n",
    "    gc.collect()"
   ]
  },
  {
   "cell_type": "markdown",
   "metadata": {},
   "source": [
    "## Submission\n",
    "Preparing final file for submission."
   ]
  },
  {
   "cell_type": "code",
   "execution_count": 15,
   "metadata": {},
   "outputs": [],
   "source": [
    "submit = pd.concat(df_test_sites)\n",
    "submit.meter_reading = np.clip(np.expm1(submit.meter_reading), 0, a_max=None)\n",
    "submit.to_csv(\"submission_noleak.csv\", index=False)"
   ]
  },
  {
   "cell_type": "code",
   "execution_count": 16,
   "metadata": {},
   "outputs": [],
   "source": [
    "## adding leak\n",
    "leak0 = pd.read_csv(\"/kaggle/input/ashrae-leak-data/site0.csv\")\n",
    "leak1 = pd.read_csv(\"/kaggle/input/ashrae-leak-data/site1.csv\")\n",
    "leak2 = pd.read_csv(\"/kaggle/input/ashrae-leak-data/site2.csv\")\n",
    "leak4 = pd.read_csv(\"/kaggle/input/ashrae-leak-data/site4.csv\")\n",
    "leak15 = pd.read_csv(\"/kaggle/input/ashrae-leak-data/site15.csv\")\n",
    "\n",
    "leak = pd.concat([leak0, leak1, leak2, leak4, leak15])\n",
    "\n",
    "del leak0, leak1, leak2, leak4, leak15, df_test_sites\n",
    "gc.collect()\n",
    "\n",
    "test = pd.read_csv(path_test)\n",
    "test = test[test.building_id.isin(leak.building_id.unique())]\n",
    "\n",
    "leak = leak.merge(test, on=[\"building_id\", \"meter\", \"timestamp\"])\n",
    "\n",
    "del test\n",
    "gc.collect()\n",
    "\n",
    "submit = submit.merge(leak[[\"row_id\", \"meter_reading_scraped\"]], on=[\"row_id\"], how=\"left\")\n",
    "submit.loc[submit.meter_reading_scraped.notnull(), \"meter_reading\"] = submit.loc[submit.meter_reading_scraped.notnull(), \"meter_reading_scraped\"] \n",
    "submit.drop([\"meter_reading_scraped\"], axis=1, inplace=True)\n",
    "\n",
    "submit.to_csv(\"submission.csv\", index=False)"
   ]
  }
 ],
 "metadata": {
  "kernelspec": {
   "display_name": "Python 3",
   "language": "python",
   "name": "python3"
  },
  "language_info": {
   "codemirror_mode": {
    "name": "ipython",
    "version": 3
   },
   "file_extension": ".py",
   "mimetype": "text/x-python",
   "name": "python",
   "nbconvert_exporter": "python",
   "pygments_lexer": "ipython3",
   "version": "3.6.6"
  },
  "widgets": {
   "application/vnd.jupyter.widget-state+json": {
    "state": {
     "061eb12e5ff84651bf5c6bd969a5761c": {
      "model_module": "@jupyter-widgets/controls",
      "model_module_version": "1.5.0",
      "model_name": "DescriptionStyleModel",
      "state": {
       "_model_module": "@jupyter-widgets/controls",
       "_model_module_version": "1.5.0",
       "_model_name": "DescriptionStyleModel",
       "_view_count": null,
       "_view_module": "@jupyter-widgets/base",
       "_view_module_version": "1.2.0",
       "_view_name": "StyleView",
       "description_width": ""
      }
     },
     "106c66383ff1478ba4b90b8300ed1348": {
      "model_module": "@jupyter-widgets/controls",
      "model_module_version": "1.5.0",
      "model_name": "DescriptionStyleModel",
      "state": {
       "_model_module": "@jupyter-widgets/controls",
       "_model_module_version": "1.5.0",
       "_model_name": "DescriptionStyleModel",
       "_view_count": null,
       "_view_module": "@jupyter-widgets/base",
       "_view_module_version": "1.2.0",
       "_view_name": "StyleView",
       "description_width": ""
      }
     },
     "2aeb3d1c65e84052b36f888573c0a8ca": {
      "model_module": "@jupyter-widgets/base",
      "model_module_version": "1.2.0",
      "model_name": "LayoutModel",
      "state": {
       "_model_module": "@jupyter-widgets/base",
       "_model_module_version": "1.2.0",
       "_model_name": "LayoutModel",
       "_view_count": null,
       "_view_module": "@jupyter-widgets/base",
       "_view_module_version": "1.2.0",
       "_view_name": "LayoutView",
       "align_content": null,
       "align_items": null,
       "align_self": null,
       "border": null,
       "bottom": null,
       "display": null,
       "flex": null,
       "flex_flow": null,
       "grid_area": null,
       "grid_auto_columns": null,
       "grid_auto_flow": null,
       "grid_auto_rows": null,
       "grid_column": null,
       "grid_gap": null,
       "grid_row": null,
       "grid_template_areas": null,
       "grid_template_columns": null,
       "grid_template_rows": null,
       "height": null,
       "justify_content": null,
       "justify_items": null,
       "left": null,
       "margin": null,
       "max_height": null,
       "max_width": null,
       "min_height": null,
       "min_width": null,
       "object_fit": null,
       "object_position": null,
       "order": null,
       "overflow": null,
       "overflow_x": null,
       "overflow_y": null,
       "padding": null,
       "right": null,
       "top": null,
       "visibility": null,
       "width": null
      }
     },
     "422cf2953fd048da9ac996b92bcc755c": {
      "model_module": "@jupyter-widgets/controls",
      "model_module_version": "1.5.0",
      "model_name": "HBoxModel",
      "state": {
       "_dom_classes": [],
       "_model_module": "@jupyter-widgets/controls",
       "_model_module_version": "1.5.0",
       "_model_name": "HBoxModel",
       "_view_count": null,
       "_view_module": "@jupyter-widgets/controls",
       "_view_module_version": "1.5.0",
       "_view_name": "HBoxView",
       "box_style": "",
       "children": [
        "IPY_MODEL_989c5caa6e3e4e91839dad434634e82b",
        "IPY_MODEL_fc6f5e27aa6e4057b8d2e8d895fc3210"
       ],
       "layout": "IPY_MODEL_47aa38a65b2a4a999dbf4776ce3bbc23"
      }
     },
     "47aa38a65b2a4a999dbf4776ce3bbc23": {
      "model_module": "@jupyter-widgets/base",
      "model_module_version": "1.2.0",
      "model_name": "LayoutModel",
      "state": {
       "_model_module": "@jupyter-widgets/base",
       "_model_module_version": "1.2.0",
       "_model_name": "LayoutModel",
       "_view_count": null,
       "_view_module": "@jupyter-widgets/base",
       "_view_module_version": "1.2.0",
       "_view_name": "LayoutView",
       "align_content": null,
       "align_items": null,
       "align_self": null,
       "border": null,
       "bottom": null,
       "display": null,
       "flex": null,
       "flex_flow": null,
       "grid_area": null,
       "grid_auto_columns": null,
       "grid_auto_flow": null,
       "grid_auto_rows": null,
       "grid_column": null,
       "grid_gap": null,
       "grid_row": null,
       "grid_template_areas": null,
       "grid_template_columns": null,
       "grid_template_rows": null,
       "height": null,
       "justify_content": null,
       "justify_items": null,
       "left": null,
       "margin": null,
       "max_height": null,
       "max_width": null,
       "min_height": null,
       "min_width": null,
       "object_fit": null,
       "object_position": null,
       "order": null,
       "overflow": null,
       "overflow_x": null,
       "overflow_y": null,
       "padding": null,
       "right": null,
       "top": null,
       "visibility": null,
       "width": null
      }
     },
     "4a2366c801e642fbb0c55e106d4b3c78": {
      "model_module": "@jupyter-widgets/controls",
      "model_module_version": "1.5.0",
      "model_name": "ProgressStyleModel",
      "state": {
       "_model_module": "@jupyter-widgets/controls",
       "_model_module_version": "1.5.0",
       "_model_name": "ProgressStyleModel",
       "_view_count": null,
       "_view_module": "@jupyter-widgets/base",
       "_view_module_version": "1.2.0",
       "_view_name": "StyleView",
       "bar_color": null,
       "description_width": "initial"
      }
     },
     "557e1bdfed7b497d9b7eff5ba7aff6bb": {
      "model_module": "@jupyter-widgets/controls",
      "model_module_version": "1.5.0",
      "model_name": "ProgressStyleModel",
      "state": {
       "_model_module": "@jupyter-widgets/controls",
       "_model_module_version": "1.5.0",
       "_model_name": "ProgressStyleModel",
       "_view_count": null,
       "_view_module": "@jupyter-widgets/base",
       "_view_module_version": "1.2.0",
       "_view_name": "StyleView",
       "bar_color": null,
       "description_width": "initial"
      }
     },
     "5ab86896268f4f79b63ded87c464bc40": {
      "model_module": "@jupyter-widgets/controls",
      "model_module_version": "1.5.0",
      "model_name": "HBoxModel",
      "state": {
       "_dom_classes": [],
       "_model_module": "@jupyter-widgets/controls",
       "_model_module_version": "1.5.0",
       "_model_name": "HBoxModel",
       "_view_count": null,
       "_view_module": "@jupyter-widgets/controls",
       "_view_module_version": "1.5.0",
       "_view_name": "HBoxView",
       "box_style": "",
       "children": [
        "IPY_MODEL_9cc5a951a55d438593fac2050dc8d4d9",
        "IPY_MODEL_f80c74135dd5443898f8b21abc5284c2"
       ],
       "layout": "IPY_MODEL_5f60d3472e334b84bfeb5dad2f8df7ac"
      }
     },
     "5f60d3472e334b84bfeb5dad2f8df7ac": {
      "model_module": "@jupyter-widgets/base",
      "model_module_version": "1.2.0",
      "model_name": "LayoutModel",
      "state": {
       "_model_module": "@jupyter-widgets/base",
       "_model_module_version": "1.2.0",
       "_model_name": "LayoutModel",
       "_view_count": null,
       "_view_module": "@jupyter-widgets/base",
       "_view_module_version": "1.2.0",
       "_view_name": "LayoutView",
       "align_content": null,
       "align_items": null,
       "align_self": null,
       "border": null,
       "bottom": null,
       "display": null,
       "flex": null,
       "flex_flow": null,
       "grid_area": null,
       "grid_auto_columns": null,
       "grid_auto_flow": null,
       "grid_auto_rows": null,
       "grid_column": null,
       "grid_gap": null,
       "grid_row": null,
       "grid_template_areas": null,
       "grid_template_columns": null,
       "grid_template_rows": null,
       "height": null,
       "justify_content": null,
       "justify_items": null,
       "left": null,
       "margin": null,
       "max_height": null,
       "max_width": null,
       "min_height": null,
       "min_width": null,
       "object_fit": null,
       "object_position": null,
       "order": null,
       "overflow": null,
       "overflow_x": null,
       "overflow_y": null,
       "padding": null,
       "right": null,
       "top": null,
       "visibility": null,
       "width": null
      }
     },
     "677cfebde5c242a5a2586e331ea70964": {
      "model_module": "@jupyter-widgets/base",
      "model_module_version": "1.2.0",
      "model_name": "LayoutModel",
      "state": {
       "_model_module": "@jupyter-widgets/base",
       "_model_module_version": "1.2.0",
       "_model_name": "LayoutModel",
       "_view_count": null,
       "_view_module": "@jupyter-widgets/base",
       "_view_module_version": "1.2.0",
       "_view_name": "LayoutView",
       "align_content": null,
       "align_items": null,
       "align_self": null,
       "border": null,
       "bottom": null,
       "display": null,
       "flex": null,
       "flex_flow": null,
       "grid_area": null,
       "grid_auto_columns": null,
       "grid_auto_flow": null,
       "grid_auto_rows": null,
       "grid_column": null,
       "grid_gap": null,
       "grid_row": null,
       "grid_template_areas": null,
       "grid_template_columns": null,
       "grid_template_rows": null,
       "height": null,
       "justify_content": null,
       "justify_items": null,
       "left": null,
       "margin": null,
       "max_height": null,
       "max_width": null,
       "min_height": null,
       "min_width": null,
       "object_fit": null,
       "object_position": null,
       "order": null,
       "overflow": null,
       "overflow_x": null,
       "overflow_y": null,
       "padding": null,
       "right": null,
       "top": null,
       "visibility": null,
       "width": null
      }
     },
     "989c5caa6e3e4e91839dad434634e82b": {
      "model_module": "@jupyter-widgets/controls",
      "model_module_version": "1.5.0",
      "model_name": "IntProgressModel",
      "state": {
       "_dom_classes": [],
       "_model_module": "@jupyter-widgets/controls",
       "_model_module_version": "1.5.0",
       "_model_name": "IntProgressModel",
       "_view_count": null,
       "_view_module": "@jupyter-widgets/controls",
       "_view_module_version": "1.5.0",
       "_view_name": "ProgressView",
       "bar_style": "success",
       "description": "site_id: 100%",
       "description_tooltip": null,
       "layout": "IPY_MODEL_2aeb3d1c65e84052b36f888573c0a8ca",
       "max": 16,
       "min": 0,
       "orientation": "horizontal",
       "style": "IPY_MODEL_4a2366c801e642fbb0c55e106d4b3c78",
       "value": 16
      }
     },
     "9cc5a951a55d438593fac2050dc8d4d9": {
      "model_module": "@jupyter-widgets/controls",
      "model_module_version": "1.5.0",
      "model_name": "IntProgressModel",
      "state": {
       "_dom_classes": [],
       "_model_module": "@jupyter-widgets/controls",
       "_model_module_version": "1.5.0",
       "_model_name": "IntProgressModel",
       "_view_count": null,
       "_view_module": "@jupyter-widgets/controls",
       "_view_module_version": "1.5.0",
       "_view_name": "ProgressView",
       "bar_style": "success",
       "description": "site_id: 100%",
       "description_tooltip": null,
       "layout": "IPY_MODEL_ed91209f7d804ecfac1c0323eb4eb378",
       "max": 16,
       "min": 0,
       "orientation": "horizontal",
       "style": "IPY_MODEL_557e1bdfed7b497d9b7eff5ba7aff6bb",
       "value": 16
      }
     },
     "a31b9addded6463c9dd89f285c497228": {
      "model_module": "@jupyter-widgets/base",
      "model_module_version": "1.2.0",
      "model_name": "LayoutModel",
      "state": {
       "_model_module": "@jupyter-widgets/base",
       "_model_module_version": "1.2.0",
       "_model_name": "LayoutModel",
       "_view_count": null,
       "_view_module": "@jupyter-widgets/base",
       "_view_module_version": "1.2.0",
       "_view_name": "LayoutView",
       "align_content": null,
       "align_items": null,
       "align_self": null,
       "border": null,
       "bottom": null,
       "display": null,
       "flex": null,
       "flex_flow": null,
       "grid_area": null,
       "grid_auto_columns": null,
       "grid_auto_flow": null,
       "grid_auto_rows": null,
       "grid_column": null,
       "grid_gap": null,
       "grid_row": null,
       "grid_template_areas": null,
       "grid_template_columns": null,
       "grid_template_rows": null,
       "height": null,
       "justify_content": null,
       "justify_items": null,
       "left": null,
       "margin": null,
       "max_height": null,
       "max_width": null,
       "min_height": null,
       "min_width": null,
       "object_fit": null,
       "object_position": null,
       "order": null,
       "overflow": null,
       "overflow_x": null,
       "overflow_y": null,
       "padding": null,
       "right": null,
       "top": null,
       "visibility": null,
       "width": null
      }
     },
     "ed91209f7d804ecfac1c0323eb4eb378": {
      "model_module": "@jupyter-widgets/base",
      "model_module_version": "1.2.0",
      "model_name": "LayoutModel",
      "state": {
       "_model_module": "@jupyter-widgets/base",
       "_model_module_version": "1.2.0",
       "_model_name": "LayoutModel",
       "_view_count": null,
       "_view_module": "@jupyter-widgets/base",
       "_view_module_version": "1.2.0",
       "_view_name": "LayoutView",
       "align_content": null,
       "align_items": null,
       "align_self": null,
       "border": null,
       "bottom": null,
       "display": null,
       "flex": null,
       "flex_flow": null,
       "grid_area": null,
       "grid_auto_columns": null,
       "grid_auto_flow": null,
       "grid_auto_rows": null,
       "grid_column": null,
       "grid_gap": null,
       "grid_row": null,
       "grid_template_areas": null,
       "grid_template_columns": null,
       "grid_template_rows": null,
       "height": null,
       "justify_content": null,
       "justify_items": null,
       "left": null,
       "margin": null,
       "max_height": null,
       "max_width": null,
       "min_height": null,
       "min_width": null,
       "object_fit": null,
       "object_position": null,
       "order": null,
       "overflow": null,
       "overflow_x": null,
       "overflow_y": null,
       "padding": null,
       "right": null,
       "top": null,
       "visibility": null,
       "width": null
      }
     },
     "f80c74135dd5443898f8b21abc5284c2": {
      "model_module": "@jupyter-widgets/controls",
      "model_module_version": "1.5.0",
      "model_name": "HTMLModel",
      "state": {
       "_dom_classes": [],
       "_model_module": "@jupyter-widgets/controls",
       "_model_module_version": "1.5.0",
       "_model_name": "HTMLModel",
       "_view_count": null,
       "_view_module": "@jupyter-widgets/controls",
       "_view_module_version": "1.5.0",
       "_view_name": "HTMLView",
       "description": "",
       "description_tooltip": null,
       "layout": "IPY_MODEL_677cfebde5c242a5a2586e331ea70964",
       "placeholder": "​",
       "style": "IPY_MODEL_061eb12e5ff84651bf5c6bd969a5761c",
       "value": " 16/16 [13:17&lt;00:00, 49.84s/it]"
      }
     },
     "fc6f5e27aa6e4057b8d2e8d895fc3210": {
      "model_module": "@jupyter-widgets/controls",
      "model_module_version": "1.5.0",
      "model_name": "HTMLModel",
      "state": {
       "_dom_classes": [],
       "_model_module": "@jupyter-widgets/controls",
       "_model_module_version": "1.5.0",
       "_model_name": "HTMLModel",
       "_view_count": null,
       "_view_module": "@jupyter-widgets/controls",
       "_view_module_version": "1.5.0",
       "_view_name": "HTMLView",
       "description": "",
       "description_tooltip": null,
       "layout": "IPY_MODEL_a31b9addded6463c9dd89f285c497228",
       "placeholder": "​",
       "style": "IPY_MODEL_106c66383ff1478ba4b90b8300ed1348",
       "value": " 16/16 [09:50&lt;00:00, 36.92s/it]"
      }
     }
    },
    "version_major": 2,
    "version_minor": 0
   }
  }
 },
 "nbformat": 4,
 "nbformat_minor": 1
}
