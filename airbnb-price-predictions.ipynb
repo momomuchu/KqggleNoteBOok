{
 "cells": [
  {
   "cell_type": "code",
   "execution_count": 1,
   "id": "f482c4d1",
   "metadata": {
    "execution": {
     "iopub.execute_input": "2023-01-31T09:30:26.276514Z",
     "iopub.status.busy": "2023-01-31T09:30:26.275707Z",
     "iopub.status.idle": "2023-01-31T09:30:29.986174Z",
     "shell.execute_reply": "2023-01-31T09:30:29.984953Z"
    },
    "papermill": {
     "duration": 3.728254,
     "end_time": "2023-01-31T09:30:29.989550",
     "exception": false,
     "start_time": "2023-01-31T09:30:26.261296",
     "status": "completed"
    },
    "tags": []
   },
   "outputs": [],
   "source": [
    "import torch\n",
    "import torchvision\n",
    "import torch.nn as nn\n",
    "import pandas as pd\n",
    "import matplotlib.pyplot as plt\n",
    "import seaborn as sns\n",
    "import torch.nn.functional as F\n",
    "from torchvision.datasets.utils import download_url\n",
    "from torch.utils.data import DataLoader, TensorDataset, random_split\n",
    "import pickle"
   ]
  },
  {
   "cell_type": "code",
   "execution_count": 2,
   "id": "ca3c36ff",
   "metadata": {
    "execution": {
     "iopub.execute_input": "2023-01-31T09:30:30.014359Z",
     "iopub.status.busy": "2023-01-31T09:30:30.013735Z",
     "iopub.status.idle": "2023-01-31T09:30:30.018931Z",
     "shell.execute_reply": "2023-01-31T09:30:30.017624Z"
    },
    "papermill": {
     "duration": 0.020508,
     "end_time": "2023-01-31T09:30:30.021355",
     "exception": false,
     "start_time": "2023-01-31T09:30:30.000847",
     "status": "completed"
    },
    "tags": []
   },
   "outputs": [],
   "source": [
    "\n",
    "DATA_FILENAME = \"/kaggle/input/life-data/life_expectancy_data.csv\"\n",
    "input_size=5\n",
    "output_size=1"
   ]
  },
  {
   "cell_type": "code",
   "execution_count": 3,
   "id": "8aa4e8cd",
   "metadata": {
    "execution": {
     "iopub.execute_input": "2023-01-31T09:30:30.046238Z",
     "iopub.status.busy": "2023-01-31T09:30:30.045798Z",
     "iopub.status.idle": "2023-01-31T09:30:30.173647Z",
     "shell.execute_reply": "2023-01-31T09:30:30.172381Z"
    },
    "papermill": {
     "duration": 0.143196,
     "end_time": "2023-01-31T09:30:30.176109",
     "exception": false,
     "start_time": "2023-01-31T09:30:30.032913",
     "status": "completed"
    },
    "tags": []
   },
   "outputs": [
    {
     "data": {
      "text/html": [
       "<div>\n",
       "<style scoped>\n",
       "    .dataframe tbody tr th:only-of-type {\n",
       "        vertical-align: middle;\n",
       "    }\n",
       "\n",
       "    .dataframe tbody tr th {\n",
       "        vertical-align: top;\n",
       "    }\n",
       "\n",
       "    .dataframe thead th {\n",
       "        text-align: right;\n",
       "    }\n",
       "</style>\n",
       "<table border=\"1\" class=\"dataframe\">\n",
       "  <thead>\n",
       "    <tr style=\"text-align: right;\">\n",
       "      <th></th>\n",
       "      <th>Year</th>\n",
       "      <th>Life expectancy</th>\n",
       "      <th>Adult Mortality</th>\n",
       "      <th>infant deaths</th>\n",
       "      <th>Alcohol</th>\n",
       "      <th>percentage expenditure</th>\n",
       "      <th>Hepatitis B</th>\n",
       "      <th>Measles</th>\n",
       "      <th>BMI</th>\n",
       "      <th>under-five deaths</th>\n",
       "      <th>Polio</th>\n",
       "      <th>Total expenditure</th>\n",
       "      <th>Diphtheria</th>\n",
       "      <th>HIV/AIDS</th>\n",
       "      <th>GDP</th>\n",
       "      <th>Population</th>\n",
       "      <th>thinness  1-19 years</th>\n",
       "      <th>thinness 5-9 years</th>\n",
       "      <th>Income composition of resources</th>\n",
       "      <th>Schooling</th>\n",
       "    </tr>\n",
       "  </thead>\n",
       "  <tbody>\n",
       "    <tr>\n",
       "      <th>count</th>\n",
       "      <td>2938.000000</td>\n",
       "      <td>2928.000000</td>\n",
       "      <td>2928.000000</td>\n",
       "      <td>2938.000000</td>\n",
       "      <td>2744.000000</td>\n",
       "      <td>2938.000000</td>\n",
       "      <td>2385.000000</td>\n",
       "      <td>2938.000000</td>\n",
       "      <td>2904.000000</td>\n",
       "      <td>2938.000000</td>\n",
       "      <td>2919.000000</td>\n",
       "      <td>2712.00000</td>\n",
       "      <td>2919.000000</td>\n",
       "      <td>2938.000000</td>\n",
       "      <td>2490.000000</td>\n",
       "      <td>2.286000e+03</td>\n",
       "      <td>2904.000000</td>\n",
       "      <td>2904.000000</td>\n",
       "      <td>2771.000000</td>\n",
       "      <td>2775.000000</td>\n",
       "    </tr>\n",
       "    <tr>\n",
       "      <th>mean</th>\n",
       "      <td>2007.518720</td>\n",
       "      <td>69.224932</td>\n",
       "      <td>164.796448</td>\n",
       "      <td>30.303948</td>\n",
       "      <td>4.602861</td>\n",
       "      <td>738.251295</td>\n",
       "      <td>80.940461</td>\n",
       "      <td>2419.592240</td>\n",
       "      <td>38.321247</td>\n",
       "      <td>42.035739</td>\n",
       "      <td>82.550188</td>\n",
       "      <td>5.93819</td>\n",
       "      <td>82.324084</td>\n",
       "      <td>1.742103</td>\n",
       "      <td>7483.158469</td>\n",
       "      <td>1.275338e+07</td>\n",
       "      <td>4.839704</td>\n",
       "      <td>4.870317</td>\n",
       "      <td>0.627551</td>\n",
       "      <td>11.992793</td>\n",
       "    </tr>\n",
       "    <tr>\n",
       "      <th>std</th>\n",
       "      <td>4.613841</td>\n",
       "      <td>9.523867</td>\n",
       "      <td>124.292079</td>\n",
       "      <td>117.926501</td>\n",
       "      <td>4.052413</td>\n",
       "      <td>1987.914858</td>\n",
       "      <td>25.070016</td>\n",
       "      <td>11467.272489</td>\n",
       "      <td>20.044034</td>\n",
       "      <td>160.445548</td>\n",
       "      <td>23.428046</td>\n",
       "      <td>2.49832</td>\n",
       "      <td>23.716912</td>\n",
       "      <td>5.077785</td>\n",
       "      <td>14270.169342</td>\n",
       "      <td>6.101210e+07</td>\n",
       "      <td>4.420195</td>\n",
       "      <td>4.508882</td>\n",
       "      <td>0.210904</td>\n",
       "      <td>3.358920</td>\n",
       "    </tr>\n",
       "    <tr>\n",
       "      <th>min</th>\n",
       "      <td>2000.000000</td>\n",
       "      <td>36.300000</td>\n",
       "      <td>1.000000</td>\n",
       "      <td>0.000000</td>\n",
       "      <td>0.010000</td>\n",
       "      <td>0.000000</td>\n",
       "      <td>1.000000</td>\n",
       "      <td>0.000000</td>\n",
       "      <td>1.000000</td>\n",
       "      <td>0.000000</td>\n",
       "      <td>3.000000</td>\n",
       "      <td>0.37000</td>\n",
       "      <td>2.000000</td>\n",
       "      <td>0.100000</td>\n",
       "      <td>1.681350</td>\n",
       "      <td>3.400000e+01</td>\n",
       "      <td>0.100000</td>\n",
       "      <td>0.100000</td>\n",
       "      <td>0.000000</td>\n",
       "      <td>0.000000</td>\n",
       "    </tr>\n",
       "    <tr>\n",
       "      <th>25%</th>\n",
       "      <td>2004.000000</td>\n",
       "      <td>63.100000</td>\n",
       "      <td>74.000000</td>\n",
       "      <td>0.000000</td>\n",
       "      <td>0.877500</td>\n",
       "      <td>4.685343</td>\n",
       "      <td>77.000000</td>\n",
       "      <td>0.000000</td>\n",
       "      <td>19.300000</td>\n",
       "      <td>0.000000</td>\n",
       "      <td>78.000000</td>\n",
       "      <td>4.26000</td>\n",
       "      <td>78.000000</td>\n",
       "      <td>0.100000</td>\n",
       "      <td>463.935626</td>\n",
       "      <td>1.957932e+05</td>\n",
       "      <td>1.600000</td>\n",
       "      <td>1.500000</td>\n",
       "      <td>0.493000</td>\n",
       "      <td>10.100000</td>\n",
       "    </tr>\n",
       "    <tr>\n",
       "      <th>50%</th>\n",
       "      <td>2008.000000</td>\n",
       "      <td>72.100000</td>\n",
       "      <td>144.000000</td>\n",
       "      <td>3.000000</td>\n",
       "      <td>3.755000</td>\n",
       "      <td>64.912906</td>\n",
       "      <td>92.000000</td>\n",
       "      <td>17.000000</td>\n",
       "      <td>43.500000</td>\n",
       "      <td>4.000000</td>\n",
       "      <td>93.000000</td>\n",
       "      <td>5.75500</td>\n",
       "      <td>93.000000</td>\n",
       "      <td>0.100000</td>\n",
       "      <td>1766.947595</td>\n",
       "      <td>1.386542e+06</td>\n",
       "      <td>3.300000</td>\n",
       "      <td>3.300000</td>\n",
       "      <td>0.677000</td>\n",
       "      <td>12.300000</td>\n",
       "    </tr>\n",
       "    <tr>\n",
       "      <th>75%</th>\n",
       "      <td>2012.000000</td>\n",
       "      <td>75.700000</td>\n",
       "      <td>228.000000</td>\n",
       "      <td>22.000000</td>\n",
       "      <td>7.702500</td>\n",
       "      <td>441.534144</td>\n",
       "      <td>97.000000</td>\n",
       "      <td>360.250000</td>\n",
       "      <td>56.200000</td>\n",
       "      <td>28.000000</td>\n",
       "      <td>97.000000</td>\n",
       "      <td>7.49250</td>\n",
       "      <td>97.000000</td>\n",
       "      <td>0.800000</td>\n",
       "      <td>5910.806335</td>\n",
       "      <td>7.420359e+06</td>\n",
       "      <td>7.200000</td>\n",
       "      <td>7.200000</td>\n",
       "      <td>0.779000</td>\n",
       "      <td>14.300000</td>\n",
       "    </tr>\n",
       "    <tr>\n",
       "      <th>max</th>\n",
       "      <td>2015.000000</td>\n",
       "      <td>89.000000</td>\n",
       "      <td>723.000000</td>\n",
       "      <td>1800.000000</td>\n",
       "      <td>17.870000</td>\n",
       "      <td>19479.911610</td>\n",
       "      <td>99.000000</td>\n",
       "      <td>212183.000000</td>\n",
       "      <td>87.300000</td>\n",
       "      <td>2500.000000</td>\n",
       "      <td>99.000000</td>\n",
       "      <td>17.60000</td>\n",
       "      <td>99.000000</td>\n",
       "      <td>50.600000</td>\n",
       "      <td>119172.741800</td>\n",
       "      <td>1.293859e+09</td>\n",
       "      <td>27.700000</td>\n",
       "      <td>28.600000</td>\n",
       "      <td>0.948000</td>\n",
       "      <td>20.700000</td>\n",
       "    </tr>\n",
       "  </tbody>\n",
       "</table>\n",
       "</div>"
      ],
      "text/plain": [
       "              Year  Life expectancy   Adult Mortality  infant deaths  \\\n",
       "count  2938.000000       2928.000000      2928.000000    2938.000000   \n",
       "mean   2007.518720         69.224932       164.796448      30.303948   \n",
       "std       4.613841          9.523867       124.292079     117.926501   \n",
       "min    2000.000000         36.300000         1.000000       0.000000   \n",
       "25%    2004.000000         63.100000        74.000000       0.000000   \n",
       "50%    2008.000000         72.100000       144.000000       3.000000   \n",
       "75%    2012.000000         75.700000       228.000000      22.000000   \n",
       "max    2015.000000         89.000000       723.000000    1800.000000   \n",
       "\n",
       "           Alcohol  percentage expenditure  Hepatitis B       Measles   \\\n",
       "count  2744.000000             2938.000000  2385.000000    2938.000000   \n",
       "mean      4.602861              738.251295    80.940461    2419.592240   \n",
       "std       4.052413             1987.914858    25.070016   11467.272489   \n",
       "min       0.010000                0.000000     1.000000       0.000000   \n",
       "25%       0.877500                4.685343    77.000000       0.000000   \n",
       "50%       3.755000               64.912906    92.000000      17.000000   \n",
       "75%       7.702500              441.534144    97.000000     360.250000   \n",
       "max      17.870000            19479.911610    99.000000  212183.000000   \n",
       "\n",
       "              BMI   under-five deaths         Polio  Total expenditure  \\\n",
       "count  2904.000000         2938.000000  2919.000000         2712.00000   \n",
       "mean     38.321247           42.035739    82.550188            5.93819   \n",
       "std      20.044034          160.445548    23.428046            2.49832   \n",
       "min       1.000000            0.000000     3.000000            0.37000   \n",
       "25%      19.300000            0.000000    78.000000            4.26000   \n",
       "50%      43.500000            4.000000    93.000000            5.75500   \n",
       "75%      56.200000           28.000000    97.000000            7.49250   \n",
       "max      87.300000         2500.000000    99.000000           17.60000   \n",
       "\n",
       "       Diphtheria      HIV/AIDS            GDP    Population  \\\n",
       "count  2919.000000  2938.000000    2490.000000  2.286000e+03   \n",
       "mean     82.324084     1.742103    7483.158469  1.275338e+07   \n",
       "std      23.716912     5.077785   14270.169342  6.101210e+07   \n",
       "min       2.000000     0.100000       1.681350  3.400000e+01   \n",
       "25%      78.000000     0.100000     463.935626  1.957932e+05   \n",
       "50%      93.000000     0.100000    1766.947595  1.386542e+06   \n",
       "75%      97.000000     0.800000    5910.806335  7.420359e+06   \n",
       "max      99.000000    50.600000  119172.741800  1.293859e+09   \n",
       "\n",
       "        thinness  1-19 years   thinness 5-9 years  \\\n",
       "count            2904.000000          2904.000000   \n",
       "mean                4.839704             4.870317   \n",
       "std                 4.420195             4.508882   \n",
       "min                 0.100000             0.100000   \n",
       "25%                 1.600000             1.500000   \n",
       "50%                 3.300000             3.300000   \n",
       "75%                 7.200000             7.200000   \n",
       "max                27.700000            28.600000   \n",
       "\n",
       "       Income composition of resources    Schooling  \n",
       "count                      2771.000000  2775.000000  \n",
       "mean                          0.627551    11.992793  \n",
       "std                           0.210904     3.358920  \n",
       "min                           0.000000     0.000000  \n",
       "25%                           0.493000    10.100000  \n",
       "50%                           0.677000    12.300000  \n",
       "75%                           0.779000    14.300000  \n",
       "max                           0.948000    20.700000  "
      ]
     },
     "execution_count": 3,
     "metadata": {},
     "output_type": "execute_result"
    }
   ],
   "source": [
    " \n",
    "dataframe = pd.read_csv(DATA_FILENAME)\n",
    "\n",
    "dataframe.describe()"
   ]
  },
  {
   "cell_type": "markdown",
   "id": "ff0c8c85",
   "metadata": {
    "papermill": {
     "duration": 0.011142,
     "end_time": "2023-01-31T09:30:30.200432",
     "exception": false,
     "start_time": "2023-01-31T09:30:30.189290",
     "status": "completed"
    },
    "tags": []
   },
   "source": [
    "## Cleaning the data\n",
    "Some cell names have trailing spaces or are composed of two separate names, I am gonna fix that and impose a more consistent naming scheme"
   ]
  },
  {
   "cell_type": "code",
   "execution_count": 4,
   "id": "37ef5c63",
   "metadata": {
    "execution": {
     "iopub.execute_input": "2023-01-31T09:30:30.225522Z",
     "iopub.status.busy": "2023-01-31T09:30:30.225073Z",
     "iopub.status.idle": "2023-01-31T09:30:30.261376Z",
     "shell.execute_reply": "2023-01-31T09:30:30.260073Z"
    },
    "papermill": {
     "duration": 0.052045,
     "end_time": "2023-01-31T09:30:30.263983",
     "exception": false,
     "start_time": "2023-01-31T09:30:30.211938",
     "status": "completed"
    },
    "tags": []
   },
   "outputs": [
    {
     "data": {
      "text/html": [
       "<div>\n",
       "<style scoped>\n",
       "    .dataframe tbody tr th:only-of-type {\n",
       "        vertical-align: middle;\n",
       "    }\n",
       "\n",
       "    .dataframe tbody tr th {\n",
       "        vertical-align: top;\n",
       "    }\n",
       "\n",
       "    .dataframe thead th {\n",
       "        text-align: right;\n",
       "    }\n",
       "</style>\n",
       "<table border=\"1\" class=\"dataframe\">\n",
       "  <thead>\n",
       "    <tr style=\"text-align: right;\">\n",
       "      <th></th>\n",
       "      <th>Country</th>\n",
       "      <th>Year</th>\n",
       "      <th>Status</th>\n",
       "      <th>Life_Expectancy</th>\n",
       "      <th>Adult_Mortality</th>\n",
       "      <th>Infant_Deaths</th>\n",
       "      <th>Alcohol</th>\n",
       "      <th>Percentage_Exp</th>\n",
       "      <th>HepatitisB</th>\n",
       "      <th>Measles</th>\n",
       "      <th>...</th>\n",
       "      <th>Polio</th>\n",
       "      <th>Tot_Exp</th>\n",
       "      <th>Diphtheria</th>\n",
       "      <th>HIV/AIDS</th>\n",
       "      <th>GDP</th>\n",
       "      <th>Population</th>\n",
       "      <th>thinness_1to19_years</th>\n",
       "      <th>thinness_5to9_years</th>\n",
       "      <th>Income_Comp_Of_Resources</th>\n",
       "      <th>Schooling</th>\n",
       "    </tr>\n",
       "  </thead>\n",
       "  <tbody>\n",
       "    <tr>\n",
       "      <th>0</th>\n",
       "      <td>Afghanistan</td>\n",
       "      <td>2015</td>\n",
       "      <td>Developing</td>\n",
       "      <td>65.0</td>\n",
       "      <td>263.0</td>\n",
       "      <td>62</td>\n",
       "      <td>0.01</td>\n",
       "      <td>71.279624</td>\n",
       "      <td>65.0</td>\n",
       "      <td>1154</td>\n",
       "      <td>...</td>\n",
       "      <td>6.0</td>\n",
       "      <td>8.16</td>\n",
       "      <td>65.0</td>\n",
       "      <td>0.1</td>\n",
       "      <td>584.259210</td>\n",
       "      <td>33736494.0</td>\n",
       "      <td>17.2</td>\n",
       "      <td>17.3</td>\n",
       "      <td>0.479</td>\n",
       "      <td>10.1</td>\n",
       "    </tr>\n",
       "    <tr>\n",
       "      <th>1</th>\n",
       "      <td>Afghanistan</td>\n",
       "      <td>2014</td>\n",
       "      <td>Developing</td>\n",
       "      <td>59.9</td>\n",
       "      <td>271.0</td>\n",
       "      <td>64</td>\n",
       "      <td>0.01</td>\n",
       "      <td>73.523582</td>\n",
       "      <td>62.0</td>\n",
       "      <td>492</td>\n",
       "      <td>...</td>\n",
       "      <td>58.0</td>\n",
       "      <td>8.18</td>\n",
       "      <td>62.0</td>\n",
       "      <td>0.1</td>\n",
       "      <td>612.696514</td>\n",
       "      <td>327582.0</td>\n",
       "      <td>17.5</td>\n",
       "      <td>17.5</td>\n",
       "      <td>0.476</td>\n",
       "      <td>10.0</td>\n",
       "    </tr>\n",
       "    <tr>\n",
       "      <th>2</th>\n",
       "      <td>Afghanistan</td>\n",
       "      <td>2013</td>\n",
       "      <td>Developing</td>\n",
       "      <td>59.9</td>\n",
       "      <td>268.0</td>\n",
       "      <td>66</td>\n",
       "      <td>0.01</td>\n",
       "      <td>73.219243</td>\n",
       "      <td>64.0</td>\n",
       "      <td>430</td>\n",
       "      <td>...</td>\n",
       "      <td>62.0</td>\n",
       "      <td>8.13</td>\n",
       "      <td>64.0</td>\n",
       "      <td>0.1</td>\n",
       "      <td>631.744976</td>\n",
       "      <td>31731688.0</td>\n",
       "      <td>17.7</td>\n",
       "      <td>17.7</td>\n",
       "      <td>0.470</td>\n",
       "      <td>9.9</td>\n",
       "    </tr>\n",
       "    <tr>\n",
       "      <th>3</th>\n",
       "      <td>Afghanistan</td>\n",
       "      <td>2012</td>\n",
       "      <td>Developing</td>\n",
       "      <td>59.5</td>\n",
       "      <td>272.0</td>\n",
       "      <td>69</td>\n",
       "      <td>0.01</td>\n",
       "      <td>78.184215</td>\n",
       "      <td>67.0</td>\n",
       "      <td>2787</td>\n",
       "      <td>...</td>\n",
       "      <td>67.0</td>\n",
       "      <td>8.52</td>\n",
       "      <td>67.0</td>\n",
       "      <td>0.1</td>\n",
       "      <td>669.959000</td>\n",
       "      <td>3696958.0</td>\n",
       "      <td>17.9</td>\n",
       "      <td>18.0</td>\n",
       "      <td>0.463</td>\n",
       "      <td>9.8</td>\n",
       "    </tr>\n",
       "    <tr>\n",
       "      <th>4</th>\n",
       "      <td>Afghanistan</td>\n",
       "      <td>2011</td>\n",
       "      <td>Developing</td>\n",
       "      <td>59.2</td>\n",
       "      <td>275.0</td>\n",
       "      <td>71</td>\n",
       "      <td>0.01</td>\n",
       "      <td>7.097109</td>\n",
       "      <td>68.0</td>\n",
       "      <td>3013</td>\n",
       "      <td>...</td>\n",
       "      <td>68.0</td>\n",
       "      <td>7.87</td>\n",
       "      <td>68.0</td>\n",
       "      <td>0.1</td>\n",
       "      <td>63.537231</td>\n",
       "      <td>2978599.0</td>\n",
       "      <td>18.2</td>\n",
       "      <td>18.2</td>\n",
       "      <td>0.454</td>\n",
       "      <td>9.5</td>\n",
       "    </tr>\n",
       "  </tbody>\n",
       "</table>\n",
       "<p>5 rows × 22 columns</p>\n",
       "</div>"
      ],
      "text/plain": [
       "       Country  Year      Status  Life_Expectancy  Adult_Mortality  \\\n",
       "0  Afghanistan  2015  Developing             65.0            263.0   \n",
       "1  Afghanistan  2014  Developing             59.9            271.0   \n",
       "2  Afghanistan  2013  Developing             59.9            268.0   \n",
       "3  Afghanistan  2012  Developing             59.5            272.0   \n",
       "4  Afghanistan  2011  Developing             59.2            275.0   \n",
       "\n",
       "   Infant_Deaths  Alcohol  Percentage_Exp  HepatitisB  Measles  ...  Polio  \\\n",
       "0             62     0.01       71.279624        65.0     1154  ...    6.0   \n",
       "1             64     0.01       73.523582        62.0      492  ...   58.0   \n",
       "2             66     0.01       73.219243        64.0      430  ...   62.0   \n",
       "3             69     0.01       78.184215        67.0     2787  ...   67.0   \n",
       "4             71     0.01        7.097109        68.0     3013  ...   68.0   \n",
       "\n",
       "   Tot_Exp  Diphtheria  HIV/AIDS         GDP  Population  \\\n",
       "0     8.16        65.0       0.1  584.259210  33736494.0   \n",
       "1     8.18        62.0       0.1  612.696514    327582.0   \n",
       "2     8.13        64.0       0.1  631.744976  31731688.0   \n",
       "3     8.52        67.0       0.1  669.959000   3696958.0   \n",
       "4     7.87        68.0       0.1   63.537231   2978599.0   \n",
       "\n",
       "   thinness_1to19_years  thinness_5to9_years  Income_Comp_Of_Resources  \\\n",
       "0                  17.2                 17.3                     0.479   \n",
       "1                  17.5                 17.5                     0.476   \n",
       "2                  17.7                 17.7                     0.470   \n",
       "3                  17.9                 18.0                     0.463   \n",
       "4                  18.2                 18.2                     0.454   \n",
       "\n",
       "   Schooling  \n",
       "0       10.1  \n",
       "1       10.0  \n",
       "2        9.9  \n",
       "3        9.8  \n",
       "4        9.5  \n",
       "\n",
       "[5 rows x 22 columns]"
      ]
     },
     "execution_count": 4,
     "metadata": {},
     "output_type": "execute_result"
    }
   ],
   "source": [
    "# Renaming some column names as they contain trailing spaces.\n",
    "dataframe.rename(columns={\" BMI \":\"BMI\",\"Life expectancy \":\"Life_Expectancy\",\"Adult Mortality\":\"Adult_Mortality\",\n",
    "                   \"infant deaths\":\"Infant_Deaths\",\"percentage expenditure\":\"Percentage_Exp\",\"Hepatitis B\":\"HepatitisB\",\n",
    "                  \"Measles \":\"Measles\",\" BMI \":\"BMI\",\"under-five deaths \":\"Under_Five_Deaths\",\"Diphtheria \":\"Diphtheria\",\n",
    "                  \" HIV/AIDS\":\"HIV/AIDS\",\" thinness  1-19 years\":\"thinness_1to19_years\",\" thinness 5-9 years\":\"thinness_5to9_years\",\"Income composition of resources\":\"Income_Comp_Of_Resources\",\n",
    "                   \"Total expenditure\":\"Tot_Exp\"},inplace=True)\n",
    "dataframe.head()"
   ]
  },
  {
   "cell_type": "code",
   "execution_count": 5,
   "id": "9dc8adcb",
   "metadata": {
    "execution": {
     "iopub.execute_input": "2023-01-31T09:30:30.290452Z",
     "iopub.status.busy": "2023-01-31T09:30:30.290023Z",
     "iopub.status.idle": "2023-01-31T09:30:30.310120Z",
     "shell.execute_reply": "2023-01-31T09:30:30.308252Z"
    },
    "papermill": {
     "duration": 0.037064,
     "end_time": "2023-01-31T09:30:30.313271",
     "exception": false,
     "start_time": "2023-01-31T09:30:30.276207",
     "status": "completed"
    },
    "tags": []
   },
   "outputs": [
    {
     "name": "stdout",
     "output_type": "stream",
     "text": [
      "<class 'pandas.core.frame.DataFrame'>\n",
      "RangeIndex: 2938 entries, 0 to 2937\n",
      "Data columns (total 22 columns):\n",
      " #   Column                    Non-Null Count  Dtype  \n",
      "---  ------                    --------------  -----  \n",
      " 0   Country                   2938 non-null   object \n",
      " 1   Year                      2938 non-null   int64  \n",
      " 2   Status                    2938 non-null   object \n",
      " 3   Life_Expectancy           2928 non-null   float64\n",
      " 4   Adult_Mortality           2928 non-null   float64\n",
      " 5   Infant_Deaths             2938 non-null   int64  \n",
      " 6   Alcohol                   2744 non-null   float64\n",
      " 7   Percentage_Exp            2938 non-null   float64\n",
      " 8   HepatitisB                2385 non-null   float64\n",
      " 9   Measles                   2938 non-null   int64  \n",
      " 10  BMI                       2904 non-null   float64\n",
      " 11  Under_Five_Deaths         2938 non-null   int64  \n",
      " 12  Polio                     2919 non-null   float64\n",
      " 13  Tot_Exp                   2712 non-null   float64\n",
      " 14  Diphtheria                2919 non-null   float64\n",
      " 15  HIV/AIDS                  2938 non-null   float64\n",
      " 16  GDP                       2490 non-null   float64\n",
      " 17  Population                2286 non-null   float64\n",
      " 18  thinness_1to19_years      2904 non-null   float64\n",
      " 19  thinness_5to9_years       2904 non-null   float64\n",
      " 20  Income_Comp_Of_Resources  2771 non-null   float64\n",
      " 21  Schooling                 2775 non-null   float64\n",
      "dtypes: float64(16), int64(4), object(2)\n",
      "memory usage: 505.1+ KB\n"
     ]
    }
   ],
   "source": [
    "# Verifying whether data for each variable is according to its dataype or not.\n",
    "dataframe.info()"
   ]
  },
  {
   "cell_type": "code",
   "execution_count": 6,
   "id": "f5e1eeb4",
   "metadata": {
    "execution": {
     "iopub.execute_input": "2023-01-31T09:30:30.339951Z",
     "iopub.status.busy": "2023-01-31T09:30:30.339472Z",
     "iopub.status.idle": "2023-01-31T09:30:30.353527Z",
     "shell.execute_reply": "2023-01-31T09:30:30.352358Z"
    },
    "papermill": {
     "duration": 0.03027,
     "end_time": "2023-01-31T09:30:30.355882",
     "exception": false,
     "start_time": "2023-01-31T09:30:30.325612",
     "status": "completed"
    },
    "tags": []
   },
   "outputs": [
    {
     "data": {
      "text/plain": [
       "Country                      0.000000\n",
       "Year                         0.000000\n",
       "Status                       0.000000\n",
       "Life_Expectancy              0.340368\n",
       "Adult_Mortality              0.340368\n",
       "Infant_Deaths                0.000000\n",
       "Alcohol                      6.603131\n",
       "Percentage_Exp               0.000000\n",
       "HepatitisB                  18.822328\n",
       "Measles                      0.000000\n",
       "BMI                          1.157250\n",
       "Under_Five_Deaths            0.000000\n",
       "Polio                        0.646698\n",
       "Tot_Exp                      7.692308\n",
       "Diphtheria                   0.646698\n",
       "HIV/AIDS                     0.000000\n",
       "GDP                         15.248468\n",
       "Population                  22.191967\n",
       "thinness_1to19_years         1.157250\n",
       "thinness_5to9_years          1.157250\n",
       "Income_Comp_Of_Resources     5.684139\n",
       "Schooling                    5.547992\n",
       "dtype: float64"
      ]
     },
     "execution_count": 6,
     "metadata": {},
     "output_type": "execute_result"
    }
   ],
   "source": [
    "# Identify percentage of null values in each column.\n",
    "dataframe.isnull().sum()*100/dataframe.isnull().count()"
   ]
  },
  {
   "cell_type": "code",
   "execution_count": 7,
   "id": "92489270",
   "metadata": {
    "execution": {
     "iopub.execute_input": "2023-01-31T09:30:30.382956Z",
     "iopub.status.busy": "2023-01-31T09:30:30.382526Z",
     "iopub.status.idle": "2023-01-31T09:30:30.389090Z",
     "shell.execute_reply": "2023-01-31T09:30:30.387806Z"
    },
    "papermill": {
     "duration": 0.023067,
     "end_time": "2023-01-31T09:30:30.391528",
     "exception": false,
     "start_time": "2023-01-31T09:30:30.368461",
     "status": "completed"
    },
    "tags": []
   },
   "outputs": [],
   "source": [
    "# save the countries in a list\n",
    "country_list = dataframe.Country.unique()\n",
    "\n",
    "# list containing incomplete columns\n",
    "fill_list = ['Life_Expectancy','Adult_Mortality','Alcohol','HepatitisB','BMI','Polio','Tot_Exp','Diphtheria','GDP','Population','thinness_1to19_years','thinness_5to9_years','Income_Comp_Of_Resources','Schooling']"
   ]
  },
  {
   "cell_type": "code",
   "execution_count": 8,
   "id": "f87afd87",
   "metadata": {
    "execution": {
     "iopub.execute_input": "2023-01-31T09:30:30.419325Z",
     "iopub.status.busy": "2023-01-31T09:30:30.418345Z",
     "iopub.status.idle": "2023-01-31T09:30:32.207407Z",
     "shell.execute_reply": "2023-01-31T09:30:32.206119Z"
    },
    "papermill": {
     "duration": 1.806208,
     "end_time": "2023-01-31T09:30:32.210381",
     "exception": false,
     "start_time": "2023-01-31T09:30:30.404173",
     "status": "completed"
    },
    "tags": []
   },
   "outputs": [],
   "source": [
    "# Treat null values using interpolation.\n",
    "for country in country_list:\n",
    "    dataframe.loc[dataframe['Country'] == country,fill_list] = dataframe.loc[dataframe['Country'] == country,fill_list].interpolate()\n",
    "    \n",
    "# Drop remaining null values after interpolation.\n",
    "dataframe.dropna(inplace=True)"
   ]
  },
  {
   "cell_type": "code",
   "execution_count": 9,
   "id": "674b399e",
   "metadata": {
    "execution": {
     "iopub.execute_input": "2023-01-31T09:30:32.237434Z",
     "iopub.status.busy": "2023-01-31T09:30:32.236939Z",
     "iopub.status.idle": "2023-01-31T09:30:32.251722Z",
     "shell.execute_reply": "2023-01-31T09:30:32.250168Z"
    },
    "papermill": {
     "duration": 0.031849,
     "end_time": "2023-01-31T09:30:32.254760",
     "exception": false,
     "start_time": "2023-01-31T09:30:32.222911",
     "status": "completed"
    },
    "tags": []
   },
   "outputs": [
    {
     "data": {
      "text/plain": [
       "Country                     0\n",
       "Year                        0\n",
       "Status                      0\n",
       "Life_Expectancy             0\n",
       "Adult_Mortality             0\n",
       "Infant_Deaths               0\n",
       "Alcohol                     0\n",
       "Percentage_Exp              0\n",
       "HepatitisB                  0\n",
       "Measles                     0\n",
       "BMI                         0\n",
       "Under_Five_Deaths           0\n",
       "Polio                       0\n",
       "Tot_Exp                     0\n",
       "Diphtheria                  0\n",
       "HIV/AIDS                    0\n",
       "GDP                         0\n",
       "Population                  0\n",
       "thinness_1to19_years        0\n",
       "thinness_5to9_years         0\n",
       "Income_Comp_Of_Resources    0\n",
       "Schooling                   0\n",
       "dtype: int64"
      ]
     },
     "execution_count": 9,
     "metadata": {},
     "output_type": "execute_result"
    }
   ],
   "source": [
    "# Verifying null-values after applying above methods.\n",
    "dataframe.isnull().sum()"
   ]
  },
  {
   "cell_type": "markdown",
   "id": "d4fa2823",
   "metadata": {
    "papermill": {
     "duration": 0.012116,
     "end_time": "2023-01-31T09:30:32.279625",
     "exception": false,
     "start_time": "2023-01-31T09:30:32.267509",
     "status": "completed"
    },
    "tags": []
   },
   "source": [
    "## Data analysis\n",
    "We are gonna look for relevant correlations to decide which columns we will use to train our model<br>\n",
    "Let's start with some general statistics about our data"
   ]
  },
  {
   "cell_type": "code",
   "execution_count": 10,
   "id": "a2d98a0b",
   "metadata": {
    "execution": {
     "iopub.execute_input": "2023-01-31T09:30:32.306696Z",
     "iopub.status.busy": "2023-01-31T09:30:32.306207Z",
     "iopub.status.idle": "2023-01-31T09:30:32.499211Z",
     "shell.execute_reply": "2023-01-31T09:30:32.497863Z"
    },
    "papermill": {
     "duration": 0.209935,
     "end_time": "2023-01-31T09:30:32.501928",
     "exception": false,
     "start_time": "2023-01-31T09:30:32.291993",
     "status": "completed"
    },
    "tags": []
   },
   "outputs": [
    {
     "data": {
      "image/png": "[encoded data removed]",
      "text/plain": [
       "<Figure size 288x360 with 1 Axes>"
      ]
     },
     "metadata": {
      "needs_background": "light"
     },
     "output_type": "display_data"
    }
   ],
   "source": [
    "# Life_Expectancy w.r.t Year using bar plot.\n",
    "plt.figure(figsize=(4,5))\n",
    "plt.bar(dataframe.groupby('Status')['Status'].count().index,dataframe.groupby('Status')['Life_Expectancy'].mean(),color='blue',alpha=0.50)\n",
    "plt.xlabel(\"Country Status\",fontsize=12)\n",
    "plt.ylabel(\"Avg Life_Expectancy\",fontsize=12)\n",
    "plt.title(\"Life_Expectancy w.r.t Country Development\")\n",
    "plt.show()"
   ]
  },
  {
   "cell_type": "code",
   "execution_count": 11,
   "id": "6fc58cff",
   "metadata": {
    "execution": {
     "iopub.execute_input": "2023-01-31T09:30:32.529970Z",
     "iopub.status.busy": "2023-01-31T09:30:32.529491Z",
     "iopub.status.idle": "2023-01-31T09:30:32.546619Z",
     "shell.execute_reply": "2023-01-31T09:30:32.545194Z"
    },
    "papermill": {
     "duration": 0.033759,
     "end_time": "2023-01-31T09:30:32.549041",
     "exception": false,
     "start_time": "2023-01-31T09:30:32.515282",
     "status": "completed"
    },
    "tags": []
   },
   "outputs": [
    {
     "data": {
      "text/html": [
       "<div>\n",
       "<style scoped>\n",
       "    .dataframe tbody tr th:only-of-type {\n",
       "        vertical-align: middle;\n",
       "    }\n",
       "\n",
       "    .dataframe tbody tr th {\n",
       "        vertical-align: top;\n",
       "    }\n",
       "\n",
       "    .dataframe thead th {\n",
       "        text-align: right;\n",
       "    }\n",
       "</style>\n",
       "<table border=\"1\" class=\"dataframe\">\n",
       "  <thead>\n",
       "    <tr style=\"text-align: right;\">\n",
       "      <th></th>\n",
       "      <th>Life_Expectancy</th>\n",
       "    </tr>\n",
       "    <tr>\n",
       "      <th>Status</th>\n",
       "      <th></th>\n",
       "    </tr>\n",
       "  </thead>\n",
       "  <tbody>\n",
       "    <tr>\n",
       "      <th>Developed</th>\n",
       "      <td>78.83</td>\n",
       "    </tr>\n",
       "    <tr>\n",
       "      <th>Developing</th>\n",
       "      <td>66.16</td>\n",
       "    </tr>\n",
       "  </tbody>\n",
       "</table>\n",
       "</div>"
      ],
      "text/plain": [
       "            Life_Expectancy\n",
       "Status                     \n",
       "Developed             78.83\n",
       "Developing            66.16"
      ]
     },
     "execution_count": 11,
     "metadata": {},
     "output_type": "execute_result"
    }
   ],
   "source": [
    "round(dataframe[['Status','Life_Expectancy']].groupby(['Status']).mean(),2)"
   ]
  },
  {
   "cell_type": "code",
   "execution_count": 12,
   "id": "c4a30ed3",
   "metadata": {
    "execution": {
     "iopub.execute_input": "2023-01-31T09:30:32.577191Z",
     "iopub.status.busy": "2023-01-31T09:30:32.576618Z",
     "iopub.status.idle": "2023-01-31T09:30:32.772765Z",
     "shell.execute_reply": "2023-01-31T09:30:32.771552Z"
    },
    "papermill": {
     "duration": 0.213046,
     "end_time": "2023-01-31T09:30:32.775238",
     "exception": false,
     "start_time": "2023-01-31T09:30:32.562192",
     "status": "completed"
    },
    "tags": []
   },
   "outputs": [
    {
     "data": {
      "image/png": "[encoded data removed]",
      "text/plain": [
       "<Figure size 504x360 with 1 Axes>"
      ]
     },
     "metadata": {
      "needs_background": "light"
     },
     "output_type": "display_data"
    }
   ],
   "source": [
    "# Life_Expectancy w.r.t Year using bar plot.\n",
    "plt.figure(figsize=(7,5))\n",
    "plt.bar(dataframe.groupby('Year')['Year'].count().index,dataframe.groupby('Year')['Life_Expectancy'].mean(),color='pink',alpha=0.65)\n",
    "plt.xlabel(\"Year\",fontsize=12)\n",
    "plt.ylabel(\"Avg Life_Expectancy\",fontsize=12)\n",
    "plt.title(\"Life_Expectancy w.r.t Year\")\n",
    "plt.show()"
   ]
  },
  {
   "cell_type": "markdown",
   "id": "ddd35353",
   "metadata": {
    "papermill": {
     "duration": 0.01304,
     "end_time": "2023-01-31T09:30:32.801497",
     "exception": false,
     "start_time": "2023-01-31T09:30:32.788457",
     "status": "completed"
    },
    "tags": []
   },
   "source": [
    "So there is a definite difference between developed countries and the rest, but at least the life expectancy improves every year.\n",
    "Now let's try to figure out wich features affect life expectancy the most."
   ]
  },
  {
   "cell_type": "code",
   "execution_count": 13,
   "id": "c0f614c7",
   "metadata": {
    "execution": {
     "iopub.execute_input": "2023-01-31T09:30:32.830076Z",
     "iopub.status.busy": "2023-01-31T09:30:32.829589Z",
     "iopub.status.idle": "2023-01-31T09:30:33.059880Z",
     "shell.execute_reply": "2023-01-31T09:30:33.058636Z"
    },
    "papermill": {
     "duration": 0.247768,
     "end_time": "2023-01-31T09:30:33.062678",
     "exception": false,
     "start_time": "2023-01-31T09:30:32.814910",
     "status": "completed"
    },
    "tags": []
   },
   "outputs": [
    {
     "data": {
      "text/plain": [
       "<matplotlib.collections.PathCollection at 0x7f66d71f3d10>"
      ]
     },
     "execution_count": 13,
     "metadata": {},
     "output_type": "execute_result"
    },
    {
     "data": {
      "image/png": "[encoded data removed]",
      "text/plain": [
       "<Figure size 504x360 with 1 Axes>"
      ]
     },
     "metadata": {
      "needs_background": "light"
     },
     "output_type": "display_data"
    }
   ],
   "source": [
    "plt.figure(figsize=(7,5))\n",
    "plt.title(\"LifeExpectancy w.r.t Income_Comp_Of_Resources\")\n",
    "plt.xlabel(\"Income\",fontsize=12)\n",
    "plt.ylabel(\"Life_Expectancy\",fontsize=12)\n",
    "plt.scatter(dataframe[\"Income_Comp_Of_Resources\"], dataframe[\"Life_Expectancy\"])"
   ]
  },
  {
   "cell_type": "code",
   "execution_count": 14,
   "id": "9a1d33f1",
   "metadata": {
    "execution": {
     "iopub.execute_input": "2023-01-31T09:30:33.094169Z",
     "iopub.status.busy": "2023-01-31T09:30:33.093458Z",
     "iopub.status.idle": "2023-01-31T09:30:33.457081Z",
     "shell.execute_reply": "2023-01-31T09:30:33.455769Z"
    },
    "papermill": {
     "duration": 0.382498,
     "end_time": "2023-01-31T09:30:33.459767",
     "exception": false,
     "start_time": "2023-01-31T09:30:33.077269",
     "status": "completed"
    },
    "tags": []
   },
   "outputs": [
    {
     "data": {
      "text/plain": [
       "<matplotlib.collections.PathCollection at 0x7f66d4ef4ad0>"
      ]
     },
     "execution_count": 14,
     "metadata": {},
     "output_type": "execute_result"
    },
    {
     "data": {
      "image/png": "[encoded data removed]",
      "text/plain": [
       "<Figure size 504x360 with 1 Axes>"
      ]
     },
     "metadata": {
      "needs_background": "light"
     },
     "output_type": "display_data"
    }
   ],
   "source": [
    "plt.figure(figsize=(7,5))\n",
    "plt.title(\"LifeExpectancy w.r.t years spent in school\")\n",
    "plt.xlabel(\"Years of schooling\",fontsize=12)\n",
    "plt.ylabel(\"Life_Expectancy\",fontsize=12)\n",
    "plt.scatter(dataframe[\"Schooling\"], dataframe[\"Life_Expectancy\"])"
   ]
  },
  {
   "cell_type": "code",
   "execution_count": 15,
   "id": "27ed012e",
   "metadata": {
    "execution": {
     "iopub.execute_input": "2023-01-31T09:30:33.491604Z",
     "iopub.status.busy": "2023-01-31T09:30:33.491140Z",
     "iopub.status.idle": "2023-01-31T09:30:33.709654Z",
     "shell.execute_reply": "2023-01-31T09:30:33.708464Z"
    },
    "papermill": {
     "duration": 0.237293,
     "end_time": "2023-01-31T09:30:33.712406",
     "exception": false,
     "start_time": "2023-01-31T09:30:33.475113",
     "status": "completed"
    },
    "tags": []
   },
   "outputs": [
    {
     "data": {
      "text/plain": [
       "<matplotlib.collections.PathCollection at 0x7f6713befb90>"
      ]
     },
     "execution_count": 15,
     "metadata": {},
     "output_type": "execute_result"
    },
    {
     "data": {
      "image/png": "[encoded data removed]",
      "text/plain": [
       "<Figure size 504x360 with 1 Axes>"
      ]
     },
     "metadata": {
      "needs_background": "light"
     },
     "output_type": "display_data"
    }
   ],
   "source": [
    "plt.figure(figsize=(7,5))\n",
    "plt.title(\"Income w.r.t years spent in school\")\n",
    "plt.xlabel(\"Years of schooling\",fontsize=12)\n",
    "plt.ylabel(\"Income\",fontsize=12)\n",
    "plt.scatter(dataframe[\"Schooling\"], dataframe[\"Income_Comp_Of_Resources\"])"
   ]
  },
  {
   "cell_type": "markdown",
   "id": "beb9fcfc",
   "metadata": {
    "papermill": {
     "duration": 0.015029,
     "end_time": "2023-01-31T09:30:33.743028",
     "exception": false,
     "start_time": "2023-01-31T09:30:33.727999",
     "status": "completed"
    },
    "tags": []
   },
   "source": [
    "We can infer that schooling and income composition are positively correlated between themselves and with life expectancy"
   ]
  },
  {
   "cell_type": "code",
   "execution_count": 16,
   "id": "993ae98b",
   "metadata": {
    "execution": {
     "iopub.execute_input": "2023-01-31T09:30:33.776162Z",
     "iopub.status.busy": "2023-01-31T09:30:33.775684Z",
     "iopub.status.idle": "2023-01-31T09:30:34.008305Z",
     "shell.execute_reply": "2023-01-31T09:30:34.007068Z"
    },
    "papermill": {
     "duration": 0.252952,
     "end_time": "2023-01-31T09:30:34.011273",
     "exception": false,
     "start_time": "2023-01-31T09:30:33.758321",
     "status": "completed"
    },
    "tags": []
   },
   "outputs": [
    {
     "data": {
      "text/plain": [
       "<matplotlib.collections.PathCollection at 0x7f66d72297d0>"
      ]
     },
     "execution_count": 16,
     "metadata": {},
     "output_type": "execute_result"
    },
    {
     "data": {
      "image/png": "[encoded data removed]",
      "text/plain": [
       "<Figure size 504x360 with 1 Axes>"
      ]
     },
     "metadata": {
      "needs_background": "light"
     },
     "output_type": "display_data"
    }
   ],
   "source": [
    "plt.figure(figsize=(7,5))\n",
    "plt.title(\"LifeExpectancy w.r.t Adult Mortality\")\n",
    "plt.xlabel(\"Adult Mortality\",fontsize=12)\n",
    "plt.ylabel(\"Life_Expectancy\",fontsize=12)\n",
    "plt.scatter(dataframe[\"Adult_Mortality\"], dataframe[\"Life_Expectancy\"])"
   ]
  },
  {
   "cell_type": "code",
   "execution_count": 17,
   "id": "594eb923",
   "metadata": {
    "execution": {
     "iopub.execute_input": "2023-01-31T09:30:34.044559Z",
     "iopub.status.busy": "2023-01-31T09:30:34.044126Z",
     "iopub.status.idle": "2023-01-31T09:30:34.271421Z",
     "shell.execute_reply": "2023-01-31T09:30:34.269782Z"
    },
    "papermill": {
     "duration": 0.247016,
     "end_time": "2023-01-31T09:30:34.274152",
     "exception": false,
     "start_time": "2023-01-31T09:30:34.027136",
     "status": "completed"
    },
    "tags": []
   },
   "outputs": [
    {
     "data": {
      "text/plain": [
       "<matplotlib.collections.PathCollection at 0x7f66d4e032d0>"
      ]
     },
     "execution_count": 17,
     "metadata": {},
     "output_type": "execute_result"
    },
    {
     "data": {
      "image/png": "[encoded data removed]",
      "text/plain": [
       "<Figure size 504x360 with 1 Axes>"
      ]
     },
     "metadata": {
      "needs_background": "light"
     },
     "output_type": "display_data"
    }
   ],
   "source": [
    "plt.figure(figsize=(7,5))\n",
    "plt.title(\"LifeExpectancy w.r.t GDP\")\n",
    "plt.xlabel(\"GDP\",fontsize=12)\n",
    "plt.ylabel(\"Life_Expectancy\",fontsize=12)\n",
    "plt.scatter(dataframe[\"GDP\"], dataframe[\"Life_Expectancy\"])"
   ]
  },
  {
   "cell_type": "code",
   "execution_count": 18,
   "id": "e62b9c24",
   "metadata": {
    "execution": {
     "iopub.execute_input": "2023-01-31T09:30:34.309688Z",
     "iopub.status.busy": "2023-01-31T09:30:34.308710Z",
     "iopub.status.idle": "2023-01-31T09:30:34.910157Z",
     "shell.execute_reply": "2023-01-31T09:30:34.908862Z"
    },
    "papermill": {
     "duration": 0.621464,
     "end_time": "2023-01-31T09:30:34.912798",
     "exception": false,
     "start_time": "2023-01-31T09:30:34.291334",
     "status": "completed"
    },
    "tags": []
   },
   "outputs": [
    {
     "data": {
      "text/plain": [
       "<matplotlib.collections.PathCollection at 0x7f66d4d27350>"
      ]
     },
     "execution_count": 18,
     "metadata": {},
     "output_type": "execute_result"
    },
    {
     "data": {
      "image/png": "[encoded data removed]",
      "text/plain": [
       "<Figure size 864x2736 with 4 Axes>"
      ]
     },
     "metadata": {
      "needs_background": "light"
     },
     "output_type": "display_data"
    }
   ],
   "source": [
    "plt.figure(figsize=(12, 38))\n",
    "\n",
    "plt.subplot(8,2,1)\n",
    "plt.title(\"LifeExpectancy & GDP\")\n",
    "plt.scatter(dataframe[\"GDP\"], dataframe[\"Life_Expectancy\"])\n",
    "\n",
    "plt.subplot(8,2,2)\n",
    "plt.title(\"LifeExpectancy & Adult Mortality\")\n",
    "plt.scatter(dataframe[\"Adult_Mortality\"], dataframe[\"Life_Expectancy\"])\n",
    "\n",
    "plt.subplot(8,2,3)\n",
    "plt.title(\"LifeExpectancy & Schooling\")\n",
    "plt.scatter(dataframe[\"Schooling\"], dataframe[\"Life_Expectancy\"])\n",
    "\n",
    "plt.subplot(8,2,4)\n",
    "plt.title(\"LifeExpectancy & Income_Comp_Of_Resources\")\n",
    "plt.scatter(dataframe[\"Income_Comp_Of_Resources\"], dataframe[\"Life_Expectancy\"])"
   ]
  },
  {
   "cell_type": "markdown",
   "id": "4350d719",
   "metadata": {
    "papermill": {
     "duration": 0.016932,
     "end_time": "2023-01-31T09:30:34.946851",
     "exception": false,
     "start_time": "2023-01-31T09:30:34.929919",
     "status": "completed"
    },
    "tags": []
   },
   "source": [
    "The four features shown above plus the status of the country will be used for building the machine learning model"
   ]
  },
  {
   "cell_type": "markdown",
   "id": "749b2369",
   "metadata": {
    "papermill": {
     "duration": 0.016606,
     "end_time": "2023-01-31T09:30:34.980282",
     "exception": false,
     "start_time": "2023-01-31T09:30:34.963676",
     "status": "completed"
    },
    "tags": []
   },
   "source": [
    "## Data loaders\n",
    "Now I will prepare the designated column into the data that will be used in the ml model"
   ]
  },
  {
   "cell_type": "code",
   "execution_count": 19,
   "id": "f583eeaf",
   "metadata": {
    "execution": {
     "iopub.execute_input": "2023-01-31T09:30:35.016263Z",
     "iopub.status.busy": "2023-01-31T09:30:35.015800Z",
     "iopub.status.idle": "2023-01-31T09:30:35.034858Z",
     "shell.execute_reply": "2023-01-31T09:30:35.033140Z"
    },
    "papermill": {
     "duration": 0.040155,
     "end_time": "2023-01-31T09:30:35.037412",
     "exception": false,
     "start_time": "2023-01-31T09:30:34.997257",
     "status": "completed"
    },
    "tags": []
   },
   "outputs": [
    {
     "data": {
      "text/html": [
       "<div>\n",
       "<style scoped>\n",
       "    .dataframe tbody tr th:only-of-type {\n",
       "        vertical-align: middle;\n",
       "    }\n",
       "\n",
       "    .dataframe tbody tr th {\n",
       "        vertical-align: top;\n",
       "    }\n",
       "\n",
       "    .dataframe thead th {\n",
       "        text-align: right;\n",
       "    }\n",
       "</style>\n",
       "<table border=\"1\" class=\"dataframe\">\n",
       "  <thead>\n",
       "    <tr style=\"text-align: right;\">\n",
       "      <th></th>\n",
       "      <th>Status</th>\n",
       "      <th>GDP</th>\n",
       "      <th>Adult_Mortality</th>\n",
       "      <th>Schooling</th>\n",
       "      <th>Income_Comp_Of_Resources</th>\n",
       "    </tr>\n",
       "  </thead>\n",
       "  <tbody>\n",
       "    <tr>\n",
       "      <th>0</th>\n",
       "      <td>Developing</td>\n",
       "      <td>584.259210</td>\n",
       "      <td>263.0</td>\n",
       "      <td>10.1</td>\n",
       "      <td>0.479</td>\n",
       "    </tr>\n",
       "    <tr>\n",
       "      <th>1</th>\n",
       "      <td>Developing</td>\n",
       "      <td>612.696514</td>\n",
       "      <td>271.0</td>\n",
       "      <td>10.0</td>\n",
       "      <td>0.476</td>\n",
       "    </tr>\n",
       "    <tr>\n",
       "      <th>2</th>\n",
       "      <td>Developing</td>\n",
       "      <td>631.744976</td>\n",
       "      <td>268.0</td>\n",
       "      <td>9.9</td>\n",
       "      <td>0.470</td>\n",
       "    </tr>\n",
       "    <tr>\n",
       "      <th>3</th>\n",
       "      <td>Developing</td>\n",
       "      <td>669.959000</td>\n",
       "      <td>272.0</td>\n",
       "      <td>9.8</td>\n",
       "      <td>0.463</td>\n",
       "    </tr>\n",
       "    <tr>\n",
       "      <th>4</th>\n",
       "      <td>Developing</td>\n",
       "      <td>63.537231</td>\n",
       "      <td>275.0</td>\n",
       "      <td>9.5</td>\n",
       "      <td>0.454</td>\n",
       "    </tr>\n",
       "  </tbody>\n",
       "</table>\n",
       "</div>"
      ],
      "text/plain": [
       "       Status         GDP  Adult_Mortality  Schooling  \\\n",
       "0  Developing  584.259210            263.0       10.1   \n",
       "1  Developing  612.696514            271.0       10.0   \n",
       "2  Developing  631.744976            268.0        9.9   \n",
       "3  Developing  669.959000            272.0        9.8   \n",
       "4  Developing   63.537231            275.0        9.5   \n",
       "\n",
       "   Income_Comp_Of_Resources  \n",
       "0                     0.479  \n",
       "1                     0.476  \n",
       "2                     0.470  \n",
       "3                     0.463  \n",
       "4                     0.454  "
      ]
     },
     "execution_count": 19,
     "metadata": {},
     "output_type": "execute_result"
    }
   ],
   "source": [
    "# label the designated data\n",
    "num_rows = dataframe.index.size\n",
    "categorical_cols = ['Status']\n",
    "TARGET_COLUMN = ['Life_Expectancy']\n",
    "inputs = ['Status', 'GDP', 'Adult_Mortality', 'Schooling', 'Income_Comp_Of_Resources']\n",
    "dataframe[inputs].head()"
   ]
  },
  {
   "cell_type": "code",
   "execution_count": 20,
   "id": "78d3a9c1",
   "metadata": {
    "execution": {
     "iopub.execute_input": "2023-01-31T09:30:35.074201Z",
     "iopub.status.busy": "2023-01-31T09:30:35.073732Z",
     "iopub.status.idle": "2023-01-31T09:30:35.080748Z",
     "shell.execute_reply": "2023-01-31T09:30:35.079590Z"
    },
    "papermill": {
     "duration": 0.027878,
     "end_time": "2023-01-31T09:30:35.083061",
     "exception": false,
     "start_time": "2023-01-31T09:30:35.055183",
     "status": "completed"
    },
    "tags": []
   },
   "outputs": [],
   "source": [
    "# Convert from Pandas dataframe to numpy arrays\n",
    "def dataframe_to_arrays(dataframe):\n",
    "    # Make a copy of the original dataframe\n",
    "    dataframe1 = dataframe.copy(deep=True)\n",
    "    # Convert non-numeric categorical columns to numbers\n",
    "    for col in categorical_cols:\n",
    "        dataframe1[col] = dataframe1[col].astype('category').cat.codes\n",
    "    # Extract input & outupts as numpy arrays\n",
    "    inputs_array = dataframe1[inputs].to_numpy()\n",
    "    targets_array = dataframe1[TARGET_COLUMN].to_numpy()\n",
    "    return inputs_array, targets_array"
   ]
  },
  {
   "cell_type": "code",
   "execution_count": 21,
   "id": "688307ae",
   "metadata": {
    "execution": {
     "iopub.execute_input": "2023-01-31T09:30:35.119750Z",
     "iopub.status.busy": "2023-01-31T09:30:35.119115Z",
     "iopub.status.idle": "2023-01-31T09:30:35.133016Z",
     "shell.execute_reply": "2023-01-31T09:30:35.131782Z"
    },
    "papermill": {
     "duration": 0.035546,
     "end_time": "2023-01-31T09:30:35.135615",
     "exception": false,
     "start_time": "2023-01-31T09:30:35.100069",
     "status": "completed"
    },
    "tags": []
   },
   "outputs": [
    {
     "data": {
      "text/plain": [
       "(array([[1.00000000e+00, 5.84259210e+02, 2.63000000e+02, 1.01000000e+01,\n",
       "         4.79000000e-01],\n",
       "        [1.00000000e+00, 6.12696514e+02, 2.71000000e+02, 1.00000000e+01,\n",
       "         4.76000000e-01],\n",
       "        [1.00000000e+00, 6.31744976e+02, 2.68000000e+02, 9.90000000e+00,\n",
       "         4.70000000e-01],\n",
       "        ...,\n",
       "        [1.00000000e+00, 5.73483400e+01, 7.30000000e+01, 1.00000000e+01,\n",
       "         4.27000000e-01],\n",
       "        [1.00000000e+00, 5.48587312e+02, 6.86000000e+02, 9.80000000e+00,\n",
       "         4.27000000e-01],\n",
       "        [1.00000000e+00, 5.47358878e+02, 6.65000000e+02, 9.80000000e+00,\n",
       "         4.34000000e-01]]),\n",
       " array([[65. ],\n",
       "        [59.9],\n",
       "        [59.9],\n",
       "        ...,\n",
       "        [44.8],\n",
       "        [45.3],\n",
       "        [46. ]]))"
      ]
     },
     "execution_count": 21,
     "metadata": {},
     "output_type": "execute_result"
    }
   ],
   "source": [
    "inputs, targets = dataframe_to_arrays(dataframe)\n",
    "inputs, targets"
   ]
  },
  {
   "cell_type": "code",
   "execution_count": 22,
   "id": "642f7932",
   "metadata": {
    "execution": {
     "iopub.execute_input": "2023-01-31T09:30:35.172886Z",
     "iopub.status.busy": "2023-01-31T09:30:35.172067Z",
     "iopub.status.idle": "2023-01-31T09:30:35.179215Z",
     "shell.execute_reply": "2023-01-31T09:30:35.178054Z"
    },
    "papermill": {
     "duration": 0.028594,
     "end_time": "2023-01-31T09:30:35.181656",
     "exception": false,
     "start_time": "2023-01-31T09:30:35.153062",
     "status": "completed"
    },
    "tags": []
   },
   "outputs": [
    {
     "data": {
      "text/plain": [
       "((1987, 5), (1987, 1))"
      ]
     },
     "execution_count": 22,
     "metadata": {},
     "output_type": "execute_result"
    }
   ],
   "source": [
    "inputs.shape, targets.shape"
   ]
  },
  {
   "cell_type": "code",
   "execution_count": 23,
   "id": "52b47c9e",
   "metadata": {
    "execution": {
     "iopub.execute_input": "2023-01-31T09:30:35.218529Z",
     "iopub.status.busy": "2023-01-31T09:30:35.217862Z",
     "iopub.status.idle": "2023-01-31T09:30:35.227573Z",
     "shell.execute_reply": "2023-01-31T09:30:35.226657Z"
    },
    "papermill": {
     "duration": 0.031198,
     "end_time": "2023-01-31T09:30:35.230039",
     "exception": false,
     "start_time": "2023-01-31T09:30:35.198841",
     "status": "completed"
    },
    "tags": []
   },
   "outputs": [],
   "source": [
    "# Convert to PyTorch dataset\n",
    "dataset = TensorDataset(torch.tensor(inputs, dtype=torch.float32), torch.tensor(targets, dtype=torch.float32))\n",
    "\n",
    "val_percent = 0.15 # between 0.1 and 0.2\n",
    "val_size = int(num_rows * val_percent)\n",
    "train_size = num_rows - val_size\n",
    "\n",
    "train_ds, val_ds = random_split(dataset, [train_size, val_size])\n",
    "\n",
    "batch_size=2**9\n",
    "train_loader = DataLoader(train_ds, batch_size, shuffle=True)\n",
    "val_loader = DataLoader(val_ds, batch_size*2)"
   ]
  },
  {
   "cell_type": "markdown",
   "id": "7c978cfa",
   "metadata": {
    "papermill": {
     "duration": 0.016887,
     "end_time": "2023-01-31T09:30:35.264752",
     "exception": false,
     "start_time": "2023-01-31T09:30:35.247865",
     "status": "completed"
    },
    "tags": []
   },
   "source": [
    "## Model"
   ]
  },
  {
   "cell_type": "code",
   "execution_count": 24,
   "id": "a2c29f34",
   "metadata": {
    "execution": {
     "iopub.execute_input": "2023-01-31T09:30:35.302288Z",
     "iopub.status.busy": "2023-01-31T09:30:35.301578Z",
     "iopub.status.idle": "2023-01-31T09:30:35.311826Z",
     "shell.execute_reply": "2023-01-31T09:30:35.310912Z"
    },
    "papermill": {
     "duration": 0.031572,
     "end_time": "2023-01-31T09:30:35.314357",
     "exception": false,
     "start_time": "2023-01-31T09:30:35.282785",
     "status": "completed"
    },
    "tags": []
   },
   "outputs": [],
   "source": [
    "class LifeModel(nn.Module):\n",
    "    def __init__(self):\n",
    "        super().__init__()\n",
    "        self.linear = nn.Linear(input_size, output_size)\n",
    "        \n",
    "    def forward(self, xb):\n",
    "        out = self.linear(xb)\n",
    "        return out\n",
    "    \n",
    "    def training_step(self, batch):\n",
    "        inputs, targets = batch \n",
    "        out = self(inputs)                 # Generate predictions\n",
    "        loss = F.l1_loss(out, targets)    # Calculate loss\n",
    "        return loss\n",
    "    \n",
    "    def validation_step(self, batch):\n",
    "        inputs, targets = batch \n",
    "        out = self(inputs)                 # Generate predictions\n",
    "        loss = F.l1_loss(out, targets)    # Calculate loss\n",
    "        return {'val_loss': loss.detach()}\n",
    "        \n",
    "    def validation_epoch_end(self, outputs):\n",
    "        batch_losses = [x['val_loss'] for x in outputs]\n",
    "        epoch_loss = torch.stack(batch_losses).mean()   # Combine losses\n",
    "        return {'val_loss': epoch_loss.item()}\n",
    "    \n",
    "    def epoch_end(self, epoch, result, num_epochs):\n",
    "        # Print result every 50th epoch\n",
    "        if (epoch+1) % 50 == 0 or epoch == num_epochs-1:\n",
    "            print(\"Epoch [{}], val_loss: {:.4f}\".format(epoch+1, result['val_loss']))"
   ]
  },
  {
   "cell_type": "markdown",
   "id": "cd6d00f2",
   "metadata": {
    "papermill": {
     "duration": 0.017689,
     "end_time": "2023-01-31T09:30:35.349492",
     "exception": false,
     "start_time": "2023-01-31T09:30:35.331803",
     "status": "completed"
    },
    "tags": []
   },
   "source": [
    "## Training"
   ]
  },
  {
   "cell_type": "code",
   "execution_count": 25,
   "id": "deab16ba",
   "metadata": {
    "execution": {
     "iopub.execute_input": "2023-01-31T09:30:35.387864Z",
     "iopub.status.busy": "2023-01-31T09:30:35.387411Z",
     "iopub.status.idle": "2023-01-31T09:30:35.418470Z",
     "shell.execute_reply": "2023-01-31T09:30:35.417112Z"
    },
    "papermill": {
     "duration": 0.057056,
     "end_time": "2023-01-31T09:30:35.425078",
     "exception": false,
     "start_time": "2023-01-31T09:30:35.368022",
     "status": "completed"
    },
    "tags": []
   },
   "outputs": [
    {
     "name": "stdout",
     "output_type": "stream",
     "text": [
      "inputs: tensor([[1.0000e+00, 9.8924e+02, 3.6500e+02, 6.7000e+00, 3.7000e-01],\n",
      "        [1.0000e+00, 4.4372e+03, 8.8000e+01, 1.3300e+01, 7.3800e-01],\n",
      "        [1.0000e+00, 2.2325e+03, 2.2100e+02, 1.1000e+01, 0.0000e+00],\n",
      "        ...,\n",
      "        [1.0000e+00, 8.3796e+02, 2.5100e+02, 1.0000e+01, 4.5800e-01],\n",
      "        [1.0000e+00, 1.8677e+02, 2.7100e+02, 1.0400e+01, 5.4200e-01],\n",
      "        [1.0000e+00, 3.9881e+03, 1.5000e+01, 1.2300e+01, 6.7500e-01]])\n",
      "targets: tensor([[51.6000],\n",
      "        [76.6000],\n",
      "        [67.9000],\n",
      "        [71.9000],\n",
      "        [65.4000],\n",
      "        [71.9000],\n",
      "        [72.8000],\n",
      "        [71.6000],\n",
      "        [71.2000],\n",
      "        [67.5000],\n",
      "        [65.0000],\n",
      "        [76.3000],\n",
      "        [63.0000],\n",
      "        [79.0000],\n",
      "        [62.3000],\n",
      "        [61.6000],\n",
      "        [71.8000],\n",
      "        [55.4000],\n",
      "        [67.3000],\n",
      "        [64.7000],\n",
      "        [79.8000],\n",
      "        [46.8000],\n",
      "        [55.6000],\n",
      "        [67.1000],\n",
      "        [67.9000],\n",
      "        [73.7000],\n",
      "        [75.5000],\n",
      "        [74.7000],\n",
      "        [74.4000],\n",
      "        [75.8000],\n",
      "        [44.6000],\n",
      "        [51.6000],\n",
      "        [66.2000],\n",
      "        [68.4000],\n",
      "        [48.7000],\n",
      "        [81.3000],\n",
      "        [65.0000],\n",
      "        [55.3000],\n",
      "        [62.0000],\n",
      "        [61.0000],\n",
      "        [52.2000],\n",
      "        [73.2000],\n",
      "        [58.1000],\n",
      "        [78.0000],\n",
      "        [74.9000],\n",
      "        [77.2000],\n",
      "        [67.2000],\n",
      "        [71.4000],\n",
      "        [72.1000],\n",
      "        [74.4000],\n",
      "        [58.9000],\n",
      "        [63.4000],\n",
      "        [86.0000],\n",
      "        [58.0000],\n",
      "        [72.0000],\n",
      "        [71.1000],\n",
      "        [65.8000],\n",
      "        [67.9000],\n",
      "        [73.8000],\n",
      "        [65.7000],\n",
      "        [74.9000],\n",
      "        [48.1000],\n",
      "        [54.2000],\n",
      "        [65.9000],\n",
      "        [59.9000],\n",
      "        [69.0000],\n",
      "        [72.4000],\n",
      "        [65.6000],\n",
      "        [73.4000],\n",
      "        [55.3000],\n",
      "        [77.7000],\n",
      "        [73.6000],\n",
      "        [73.2000],\n",
      "        [76.9000],\n",
      "        [72.0000],\n",
      "        [73.9000],\n",
      "        [51.0000],\n",
      "        [81.0000],\n",
      "        [58.2000],\n",
      "        [72.6000],\n",
      "        [58.8000],\n",
      "        [54.0000],\n",
      "        [66.6000],\n",
      "        [55.3000],\n",
      "        [59.8000],\n",
      "        [65.5000],\n",
      "        [62.8000],\n",
      "        [48.1000],\n",
      "        [74.8000],\n",
      "        [78.7000],\n",
      "        [75.4000],\n",
      "        [74.4000],\n",
      "        [81.7000],\n",
      "        [79.0000],\n",
      "        [65.2000],\n",
      "        [74.8000],\n",
      "        [71.9000],\n",
      "        [79.3000],\n",
      "        [69.9000],\n",
      "        [78.6000],\n",
      "        [82.0000],\n",
      "        [59.1000],\n",
      "        [56.9000],\n",
      "        [74.8000],\n",
      "        [50.0000],\n",
      "        [62.8000],\n",
      "        [57.9000],\n",
      "        [64.3000],\n",
      "        [73.6000],\n",
      "        [80.0000],\n",
      "        [71.0000],\n",
      "        [58.6000],\n",
      "        [57.6000],\n",
      "        [65.6000],\n",
      "        [57.7000],\n",
      "        [68.1000],\n",
      "        [45.1000],\n",
      "        [45.5000],\n",
      "        [59.5000],\n",
      "        [63.7000],\n",
      "        [62.7000],\n",
      "        [61.4000],\n",
      "        [66.0000],\n",
      "        [81.3000],\n",
      "        [77.3000],\n",
      "        [74.5000],\n",
      "        [72.6000],\n",
      "        [69.8000],\n",
      "        [74.0000],\n",
      "        [71.0000],\n",
      "        [76.4000],\n",
      "        [51.3000],\n",
      "        [66.2000],\n",
      "        [78.8000],\n",
      "        [75.7000],\n",
      "        [75.0000],\n",
      "        [78.9000],\n",
      "        [66.7000],\n",
      "        [65.8000],\n",
      "        [73.1000],\n",
      "        [78.4000],\n",
      "        [73.6000],\n",
      "        [67.5000],\n",
      "        [58.6000],\n",
      "        [69.3000],\n",
      "        [71.0000],\n",
      "        [75.1000],\n",
      "        [73.6000],\n",
      "        [78.4000],\n",
      "        [45.6000],\n",
      "        [75.0000],\n",
      "        [66.0000],\n",
      "        [62.4000],\n",
      "        [73.2000],\n",
      "        [75.0000],\n",
      "        [67.3000],\n",
      "        [69.6000],\n",
      "        [58.0000],\n",
      "        [53.0000],\n",
      "        [78.0000],\n",
      "        [61.7000],\n",
      "        [41.0000],\n",
      "        [79.9000],\n",
      "        [81.9000],\n",
      "        [88.0000],\n",
      "        [67.3000],\n",
      "        [71.8000],\n",
      "        [62.5000],\n",
      "        [56.4000],\n",
      "        [81.0000],\n",
      "        [75.9000],\n",
      "        [49.0000],\n",
      "        [47.8000],\n",
      "        [83.0000],\n",
      "        [56.8000],\n",
      "        [67.3000],\n",
      "        [61.1000],\n",
      "        [59.7000],\n",
      "        [74.0000],\n",
      "        [69.0000],\n",
      "        [73.0000],\n",
      "        [72.3000],\n",
      "        [57.3000],\n",
      "        [74.3000],\n",
      "        [62.8000],\n",
      "        [74.6000],\n",
      "        [84.0000],\n",
      "        [68.7000],\n",
      "        [63.8000],\n",
      "        [74.1000],\n",
      "        [53.0000],\n",
      "        [81.6000],\n",
      "        [71.4000],\n",
      "        [72.9000],\n",
      "        [71.0000],\n",
      "        [74.2000],\n",
      "        [69.6000],\n",
      "        [62.2000],\n",
      "        [73.0000],\n",
      "        [82.1000],\n",
      "        [74.7000],\n",
      "        [80.0000],\n",
      "        [75.3000],\n",
      "        [73.7000],\n",
      "        [49.2000],\n",
      "        [78.9000],\n",
      "        [76.3000],\n",
      "        [62.8000],\n",
      "        [78.2000],\n",
      "        [76.2000],\n",
      "        [79.3000],\n",
      "        [63.0000],\n",
      "        [75.5000],\n",
      "        [80.0000],\n",
      "        [67.5000],\n",
      "        [43.1000],\n",
      "        [72.5000],\n",
      "        [61.7000],\n",
      "        [74.4000],\n",
      "        [39.0000],\n",
      "        [54.3000],\n",
      "        [67.4000],\n",
      "        [62.1000],\n",
      "        [78.5000],\n",
      "        [62.1000],\n",
      "        [75.1000],\n",
      "        [73.0000],\n",
      "        [71.7000],\n",
      "        [56.1000],\n",
      "        [74.5000],\n",
      "        [43.5000],\n",
      "        [68.8000],\n",
      "        [74.5000],\n",
      "        [48.5000],\n",
      "        [81.9000],\n",
      "        [76.1000],\n",
      "        [81.4000],\n",
      "        [73.0000],\n",
      "        [47.1000],\n",
      "        [64.2000],\n",
      "        [71.5000],\n",
      "        [76.0000],\n",
      "        [62.0000],\n",
      "        [81.2000],\n",
      "        [73.9000],\n",
      "        [55.9000],\n",
      "        [81.3000],\n",
      "        [79.7000],\n",
      "        [73.5000],\n",
      "        [75.0000],\n",
      "        [89.0000],\n",
      "        [73.0000],\n",
      "        [74.3000],\n",
      "        [72.0000],\n",
      "        [73.1000],\n",
      "        [61.4000],\n",
      "        [67.0000],\n",
      "        [77.6000],\n",
      "        [72.7000],\n",
      "        [61.8000],\n",
      "        [73.4000],\n",
      "        [72.9000],\n",
      "        [52.1000],\n",
      "        [53.2000],\n",
      "        [81.4000],\n",
      "        [62.5000],\n",
      "        [78.9000],\n",
      "        [71.0000],\n",
      "        [54.5000],\n",
      "        [66.0000],\n",
      "        [69.1000],\n",
      "        [73.6000],\n",
      "        [50.0000],\n",
      "        [76.1000],\n",
      "        [72.1000],\n",
      "        [81.6000],\n",
      "        [82.0000],\n",
      "        [63.3000],\n",
      "        [63.1000],\n",
      "        [78.7000],\n",
      "        [72.9000],\n",
      "        [71.5000],\n",
      "        [73.2000],\n",
      "        [76.4000],\n",
      "        [74.1000],\n",
      "        [74.3000],\n",
      "        [68.7000],\n",
      "        [73.5000],\n",
      "        [69.5000],\n",
      "        [58.9000],\n",
      "        [73.0000],\n",
      "        [56.8000],\n",
      "        [59.1000],\n",
      "        [52.4000],\n",
      "        [44.3000],\n",
      "        [62.1000],\n",
      "        [71.4000],\n",
      "        [49.8000],\n",
      "        [71.9000],\n",
      "        [75.0000],\n",
      "        [68.0000],\n",
      "        [88.0000],\n",
      "        [61.0000],\n",
      "        [73.9000],\n",
      "        [46.0000],\n",
      "        [55.0000],\n",
      "        [56.1000],\n",
      "        [64.1000],\n",
      "        [73.2000],\n",
      "        [73.9000],\n",
      "        [73.9000],\n",
      "        [68.5000],\n",
      "        [75.9000],\n",
      "        [81.9000],\n",
      "        [76.8000],\n",
      "        [64.9000],\n",
      "        [74.5000],\n",
      "        [63.3000],\n",
      "        [56.9000],\n",
      "        [58.5000],\n",
      "        [57.5000],\n",
      "        [78.3000],\n",
      "        [74.2000],\n",
      "        [64.5000],\n",
      "        [73.3000],\n",
      "        [50.0000],\n",
      "        [58.9000],\n",
      "        [53.4000],\n",
      "        [64.3000],\n",
      "        [79.0000],\n",
      "        [69.5000],\n",
      "        [77.2000],\n",
      "        [74.0000],\n",
      "        [64.6000],\n",
      "        [77.0000],\n",
      "        [76.0000],\n",
      "        [55.5000],\n",
      "        [72.6000],\n",
      "        [73.9000],\n",
      "        [46.2000],\n",
      "        [45.9000],\n",
      "        [75.3000],\n",
      "        [76.2000],\n",
      "        [79.4000],\n",
      "        [83.0000],\n",
      "        [76.5000],\n",
      "        [79.5000],\n",
      "        [61.0000],\n",
      "        [73.0000],\n",
      "        [43.8000],\n",
      "        [75.0000],\n",
      "        [48.6000],\n",
      "        [66.8000],\n",
      "        [74.9000],\n",
      "        [51.4000],\n",
      "        [77.0000],\n",
      "        [46.0000],\n",
      "        [71.2000],\n",
      "        [85.0000],\n",
      "        [68.1000],\n",
      "        [68.9000],\n",
      "        [78.7000],\n",
      "        [74.2000],\n",
      "        [67.6000],\n",
      "        [82.0000],\n",
      "        [75.2000],\n",
      "        [75.4000],\n",
      "        [59.7000],\n",
      "        [64.3000],\n",
      "        [67.5000],\n",
      "        [62.9000],\n",
      "        [63.5000],\n",
      "        [75.2000],\n",
      "        [71.5000],\n",
      "        [54.4000],\n",
      "        [66.4000],\n",
      "        [55.2000],\n",
      "        [74.6000],\n",
      "        [72.8000],\n",
      "        [72.9000],\n",
      "        [72.1000],\n",
      "        [73.5000],\n",
      "        [71.4000],\n",
      "        [64.0000],\n",
      "        [62.9000],\n",
      "        [81.6000],\n",
      "        [67.8000],\n",
      "        [52.3000],\n",
      "        [81.0000],\n",
      "        [72.2000],\n",
      "        [69.4000],\n",
      "        [74.2000],\n",
      "        [88.0000],\n",
      "        [88.0000],\n",
      "        [78.8000],\n",
      "        [73.4000],\n",
      "        [81.1000],\n",
      "        [74.1000],\n",
      "        [58.6000],\n",
      "        [73.0000],\n",
      "        [73.3000],\n",
      "        [68.0000],\n",
      "        [64.8000],\n",
      "        [73.7000],\n",
      "        [52.5000],\n",
      "        [56.7000],\n",
      "        [74.0000],\n",
      "        [71.2000],\n",
      "        [71.1000],\n",
      "        [62.8000],\n",
      "        [56.5000],\n",
      "        [63.0000],\n",
      "        [47.8000],\n",
      "        [75.8000],\n",
      "        [73.6000],\n",
      "        [81.2000],\n",
      "        [74.4000],\n",
      "        [72.5000],\n",
      "        [71.6000],\n",
      "        [75.3000],\n",
      "        [62.8000],\n",
      "        [67.4000],\n",
      "        [79.5000],\n",
      "        [64.0000],\n",
      "        [76.4000],\n",
      "        [68.4000],\n",
      "        [63.0000],\n",
      "        [72.5000],\n",
      "        [78.7000],\n",
      "        [74.9000],\n",
      "        [73.0000],\n",
      "        [71.8000],\n",
      "        [81.1000],\n",
      "        [59.3000],\n",
      "        [75.6000],\n",
      "        [69.7000],\n",
      "        [71.8000],\n",
      "        [57.6000],\n",
      "        [66.0000],\n",
      "        [74.2000],\n",
      "        [76.1000],\n",
      "        [68.1000],\n",
      "        [67.6000],\n",
      "        [71.1000],\n",
      "        [62.3000],\n",
      "        [51.5000],\n",
      "        [66.4000],\n",
      "        [51.9000],\n",
      "        [75.7000],\n",
      "        [69.4000],\n",
      "        [62.1000],\n",
      "        [78.4000],\n",
      "        [72.9000],\n",
      "        [53.3000],\n",
      "        [83.0000],\n",
      "        [67.3000],\n",
      "        [52.1000],\n",
      "        [69.4000],\n",
      "        [54.8000],\n",
      "        [81.7000],\n",
      "        [51.3000],\n",
      "        [78.1000],\n",
      "        [69.4000],\n",
      "        [74.5000],\n",
      "        [74.7000],\n",
      "        [72.2000],\n",
      "        [64.9000],\n",
      "        [71.5000],\n",
      "        [52.7000],\n",
      "        [71.7000],\n",
      "        [74.6000],\n",
      "        [65.8000],\n",
      "        [75.8000],\n",
      "        [76.9000],\n",
      "        [79.3000],\n",
      "        [73.1000],\n",
      "        [53.8000],\n",
      "        [72.6000],\n",
      "        [54.0000],\n",
      "        [64.8000],\n",
      "        [56.2000],\n",
      "        [69.1000],\n",
      "        [57.6000],\n",
      "        [74.7000],\n",
      "        [76.0000],\n",
      "        [48.2000],\n",
      "        [73.0000],\n",
      "        [69.5000],\n",
      "        [67.9000],\n",
      "        [81.7000],\n",
      "        [75.4000],\n",
      "        [77.3000],\n",
      "        [69.9000],\n",
      "        [69.3000],\n",
      "        [48.1000],\n",
      "        [78.1000],\n",
      "        [59.2000],\n",
      "        [74.1000],\n",
      "        [74.3000],\n",
      "        [64.4000],\n",
      "        [51.2000],\n",
      "        [50.0000],\n",
      "        [72.7000],\n",
      "        [63.5000],\n",
      "        [72.1000],\n",
      "        [66.6000],\n",
      "        [66.5000],\n",
      "        [58.7000],\n",
      "        [78.2000],\n",
      "        [59.3000],\n",
      "        [66.0000],\n",
      "        [73.4000]])\n"
     ]
    }
   ],
   "source": [
    "for xb, yb in train_loader:\n",
    "    print(\"inputs:\", xb)\n",
    "    print(\"targets:\", yb)\n",
    "    break"
   ]
  },
  {
   "cell_type": "code",
   "execution_count": 26,
   "id": "94b29383",
   "metadata": {
    "execution": {
     "iopub.execute_input": "2023-01-31T09:30:35.466116Z",
     "iopub.status.busy": "2023-01-31T09:30:35.464699Z",
     "iopub.status.idle": "2023-01-31T09:30:35.473734Z",
     "shell.execute_reply": "2023-01-31T09:30:35.472524Z"
    },
    "papermill": {
     "duration": 0.031131,
     "end_time": "2023-01-31T09:30:35.476399",
     "exception": false,
     "start_time": "2023-01-31T09:30:35.445268",
     "status": "completed"
    },
    "tags": []
   },
   "outputs": [],
   "source": [
    "def evaluate(model, val_loader):\n",
    "    outputs = [model.validation_step(batch) for batch in val_loader]\n",
    "    return model.validation_epoch_end(outputs)\n",
    "\n",
    "def fit(epochs, lr, model, train_loader, val_loader, opt_func=torch.optim.Adam):\n",
    "    history = []\n",
    "    optimizer = opt_func(model.parameters(), lr)\n",
    "    for epoch in range(epochs):\n",
    "        # Training Phase \n",
    "        for batch in train_loader:\n",
    "            loss = model.training_step(batch)\n",
    "            loss.backward()\n",
    "            optimizer.step()\n",
    "            optimizer.zero_grad()\n",
    "        # Validation phase\n",
    "        result = evaluate(model, val_loader)\n",
    "        model.epoch_end(epoch, result, epochs)\n",
    "        history.append(result)\n",
    "    return history"
   ]
  },
  {
   "cell_type": "code",
   "execution_count": 27,
   "id": "3fd16108",
   "metadata": {
    "execution": {
     "iopub.execute_input": "2023-01-31T09:30:35.514069Z",
     "iopub.status.busy": "2023-01-31T09:30:35.513620Z",
     "iopub.status.idle": "2023-01-31T09:30:35.519582Z",
     "shell.execute_reply": "2023-01-31T09:30:35.518352Z"
    },
    "papermill": {
     "duration": 0.02799,
     "end_time": "2023-01-31T09:30:35.522229",
     "exception": false,
     "start_time": "2023-01-31T09:30:35.494239",
     "status": "completed"
    },
    "tags": []
   },
   "outputs": [],
   "source": [
    "model = LifeModel()"
   ]
  },
  {
   "cell_type": "code",
   "execution_count": 28,
   "id": "d59675e4",
   "metadata": {
    "execution": {
     "iopub.execute_input": "2023-01-31T09:30:35.560253Z",
     "iopub.status.busy": "2023-01-31T09:30:35.559787Z",
     "iopub.status.idle": "2023-01-31T09:30:35.569872Z",
     "shell.execute_reply": "2023-01-31T09:30:35.568636Z"
    },
    "papermill": {
     "duration": 0.032129,
     "end_time": "2023-01-31T09:30:35.572460",
     "exception": false,
     "start_time": "2023-01-31T09:30:35.540331",
     "status": "completed"
    },
    "tags": []
   },
   "outputs": [
    {
     "data": {
      "text/plain": [
       "[Parameter containing:\n",
       " tensor([[ 0.3478, -0.3828, -0.4245, -0.0229,  0.0515]], requires_grad=True),\n",
       " Parameter containing:\n",
       " tensor([-0.0363], requires_grad=True)]"
      ]
     },
     "execution_count": 28,
     "metadata": {},
     "output_type": "execute_result"
    }
   ],
   "source": [
    "list(model.parameters())"
   ]
  },
  {
   "cell_type": "code",
   "execution_count": 29,
   "id": "37c7e247",
   "metadata": {
    "execution": {
     "iopub.execute_input": "2023-01-31T09:30:35.611606Z",
     "iopub.status.busy": "2023-01-31T09:30:35.611128Z",
     "iopub.status.idle": "2023-01-31T09:30:35.660422Z",
     "shell.execute_reply": "2023-01-31T09:30:35.659316Z"
    },
    "papermill": {
     "duration": 0.071887,
     "end_time": "2023-01-31T09:30:35.662980",
     "exception": false,
     "start_time": "2023-01-31T09:30:35.591093",
     "status": "completed"
    },
    "tags": []
   },
   "outputs": [
    {
     "data": {
      "text/plain": [
       "{'val_loss': 2350.347900390625}"
      ]
     },
     "execution_count": 29,
     "metadata": {},
     "output_type": "execute_result"
    }
   ],
   "source": [
    "result = evaluate(model, val_loader)\n",
    "result"
   ]
  },
  {
   "cell_type": "markdown",
   "id": "9e39bf90",
   "metadata": {
    "papermill": {
     "duration": 0.018513,
     "end_time": "2023-01-31T09:30:35.700316",
     "exception": false,
     "start_time": "2023-01-31T09:30:35.681803",
     "status": "completed"
    },
    "tags": []
   },
   "source": [
    "Now that the model has been initialized we can start the training"
   ]
  },
  {
   "cell_type": "code",
   "execution_count": 30,
   "id": "427516bc",
   "metadata": {
    "execution": {
     "iopub.execute_input": "2023-01-31T09:30:35.739919Z",
     "iopub.status.busy": "2023-01-31T09:30:35.738504Z",
     "iopub.status.idle": "2023-01-31T09:30:35.950554Z",
     "shell.execute_reply": "2023-01-31T09:30:35.949180Z"
    },
    "papermill": {
     "duration": 0.234883,
     "end_time": "2023-01-31T09:30:35.953365",
     "exception": false,
     "start_time": "2023-01-31T09:30:35.718482",
     "status": "completed"
    },
    "tags": []
   },
   "outputs": [
    {
     "name": "stdout",
     "output_type": "stream",
     "text": [
      "Epoch [10], val_loss: 2326.5212\n"
     ]
    }
   ],
   "source": [
    "epochs = 10\n",
    "learning_rate=1e-4\n",
    "history = fit(epochs, learning_rate, model, train_loader, val_loader)"
   ]
  },
  {
   "cell_type": "code",
   "execution_count": 31,
   "id": "8a82edb5",
   "metadata": {
    "execution": {
     "iopub.execute_input": "2023-01-31T09:30:35.993460Z",
     "iopub.status.busy": "2023-01-31T09:30:35.992719Z",
     "iopub.status.idle": "2023-01-31T09:30:52.602193Z",
     "shell.execute_reply": "2023-01-31T09:30:52.600864Z"
    },
    "papermill": {
     "duration": 16.632657,
     "end_time": "2023-01-31T09:30:52.605843",
     "exception": false,
     "start_time": "2023-01-31T09:30:35.973186",
     "status": "completed"
    },
    "tags": []
   },
   "outputs": [
    {
     "name": "stdout",
     "output_type": "stream",
     "text": [
      "Epoch [50], val_loss: 2208.2668\n",
      "Epoch [100], val_loss: 2089.5432\n",
      "Epoch [150], val_loss: 1970.4994\n",
      "Epoch [200], val_loss: 1851.7743\n",
      "Epoch [250], val_loss: 1732.7101\n",
      "Epoch [300], val_loss: 1614.1147\n",
      "Epoch [350], val_loss: 1495.3931\n",
      "Epoch [400], val_loss: 1377.7780\n",
      "Epoch [450], val_loss: 1259.2814\n",
      "Epoch [500], val_loss: 1140.4751\n",
      "Epoch [550], val_loss: 1021.8945\n",
      "Epoch [600], val_loss: 902.9029\n",
      "Epoch [650], val_loss: 784.2167\n",
      "Epoch [700], val_loss: 666.0102\n",
      "Epoch [750], val_loss: 547.7524\n",
      "Epoch [800], val_loss: 428.4262\n",
      "Epoch [850], val_loss: 310.1703\n",
      "Epoch [900], val_loss: 191.6537\n",
      "Epoch [950], val_loss: 73.5954\n",
      "Epoch [1000], val_loss: 57.3318\n"
     ]
    }
   ],
   "source": [
    "epochs = 1000\n",
    "learning_rate=1e-4\n",
    "history1 = fit(epochs, learning_rate, model, train_loader, val_loader)"
   ]
  },
  {
   "cell_type": "code",
   "execution_count": 32,
   "id": "c1924129",
   "metadata": {
    "execution": {
     "iopub.execute_input": "2023-01-31T09:30:52.669791Z",
     "iopub.status.busy": "2023-01-31T09:30:52.669330Z",
     "iopub.status.idle": "2023-01-31T09:31:09.409642Z",
     "shell.execute_reply": "2023-01-31T09:31:09.407256Z"
    },
    "papermill": {
     "duration": 16.774141,
     "end_time": "2023-01-31T09:31:09.412770",
     "exception": false,
     "start_time": "2023-01-31T09:30:52.638629",
     "status": "completed"
    },
    "tags": []
   },
   "outputs": [
    {
     "name": "stdout",
     "output_type": "stream",
     "text": [
      "Epoch [50], val_loss: 28.3117\n",
      "Epoch [100], val_loss: 20.5593\n",
      "Epoch [150], val_loss: 15.5361\n",
      "Epoch [200], val_loss: 10.4868\n",
      "Epoch [250], val_loss: 8.6595\n",
      "Epoch [300], val_loss: 8.7689\n",
      "Epoch [350], val_loss: 8.2664\n",
      "Epoch [400], val_loss: 9.2213\n",
      "Epoch [450], val_loss: 8.1584\n",
      "Epoch [500], val_loss: 10.0427\n",
      "Epoch [550], val_loss: 7.7191\n",
      "Epoch [600], val_loss: 7.8631\n",
      "Epoch [650], val_loss: 7.5060\n",
      "Epoch [700], val_loss: 7.4393\n",
      "Epoch [750], val_loss: 8.1673\n",
      "Epoch [800], val_loss: 8.3380\n",
      "Epoch [850], val_loss: 7.2141\n",
      "Epoch [900], val_loss: 7.4834\n",
      "Epoch [950], val_loss: 7.2079\n",
      "Epoch [1000], val_loss: 8.1768\n"
     ]
    }
   ],
   "source": [
    "epochs = 1000\n",
    "learning_rate=5e-3\n",
    "history2 = fit(epochs, learning_rate, model, train_loader, val_loader)"
   ]
  },
  {
   "cell_type": "code",
   "execution_count": 33,
   "id": "9ed5bc4a",
   "metadata": {
    "execution": {
     "iopub.execute_input": "2023-01-31T09:31:09.456399Z",
     "iopub.status.busy": "2023-01-31T09:31:09.455528Z",
     "iopub.status.idle": "2023-01-31T09:31:10.987189Z",
     "shell.execute_reply": "2023-01-31T09:31:10.985811Z"
    },
    "papermill": {
     "duration": 1.556798,
     "end_time": "2023-01-31T09:31:10.990049",
     "exception": false,
     "start_time": "2023-01-31T09:31:09.433251",
     "status": "completed"
    },
    "tags": []
   },
   "outputs": [
    {
     "name": "stdout",
     "output_type": "stream",
     "text": [
      "Epoch [50], val_loss: 7.0002\n",
      "Epoch [100], val_loss: 7.0084\n"
     ]
    }
   ],
   "source": [
    "epochs = 100\n",
    "learning_rate=1e-5\n",
    "history3 = fit(epochs, learning_rate, model, train_loader, val_loader)"
   ]
  },
  {
   "cell_type": "code",
   "execution_count": 34,
   "id": "c42e0f6e",
   "metadata": {
    "execution": {
     "iopub.execute_input": "2023-01-31T09:31:11.033983Z",
     "iopub.status.busy": "2023-01-31T09:31:11.033550Z",
     "iopub.status.idle": "2023-01-31T09:31:11.233573Z",
     "shell.execute_reply": "2023-01-31T09:31:11.232317Z"
    },
    "papermill": {
     "duration": 0.224751,
     "end_time": "2023-01-31T09:31:11.236046",
     "exception": false,
     "start_time": "2023-01-31T09:31:11.011295",
     "status": "completed"
    },
    "tags": []
   },
   "outputs": [
    {
     "data": {
      "image/png": "[encoded data removed]",
      "text/plain": [
       "<Figure size 432x288 with 1 Axes>"
      ]
     },
     "metadata": {
      "needs_background": "light"
     },
     "output_type": "display_data"
    }
   ],
   "source": [
    "losses = [r['val_loss'] for r in [result] + history1]\n",
    "plt.plot(losses, '-')\n",
    "plt.xlabel('epoch')\n",
    "plt.ylabel('val_loss')\n",
    "plt.title('val_loss vs. epochs');"
   ]
  },
  {
   "cell_type": "markdown",
   "id": "3adaba28",
   "metadata": {
    "papermill": {
     "duration": 0.020737,
     "end_time": "2023-01-31T09:31:11.278300",
     "exception": false,
     "start_time": "2023-01-31T09:31:11.257563",
     "status": "completed"
    },
    "tags": []
   },
   "source": [
    "Predictions"
   ]
  },
  {
   "cell_type": "code",
   "execution_count": 35,
   "id": "7bf375a7",
   "metadata": {
    "execution": {
     "iopub.execute_input": "2023-01-31T09:31:11.322167Z",
     "iopub.status.busy": "2023-01-31T09:31:11.321726Z",
     "iopub.status.idle": "2023-01-31T09:31:11.326600Z",
     "shell.execute_reply": "2023-01-31T09:31:11.325771Z"
    },
    "papermill": {
     "duration": 0.029484,
     "end_time": "2023-01-31T09:31:11.328822",
     "exception": false,
     "start_time": "2023-01-31T09:31:11.299338",
     "status": "completed"
    },
    "tags": []
   },
   "outputs": [],
   "source": [
    "def predict_single(x, model):\n",
    "    xb = x.unsqueeze(0)\n",
    "    return model(x).item()"
   ]
  },
  {
   "cell_type": "code",
   "execution_count": 36,
   "id": "aa6a1934",
   "metadata": {
    "execution": {
     "iopub.execute_input": "2023-01-31T09:31:11.373321Z",
     "iopub.status.busy": "2023-01-31T09:31:11.372409Z",
     "iopub.status.idle": "2023-01-31T09:31:11.385589Z",
     "shell.execute_reply": "2023-01-31T09:31:11.384187Z"
    },
    "papermill": {
     "duration": 0.038241,
     "end_time": "2023-01-31T09:31:11.388408",
     "exception": false,
     "start_time": "2023-01-31T09:31:11.350167",
     "status": "completed"
    },
    "tags": []
   },
   "outputs": [
    {
     "name": "stdout",
     "output_type": "stream",
     "text": [
      "Input:  tensor([1.0000e+00, 7.3628e+03, 4.2800e+02, 1.2800e+01, 6.3000e-01])\n",
      "Target:  58.0\n",
      "Prediction: 71.51249694824219\n"
     ]
    }
   ],
   "source": [
    "x, target = val_ds[10]\n",
    "pred = predict_single(x, model)\n",
    "print(\"Input: \", x)\n",
    "print(\"Target: \", target.item())\n",
    "print(\"Prediction:\", pred)"
   ]
  },
  {
   "cell_type": "code",
   "execution_count": 37,
   "id": "4fe9dca8",
   "metadata": {
    "execution": {
     "iopub.execute_input": "2023-01-31T09:31:11.433572Z",
     "iopub.status.busy": "2023-01-31T09:31:11.432573Z",
     "iopub.status.idle": "2023-01-31T09:31:11.443810Z",
     "shell.execute_reply": "2023-01-31T09:31:11.442363Z"
    },
    "papermill": {
     "duration": 0.037514,
     "end_time": "2023-01-31T09:31:11.447087",
     "exception": false,
     "start_time": "2023-01-31T09:31:11.409573",
     "status": "completed"
    },
    "tags": []
   },
   "outputs": [
    {
     "name": "stdout",
     "output_type": "stream",
     "text": [
      "Input:  tensor([1.0000e+00, 9.2724e+03, 1.7800e+02, 1.2700e+01, 7.0800e-01])\n",
      "Target:  71.30000305175781\n",
      "Prediction: 73.24434661865234\n"
     ]
    }
   ],
   "source": [
    "x, target = val_ds[17]\n",
    "pred = predict_single(x, model)\n",
    "print(\"Input: \", x)\n",
    "print(\"Target: \", target.item())\n",
    "print(\"Prediction:\", pred)"
   ]
  },
  {
   "cell_type": "code",
   "execution_count": 38,
   "id": "fb6f8e54",
   "metadata": {
    "execution": {
     "iopub.execute_input": "2023-01-31T09:31:11.491914Z",
     "iopub.status.busy": "2023-01-31T09:31:11.491087Z",
     "iopub.status.idle": "2023-01-31T09:31:11.500473Z",
     "shell.execute_reply": "2023-01-31T09:31:11.498496Z"
    },
    "papermill": {
     "duration": 0.03522,
     "end_time": "2023-01-31T09:31:11.503427",
     "exception": false,
     "start_time": "2023-01-31T09:31:11.468207",
     "status": "completed"
    },
    "tags": []
   },
   "outputs": [
    {
     "name": "stdout",
     "output_type": "stream",
     "text": [
      "Input:  tensor([1.0000e+00, 2.7629e+03, 1.2000e+01, 1.3600e+01, 7.3600e-01])\n",
      "Target:  73.0\n",
      "Prediction: 78.17166137695312\n"
     ]
    }
   ],
   "source": [
    "x, target = val_ds[23]\n",
    "pred = predict_single(x, model)\n",
    "print(\"Input: \", x)\n",
    "print(\"Target: \", target.item())\n",
    "print(\"Prediction:\", pred)"
   ]
  },
  {
   "cell_type": "code",
   "execution_count": 39,
   "id": "c5efc724",
   "metadata": {
    "execution": {
     "iopub.execute_input": "2023-01-31T09:31:11.551302Z",
     "iopub.status.busy": "2023-01-31T09:31:11.550891Z",
     "iopub.status.idle": "2023-01-31T09:31:11.559170Z",
     "shell.execute_reply": "2023-01-31T09:31:11.558008Z"
    },
    "papermill": {
     "duration": 0.034172,
     "end_time": "2023-01-31T09:31:11.561840",
     "exception": false,
     "start_time": "2023-01-31T09:31:11.527668",
     "status": "completed"
    },
    "tags": []
   },
   "outputs": [
    {
     "data": {
      "text/plain": [
       "[Parameter containing:\n",
       " tensor([[ 1.0072e+01, -1.0498e-05, -6.8700e-03,  3.9601e+00,  5.5180e+00]],\n",
       "        requires_grad=True),\n",
       " Parameter containing:\n",
       " tensor([10.2929], requires_grad=True)]"
      ]
     },
     "execution_count": 39,
     "metadata": {},
     "output_type": "execute_result"
    }
   ],
   "source": [
    "# final parameters\n",
    "list(model.parameters())"
   ]
  },
  {
   "cell_type": "code",
   "execution_count": 40,
   "id": "8d485c93",
   "metadata": {
    "execution": {
     "iopub.execute_input": "2023-01-31T09:31:11.607366Z",
     "iopub.status.busy": "2023-01-31T09:31:11.606954Z",
     "iopub.status.idle": "2023-01-31T09:31:11.611330Z",
     "shell.execute_reply": "2023-01-31T09:31:11.610058Z"
    },
    "papermill": {
     "duration": 0.030113,
     "end_time": "2023-01-31T09:31:11.613722",
     "exception": false,
     "start_time": "2023-01-31T09:31:11.583609",
     "status": "completed"
    },
    "tags": []
   },
   "outputs": [],
   "source": [
    "# # save the model to disk\n",
    "# filename = 'linear_regression.pkl'\n",
    "# pickle.dump(model, open(filename, 'wb'))"
   ]
  },
  {
   "cell_type": "code",
   "execution_count": null,
   "id": "30c64511",
   "metadata": {
    "papermill": {
     "duration": 0.021198,
     "end_time": "2023-01-31T09:31:11.656173",
     "exception": false,
     "start_time": "2023-01-31T09:31:11.634975",
     "status": "completed"
    },
    "tags": []
   },
   "outputs": [],
   "source": []
  }
 ],
 "metadata": {
  "kernelspec": {
   "display_name": "Python 3",
   "language": "python",
   "name": "python3"
  },
  "language_info": {
   "codemirror_mode": {
    "name": "ipython",
    "version": 3
   },
   "file_extension": ".py",
   "mimetype": "text/x-python",
   "name": "python",
   "nbconvert_exporter": "python",
   "pygments_lexer": "ipython3",
   "version": "3.7.12"
  },
  "papermill": {
   "default_parameters": {},
   "duration": 55.899629,
   "end_time": "2023-01-31T09:31:12.702037",
   "environment_variables": {},
   "exception": null,
   "input_path": "__notebook__.ipynb",
   "output_path": "__notebook__.ipynb",
   "parameters": {},
   "start_time": "2023-01-31T09:30:16.802408",
   "version": "2.3.4"
  }
 },
 "nbformat": 4,
 "nbformat_minor": 5
}
