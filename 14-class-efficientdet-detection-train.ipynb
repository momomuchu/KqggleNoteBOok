{
 "cells": [
  {
   "cell_type": "markdown",
   "metadata": {
    "papermill": {
     "duration": 0.013919,
     "end_time": "2021-01-14T12:36:25.484569",
     "exception": false,
     "start_time": "2021-01-14T12:36:25.470650",
     "status": "completed"
    },
    "tags": []
   },
   "source": [
    "Object Detection part is based on [EfficientDet notebook](https://www.kaggle.com/shonenkov/training-efficientdet) for [global wheat detection competition](https://www.kaggle.com/c/global-wheat-detection) by [shonenkov](https://www.kaggle.com/shonenkov), which is using [github repos efficientdet-pytorch](https://github.com/rwightman/efficientdet-pytorch) by [@rwightman](https://www.kaggle.com/rwightman).\n",
    "\n",
    "### Inference will be posted soon\n",
    "\n",
    "## If you find this kernel helpful Please Upvote"
   ]
  },
  {
   "cell_type": "code",
   "execution_count": 1,
   "metadata": {
    "_kg_hide-input": true,
    "_kg_hide-output": true,
    "execution": {
     "iopub.execute_input": "2021-01-14T12:36:25.520712Z",
     "iopub.status.busy": "2021-01-14T12:36:25.519796Z",
     "iopub.status.idle": "2021-01-14T12:36:36.858956Z",
     "shell.execute_reply": "2021-01-14T12:36:36.857808Z"
    },
    "papermill": {
     "duration": 11.361127,
     "end_time": "2021-01-14T12:36:36.859118",
     "exception": false,
     "start_time": "2021-01-14T12:36:25.497991",
     "status": "completed"
    },
    "tags": []
   },
   "outputs": [
    {
     "name": "stdout",
     "output_type": "stream",
     "text": [
      "Processing /kaggle/input/vbg-lib/timm-0.1.26-py3-none-any.whl\r\n",
      "Requirement already satisfied: torch>=1.0 in /opt/conda/lib/python3.7/site-packages (from timm==0.1.26) (1.6.0)\r\n",
      "Requirement already satisfied: torchvision in /opt/conda/lib/python3.7/site-packages (from timm==0.1.26) (0.7.0)\r\n",
      "Requirement already satisfied: future in /opt/conda/lib/python3.7/site-packages (from torch>=1.0->timm==0.1.26) (0.18.2)\r\n",
      "Requirement already satisfied: numpy in /opt/conda/lib/python3.7/site-packages (from torch>=1.0->timm==0.1.26) (1.18.5)\r\n",
      "Requirement already satisfied: pillow>=4.1.1 in /opt/conda/lib/python3.7/site-packages (from torchvision->timm==0.1.26) (8.0.1)\r\n",
      "Installing collected packages: timm\r\n",
      "Successfully installed timm-0.1.26\r\n",
      "\u001b[33mWARNING: You are using pip version 20.2.4; however, version 20.3.3 is available.\r\n",
      "You should consider upgrading via the '/opt/conda/bin/python3.7 -m pip install --upgrade pip' command.\u001b[0m\r\n"
     ]
    }
   ],
   "source": [
    "!pip install ../input/vbg-lib/timm-0.1.26-py3-none-any.whl\n",
    "!tar xfz ../input/vbg-lib/pkgs.tgz\n",
    "# for pytorch1.6\n",
    "cmd = \"sed -i -e 's/ \\/ / \\/\\/ /' timm-efficientdet-pytorch/effdet/bench.py\"\n",
    "!$cmd"
   ]
  },
  {
   "cell_type": "code",
   "execution_count": 2,
   "metadata": {
    "_kg_hide-input": true,
    "_kg_hide-output": true,
    "execution": {
     "iopub.execute_input": "2021-01-14T12:36:36.904937Z",
     "iopub.status.busy": "2021-01-14T12:36:36.903958Z",
     "iopub.status.idle": "2021-01-14T12:36:40.908677Z",
     "shell.execute_reply": "2021-01-14T12:36:40.908013Z"
    },
    "papermill": {
     "duration": 4.032653,
     "end_time": "2021-01-14T12:36:40.908804",
     "exception": false,
     "start_time": "2021-01-14T12:36:36.876151",
     "status": "completed"
    },
    "tags": []
   },
   "outputs": [],
   "source": [
    "import sys\n",
    "sys.path.insert(0, \"timm-efficientdet-pytorch\")\n",
    "sys.path.insert(0, \"omegaconf\")\n",
    "\n",
    "import torch\n",
    "import os\n",
    "from datetime import datetime\n",
    "import time\n",
    "import random\n",
    "import cv2\n",
    "import pandas as pd\n",
    "import numpy as np\n",
    "import albumentations as A\n",
    "import matplotlib.pyplot as plt\n",
    "from albumentations.pytorch.transforms import ToTensorV2\n",
    "from sklearn.model_selection import StratifiedKFold\n",
    "from torch.utils.data import Dataset,DataLoader\n",
    "from torch.utils.data.sampler import SequentialSampler, RandomSampler\n",
    "from glob import glob\n",
    "import pandas as pd\n",
    "from effdet import get_efficientdet_config, EfficientDet, DetBenchTrain\n",
    "from effdet.efficientdet import HeadNet\n",
    "from tqdm import tqdm\n",
    "\n",
    "SEED = 42\n",
    "\n",
    "def seed_everything(seed):\n",
    "    random.seed(seed)\n",
    "    os.environ['PYTHONHASHSEED'] = str(seed)\n",
    "    np.random.seed(seed)\n",
    "    torch.manual_seed(seed)\n",
    "    torch.cuda.manual_seed(seed)\n",
    "    torch.backends.cudnn.deterministic = True\n",
    "    torch.backends.cudnn.benchmark = False\n",
    "\n",
    "seed_everything(SEED)"
   ]
  },
  {
   "cell_type": "markdown",
   "metadata": {
    "papermill": {
     "duration": 0.015682,
     "end_time": "2021-01-14T12:36:40.940264",
     "exception": false,
     "start_time": "2021-01-14T12:36:40.924582",
     "status": "completed"
    },
    "tags": []
   },
   "source": [
    "# Data Preparation"
   ]
  },
  {
   "cell_type": "code",
   "execution_count": 3,
   "metadata": {
    "execution": {
     "iopub.execute_input": "2021-01-14T12:36:40.979405Z",
     "iopub.status.busy": "2021-01-14T12:36:40.978699Z",
     "iopub.status.idle": "2021-01-14T12:36:41.155359Z",
     "shell.execute_reply": "2021-01-14T12:36:41.154458Z"
    },
    "papermill": {
     "duration": 0.199713,
     "end_time": "2021-01-14T12:36:41.155498",
     "exception": false,
     "start_time": "2021-01-14T12:36:40.955785",
     "status": "completed"
    },
    "tags": []
   },
   "outputs": [],
   "source": [
    "dataframe = pd.read_csv('../input/vinbigdata-chest-xray-abnormalities-detection/train.csv')\n",
    "dataframe = dataframe[dataframe['class_id'] != 14].reset_index(drop= True)"
   ]
  },
  {
   "cell_type": "code",
   "execution_count": 4,
   "metadata": {
    "execution": {
     "iopub.execute_input": "2021-01-14T12:36:41.199686Z",
     "iopub.status.busy": "2021-01-14T12:36:41.198788Z",
     "iopub.status.idle": "2021-01-14T12:36:41.219125Z",
     "shell.execute_reply": "2021-01-14T12:36:41.218651Z"
    },
    "papermill": {
     "duration": 0.047413,
     "end_time": "2021-01-14T12:36:41.219225",
     "exception": false,
     "start_time": "2021-01-14T12:36:41.171812",
     "status": "completed"
    },
    "tags": []
   },
   "outputs": [],
   "source": [
    "np.random.seed(0)\n",
    "image_names = np.random.permutation(dataframe.image_id.unique())\n",
    "valid_images_len = int(len(image_names)*0.2)\n",
    "images_valid = image_names[:valid_images_len]\n",
    "images_train = image_names[valid_images_len:]\n",
    "images_valid = dataframe[ dataframe.image_id.isin(images_valid)].image_id.unique()\n",
    "images_train = dataframe[~dataframe.image_id.isin(images_valid)].image_id.unique()"
   ]
  },
  {
   "cell_type": "markdown",
   "metadata": {
    "papermill": {
     "duration": 0.015712,
     "end_time": "2021-01-14T12:36:41.250583",
     "exception": false,
     "start_time": "2021-01-14T12:36:41.234871",
     "status": "completed"
    },
    "tags": []
   },
   "source": [
    "## Albumentations"
   ]
  },
  {
   "cell_type": "code",
   "execution_count": 5,
   "metadata": {
    "execution": {
     "iopub.execute_input": "2021-01-14T12:36:41.292398Z",
     "iopub.status.busy": "2021-01-14T12:36:41.291781Z",
     "iopub.status.idle": "2021-01-14T12:36:41.295942Z",
     "shell.execute_reply": "2021-01-14T12:36:41.295477Z"
    },
    "papermill": {
     "duration": 0.029054,
     "end_time": "2021-01-14T12:36:41.296036",
     "exception": false,
     "start_time": "2021-01-14T12:36:41.266982",
     "status": "completed"
    },
    "tags": []
   },
   "outputs": [],
   "source": [
    "def get_train_transforms():\n",
    "    return A.Compose(\n",
    "        [\n",
    "            A.HorizontalFlip(p=0.5),\n",
    "            A.Resize(height=512, width=512, p=1),\n",
    "            ToTensorV2(p=1.0),\n",
    "        ], \n",
    "        p=1.0, \n",
    "        bbox_params=A.BboxParams(\n",
    "            format='pascal_voc',\n",
    "            min_area=0, \n",
    "            min_visibility=0,\n",
    "            label_fields=['labels']\n",
    "        )\n",
    "    )\n",
    "\n",
    "def get_valid_transforms():\n",
    "    return A.Compose(\n",
    "        [\n",
    "            A.Resize(height=512, width=512, p=1.0),\n",
    "            ToTensorV2(p=1.0),\n",
    "        ], \n",
    "        p=1.0, \n",
    "        bbox_params=A.BboxParams(\n",
    "            format='pascal_voc',\n",
    "            min_area=0, \n",
    "            min_visibility=0,\n",
    "            label_fields=['labels']\n",
    "        )\n",
    "    )"
   ]
  },
  {
   "cell_type": "markdown",
   "metadata": {
    "papermill": {
     "duration": 0.015671,
     "end_time": "2021-01-14T12:36:41.327546",
     "exception": false,
     "start_time": "2021-01-14T12:36:41.311875",
     "status": "completed"
    },
    "tags": []
   },
   "source": [
    "## Dataset"
   ]
  },
  {
   "cell_type": "code",
   "execution_count": 6,
   "metadata": {
    "execution": {
     "iopub.execute_input": "2021-01-14T12:36:41.378133Z",
     "iopub.status.busy": "2021-01-14T12:36:41.367117Z",
     "iopub.status.idle": "2021-01-14T12:36:41.381046Z",
     "shell.execute_reply": "2021-01-14T12:36:41.380516Z"
    },
    "papermill": {
     "duration": 0.037591,
     "end_time": "2021-01-14T12:36:41.381145",
     "exception": false,
     "start_time": "2021-01-14T12:36:41.343554",
     "status": "completed"
    },
    "tags": []
   },
   "outputs": [],
   "source": [
    "TRAIN_ROOT_PATH = '../input/vinbigdata-original-image-dataset/vinbigdata/train'\n",
    "\n",
    "class DatasetRetriever(Dataset):\n",
    "\n",
    "    def __init__(self, marking, image_ids, transforms=None, test=False):\n",
    "        super().__init__()\n",
    "\n",
    "        self.image_ids = image_ids\n",
    "        self.marking = marking\n",
    "        self.transforms = transforms\n",
    "        self.test = test\n",
    "\n",
    "    def __getitem__(self, index: int):\n",
    "        image_id = self.image_ids[index]\n",
    "        \n",
    "        image, boxes, labels = self.load_image_and_boxes(index)\n",
    "        \n",
    "        target = {}\n",
    "        target['boxes'] = boxes\n",
    "        target['labels'] = torch.tensor(labels)\n",
    "        target['image_id'] = torch.tensor([index])\n",
    "\n",
    "        if self.transforms:\n",
    "            for i in range(10):\n",
    "                sample = self.transforms(**{\n",
    "                    'image': image,\n",
    "                    'bboxes': target['boxes'],\n",
    "                    'labels': labels\n",
    "                })\n",
    "                if len(sample['bboxes']) > 0:\n",
    "                    image = sample['image']\n",
    "                    target['boxes'] = torch.stack(tuple(map(torch.tensor, zip(*sample['bboxes'])))).permute(1, 0)\n",
    "                    target['boxes'][:,[0,1,2,3]] = target['boxes'][:,[1,0,3,2]]  #yxyx: be warning\n",
    "                    break\n",
    "        return image, target, image_id\n",
    "\n",
    "    def __len__(self) -> int:\n",
    "        return self.image_ids.shape[0]\n",
    "\n",
    "    def load_image_and_boxes(self, index):\n",
    "        image_id = self.image_ids[index]\n",
    "#         print(f'{TRAIN_ROOT_PATH}/{image_id}.png')\n",
    "        \n",
    "        image = cv2.imread(f'{TRAIN_ROOT_PATH}/{image_id}.jpg', cv2.IMREAD_COLOR).copy().astype(np.float32)\n",
    "        image = cv2.cvtColor(image, cv2.COLOR_BGR2RGB).astype(np.float32)\n",
    "        image /= 255.0\n",
    "        records = self.marking[self.marking['image_id'] == image_id]\n",
    "        boxes = records[['x_min', 'y_min', 'x_max', 'y_max']].values\n",
    "        labels = records['class_id'].values\n",
    "        return image, boxes, labels"
   ]
  },
  {
   "cell_type": "code",
   "execution_count": 7,
   "metadata": {
    "execution": {
     "iopub.execute_input": "2021-01-14T12:36:41.418766Z",
     "iopub.status.busy": "2021-01-14T12:36:41.418005Z",
     "iopub.status.idle": "2021-01-14T12:36:41.422190Z",
     "shell.execute_reply": "2021-01-14T12:36:41.421681Z"
    },
    "papermill": {
     "duration": 0.025123,
     "end_time": "2021-01-14T12:36:41.422280",
     "exception": false,
     "start_time": "2021-01-14T12:36:41.397157",
     "status": "completed"
    },
    "tags": []
   },
   "outputs": [],
   "source": [
    "train_dataset = DatasetRetriever(\n",
    "    image_ids=images_train,\n",
    "    marking=dataframe,\n",
    "    transforms=get_train_transforms(),\n",
    "    test=False,\n",
    ")\n",
    "\n",
    "validation_dataset = DatasetRetriever(\n",
    "    image_ids=images_valid,\n",
    "    marking=dataframe,\n",
    "    transforms=get_valid_transforms(),\n",
    "    test=True,\n",
    ")"
   ]
  },
  {
   "cell_type": "markdown",
   "metadata": {
    "papermill": {
     "duration": 0.01587,
     "end_time": "2021-01-14T12:36:41.455189",
     "exception": false,
     "start_time": "2021-01-14T12:36:41.439319",
     "status": "completed"
    },
    "tags": []
   },
   "source": [
    "## Fitter"
   ]
  },
  {
   "cell_type": "code",
   "execution_count": 8,
   "metadata": {
    "execution": {
     "iopub.execute_input": "2021-01-14T12:36:41.496898Z",
     "iopub.status.busy": "2021-01-14T12:36:41.495101Z",
     "iopub.status.idle": "2021-01-14T12:36:41.497576Z",
     "shell.execute_reply": "2021-01-14T12:36:41.498051Z"
    },
    "papermill": {
     "duration": 0.026425,
     "end_time": "2021-01-14T12:36:41.498156",
     "exception": false,
     "start_time": "2021-01-14T12:36:41.471731",
     "status": "completed"
    },
    "tags": []
   },
   "outputs": [],
   "source": [
    "class AverageMeter(object):\n",
    "    \"\"\"Computes and stores the average and current value\"\"\"\n",
    "    def __init__(self):\n",
    "        self.reset()\n",
    "\n",
    "    def reset(self):\n",
    "        self.val = 0\n",
    "        self.avg = 0\n",
    "        self.sum = 0\n",
    "        self.count = 0\n",
    "\n",
    "    def update(self, val, n=1):\n",
    "        self.val = val\n",
    "        self.sum += val * n\n",
    "        self.count += n\n",
    "        self.avg = self.sum / self.count"
   ]
  },
  {
   "cell_type": "code",
   "execution_count": 9,
   "metadata": {
    "execution": {
     "iopub.execute_input": "2021-01-14T12:36:41.554973Z",
     "iopub.status.busy": "2021-01-14T12:36:41.539212Z",
     "iopub.status.idle": "2021-01-14T12:36:41.578732Z",
     "shell.execute_reply": "2021-01-14T12:36:41.579269Z"
    },
    "papermill": {
     "duration": 0.064505,
     "end_time": "2021-01-14T12:36:41.579413",
     "exception": false,
     "start_time": "2021-01-14T12:36:41.514908",
     "status": "completed"
    },
    "tags": []
   },
   "outputs": [],
   "source": [
    "import warnings\n",
    "\n",
    "warnings.filterwarnings(\"ignore\")\n",
    "\n",
    "class Fitter:\n",
    "    \n",
    "    def __init__(self, model, device, config):\n",
    "        self.config = config\n",
    "        self.epoch = 0\n",
    "\n",
    "        self.base_dir = f'./{config.folder}'\n",
    "        if not os.path.exists(self.base_dir):\n",
    "            os.makedirs(self.base_dir)\n",
    "        \n",
    "        self.log_path = f'{self.base_dir}/log.txt'\n",
    "        self.best_summary_loss = 10**5\n",
    "\n",
    "        self.model = model\n",
    "        self.device = device\n",
    "\n",
    "        param_optimizer = list(self.model.named_parameters())\n",
    "        no_decay = ['bias', 'LayerNorm.bias', 'LayerNorm.weight']\n",
    "        optimizer_grouped_parameters = [\n",
    "            {'params': [p for n, p in param_optimizer if not any(nd in n for nd in no_decay)], 'weight_decay': 0.001},\n",
    "            {'params': [p for n, p in param_optimizer if any(nd in n for nd in no_decay)], 'weight_decay': 0.0}\n",
    "        ] \n",
    "\n",
    "        self.optimizer = torch.optim.AdamW(self.model.parameters(), lr=config.lr)\n",
    "        self.scheduler = config.SchedulerClass(self.optimizer, **config.scheduler_params)\n",
    "        self.log(f'Fitter prepared. Device is {self.device}')\n",
    "\n",
    "    def fit(self, train_loader, validation_loader):\n",
    "        f = ''\n",
    "        for e in range(self.config.n_epochs):\n",
    "            if self.config.verbose:\n",
    "                lr = self.optimizer.param_groups[0]['lr']\n",
    "                timestamp = datetime.utcnow().isoformat()\n",
    "                self.log(f'\\n{timestamp}\\nLR: {lr}')\n",
    "            \n",
    "            t = time.time()\n",
    "            summary_loss = self.train_one_epoch(train_loader)\n",
    "\n",
    "            self.log(f'[RESULT]: Train. Epoch: {self.epoch}, summary_loss: {summary_loss.avg:.5f}, time: {(time.time() - t):.5f}')\n",
    "            self.save(f'{self.base_dir}/last-checkpoint.bin')\n",
    "\n",
    "            t = time.time()\n",
    "            summary_loss = self.validation(validation_loader)\n",
    "\n",
    "            self.log(f'[RESULT]: Val. Epoch: {self.epoch}, summary_loss: {summary_loss.avg:.5f}, time: {(time.time() - t):.5f}')\n",
    "            if summary_loss.avg < self.best_summary_loss:\n",
    "                self.best_summary_loss = summary_loss.avg\n",
    "                self.model.eval()\n",
    "                self.save(f'{self.base_dir}/best-checkpoint-{str(self.epoch).zfill(3)}epoch.bin')\n",
    "                \n",
    "                try:\n",
    "                    os.remove(f)\n",
    "                except:pass\n",
    "                f = f'{self.base_dir}/best-checkpoint-{str(self.epoch).zfill(3)}epoch.bin'\n",
    "\n",
    "            if self.config.validation_scheduler:\n",
    "                self.scheduler.step(metrics=summary_loss.avg)\n",
    "\n",
    "            self.epoch += 1\n",
    "\n",
    "    def validation(self, val_loader):\n",
    "        self.model.eval()\n",
    "        summary_loss = AverageMeter()\n",
    "        t = time.time()\n",
    "        for step, (images, targets, image_ids) in enumerate(val_loader):\n",
    "            if self.config.verbose:\n",
    "                if step % self.config.verbose_step == 0:\n",
    "                    print(\n",
    "                        f'Val Step {step}/{len(val_loader)}, ' + \\\n",
    "                        f'summary_loss: {summary_loss.avg:.5f}, ' + \\\n",
    "                        f'time: {(time.time() - t):.5f}', end='\\r'\n",
    "                    )\n",
    "            with torch.no_grad():\n",
    "                images = torch.stack(images)\n",
    "                batch_size = images.shape[0]\n",
    "                images = images.to(self.device).float()\n",
    "                boxes = [target['boxes'].to(self.device).float() for target in targets]\n",
    "                labels = [target['labels'].to(self.device).float() for target in targets]\n",
    "\n",
    "                loss, _, _ = self.model(images, boxes, labels)\n",
    "                summary_loss.update(loss.detach().item(), batch_size)\n",
    "\n",
    "        return summary_loss\n",
    "\n",
    "    def train_one_epoch(self, train_loader):\n",
    "        self.model.train()\n",
    "        summary_loss = AverageMeter()\n",
    "        t = time.time()\n",
    "        for step, (images, targets, image_ids) in enumerate(train_loader):\n",
    "            if self.config.verbose:\n",
    "                if step % self.config.verbose_step == 0:\n",
    "                    print(\n",
    "                        f'Train Step {step}/{len(train_loader)}, ' + \\\n",
    "                        f'summary_loss: {summary_loss.avg:.5f}, ' + \\\n",
    "                        f'time: {(time.time() - t):.5f}', end='\\r'\n",
    "                    )\n",
    "            \n",
    "            images = torch.stack(images)\n",
    "            images = images.to(self.device).float()\n",
    "            batch_size = images.shape[0]\n",
    "            boxes = [target['boxes'].to(self.device).float() for target in targets]\n",
    "            labels = [target['labels'].to(self.device).float() for target in targets]\n",
    "\n",
    "            self.optimizer.zero_grad()\n",
    "            \n",
    "            loss, _, _ = self.model(images, boxes, labels)\n",
    "            \n",
    "            loss.backward()\n",
    "\n",
    "            summary_loss.update(loss.detach().item(), batch_size)\n",
    "\n",
    "            self.optimizer.step()\n",
    "\n",
    "            if self.config.step_scheduler:\n",
    "                self.scheduler.step()\n",
    "\n",
    "        return summary_loss\n",
    "    \n",
    "    def save(self, path):\n",
    "        self.model.eval()\n",
    "        torch.save({\n",
    "            'model_state_dict': self.model.model.state_dict(),\n",
    "            'optimizer_state_dict': self.optimizer.state_dict(),\n",
    "            'scheduler_state_dict': self.scheduler.state_dict(),\n",
    "            'best_summary_loss': self.best_summary_loss,\n",
    "            'epoch': self.epoch,\n",
    "        }, path)\n",
    "\n",
    "    def load(self, path):\n",
    "        checkpoint = torch.load(path)\n",
    "        self.model.model.load_state_dict(checkpoint['model_state_dict'])\n",
    "        self.optimizer.load_state_dict(checkpoint['optimizer_state_dict'])\n",
    "        self.scheduler.load_state_dict(checkpoint['scheduler_state_dict'])\n",
    "        self.best_summary_loss = checkpoint['best_summary_loss']\n",
    "        self.epoch = checkpoint['epoch'] + 1\n",
    "        \n",
    "    def log(self, message):\n",
    "        if self.config.verbose:\n",
    "            print(message)\n",
    "        with open(self.log_path, 'a+') as logger:\n",
    "            logger.write(f'{message}\\n')"
   ]
  },
  {
   "cell_type": "code",
   "execution_count": 10,
   "metadata": {
    "execution": {
     "iopub.execute_input": "2021-01-14T12:36:41.620275Z",
     "iopub.status.busy": "2021-01-14T12:36:41.619703Z",
     "iopub.status.idle": "2021-01-14T12:36:41.624106Z",
     "shell.execute_reply": "2021-01-14T12:36:41.623553Z"
    },
    "papermill": {
     "duration": 0.02814,
     "end_time": "2021-01-14T12:36:41.624193",
     "exception": false,
     "start_time": "2021-01-14T12:36:41.596053",
     "status": "completed"
    },
    "tags": []
   },
   "outputs": [],
   "source": [
    "class TrainGlobalConfig:\n",
    "    num_workers = 2\n",
    "    batch_size = 4 \n",
    "    n_epochs = 2\n",
    "    lr = 0.0002\n",
    "    folder = 'effdet5-models'\n",
    "    verbose = True\n",
    "    verbose_step = 1\n",
    "    step_scheduler = False\n",
    "    validation_scheduler = True\n",
    "    SchedulerClass = torch.optim.lr_scheduler.ReduceLROnPlateau\n",
    "    scheduler_params = dict(\n",
    "        mode='min',\n",
    "        factor=0.5,\n",
    "        patience=1,\n",
    "        verbose=False, \n",
    "        threshold=0.0001,\n",
    "        threshold_mode='abs',\n",
    "        cooldown=0, \n",
    "        min_lr=1e-8,\n",
    "        eps=1e-08\n",
    "    )"
   ]
  },
  {
   "cell_type": "code",
   "execution_count": 11,
   "metadata": {
    "execution": {
     "iopub.execute_input": "2021-01-14T12:36:41.670127Z",
     "iopub.status.busy": "2021-01-14T12:36:41.669273Z",
     "iopub.status.idle": "2021-01-14T12:36:41.673322Z",
     "shell.execute_reply": "2021-01-14T12:36:41.672770Z"
    },
    "papermill": {
     "duration": 0.031658,
     "end_time": "2021-01-14T12:36:41.673448",
     "exception": false,
     "start_time": "2021-01-14T12:36:41.641790",
     "status": "completed"
    },
    "tags": []
   },
   "outputs": [],
   "source": [
    "def collate_fn(batch):\n",
    "    return tuple(zip(*batch))\n",
    "\n",
    "def run_training():\n",
    "    device = torch.device('cuda:0')\n",
    "    net.to(device)\n",
    "\n",
    "    train_loader = torch.utils.data.DataLoader(\n",
    "        train_dataset,\n",
    "        batch_size=TrainGlobalConfig.batch_size,\n",
    "        sampler=RandomSampler(train_dataset),\n",
    "        pin_memory=False,\n",
    "        drop_last=True,\n",
    "        num_workers=TrainGlobalConfig.num_workers,\n",
    "        collate_fn=collate_fn,\n",
    "    )\n",
    "    val_loader = torch.utils.data.DataLoader(\n",
    "        validation_dataset, \n",
    "        batch_size=TrainGlobalConfig.batch_size,\n",
    "        num_workers=TrainGlobalConfig.num_workers,\n",
    "        shuffle=False,\n",
    "        sampler=SequentialSampler(validation_dataset),\n",
    "        pin_memory=False,\n",
    "        collate_fn=collate_fn,\n",
    "    )\n",
    "\n",
    "    fitter = Fitter(model=net, device=device, config=TrainGlobalConfig)\n",
    "    fitter.fit(train_loader, val_loader)"
   ]
  },
  {
   "cell_type": "code",
   "execution_count": 12,
   "metadata": {
    "execution": {
     "iopub.execute_input": "2021-01-14T12:36:41.726222Z",
     "iopub.status.busy": "2021-01-14T12:36:41.725386Z",
     "iopub.status.idle": "2021-01-14T12:36:42.922818Z",
     "shell.execute_reply": "2021-01-14T12:36:42.922199Z"
    },
    "papermill": {
     "duration": 1.230846,
     "end_time": "2021-01-14T12:36:42.922959",
     "exception": false,
     "start_time": "2021-01-14T12:36:41.692113",
     "status": "completed"
    },
    "tags": []
   },
   "outputs": [
    {
     "name": "stderr",
     "output_type": "stream",
     "text": [
      "Downloading: \"https://github.com/rwightman/pytorch-image-models/releases/download/v0.1-weights/tf_efficientnet_b0_aa-827b6e33.pth\" to /root/.cache/torch/hub/checkpoints/tf_efficientnet_b0_aa-827b6e33.pth\n"
     ]
    }
   ],
   "source": [
    "def get_net():\n",
    "    config = get_efficientdet_config('tf_efficientdet_d0')\n",
    "    net = EfficientDet(config, pretrained_backbone=True)\n",
    "    config.num_classes = 14\n",
    "    config.image_size = 512\n",
    "    net.class_net = HeadNet(config, num_outputs=config.num_classes, norm_kwargs=dict(eps=.001, momentum=.01))\n",
    "    return DetBenchTrain(net, config)\n",
    "\n",
    "net = get_net()"
   ]
  },
  {
   "cell_type": "code",
   "execution_count": 13,
   "metadata": {
    "execution": {
     "iopub.execute_input": "2021-01-14T12:36:43.320096Z",
     "iopub.status.busy": "2021-01-14T12:36:43.316170Z",
     "iopub.status.idle": "2021-01-14T13:08:38.835569Z",
     "shell.execute_reply": "2021-01-14T13:08:38.834945Z"
    },
    "papermill": {
     "duration": 1915.894087,
     "end_time": "2021-01-14T13:08:38.835691",
     "exception": false,
     "start_time": "2021-01-14T12:36:42.941604",
     "status": "completed"
    },
    "scrolled": true,
    "tags": []
   },
   "outputs": [
    {
     "name": "stdout",
     "output_type": "stream",
     "text": [
      "Fitter prepared. Device is cuda:0\n",
      "\n",
      "2021-01-14T12:36:48.113111\n",
      "LR: 0.0002\n",
      "[RESULT]: Train. Epoch: 0, summary_loss: 255.83202, time: 804.14994\n",
      "[RESULT]: Val. Epoch: 0, summary_loss: 7.36518, time: 158.86682\n",
      "\n",
      "2021-01-14T12:52:51.538802\n",
      "LR: 0.0002\n",
      "[RESULT]: Train. Epoch: 1, summary_loss: 3.88691, time: 789.70422\n",
      "[RESULT]: Val. Epoch: 1, summary_loss: 2.25370, time: 157.15340\n"
     ]
    }
   ],
   "source": [
    "run_training()"
   ]
  },
  {
   "cell_type": "code",
   "execution_count": 14,
   "metadata": {
    "execution": {
     "iopub.execute_input": "2021-01-14T13:08:40.417930Z",
     "iopub.status.busy": "2021-01-14T13:08:40.416118Z",
     "iopub.status.idle": "2021-01-14T13:08:40.418606Z",
     "shell.execute_reply": "2021-01-14T13:08:40.419077Z"
    },
    "papermill": {
     "duration": 0.796492,
     "end_time": "2021-01-14T13:08:40.419198",
     "exception": false,
     "start_time": "2021-01-14T13:08:39.622706",
     "status": "completed"
    },
    "tags": []
   },
   "outputs": [],
   "source": [
    "# clearing working dir\n",
    "# be careful when running this code on local environment!\n",
    "# !rm -rf *\n",
    "# !mv * /tmp/"
   ]
  }
 ],
 "metadata": {
  "kernelspec": {
   "display_name": "Python 3",
   "language": "python",
   "name": "python3"
  },
  "language_info": {
   "codemirror_mode": {
    "name": "ipython",
    "version": 3
   },
   "file_extension": ".py",
   "mimetype": "text/x-python",
   "name": "python",
   "nbconvert_exporter": "python",
   "pygments_lexer": "ipython3",
   "version": "3.7.6"
  },
  "papermill": {
   "duration": 1941.643726,
   "end_time": "2021-01-14T13:08:42.218173",
   "environment_variables": {},
   "exception": null,
   "input_path": "__notebook__.ipynb",
   "output_path": "__notebook__.ipynb",
   "parameters": {},
   "start_time": "2021-01-14T12:36:20.574447",
   "version": "2.1.0"
  }
 },
 "nbformat": 4,
 "nbformat_minor": 4
}
