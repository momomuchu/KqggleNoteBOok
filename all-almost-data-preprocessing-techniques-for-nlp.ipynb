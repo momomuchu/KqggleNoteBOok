{
 "cells": [
  {
   "cell_type": "code",
   "execution_count": 1,
   "id": "18260921",
   "metadata": {
    "execution": {
     "iopub.execute_input": "2023-02-05T08:10:22.065444Z",
     "iopub.status.busy": "2023-02-05T08:10:22.064816Z",
     "iopub.status.idle": "2023-02-05T08:10:23.819932Z",
     "shell.execute_reply": "2023-02-05T08:10:23.818929Z"
    },
    "papermill": {
     "duration": 1.773376,
     "end_time": "2023-02-05T08:10:23.823055",
     "exception": false,
     "start_time": "2023-02-05T08:10:22.049679",
     "status": "completed"
    },
    "tags": []
   },
   "outputs": [],
   "source": [
    "import re\n",
    "from nltk.corpus import stopwords\n",
    "import string\n",
    "import pandas as pd\n",
    "\n",
    "import warnings\n",
    "warnings.filterwarnings(\"ignore\", category=UserWarning, module='bs4')"
   ]
  },
  {
   "cell_type": "markdown",
   "id": "b7bd4e4c",
   "metadata": {
    "papermill": {
     "duration": 0.012231,
     "end_time": "2023-02-05T08:10:23.847881",
     "exception": false,
     "start_time": "2023-02-05T08:10:23.835650",
     "status": "completed"
    },
    "tags": []
   },
   "source": [
    "## Dataset"
   ]
  },
  {
   "cell_type": "code",
   "execution_count": 2,
   "id": "2e95ae23",
   "metadata": {
    "execution": {
     "iopub.execute_input": "2023-02-05T08:10:23.876162Z",
     "iopub.status.busy": "2023-02-05T08:10:23.875567Z",
     "iopub.status.idle": "2023-02-05T08:10:23.939760Z",
     "shell.execute_reply": "2023-02-05T08:10:23.938211Z"
    },
    "papermill": {
     "duration": 0.080884,
     "end_time": "2023-02-05T08:10:23.942305",
     "exception": false,
     "start_time": "2023-02-05T08:10:23.861421",
     "status": "completed"
    },
    "tags": []
   },
   "outputs": [
    {
     "data": {
      "text/html": [
       "<div>\n",
       "<style scoped>\n",
       "    .dataframe tbody tr th:only-of-type {\n",
       "        vertical-align: middle;\n",
       "    }\n",
       "\n",
       "    .dataframe tbody tr th {\n",
       "        vertical-align: top;\n",
       "    }\n",
       "\n",
       "    .dataframe thead th {\n",
       "        text-align: right;\n",
       "    }\n",
       "</style>\n",
       "<table border=\"1\" class=\"dataframe\">\n",
       "  <thead>\n",
       "    <tr style=\"text-align: right;\">\n",
       "      <th></th>\n",
       "      <th>id</th>\n",
       "      <th>keyword</th>\n",
       "      <th>location</th>\n",
       "      <th>text</th>\n",
       "      <th>target</th>\n",
       "    </tr>\n",
       "  </thead>\n",
       "  <tbody>\n",
       "    <tr>\n",
       "      <th>0</th>\n",
       "      <td>1</td>\n",
       "      <td>NaN</td>\n",
       "      <td>NaN</td>\n",
       "      <td>Our Deeds are the Reason of this #earthquake M...</td>\n",
       "      <td>1</td>\n",
       "    </tr>\n",
       "    <tr>\n",
       "      <th>1</th>\n",
       "      <td>4</td>\n",
       "      <td>NaN</td>\n",
       "      <td>NaN</td>\n",
       "      <td>Forest fire near La Ronge Sask. Canada</td>\n",
       "      <td>1</td>\n",
       "    </tr>\n",
       "    <tr>\n",
       "      <th>2</th>\n",
       "      <td>5</td>\n",
       "      <td>NaN</td>\n",
       "      <td>NaN</td>\n",
       "      <td>All residents asked to 'shelter in place' are ...</td>\n",
       "      <td>1</td>\n",
       "    </tr>\n",
       "    <tr>\n",
       "      <th>3</th>\n",
       "      <td>6</td>\n",
       "      <td>NaN</td>\n",
       "      <td>NaN</td>\n",
       "      <td>13,000 people receive #wildfires evacuation or...</td>\n",
       "      <td>1</td>\n",
       "    </tr>\n",
       "    <tr>\n",
       "      <th>4</th>\n",
       "      <td>7</td>\n",
       "      <td>NaN</td>\n",
       "      <td>NaN</td>\n",
       "      <td>Just got sent this photo from Ruby #Alaska as ...</td>\n",
       "      <td>1</td>\n",
       "    </tr>\n",
       "  </tbody>\n",
       "</table>\n",
       "</div>"
      ],
      "text/plain": [
       "   id keyword location                                               text  \\\n",
       "0   1     NaN      NaN  Our Deeds are the Reason of this #earthquake M...   \n",
       "1   4     NaN      NaN             Forest fire near La Ronge Sask. Canada   \n",
       "2   5     NaN      NaN  All residents asked to 'shelter in place' are ...   \n",
       "3   6     NaN      NaN  13,000 people receive #wildfires evacuation or...   \n",
       "4   7     NaN      NaN  Just got sent this photo from Ruby #Alaska as ...   \n",
       "\n",
       "   target  \n",
       "0       1  \n",
       "1       1  \n",
       "2       1  \n",
       "3       1  \n",
       "4       1  "
      ]
     },
     "execution_count": 2,
     "metadata": {},
     "output_type": "execute_result"
    }
   ],
   "source": [
    "tweets_df = pd.read_csv(\"/kaggle/input/nlp-getting-started/train.csv\")\n",
    "tweets_df.head() "
   ]
  },
  {
   "cell_type": "markdown",
   "id": "b9317544",
   "metadata": {
    "papermill": {
     "duration": 0.012494,
     "end_time": "2023-02-05T08:10:23.967875",
     "exception": false,
     "start_time": "2023-02-05T08:10:23.955381",
     "status": "completed"
    },
    "tags": []
   },
   "source": [
    "If we check the description of the competition, we can observe that the keywords are important for the classification of distaster tweet and hence a combined tweet column is created by joining keyword and text. First the empty keywords are replaced by \"\"."
   ]
  },
  {
   "cell_type": "code",
   "execution_count": 3,
   "id": "f40e9441",
   "metadata": {
    "execution": {
     "iopub.execute_input": "2023-02-05T08:10:23.996123Z",
     "iopub.status.busy": "2023-02-05T08:10:23.995638Z",
     "iopub.status.idle": "2023-02-05T08:10:24.019146Z",
     "shell.execute_reply": "2023-02-05T08:10:24.018198Z"
    },
    "papermill": {
     "duration": 0.040717,
     "end_time": "2023-02-05T08:10:24.021530",
     "exception": false,
     "start_time": "2023-02-05T08:10:23.980813",
     "status": "completed"
    },
    "tags": []
   },
   "outputs": [
    {
     "data": {
      "text/html": [
       "<div>\n",
       "<style scoped>\n",
       "    .dataframe tbody tr th:only-of-type {\n",
       "        vertical-align: middle;\n",
       "    }\n",
       "\n",
       "    .dataframe tbody tr th {\n",
       "        vertical-align: top;\n",
       "    }\n",
       "\n",
       "    .dataframe thead th {\n",
       "        text-align: right;\n",
       "    }\n",
       "</style>\n",
       "<table border=\"1\" class=\"dataframe\">\n",
       "  <thead>\n",
       "    <tr style=\"text-align: right;\">\n",
       "      <th></th>\n",
       "      <th>id</th>\n",
       "      <th>keyword</th>\n",
       "      <th>location</th>\n",
       "      <th>text</th>\n",
       "      <th>target</th>\n",
       "      <th>tweet</th>\n",
       "    </tr>\n",
       "  </thead>\n",
       "  <tbody>\n",
       "    <tr>\n",
       "      <th>2644</th>\n",
       "      <td>3796</td>\n",
       "      <td>destruction</td>\n",
       "      <td>NaN</td>\n",
       "      <td>So you have a new weapon that can cause un-ima...</td>\n",
       "      <td>1</td>\n",
       "      <td>destruction So you have a new weapon that can ...</td>\n",
       "    </tr>\n",
       "    <tr>\n",
       "      <th>2227</th>\n",
       "      <td>3185</td>\n",
       "      <td>deluge</td>\n",
       "      <td>NaN</td>\n",
       "      <td>The f$&amp;amp;@ing things I do for #GISHWHES Just...</td>\n",
       "      <td>0</td>\n",
       "      <td>deluge The f$&amp;amp;@ing things I do for #GISHWH...</td>\n",
       "    </tr>\n",
       "    <tr>\n",
       "      <th>5448</th>\n",
       "      <td>7769</td>\n",
       "      <td>police</td>\n",
       "      <td>UK</td>\n",
       "      <td>DT @georgegalloway: RT @Galloway4Mayor: ÛÏThe...</td>\n",
       "      <td>1</td>\n",
       "      <td>police DT @georgegalloway: RT @Galloway4Mayor:...</td>\n",
       "    </tr>\n",
       "    <tr>\n",
       "      <th>132</th>\n",
       "      <td>191</td>\n",
       "      <td>aftershock</td>\n",
       "      <td>NaN</td>\n",
       "      <td>Aftershock back to school kick off was great. ...</td>\n",
       "      <td>0</td>\n",
       "      <td>aftershock Aftershock back to school kick off ...</td>\n",
       "    </tr>\n",
       "    <tr>\n",
       "      <th>6845</th>\n",
       "      <td>9810</td>\n",
       "      <td>trauma</td>\n",
       "      <td>Montgomery County, MD</td>\n",
       "      <td>in response to trauma Children of Addicts deve...</td>\n",
       "      <td>0</td>\n",
       "      <td>trauma in response to trauma Children of Addic...</td>\n",
       "    </tr>\n",
       "  </tbody>\n",
       "</table>\n",
       "</div>"
      ],
      "text/plain": [
       "        id      keyword               location  \\\n",
       "2644  3796  destruction                    NaN   \n",
       "2227  3185       deluge                    NaN   \n",
       "5448  7769       police                     UK   \n",
       "132    191   aftershock                    NaN   \n",
       "6845  9810       trauma  Montgomery County, MD   \n",
       "\n",
       "                                                   text  target  \\\n",
       "2644  So you have a new weapon that can cause un-ima...       1   \n",
       "2227  The f$&amp;@ing things I do for #GISHWHES Just...       0   \n",
       "5448  DT @georgegalloway: RT @Galloway4Mayor: ÛÏThe...       1   \n",
       "132   Aftershock back to school kick off was great. ...       0   \n",
       "6845  in response to trauma Children of Addicts deve...       0   \n",
       "\n",
       "                                                  tweet  \n",
       "2644  destruction So you have a new weapon that can ...  \n",
       "2227  deluge The f$&amp;@ing things I do for #GISHWH...  \n",
       "5448  police DT @georgegalloway: RT @Galloway4Mayor:...  \n",
       "132   aftershock Aftershock back to school kick off ...  \n",
       "6845  trauma in response to trauma Children of Addic...  "
      ]
     },
     "execution_count": 3,
     "metadata": {},
     "output_type": "execute_result"
    }
   ],
   "source": [
    "tweets_df[\"keyword\"] = tweets_df[\"keyword\"].fillna(\"\")\n",
    "tweets_df[\"tweet\"] = tweets_df[\"keyword\"] + \" \" + tweets_df[\"text\"]\n",
    "tweets_df.sample(5, random_state=42)"
   ]
  },
  {
   "cell_type": "markdown",
   "id": "d3a6b050",
   "metadata": {
    "papermill": {
     "duration": 0.012783,
     "end_time": "2023-02-05T08:10:24.047442",
     "exception": false,
     "start_time": "2023-02-05T08:10:24.034659",
     "status": "completed"
    },
    "tags": []
   },
   "source": [
    "## Lower Case"
   ]
  },
  {
   "cell_type": "code",
   "execution_count": 4,
   "id": "0b80aa43",
   "metadata": {
    "execution": {
     "iopub.execute_input": "2023-02-05T08:10:24.074904Z",
     "iopub.status.busy": "2023-02-05T08:10:24.073826Z",
     "iopub.status.idle": "2023-02-05T08:10:24.086577Z",
     "shell.execute_reply": "2023-02-05T08:10:24.085020Z"
    },
    "papermill": {
     "duration": 0.028322,
     "end_time": "2023-02-05T08:10:24.088458",
     "exception": false,
     "start_time": "2023-02-05T08:10:24.060136",
     "status": "completed"
    },
    "tags": []
   },
   "outputs": [
    {
     "data": {
      "text/plain": [
       "2644    destruction so you have a new weapon that can ...\n",
       "2227    deluge the f$&amp;@ing things i do for #gishwh...\n",
       "5448    police dt @georgegalloway: rt @galloway4mayor:...\n",
       "132     aftershock aftershock back to school kick off ...\n",
       "6845    trauma in response to trauma children of addic...\n",
       "Name: tweet_lower, dtype: object"
      ]
     },
     "execution_count": 4,
     "metadata": {},
     "output_type": "execute_result"
    }
   ],
   "source": [
    "tweets_df[\"tweet_lower\"] = tweets_df[\"tweet\"].str.lower()\n",
    "tweets_df[\"tweet_lower\"].sample(5, random_state=42)"
   ]
  },
  {
   "cell_type": "markdown",
   "id": "a3634050",
   "metadata": {
    "papermill": {
     "duration": 0.012263,
     "end_time": "2023-02-05T08:10:24.113298",
     "exception": false,
     "start_time": "2023-02-05T08:10:24.101035",
     "status": "completed"
    },
    "tags": []
   },
   "source": [
    "## Remove HTML"
   ]
  },
  {
   "cell_type": "markdown",
   "id": "b311c0f0",
   "metadata": {
    "papermill": {
     "duration": 0.012273,
     "end_time": "2023-02-05T08:10:24.138222",
     "exception": false,
     "start_time": "2023-02-05T08:10:24.125949",
     "status": "completed"
    },
    "tags": []
   },
   "source": [
    "There are many html entities in the text such as \"& gt;\" and \"& lt;\". Also text might contain html tags such as < p >, < a > or < div >"
   ]
  },
  {
   "cell_type": "code",
   "execution_count": 5,
   "id": "2a4df9af",
   "metadata": {
    "execution": {
     "iopub.execute_input": "2023-02-05T08:10:24.164879Z",
     "iopub.status.busy": "2023-02-05T08:10:24.164572Z",
     "iopub.status.idle": "2023-02-05T08:10:24.349489Z",
     "shell.execute_reply": "2023-02-05T08:10:24.348332Z"
    },
    "papermill": {
     "duration": 0.201116,
     "end_time": "2023-02-05T08:10:24.351909",
     "exception": false,
     "start_time": "2023-02-05T08:10:24.150793",
     "status": "completed"
    },
    "tags": []
   },
   "outputs": [
    {
     "data": {
      "text/plain": [
       "'>> $15 Aftershock : Protect Yourself and Profit in the Next Global Financial... ##book http://t.co/f6ntUc734Z esquireattire'"
      ]
     },
     "execution_count": 5,
     "metadata": {},
     "output_type": "execute_result"
    }
   ],
   "source": [
    "from bs4 import BeautifulSoup\n",
    "text = r\"&gt;&gt; $15 Aftershock : Protect Yourself and Profit in the Next Global Financial... ##book http://t.co/f6ntUc734Z esquireattire\"\n",
    "soup = BeautifulSoup(text)\n",
    "soup.get_text()"
   ]
  },
  {
   "cell_type": "code",
   "execution_count": 6,
   "id": "26da42cf",
   "metadata": {
    "execution": {
     "iopub.execute_input": "2023-02-05T08:10:24.381245Z",
     "iopub.status.busy": "2023-02-05T08:10:24.380458Z",
     "iopub.status.idle": "2023-02-05T08:10:24.385691Z",
     "shell.execute_reply": "2023-02-05T08:10:24.384776Z"
    },
    "papermill": {
     "duration": 0.023339,
     "end_time": "2023-02-05T08:10:24.388392",
     "exception": false,
     "start_time": "2023-02-05T08:10:24.365053",
     "status": "completed"
    },
    "tags": []
   },
   "outputs": [],
   "source": [
    "def remove_html(text):\n",
    "    soup = BeautifulSoup(text)\n",
    "    text = soup.get_text()\n",
    "    return text"
   ]
  },
  {
   "cell_type": "code",
   "execution_count": 7,
   "id": "75c09ae4",
   "metadata": {
    "execution": {
     "iopub.execute_input": "2023-02-05T08:10:24.419873Z",
     "iopub.status.busy": "2023-02-05T08:10:24.419203Z",
     "iopub.status.idle": "2023-02-05T08:10:25.919405Z",
     "shell.execute_reply": "2023-02-05T08:10:25.917885Z"
    },
    "papermill": {
     "duration": 1.518334,
     "end_time": "2023-02-05T08:10:25.921628",
     "exception": false,
     "start_time": "2023-02-05T08:10:24.403294",
     "status": "completed"
    },
    "tags": []
   },
   "outputs": [
    {
     "data": {
      "text/plain": [
       "2644    destruction so you have a new weapon that can ...\n",
       "2227    deluge the f$&@ing things i do for #gishwhes j...\n",
       "5448    police dt @georgegalloway: rt @galloway4mayor:...\n",
       "132     aftershock aftershock back to school kick off ...\n",
       "6845    trauma in response to trauma children of addic...\n",
       "Name: tweet_noHTML, dtype: object"
      ]
     },
     "execution_count": 7,
     "metadata": {},
     "output_type": "execute_result"
    }
   ],
   "source": [
    "tweets_df[\"tweet_noHTML\"] = tweets_df[\"tweet_lower\"].apply(remove_html)\n",
    "tweets_df[\"tweet_noHTML\"].sample(5, random_state=42)"
   ]
  },
  {
   "cell_type": "markdown",
   "id": "edd806ea",
   "metadata": {
    "papermill": {
     "duration": 0.012594,
     "end_time": "2023-02-05T08:10:25.947249",
     "exception": false,
     "start_time": "2023-02-05T08:10:25.934655",
     "status": "completed"
    },
    "tags": []
   },
   "source": [
    "## Expand Contractions"
   ]
  },
  {
   "cell_type": "markdown",
   "id": "5333033b",
   "metadata": {
    "papermill": {
     "duration": 0.012614,
     "end_time": "2023-02-05T08:10:25.972696",
     "exception": false,
     "start_time": "2023-02-05T08:10:25.960082",
     "status": "completed"
    },
    "tags": []
   },
   "source": [
    "There are many contractions of words used in informal communication such as can't: can not, they've: they have or even modern contractions such as sux: sucks. There is a python package to expand such contractions"
   ]
  },
  {
   "cell_type": "code",
   "execution_count": 8,
   "id": "c37fbd4f",
   "metadata": {
    "execution": {
     "iopub.execute_input": "2023-02-05T08:10:26.000670Z",
     "iopub.status.busy": "2023-02-05T08:10:26.000288Z",
     "iopub.status.idle": "2023-02-05T08:10:37.757442Z",
     "shell.execute_reply": "2023-02-05T08:10:37.755605Z"
    },
    "papermill": {
     "duration": 11.774294,
     "end_time": "2023-02-05T08:10:37.760167",
     "exception": false,
     "start_time": "2023-02-05T08:10:25.985873",
     "status": "completed"
    },
    "tags": []
   },
   "outputs": [
    {
     "name": "stdout",
     "output_type": "stream",
     "text": [
      "Collecting contractions\r\n",
      "  Downloading contractions-0.1.73-py2.py3-none-any.whl (8.7 kB)\r\n",
      "Collecting textsearch>=0.0.21\r\n",
      "  Downloading textsearch-0.0.24-py2.py3-none-any.whl (7.6 kB)\r\n",
      "Collecting pyahocorasick\r\n",
      "  Downloading pyahocorasick-2.0.0-cp37-cp37m-manylinux_2_5_x86_64.manylinux1_x86_64.whl (101 kB)\r\n",
      "\u001b[2K     \u001b[90m━━━━━━━━━━━━━━━━━━━━━━━━━━━━━━━━━━━━━━━\u001b[0m \u001b[32m101.8/101.8 kB\u001b[0m \u001b[31m4.0 MB/s\u001b[0m eta \u001b[36m0:00:00\u001b[0m\r\n",
      "\u001b[?25hCollecting anyascii\r\n",
      "  Downloading anyascii-0.3.1-py3-none-any.whl (287 kB)\r\n",
      "\u001b[2K     \u001b[90m━━━━━━━━━━━━━━━━━━━━━━━━━━━━━━━━━━━━━━\u001b[0m \u001b[32m287.5/287.5 kB\u001b[0m \u001b[31m12.4 MB/s\u001b[0m eta \u001b[36m0:00:00\u001b[0m\r\n",
      "\u001b[?25hInstalling collected packages: pyahocorasick, anyascii, textsearch, contractions\r\n",
      "Successfully installed anyascii-0.3.1 contractions-0.1.73 pyahocorasick-2.0.0 textsearch-0.0.24\r\n",
      "\u001b[33mWARNING: Running pip as the 'root' user can result in broken permissions and conflicting behaviour with the system package manager. It is recommended to use a virtual environment instead: https://pip.pypa.io/warnings/venv\u001b[0m\u001b[33m\r\n",
      "\u001b[0m"
     ]
    },
    {
     "data": {
      "text/plain": [
       "2644    destruction so you have a new weapon that can ...\n",
       "2227    deluge the f$&@ing things i do for #gishwhes j...\n",
       "5448    police dt @georgegalloway: rt @galloway4mayor:...\n",
       "132     aftershock aftershock back to school kick off ...\n",
       "6845    trauma in response to trauma children of addic...\n",
       "Name: tweet_noContractions, dtype: object"
      ]
     },
     "execution_count": 8,
     "metadata": {},
     "output_type": "execute_result"
    }
   ],
   "source": [
    "!pip install contractions\n",
    "import contractions\n",
    "\n",
    "tweets_df[\"tweet_noContractions\"] = tweets_df[\"tweet_noHTML\"].apply(contractions.fix)\n",
    "tweets_df[\"tweet_noContractions\"].sample(5, random_state=42)"
   ]
  },
  {
   "cell_type": "markdown",
   "id": "dbdc0c6a",
   "metadata": {
    "papermill": {
     "duration": 0.013643,
     "end_time": "2023-02-05T08:10:37.787651",
     "exception": false,
     "start_time": "2023-02-05T08:10:37.774008",
     "status": "completed"
    },
    "tags": []
   },
   "source": [
    "## Remove URLs"
   ]
  },
  {
   "cell_type": "code",
   "execution_count": 9,
   "id": "7d4d25d7",
   "metadata": {
    "execution": {
     "iopub.execute_input": "2023-02-05T08:10:37.818494Z",
     "iopub.status.busy": "2023-02-05T08:10:37.817507Z",
     "iopub.status.idle": "2023-02-05T08:10:37.823128Z",
     "shell.execute_reply": "2023-02-05T08:10:37.822099Z"
    },
    "papermill": {
     "duration": 0.023197,
     "end_time": "2023-02-05T08:10:37.825453",
     "exception": false,
     "start_time": "2023-02-05T08:10:37.802256",
     "status": "completed"
    },
    "tags": []
   },
   "outputs": [],
   "source": [
    "def remove_urls(text):\n",
    "    pattern = re.compile(r'https?://(www\\.)?(\\w+)(\\.\\w+)(/\\w*)?')\n",
    "    text = re.sub(pattern, \"\", text)\n",
    "    return text"
   ]
  },
  {
   "cell_type": "code",
   "execution_count": 10,
   "id": "cf9b3dda",
   "metadata": {
    "execution": {
     "iopub.execute_input": "2023-02-05T08:10:37.856144Z",
     "iopub.status.busy": "2023-02-05T08:10:37.855506Z",
     "iopub.status.idle": "2023-02-05T08:10:37.861844Z",
     "shell.execute_reply": "2023-02-05T08:10:37.861139Z"
    },
    "papermill": {
     "duration": 0.023818,
     "end_time": "2023-02-05T08:10:37.863675",
     "exception": false,
     "start_time": "2023-02-05T08:10:37.839857",
     "status": "completed"
    },
    "tags": []
   },
   "outputs": [
    {
     "data": {
      "text/plain": [
       "'#stlouis #caraccidentlawyer Speeding Among Top Causes of Teen Accidents   Car Accident'"
      ]
     },
     "execution_count": 10,
     "metadata": {},
     "output_type": "execute_result"
    }
   ],
   "source": [
    "text = \"#stlouis #caraccidentlawyer Speeding Among Top Causes of Teen Accidents https://t.co/k4zoMOF319 https://t.co/S2kXVM0cBA Car Accident\"\n",
    "remove_urls(text)"
   ]
  },
  {
   "cell_type": "code",
   "execution_count": 11,
   "id": "ca6f9feb",
   "metadata": {
    "execution": {
     "iopub.execute_input": "2023-02-05T08:10:37.894061Z",
     "iopub.status.busy": "2023-02-05T08:10:37.893335Z",
     "iopub.status.idle": "2023-02-05T08:10:37.926546Z",
     "shell.execute_reply": "2023-02-05T08:10:37.924651Z"
    },
    "papermill": {
     "duration": 0.051535,
     "end_time": "2023-02-05T08:10:37.929211",
     "exception": false,
     "start_time": "2023-02-05T08:10:37.877676",
     "status": "completed"
    },
    "tags": []
   },
   "outputs": [
    {
     "data": {
      "text/plain": [
       "2644    destruction so you have a new weapon that can ...\n",
       "2227    deluge the f$&@ing things i do for #gishwhes j...\n",
       "5448    police dt @georgegalloway: rt @galloway4mayor:...\n",
       "132     aftershock aftershock back to school kick off ...\n",
       "6845    trauma in response to trauma children of addic...\n",
       "Name: tweet_noURLs, dtype: object"
      ]
     },
     "execution_count": 11,
     "metadata": {},
     "output_type": "execute_result"
    }
   ],
   "source": [
    "tweets_df[\"tweet_noURLs\"] = tweets_df[\"tweet_noContractions\"].apply(remove_urls)\n",
    "tweets_df[\"tweet_noURLs\"].sample(5, random_state=42)"
   ]
  },
  {
   "cell_type": "markdown",
   "id": "83445a2b",
   "metadata": {
    "papermill": {
     "duration": 0.01404,
     "end_time": "2023-02-05T08:10:37.957900",
     "exception": false,
     "start_time": "2023-02-05T08:10:37.943860",
     "status": "completed"
    },
    "tags": []
   },
   "source": [
    "## Remove Email IDs"
   ]
  },
  {
   "cell_type": "code",
   "execution_count": 12,
   "id": "bdbb0994",
   "metadata": {
    "execution": {
     "iopub.execute_input": "2023-02-05T08:10:37.987728Z",
     "iopub.status.busy": "2023-02-05T08:10:37.987373Z",
     "iopub.status.idle": "2023-02-05T08:10:37.993212Z",
     "shell.execute_reply": "2023-02-05T08:10:37.991631Z"
    },
    "papermill": {
     "duration": 0.023434,
     "end_time": "2023-02-05T08:10:37.995418",
     "exception": false,
     "start_time": "2023-02-05T08:10:37.971984",
     "status": "completed"
    },
    "tags": []
   },
   "outputs": [],
   "source": [
    "def remove_emails(text):\n",
    "    pattern = re.compile(r\"[\\w\\.-]+@[\\w\\.-]+\\.\\w+\")\n",
    "    text = re.sub(pattern, \"\", text)\n",
    "    return text"
   ]
  },
  {
   "cell_type": "code",
   "execution_count": 13,
   "id": "b54e0b74",
   "metadata": {
    "execution": {
     "iopub.execute_input": "2023-02-05T08:10:38.025175Z",
     "iopub.status.busy": "2023-02-05T08:10:38.024844Z",
     "iopub.status.idle": "2023-02-05T08:10:38.032194Z",
     "shell.execute_reply": "2023-02-05T08:10:38.030607Z"
    },
    "papermill": {
     "duration": 0.025617,
     "end_time": "2023-02-05T08:10:38.034990",
     "exception": false,
     "start_time": "2023-02-05T08:10:38.009373",
     "status": "completed"
    },
    "tags": []
   },
   "outputs": [
    {
     "data": {
      "text/plain": [
       "'please send your feedback to  '"
      ]
     },
     "execution_count": 13,
     "metadata": {},
     "output_type": "execute_result"
    }
   ],
   "source": [
    "text = \"please send your feedback to myemail@gmail.com \"\n",
    "remove_emails(text)"
   ]
  },
  {
   "cell_type": "code",
   "execution_count": 14,
   "id": "923b97fc",
   "metadata": {
    "execution": {
     "iopub.execute_input": "2023-02-05T08:10:38.065436Z",
     "iopub.status.busy": "2023-02-05T08:10:38.065009Z",
     "iopub.status.idle": "2023-02-05T08:10:38.120611Z",
     "shell.execute_reply": "2023-02-05T08:10:38.119420Z"
    },
    "papermill": {
     "duration": 0.073508,
     "end_time": "2023-02-05T08:10:38.123224",
     "exception": false,
     "start_time": "2023-02-05T08:10:38.049716",
     "status": "completed"
    },
    "tags": []
   },
   "outputs": [
    {
     "data": {
      "text/plain": [
       "2644    destruction so you have a new weapon that can ...\n",
       "2227    deluge the f$&@ing things i do for #gishwhes j...\n",
       "5448    police dt @georgegalloway: rt @galloway4mayor:...\n",
       "132     aftershock aftershock back to school kick off ...\n",
       "6845    trauma in response to trauma children of addic...\n",
       "Name: tweet_noEmail, dtype: object"
      ]
     },
     "execution_count": 14,
     "metadata": {},
     "output_type": "execute_result"
    }
   ],
   "source": [
    "tweets_df[\"tweet_noEmail\"] = tweets_df[\"tweet_noURLs\"].apply(remove_emails)\n",
    "tweets_df[\"tweet_noEmail\"].sample(5, random_state=42)"
   ]
  },
  {
   "cell_type": "markdown",
   "id": "9a49c5db",
   "metadata": {
    "papermill": {
     "duration": 0.013947,
     "end_time": "2023-02-05T08:10:38.151653",
     "exception": false,
     "start_time": "2023-02-05T08:10:38.137706",
     "status": "completed"
    },
    "tags": []
   },
   "source": [
    "## Remove Tweeter Mentions\n",
    "The text contains maintions using @, we need to remove these mentions before removing the punctutions."
   ]
  },
  {
   "cell_type": "code",
   "execution_count": 15,
   "id": "44738916",
   "metadata": {
    "execution": {
     "iopub.execute_input": "2023-02-05T08:10:38.181962Z",
     "iopub.status.busy": "2023-02-05T08:10:38.181425Z",
     "iopub.status.idle": "2023-02-05T08:10:38.185328Z",
     "shell.execute_reply": "2023-02-05T08:10:38.184692Z"
    },
    "papermill": {
     "duration": 0.021757,
     "end_time": "2023-02-05T08:10:38.187701",
     "exception": false,
     "start_time": "2023-02-05T08:10:38.165944",
     "status": "completed"
    },
    "tags": []
   },
   "outputs": [],
   "source": [
    "def remove_mentions(text):\n",
    "    pattern = re.compile(r\"@\\w+\")\n",
    "    text = re.sub(pattern, \"\", text)\n",
    "    return text"
   ]
  },
  {
   "cell_type": "code",
   "execution_count": 16,
   "id": "52d73404",
   "metadata": {
    "execution": {
     "iopub.execute_input": "2023-02-05T08:10:38.218640Z",
     "iopub.status.busy": "2023-02-05T08:10:38.217862Z",
     "iopub.status.idle": "2023-02-05T08:10:38.245858Z",
     "shell.execute_reply": "2023-02-05T08:10:38.244813Z"
    },
    "papermill": {
     "duration": 0.046141,
     "end_time": "2023-02-05T08:10:38.248485",
     "exception": false,
     "start_time": "2023-02-05T08:10:38.202344",
     "status": "completed"
    },
    "tags": []
   },
   "outputs": [
    {
     "data": {
      "text/plain": [
       "2644    destruction so you have a new weapon that can ...\n",
       "2227    deluge the f$& things i do for #gishwhes just ...\n",
       "5448    police dt : rt : ûïthe col police can catch a...\n",
       "132     aftershock aftershock back to school kick off ...\n",
       "6845    trauma in response to trauma children of addic...\n",
       "Name: tweet_noMention, dtype: object"
      ]
     },
     "execution_count": 16,
     "metadata": {},
     "output_type": "execute_result"
    }
   ],
   "source": [
    "tweets_df[\"tweet_noMention\"] = tweets_df[\"tweet_noEmail\"].apply(remove_mentions)\n",
    "tweets_df[\"tweet_noMention\"].sample(5, random_state=42)"
   ]
  },
  {
   "cell_type": "markdown",
   "id": "5c3a0e7b",
   "metadata": {
    "papermill": {
     "duration": 0.014116,
     "end_time": "2023-02-05T08:10:38.277636",
     "exception": false,
     "start_time": "2023-02-05T08:10:38.263520",
     "status": "completed"
    },
    "tags": []
   },
   "source": [
    "Hashtags can also be removed in similar way but in this competition the hashtags are important as they include key information hence are not removed"
   ]
  },
  {
   "cell_type": "markdown",
   "id": "bec56369",
   "metadata": {
    "papermill": {
     "duration": 0.014297,
     "end_time": "2023-02-05T08:10:38.306509",
     "exception": false,
     "start_time": "2023-02-05T08:10:38.292212",
     "status": "completed"
    },
    "tags": []
   },
   "source": [
    "## Handling Emojis"
   ]
  },
  {
   "cell_type": "markdown",
   "id": "3c638a69",
   "metadata": {
    "papermill": {
     "duration": 0.014372,
     "end_time": "2023-02-05T08:10:38.335401",
     "exception": false,
     "start_time": "2023-02-05T08:10:38.321029",
     "status": "completed"
    },
    "tags": []
   },
   "source": [
    "Generally emojis are removed, but in the case of distaster tweets, the emojis can contain some information and hence need to be handled properly.\n",
    "\n",
    "I propose to convert the emojis to six basic emotions such as happiness, sadness, anger, disgust, fear, surprise and the neutral state. Each emotion class can contain multiple emojis such as happiness can contain 😀 😃 😄 😁 😆 😅 😂 🤣\n",
    "\n",
    "This step needs to be done before removing Unicode characters in the next step because emojis are represented in unicode. "
   ]
  },
  {
   "cell_type": "markdown",
   "id": "69af1359",
   "metadata": {
    "papermill": {
     "duration": 0.014466,
     "end_time": "2023-02-05T08:10:38.364450",
     "exception": false,
     "start_time": "2023-02-05T08:10:38.349984",
     "status": "completed"
    },
    "tags": []
   },
   "source": [
    "**I think I will wait for some discussion in the comments regarding this before implementing any approach for this, because there can be ambiguity in the use of emojis as well**"
   ]
  },
  {
   "cell_type": "markdown",
   "id": "2a2d512e",
   "metadata": {
    "papermill": {
     "duration": 0.015094,
     "end_time": "2023-02-05T08:10:38.393966",
     "exception": false,
     "start_time": "2023-02-05T08:10:38.378872",
     "status": "completed"
    },
    "tags": []
   },
   "source": [
    "## Remove Unicode Charachers"
   ]
  },
  {
   "cell_type": "code",
   "execution_count": 17,
   "id": "c0f6880d",
   "metadata": {
    "execution": {
     "iopub.execute_input": "2023-02-05T08:10:38.425854Z",
     "iopub.status.busy": "2023-02-05T08:10:38.425509Z",
     "iopub.status.idle": "2023-02-05T08:10:38.431088Z",
     "shell.execute_reply": "2023-02-05T08:10:38.429387Z"
    },
    "papermill": {
     "duration": 0.024498,
     "end_time": "2023-02-05T08:10:38.433676",
     "exception": false,
     "start_time": "2023-02-05T08:10:38.409178",
     "status": "completed"
    },
    "tags": []
   },
   "outputs": [],
   "source": [
    "def remove_unicode_chars(text):\n",
    "    text = text.encode(\"ascii\", \"ignore\").decode()\n",
    "    return text"
   ]
  },
  {
   "cell_type": "code",
   "execution_count": 18,
   "id": "8da529e9",
   "metadata": {
    "execution": {
     "iopub.execute_input": "2023-02-05T08:10:38.465452Z",
     "iopub.status.busy": "2023-02-05T08:10:38.465031Z",
     "iopub.status.idle": "2023-02-05T08:10:38.480666Z",
     "shell.execute_reply": "2023-02-05T08:10:38.479333Z"
    },
    "papermill": {
     "duration": 0.035349,
     "end_time": "2023-02-05T08:10:38.483511",
     "exception": false,
     "start_time": "2023-02-05T08:10:38.448162",
     "status": "completed"
    },
    "tags": []
   },
   "outputs": [
    {
     "data": {
      "text/plain": [
       "2644    destruction so you have a new weapon that can ...\n",
       "2227    deluge the f$& things i do for #gishwhes just ...\n",
       "5448    police dt : rt : the col police can catch a pi...\n",
       "132     aftershock aftershock back to school kick off ...\n",
       "6845    trauma in response to trauma children of addic...\n",
       "Name: tweet_noUnicode, dtype: object"
      ]
     },
     "execution_count": 18,
     "metadata": {},
     "output_type": "execute_result"
    }
   ],
   "source": [
    "tweets_df[\"tweet_noUnicode\"] = tweets_df[\"tweet_noMention\"].apply(remove_unicode_chars)\n",
    "tweets_df[\"tweet_noUnicode\"].sample(5, random_state=42)"
   ]
  },
  {
   "cell_type": "markdown",
   "id": "8be73851",
   "metadata": {
    "papermill": {
     "duration": 0.014824,
     "end_time": "2023-02-05T08:10:38.513587",
     "exception": false,
     "start_time": "2023-02-05T08:10:38.498763",
     "status": "completed"
    },
    "tags": []
   },
   "source": [
    "## Abbreviation/Acronym Disambiguation\n",
    "There are large number of abbreviations and acronyms in the text. These abbreviations can contain meaningful information for the classification task and might get removed or destorted during other preprocessing steps and hence they need to be expanded earlier in the preprocessing. @gunesevitan has given many of these abbreviations in his [notebook](https://www.kaggle.com/code/gunesevitan/nlp-with-disaster-tweets-eda-cleaning-and-bert) "
   ]
  },
  {
   "cell_type": "code",
   "execution_count": 19,
   "id": "ade78032",
   "metadata": {
    "execution": {
     "iopub.execute_input": "2023-02-05T08:10:38.544381Z",
     "iopub.status.busy": "2023-02-05T08:10:38.544012Z",
     "iopub.status.idle": "2023-02-05T08:10:38.551521Z",
     "shell.execute_reply": "2023-02-05T08:10:38.550350Z"
    },
    "papermill": {
     "duration": 0.026394,
     "end_time": "2023-02-05T08:10:38.554475",
     "exception": false,
     "start_time": "2023-02-05T08:10:38.528081",
     "status": "completed"
    },
    "tags": []
   },
   "outputs": [],
   "source": [
    "# Acronyms\n",
    "def remove_abbreviations(text):\n",
    "    text = re.sub(r\"mh370\", \"missing malaysia airlines flight\", text)\n",
    "    text = re.sub(r\"okwx\", \"oklahoma city weather\", text)\n",
    "    text = re.sub(r\"arwx\", \"arkansas weather\", text)    \n",
    "    text = re.sub(r\"gawx\", \"georgia weather\", text)  \n",
    "    text = re.sub(r\"scwx\", \"south carolina weather\", text)  \n",
    "    text = re.sub(r\"cawx\", \"california weather\", text)\n",
    "    text = re.sub(r\"tnwx\", \"tennessee weather\", text)\n",
    "    text = re.sub(r\"azwx\", \"arizona weather\", text)  \n",
    "    text = re.sub(r\"alwx\", \"alabama Weather\", text)\n",
    "    text = re.sub(r\"wordpressdotcom\", \"wordpress\", text)    \n",
    "    text = re.sub(r\"usnwsgov\", \"united states national weather service\", text)\n",
    "    text = re.sub(r\"suruc\", \"sanliurfa\", tweet)\n",
    "    return text"
   ]
  },
  {
   "cell_type": "markdown",
   "id": "281ba834",
   "metadata": {
    "papermill": {
     "duration": 0.014432,
     "end_time": "2023-02-05T08:10:38.583934",
     "exception": false,
     "start_time": "2023-02-05T08:10:38.569502",
     "status": "completed"
    },
    "tags": []
   },
   "source": [
    "There are many more abbreviations in the dataset and a more thorough checking is required to find all the abbreviations/acronyms."
   ]
  },
  {
   "cell_type": "markdown",
   "id": "e96852b9",
   "metadata": {
    "papermill": {
     "duration": 0.014107,
     "end_time": "2023-02-05T08:10:38.612530",
     "exception": false,
     "start_time": "2023-02-05T08:10:38.598423",
     "status": "completed"
    },
    "tags": []
   },
   "source": [
    "## Remove Punctuations"
   ]
  },
  {
   "cell_type": "code",
   "execution_count": 20,
   "id": "1195b9d0",
   "metadata": {
    "execution": {
     "iopub.execute_input": "2023-02-05T08:10:38.643407Z",
     "iopub.status.busy": "2023-02-05T08:10:38.643031Z",
     "iopub.status.idle": "2023-02-05T08:10:38.649430Z",
     "shell.execute_reply": "2023-02-05T08:10:38.648230Z"
    },
    "papermill": {
     "duration": 0.024979,
     "end_time": "2023-02-05T08:10:38.652033",
     "exception": false,
     "start_time": "2023-02-05T08:10:38.627054",
     "status": "completed"
    },
    "tags": []
   },
   "outputs": [
    {
     "data": {
      "text/plain": [
       "'!\"#$%&\\'()*+,-./:;<=>?@[\\\\]^_`{|}~'"
      ]
     },
     "execution_count": 20,
     "metadata": {},
     "output_type": "execute_result"
    }
   ],
   "source": [
    "import string\n",
    "string.punctuation"
   ]
  },
  {
   "cell_type": "code",
   "execution_count": 21,
   "id": "b5232ddf",
   "metadata": {
    "execution": {
     "iopub.execute_input": "2023-02-05T08:10:38.682821Z",
     "iopub.status.busy": "2023-02-05T08:10:38.682445Z",
     "iopub.status.idle": "2023-02-05T08:10:38.688562Z",
     "shell.execute_reply": "2023-02-05T08:10:38.687072Z"
    },
    "papermill": {
     "duration": 0.024517,
     "end_time": "2023-02-05T08:10:38.691226",
     "exception": false,
     "start_time": "2023-02-05T08:10:38.666709",
     "status": "completed"
    },
    "tags": []
   },
   "outputs": [],
   "source": [
    "def remove_punctuations(text):\n",
    "    text = re.sub('[%s]' % re.escape(string.punctuation), \" \",text)\n",
    "    return text"
   ]
  },
  {
   "cell_type": "code",
   "execution_count": 22,
   "id": "1687e37a",
   "metadata": {
    "execution": {
     "iopub.execute_input": "2023-02-05T08:10:38.722979Z",
     "iopub.status.busy": "2023-02-05T08:10:38.722595Z",
     "iopub.status.idle": "2023-02-05T08:10:38.771169Z",
     "shell.execute_reply": "2023-02-05T08:10:38.769830Z"
    },
    "papermill": {
     "duration": 0.067579,
     "end_time": "2023-02-05T08:10:38.773998",
     "exception": false,
     "start_time": "2023-02-05T08:10:38.706419",
     "status": "completed"
    },
    "tags": []
   },
   "outputs": [
    {
     "data": {
      "text/plain": [
       "2644    destruction so you have a new weapon that can ...\n",
       "2227    deluge the f   things i do for  gishwhes just ...\n",
       "5448    police dt   rt   the col police can catch a pi...\n",
       "132     aftershock aftershock back to school kick off ...\n",
       "6845    trauma in response to trauma children of addic...\n",
       "Name: tweet_noPuncts, dtype: object"
      ]
     },
     "execution_count": 22,
     "metadata": {},
     "output_type": "execute_result"
    }
   ],
   "source": [
    "tweets_df[\"tweet_noPuncts\"] = tweets_df[\"tweet_noUnicode\"].apply(remove_punctuations)\n",
    "tweets_df[\"tweet_noPuncts\"].sample(5, random_state=42)"
   ]
  },
  {
   "cell_type": "markdown",
   "id": "ef82d4ae",
   "metadata": {
    "papermill": {
     "duration": 0.014459,
     "end_time": "2023-02-05T08:10:38.803548",
     "exception": false,
     "start_time": "2023-02-05T08:10:38.789089",
     "status": "completed"
    },
    "tags": []
   },
   "source": [
    "## Remove Digits or Words Containing Digits\n",
    "This might not be appropriate in many cases. For example \"MH370\" mentioned in the tweets corresponds to Malaysia Airlines Flight 370 which went missing. In this case, keeping this number in the text might be useful in the disaster tweet classification."
   ]
  },
  {
   "cell_type": "code",
   "execution_count": 23,
   "id": "26769889",
   "metadata": {
    "execution": {
     "iopub.execute_input": "2023-02-05T08:10:38.835165Z",
     "iopub.status.busy": "2023-02-05T08:10:38.834795Z",
     "iopub.status.idle": "2023-02-05T08:10:38.839524Z",
     "shell.execute_reply": "2023-02-05T08:10:38.838378Z"
    },
    "papermill": {
     "duration": 0.023218,
     "end_time": "2023-02-05T08:10:38.841686",
     "exception": false,
     "start_time": "2023-02-05T08:10:38.818468",
     "status": "completed"
    },
    "tags": []
   },
   "outputs": [],
   "source": [
    "def remove_digits(text):\n",
    "    pattern = re.compile(\"\\w*\\d+\\w*\")\n",
    "    text = re.sub(pattern, \"\",text)\n",
    "    return text"
   ]
  },
  {
   "cell_type": "code",
   "execution_count": 24,
   "id": "a9bdc639",
   "metadata": {
    "execution": {
     "iopub.execute_input": "2023-02-05T08:10:38.872764Z",
     "iopub.status.busy": "2023-02-05T08:10:38.872407Z",
     "iopub.status.idle": "2023-02-05T08:10:38.879722Z",
     "shell.execute_reply": "2023-02-05T08:10:38.878179Z"
    },
    "papermill": {
     "duration": 0.026185,
     "end_time": "2023-02-05T08:10:38.882839",
     "exception": false,
     "start_time": "2023-02-05T08:10:38.856654",
     "status": "completed"
    },
    "tags": []
   },
   "outputs": [
    {
     "data": {
      "text/plain": [
       "'    s of volcano hawaii'"
      ]
     },
     "execution_count": 24,
     "metadata": {},
     "output_type": "execute_result"
    }
   ],
   "source": [
    "text = \" m194 0104 utc5km s of volcano hawaii\"\n",
    "remove_digits(text)"
   ]
  },
  {
   "cell_type": "code",
   "execution_count": 25,
   "id": "c961701c",
   "metadata": {
    "execution": {
     "iopub.execute_input": "2023-02-05T08:10:38.915253Z",
     "iopub.status.busy": "2023-02-05T08:10:38.914865Z",
     "iopub.status.idle": "2023-02-05T08:10:39.005246Z",
     "shell.execute_reply": "2023-02-05T08:10:39.004156Z"
    },
    "papermill": {
     "duration": 0.11078,
     "end_time": "2023-02-05T08:10:39.008210",
     "exception": false,
     "start_time": "2023-02-05T08:10:38.897430",
     "status": "completed"
    },
    "tags": []
   },
   "outputs": [
    {
     "data": {
      "text/plain": [
       "2644    destruction so you have a new weapon that can ...\n",
       "2227    deluge the f   things i do for  gishwhes just ...\n",
       "5448    police dt   rt   the col police can catch a pi...\n",
       "132     aftershock aftershock back to school kick off ...\n",
       "6845    trauma in response to trauma children of addic...\n",
       "Name: tweet_noDigits, dtype: object"
      ]
     },
     "execution_count": 25,
     "metadata": {},
     "output_type": "execute_result"
    }
   ],
   "source": [
    "tweets_df[\"tweet_noDigits\"] = tweets_df[\"tweet_noPuncts\"].apply(remove_digits)\n",
    "tweets_df[\"tweet_noDigits\"].sample(5, random_state=42)"
   ]
  },
  {
   "cell_type": "markdown",
   "id": "07511ac9",
   "metadata": {
    "papermill": {
     "duration": 0.014734,
     "end_time": "2023-02-05T08:10:39.038155",
     "exception": false,
     "start_time": "2023-02-05T08:10:39.023421",
     "status": "completed"
    },
    "tags": []
   },
   "source": [
    "## Remove Stopwords\n",
    "Stopwords removal is one of the fundamental preprocessing operations in many NLP tasks. I sometimes remove stopwords before removing punctuations as many stopwords contain apostrophe. However, most of these stopwprds are expanded during contraction expansion process above "
   ]
  },
  {
   "cell_type": "code",
   "execution_count": 26,
   "id": "c20e9291",
   "metadata": {
    "execution": {
     "iopub.execute_input": "2023-02-05T08:10:39.069866Z",
     "iopub.status.busy": "2023-02-05T08:10:39.069493Z",
     "iopub.status.idle": "2023-02-05T08:10:39.083692Z",
     "shell.execute_reply": "2023-02-05T08:10:39.082137Z"
    },
    "papermill": {
     "duration": 0.033362,
     "end_time": "2023-02-05T08:10:39.086313",
     "exception": false,
     "start_time": "2023-02-05T08:10:39.052951",
     "status": "completed"
    },
    "tags": []
   },
   "outputs": [
    {
     "name": "stdout",
     "output_type": "stream",
     "text": [
      "{'their', 'from', 'further', 'where', 'myself', 'before', 'wouldn', 'during', 'me', 'yours', 'not', 'don', 'just', 'himself', 'now', 'they', 'with', 'this', 'very', 'what', 'few', 'she', 'if', 'these', 'couldn', 'too', \"doesn't\", 'own', \"wouldn't\", 'was', 'about', 'him', \"won't\", 'but', 'that', 'our', 'wasn', 'are', \"needn't\", \"shan't\", 'those', 'it', 'be', \"you're\", 't', 'does', 'so', \"you'd\", 'her', 'by', 'or', 'themselves', 'you', 'ma', 'both', 'mustn', 'yourselves', 'he', \"wasn't\", 'will', 'itself', 'how', 'we', 'his', 'because', 's', 'been', 'having', 'each', 'y', 'same', 'while', 'do', 'through', \"you'll\", 'here', 'only', 'have', 'than', 'whom', 'nor', 'ours', 'for', 'down', 'over', 'm', 'them', 'and', \"couldn't\", 'off', \"that'll\", 'ain', 'on', 'can', 'hadn', 'no', 'hasn', \"mustn't\", 'won', \"weren't\", 'isn', 'mightn', 'once', \"didn't\", 'to', 'being', 'theirs', 'out', 'shan', 'why', \"aren't\", 'needn', 'haven', \"haven't\", 'its', 'did', 'up', 'ourselves', \"she's\", 'yourself', 'should', 'until', 'aren', 'd', 'll', 'there', 're', 'most', 'above', 'didn', \"mightn't\", \"should've\", 'below', 'am', 'is', 'some', 'o', 'against', 'more', 'the', 'of', 'between', 'all', \"isn't\", 'an', \"you've\", 'such', 've', 'again', 'weren', 'after', 'in', 'herself', \"hasn't\", \"don't\", 'which', 'a', 'other', 'my', 'under', 'had', 'then', 'at', 'your', 'shouldn', \"shouldn't\", 'when', 'any', 'doesn', 'hers', \"it's\", 'into', 'doing', 'were', 'has', 'who', \"hadn't\", 'as', 'i'}\n"
     ]
    }
   ],
   "source": [
    "from nltk.corpus import stopwords\n",
    "stop_words = set(stopwords.words('english'))\n",
    "print(stop_words)"
   ]
  },
  {
   "cell_type": "code",
   "execution_count": 27,
   "id": "3cf4e4e3",
   "metadata": {
    "execution": {
     "iopub.execute_input": "2023-02-05T08:10:39.118230Z",
     "iopub.status.busy": "2023-02-05T08:10:39.117646Z",
     "iopub.status.idle": "2023-02-05T08:10:39.123058Z",
     "shell.execute_reply": "2023-02-05T08:10:39.121709Z"
    },
    "papermill": {
     "duration": 0.023919,
     "end_time": "2023-02-05T08:10:39.125314",
     "exception": false,
     "start_time": "2023-02-05T08:10:39.101395",
     "status": "completed"
    },
    "tags": []
   },
   "outputs": [],
   "source": [
    "def remove_stopwords(text):\n",
    "    return \" \".join([word for word in str(text).split() if word not in stop_words])"
   ]
  },
  {
   "cell_type": "code",
   "execution_count": 28,
   "id": "d0c71d27",
   "metadata": {
    "execution": {
     "iopub.execute_input": "2023-02-05T08:10:39.158388Z",
     "iopub.status.busy": "2023-02-05T08:10:39.157985Z",
     "iopub.status.idle": "2023-02-05T08:10:39.193224Z",
     "shell.execute_reply": "2023-02-05T08:10:39.192095Z"
    },
    "papermill": {
     "duration": 0.055065,
     "end_time": "2023-02-05T08:10:39.195694",
     "exception": false,
     "start_time": "2023-02-05T08:10:39.140629",
     "status": "completed"
    },
    "tags": []
   },
   "outputs": [
    {
     "data": {
      "text/plain": [
       "2644    destruction new weapon cause un imaginable des...\n",
       "2227    deluge f things gishwhes got soaked deluge goi...\n",
       "5448    police dt rt col police catch pickpocket liver...\n",
       "132     aftershock aftershock back school kick great w...\n",
       "6845    trauma response trauma children addicts develo...\n",
       "Name: tweet_noStopwords, dtype: object"
      ]
     },
     "execution_count": 28,
     "metadata": {},
     "output_type": "execute_result"
    }
   ],
   "source": [
    "tweets_df[\"tweet_noStopwords\"] = tweets_df[\"tweet_noDigits\"].apply(remove_stopwords)\n",
    "tweets_df[\"tweet_noStopwords\"].sample(5, random_state=42)"
   ]
  },
  {
   "cell_type": "markdown",
   "id": "2cea815e",
   "metadata": {
    "papermill": {
     "duration": 0.014799,
     "end_time": "2023-02-05T08:10:39.225824",
     "exception": false,
     "start_time": "2023-02-05T08:10:39.211025",
     "status": "completed"
    },
    "tags": []
   },
   "source": [
    "## Removing Extra Spaces\n",
    "In this case while removing stopwords w esplit the text using spaces which removes extra spaces. However, we can still run the following code to be sure"
   ]
  },
  {
   "cell_type": "code",
   "execution_count": 29,
   "id": "d05cd9ef",
   "metadata": {
    "execution": {
     "iopub.execute_input": "2023-02-05T08:10:39.257546Z",
     "iopub.status.busy": "2023-02-05T08:10:39.257128Z",
     "iopub.status.idle": "2023-02-05T08:10:39.262207Z",
     "shell.execute_reply": "2023-02-05T08:10:39.261183Z"
    },
    "papermill": {
     "duration": 0.0234,
     "end_time": "2023-02-05T08:10:39.264317",
     "exception": false,
     "start_time": "2023-02-05T08:10:39.240917",
     "status": "completed"
    },
    "tags": []
   },
   "outputs": [],
   "source": [
    "def remove_extra_spaces(text):\n",
    "    text = re.sub(' +', ' ', text).strip()\n",
    "    return text"
   ]
  },
  {
   "cell_type": "code",
   "execution_count": 30,
   "id": "b4bf640d",
   "metadata": {
    "execution": {
     "iopub.execute_input": "2023-02-05T08:10:39.297788Z",
     "iopub.status.busy": "2023-02-05T08:10:39.297413Z",
     "iopub.status.idle": "2023-02-05T08:10:39.336212Z",
     "shell.execute_reply": "2023-02-05T08:10:39.334560Z"
    },
    "papermill": {
     "duration": 0.05889,
     "end_time": "2023-02-05T08:10:39.339483",
     "exception": false,
     "start_time": "2023-02-05T08:10:39.280593",
     "status": "completed"
    },
    "tags": []
   },
   "outputs": [
    {
     "data": {
      "text/plain": [
       "2644    destruction new weapon cause un imaginable des...\n",
       "2227    deluge f things gishwhes got soaked deluge goi...\n",
       "5448    police dt rt col police catch pickpocket liver...\n",
       "132     aftershock aftershock back school kick great w...\n",
       "6845    trauma response trauma children addicts develo...\n",
       "Name: tweet_noExtraspace, dtype: object"
      ]
     },
     "execution_count": 30,
     "metadata": {},
     "output_type": "execute_result"
    }
   ],
   "source": [
    "tweets_df[\"tweet_noExtraspace\"] = tweets_df[\"tweet_noStopwords\"].apply(remove_extra_spaces)\n",
    "tweets_df[\"tweet_noExtraspace\"].sample(5, random_state=42)"
   ]
  },
  {
   "cell_type": "markdown",
   "id": "8fd5f649",
   "metadata": {
    "papermill": {
     "duration": 0.015677,
     "end_time": "2023-02-05T08:10:39.370987",
     "exception": false,
     "start_time": "2023-02-05T08:10:39.355310",
     "status": "completed"
    },
    "tags": []
   },
   "source": [
    "## Stemming or Lemmatization\n",
    "I generally prefer lemmatization over stemming as lemmatization gives meaningful words"
   ]
  },
  {
   "cell_type": "code",
   "execution_count": 31,
   "id": "5eeaaf5b",
   "metadata": {
    "execution": {
     "iopub.execute_input": "2023-02-05T08:10:39.403553Z",
     "iopub.status.busy": "2023-02-05T08:10:39.403168Z",
     "iopub.status.idle": "2023-02-05T08:10:39.409063Z",
     "shell.execute_reply": "2023-02-05T08:10:39.408004Z"
    },
    "papermill": {
     "duration": 0.025748,
     "end_time": "2023-02-05T08:10:39.412201",
     "exception": false,
     "start_time": "2023-02-05T08:10:39.386453",
     "status": "completed"
    },
    "tags": []
   },
   "outputs": [],
   "source": [
    "from nltk.stem import WordNetLemmatizer\n",
    "lemmatizer = WordNetLemmatizer()\n",
    "\n",
    "def lemmatize_text(text):\n",
    "    words = [lemmatizer.lemmatize(word) for word in text.split()]\n",
    "    text = ' '.join(words)\n",
    "    return text"
   ]
  },
  {
   "cell_type": "code",
   "execution_count": 32,
   "id": "1713f207",
   "metadata": {
    "execution": {
     "iopub.execute_input": "2023-02-05T08:10:39.446458Z",
     "iopub.status.busy": "2023-02-05T08:10:39.446069Z",
     "iopub.status.idle": "2023-02-05T08:10:41.537590Z",
     "shell.execute_reply": "2023-02-05T08:10:41.536784Z"
    },
    "papermill": {
     "duration": 2.109994,
     "end_time": "2023-02-05T08:10:41.539452",
     "exception": false,
     "start_time": "2023-02-05T08:10:39.429458",
     "status": "completed"
    },
    "tags": []
   },
   "outputs": [
    {
     "data": {
      "text/plain": [
       "2644    destruction new weapon cause un imaginable des...\n",
       "2227    deluge f thing gishwhes got soaked deluge goin...\n",
       "5448    police dt rt col police catch pickpocket liver...\n",
       "132     aftershock aftershock back school kick great w...\n",
       "6845    trauma response trauma child addict develop de...\n",
       "Name: tweet_lemmatised, dtype: object"
      ]
     },
     "execution_count": 32,
     "metadata": {},
     "output_type": "execute_result"
    }
   ],
   "source": [
    "tweets_df[\"tweet_lemmatised\"] = tweets_df[\"tweet_noExtraspace\"].apply(lemmatize_text)\n",
    "tweets_df[\"tweet_lemmatised\"].sample(5, random_state=42)"
   ]
  },
  {
   "cell_type": "markdown",
   "id": "cabbeb50",
   "metadata": {
    "papermill": {
     "duration": 0.014488,
     "end_time": "2023-02-05T08:10:41.568993",
     "exception": false,
     "start_time": "2023-02-05T08:10:41.554505",
     "status": "completed"
    },
    "tags": []
   },
   "source": [
    "## Spelling Correction\n",
    "Spelling correction can help in the NLP task of tweet classification in the considered example because the tweets are particularly succeptible to incorrect spellings of words, either deliberate or otherwise. There are fie woptions such as spell checker from TextBlob and Symspellpy (Python port of SymSpell). However, the Textblob is prohibitively slow while Symspellpy is very fast and accurate. Also it is language agnostic if proper dictionary is used, hence is used here"
   ]
  },
  {
   "cell_type": "code",
   "execution_count": 33,
   "id": "2097ea91",
   "metadata": {
    "execution": {
     "iopub.execute_input": "2023-02-05T08:10:41.600832Z",
     "iopub.status.busy": "2023-02-05T08:10:41.600244Z",
     "iopub.status.idle": "2023-02-05T08:10:51.027965Z",
     "shell.execute_reply": "2023-02-05T08:10:51.026594Z"
    },
    "papermill": {
     "duration": 9.446813,
     "end_time": "2023-02-05T08:10:51.030576",
     "exception": false,
     "start_time": "2023-02-05T08:10:41.583763",
     "status": "completed"
    },
    "tags": []
   },
   "outputs": [
    {
     "name": "stdout",
     "output_type": "stream",
     "text": [
      "Collecting symspellpy\r\n",
      "  Downloading symspellpy-6.7.7-py3-none-any.whl (2.6 MB)\r\n",
      "\u001b[2K     \u001b[90m━━━━━━━━━━━━━━━━━━━━━━━━━━━━━━━━━━━━━━━━\u001b[0m \u001b[32m2.6/2.6 MB\u001b[0m \u001b[31m29.7 MB/s\u001b[0m eta \u001b[36m0:00:00\u001b[0m\r\n",
      "\u001b[?25hCollecting editdistpy>=0.1.3\r\n",
      "  Downloading editdistpy-0.1.3-cp37-cp37m-manylinux_2_5_x86_64.manylinux1_x86_64.manylinux_2_17_x86_64.manylinux2014_x86_64.whl (125 kB)\r\n",
      "\u001b[2K     \u001b[90m━━━━━━━━━━━━━━━━━━━━━━━━━━━━━━━━━━━━━━\u001b[0m \u001b[32m125.5/125.5 kB\u001b[0m \u001b[31m11.3 MB/s\u001b[0m eta \u001b[36m0:00:00\u001b[0m\r\n",
      "\u001b[?25hInstalling collected packages: editdistpy, symspellpy\r\n",
      "Successfully installed editdistpy-0.1.3 symspellpy-6.7.7\r\n",
      "\u001b[33mWARNING: Running pip as the 'root' user can result in broken permissions and conflicting behaviour with the system package manager. It is recommended to use a virtual environment instead: https://pip.pypa.io/warnings/venv\u001b[0m\u001b[33m\r\n",
      "\u001b[0m"
     ]
    }
   ],
   "source": [
    "!pip install symspellpy\n",
    "import pkg_resources\n",
    "from symspellpy import SymSpell, Verbosity"
   ]
  },
  {
   "cell_type": "markdown",
   "id": "4a34124f",
   "metadata": {
    "papermill": {
     "duration": 0.015536,
     "end_time": "2023-02-05T08:10:51.062295",
     "exception": false,
     "start_time": "2023-02-05T08:10:51.046759",
     "status": "completed"
    },
    "tags": []
   },
   "source": [
    "SymSpellpy give multiple suggestions to the words for spelling correction. We can select the first suggested word having highest probability."
   ]
  },
  {
   "cell_type": "code",
   "execution_count": 34,
   "id": "e9f2c1f2",
   "metadata": {
    "execution": {
     "iopub.execute_input": "2023-02-05T08:10:51.095764Z",
     "iopub.status.busy": "2023-02-05T08:10:51.095408Z",
     "iopub.status.idle": "2023-02-05T08:10:54.520949Z",
     "shell.execute_reply": "2023-02-05T08:10:54.520089Z"
    },
    "papermill": {
     "duration": 3.445484,
     "end_time": "2023-02-05T08:10:54.523590",
     "exception": false,
     "start_time": "2023-02-05T08:10:51.078106",
     "status": "completed"
    },
    "tags": []
   },
   "outputs": [
    {
     "data": {
      "text/plain": [
       "True"
      ]
     },
     "execution_count": 34,
     "metadata": {},
     "output_type": "execute_result"
    }
   ],
   "source": [
    "sym_spell = SymSpell(max_dictionary_edit_distance=2, prefix_length=7)\n",
    "dictionary_path = pkg_resources.resource_filename(\n",
    "    \"symspellpy\", \"frequency_dictionary_en_82_765.txt\"\n",
    ")\n",
    "sym_spell.load_dictionary(dictionary_path, term_index=0, count_index=1)"
   ]
  },
  {
   "cell_type": "code",
   "execution_count": 35,
   "id": "1bf5d549",
   "metadata": {
    "execution": {
     "iopub.execute_input": "2023-02-05T08:10:54.557219Z",
     "iopub.status.busy": "2023-02-05T08:10:54.556772Z",
     "iopub.status.idle": "2023-02-05T08:10:54.563102Z",
     "shell.execute_reply": "2023-02-05T08:10:54.561463Z"
    },
    "papermill": {
     "duration": 0.025756,
     "end_time": "2023-02-05T08:10:54.565553",
     "exception": false,
     "start_time": "2023-02-05T08:10:54.539797",
     "status": "completed"
    },
    "tags": []
   },
   "outputs": [],
   "source": [
    "def correct_spelling_symspell(text):\n",
    "    words = [\n",
    "        sym_spell.lookup(\n",
    "            word, \n",
    "            Verbosity.CLOSEST, \n",
    "            max_edit_distance=2,\n",
    "            include_unknown=True\n",
    "            )[0].term \n",
    "        for word in text.split()] \n",
    "    text = \" \".join(words)\n",
    "    return text"
   ]
  },
  {
   "cell_type": "markdown",
   "id": "9df06f2b",
   "metadata": {
    "papermill": {
     "duration": 0.01518,
     "end_time": "2023-02-05T08:10:54.596506",
     "exception": false,
     "start_time": "2023-02-05T08:10:54.581326",
     "status": "completed"
    },
    "tags": []
   },
   "source": [
    "The `include_unknown` option keeps the words not within `max_edit_distance` from the words in the dictionary "
   ]
  },
  {
   "cell_type": "code",
   "execution_count": 36,
   "id": "2625e42f",
   "metadata": {
    "execution": {
     "iopub.execute_input": "2023-02-05T08:10:54.629393Z",
     "iopub.status.busy": "2023-02-05T08:10:54.628800Z",
     "iopub.status.idle": "2023-02-05T08:10:56.208850Z",
     "shell.execute_reply": "2023-02-05T08:10:56.207949Z"
    },
    "papermill": {
     "duration": 1.599405,
     "end_time": "2023-02-05T08:10:56.211321",
     "exception": false,
     "start_time": "2023-02-05T08:10:54.611916",
     "status": "completed"
    },
    "tags": []
   },
   "outputs": [
    {
     "data": {
      "text/plain": [
       "2644    destruction new weapon cause in imaginable des...\n",
       "2227    deluge of thing gishwhes got soaked deluge goi...\n",
       "5448    police it it col police catch pickpocket liver...\n",
       "132     aftershock aftershock back school kick great w...\n",
       "6845    trauma response trauma child addict develop de...\n",
       "Name: tweet_spellcheck, dtype: object"
      ]
     },
     "execution_count": 36,
     "metadata": {},
     "output_type": "execute_result"
    }
   ],
   "source": [
    "tweets_df[\"tweet_spellcheck\"] = tweets_df[\"tweet_lemmatised\"].apply(correct_spelling_symspell)\n",
    "tweets_df[\"tweet_spellcheck\"].sample(5, random_state=42)"
   ]
  },
  {
   "cell_type": "markdown",
   "id": "87748360",
   "metadata": {
    "papermill": {
     "duration": 0.015319,
     "end_time": "2023-02-05T08:10:56.242722",
     "exception": false,
     "start_time": "2023-02-05T08:10:56.227403",
     "status": "completed"
    },
    "tags": []
   },
   "source": [
    "It can be observed that it is not perfect and introduces more stopwords but can help in many cases. Some more investigation is required with the competition solution results"
   ]
  },
  {
   "cell_type": "markdown",
   "id": "387c5757",
   "metadata": {
    "papermill": {
     "duration": 0.015489,
     "end_time": "2023-02-05T08:10:56.273908",
     "exception": false,
     "start_time": "2023-02-05T08:10:56.258419",
     "status": "completed"
    },
    "tags": []
   },
   "source": [
    "## Correcting Componded Words \n",
    "(Mostly in Hashtags)"
   ]
  },
  {
   "cell_type": "code",
   "execution_count": 37,
   "id": "aa7bc6b8",
   "metadata": {
    "execution": {
     "iopub.execute_input": "2023-02-05T08:10:56.308733Z",
     "iopub.status.busy": "2023-02-05T08:10:56.308389Z",
     "iopub.status.idle": "2023-02-05T08:10:56.689626Z",
     "shell.execute_reply": "2023-02-05T08:10:56.688021Z"
    },
    "papermill": {
     "duration": 0.402125,
     "end_time": "2023-02-05T08:10:56.692682",
     "exception": false,
     "start_time": "2023-02-05T08:10:56.290557",
     "status": "completed"
    },
    "tags": []
   },
   "outputs": [
    {
     "data": {
      "text/plain": [
       "True"
      ]
     },
     "execution_count": 37,
     "metadata": {},
     "output_type": "execute_result"
    }
   ],
   "source": [
    "bigram_path = pkg_resources.resource_filename(\n",
    "    \"symspellpy\", \"frequency_bigramdictionary_en_243_342.txt\"\n",
    ")\n",
    "sym_spell.load_bigram_dictionary(bigram_path, term_index=0, count_index=2)"
   ]
  },
  {
   "cell_type": "code",
   "execution_count": 38,
   "id": "20804875",
   "metadata": {
    "execution": {
     "iopub.execute_input": "2023-02-05T08:10:56.726870Z",
     "iopub.status.busy": "2023-02-05T08:10:56.726452Z",
     "iopub.status.idle": "2023-02-05T08:10:56.733202Z",
     "shell.execute_reply": "2023-02-05T08:10:56.731963Z"
    },
    "papermill": {
     "duration": 0.027086,
     "end_time": "2023-02-05T08:10:56.735987",
     "exception": false,
     "start_time": "2023-02-05T08:10:56.708901",
     "status": "completed"
    },
    "tags": []
   },
   "outputs": [],
   "source": [
    "def correct_spelling_symspell_compound(text):\n",
    "    words = [\n",
    "        sym_spell.lookup_compound(\n",
    "            word, \n",
    "            max_edit_distance=2\n",
    "            )[0].term \n",
    "        for word in text.split()] \n",
    "    text = \" \".join(words)\n",
    "    return text"
   ]
  },
  {
   "cell_type": "code",
   "execution_count": 39,
   "id": "b331145b",
   "metadata": {
    "execution": {
     "iopub.execute_input": "2023-02-05T08:10:56.770233Z",
     "iopub.status.busy": "2023-02-05T08:10:56.769327Z",
     "iopub.status.idle": "2023-02-05T08:10:56.802543Z",
     "shell.execute_reply": "2023-02-05T08:10:56.800852Z"
    },
    "papermill": {
     "duration": 0.053181,
     "end_time": "2023-02-05T08:10:56.805204",
     "exception": false,
     "start_time": "2023-02-05T08:10:56.752023",
     "status": "completed"
    },
    "tags": []
   },
   "outputs": [
    {
     "data": {
      "text/plain": [
       "'iran deal panther attack trap music strategic patience social news as hurricane online communities human consumption'"
      ]
     },
     "execution_count": 39,
     "metadata": {},
     "output_type": "execute_result"
    }
   ],
   "source": [
    "text = \"IranDeal PantherAttack TrapMusic StrategicPatience socialnews NASAHurricane onlinecommunities humanconsumption\"\n",
    "correct_spelling_symspell_compound(text)"
   ]
  },
  {
   "cell_type": "code",
   "execution_count": 40,
   "id": "db3833e1",
   "metadata": {
    "execution": {
     "iopub.execute_input": "2023-02-05T08:10:56.839231Z",
     "iopub.status.busy": "2023-02-05T08:10:56.838857Z",
     "iopub.status.idle": "2023-02-05T08:11:01.455377Z",
     "shell.execute_reply": "2023-02-05T08:11:01.454691Z"
    },
    "papermill": {
     "duration": 4.63587,
     "end_time": "2023-02-05T08:11:01.457294",
     "exception": false,
     "start_time": "2023-02-05T08:10:56.821424",
     "status": "completed"
    },
    "tags": []
   },
   "outputs": [
    {
     "data": {
      "text/plain": [
       "2644    destruction new weapon cause in imaginable des...\n",
       "2227    deluge of thing gish hes got soaked deluge goi...\n",
       "5448    police it it col police catch pickpocket liver...\n",
       "132     aftershock aftershock back school kick great w...\n",
       "6845    trauma response trauma child addict develop de...\n",
       "Name: tweet_spellcheck_compound, dtype: object"
      ]
     },
     "execution_count": 40,
     "metadata": {},
     "output_type": "execute_result"
    }
   ],
   "source": [
    "tweets_df[\"tweet_spellcheck_compound\"] = tweets_df[\"tweet_spellcheck\"].apply(correct_spelling_symspell_compound)\n",
    "tweets_df[\"tweet_spellcheck_compound\"].sample(5, random_state=42)"
   ]
  },
  {
   "cell_type": "markdown",
   "id": "58ec8c8f",
   "metadata": {
    "papermill": {
     "duration": 0.016343,
     "end_time": "2023-02-05T08:11:01.490755",
     "exception": false,
     "start_time": "2023-02-05T08:11:01.474412",
     "status": "completed"
    },
    "tags": []
   },
   "source": [
    "## Final Stopward Removal\n",
    "Due to previous spell checking steps, few new stopwords are introduced in the data and hence one final stopward removal step is required."
   ]
  },
  {
   "cell_type": "code",
   "execution_count": 41,
   "id": "35d0f5a3",
   "metadata": {
    "execution": {
     "iopub.execute_input": "2023-02-05T08:11:01.526599Z",
     "iopub.status.busy": "2023-02-05T08:11:01.525963Z",
     "iopub.status.idle": "2023-02-05T08:11:01.552511Z",
     "shell.execute_reply": "2023-02-05T08:11:01.551826Z"
    },
    "papermill": {
     "duration": 0.046719,
     "end_time": "2023-02-05T08:11:01.554310",
     "exception": false,
     "start_time": "2023-02-05T08:11:01.507591",
     "status": "completed"
    },
    "tags": []
   },
   "outputs": [
    {
     "data": {
      "text/plain": [
       "2644    destruction new weapon cause imaginable destru...\n",
       "2227    deluge thing gish hes got soaked deluge going ...\n",
       "5448    police col police catch pickpocket liverpool s...\n",
       "132     aftershock aftershock back school kick great w...\n",
       "6845    trauma response trauma child addict develop de...\n",
       "Name: tweet_final, dtype: object"
      ]
     },
     "execution_count": 41,
     "metadata": {},
     "output_type": "execute_result"
    }
   ],
   "source": [
    "tweets_df[\"tweet_final\"] = tweets_df[\"tweet_spellcheck_compound\"].apply(remove_stopwords)\n",
    "tweets_df[\"tweet_final\"].sample(5, random_state=42)"
   ]
  },
  {
   "cell_type": "markdown",
   "id": "2b2757c2",
   "metadata": {
    "papermill": {
     "duration": 0.016134,
     "end_time": "2023-02-05T08:11:01.586938",
     "exception": false,
     "start_time": "2023-02-05T08:11:01.570804",
     "status": "completed"
    },
    "tags": []
   },
   "source": [
    "Proper sequence of these operations need to be determined to achieve higher efficiency of data preprocessing"
   ]
  },
  {
   "cell_type": "code",
   "execution_count": 42,
   "id": "73039110",
   "metadata": {
    "execution": {
     "iopub.execute_input": "2023-02-05T08:11:01.622069Z",
     "iopub.status.busy": "2023-02-05T08:11:01.621200Z",
     "iopub.status.idle": "2023-02-05T08:11:01.817208Z",
     "shell.execute_reply": "2023-02-05T08:11:01.816199Z"
    },
    "papermill": {
     "duration": 0.216706,
     "end_time": "2023-02-05T08:11:01.819916",
     "exception": false,
     "start_time": "2023-02-05T08:11:01.603210",
     "status": "completed"
    },
    "tags": []
   },
   "outputs": [],
   "source": [
    "tweets_df.to_csv(\"distaster_tweets_cleaned.csv\")"
   ]
  }
 ],
 "metadata": {
  "kernelspec": {
   "display_name": "Python 3",
   "language": "python",
   "name": "python3"
  },
  "language_info": {
   "codemirror_mode": {
    "name": "ipython",
    "version": 3
   },
   "file_extension": ".py",
   "mimetype": "text/x-python",
   "name": "python",
   "nbconvert_exporter": "python",
   "pygments_lexer": "ipython3",
   "version": "3.7.12"
  },
  "papermill": {
   "default_parameters": {},
   "duration": 48.920258,
   "end_time": "2023-02-05T08:11:03.161515",
   "environment_variables": {},
   "exception": null,
   "input_path": "__notebook__.ipynb",
   "output_path": "__notebook__.ipynb",
   "parameters": {},
   "start_time": "2023-02-05T08:10:14.241257",
   "version": "2.3.4"
  }
 },
 "nbformat": 4,
 "nbformat_minor": 5
}
