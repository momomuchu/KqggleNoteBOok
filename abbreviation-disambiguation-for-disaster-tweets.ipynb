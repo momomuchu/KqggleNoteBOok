{
 "cells": [
  {
   "cell_type": "code",
   "execution_count": 1,
   "id": "0d6b4473",
   "metadata": {
    "execution": {
     "iopub.execute_input": "2023-02-06T03:19:47.977416Z",
     "iopub.status.busy": "2023-02-06T03:19:47.976892Z",
     "iopub.status.idle": "2023-02-06T03:20:00.137203Z",
     "shell.execute_reply": "2023-02-06T03:20:00.135381Z"
    },
    "papermill": {
     "duration": 12.170536,
     "end_time": "2023-02-06T03:20:00.140140",
     "exception": false,
     "start_time": "2023-02-06T03:19:47.969604",
     "status": "completed"
    },
    "tags": []
   },
   "outputs": [
    {
     "name": "stdout",
     "output_type": "stream",
     "text": [
      "Collecting symspellpy\r\n",
      "  Downloading symspellpy-6.7.7-py3-none-any.whl (2.6 MB)\r\n",
      "\u001b[2K     \u001b[90m━━━━━━━━━━━━━━━━━━━━━━━━━━━━━━━━━━━━━━━━\u001b[0m \u001b[32m2.6/2.6 MB\u001b[0m \u001b[31m27.0 MB/s\u001b[0m eta \u001b[36m0:00:00\u001b[0m\r\n",
      "\u001b[?25hCollecting editdistpy>=0.1.3\r\n",
      "  Downloading editdistpy-0.1.3-cp37-cp37m-manylinux_2_5_x86_64.manylinux1_x86_64.manylinux_2_17_x86_64.manylinux2014_x86_64.whl (125 kB)\r\n",
      "\u001b[2K     \u001b[90m━━━━━━━━━━━━━━━━━━━━━━━━━━━━━━━━━━━━━━━\u001b[0m \u001b[32m125.5/125.5 kB\u001b[0m \u001b[31m9.5 MB/s\u001b[0m eta \u001b[36m0:00:00\u001b[0m\r\n",
      "\u001b[?25hInstalling collected packages: editdistpy, symspellpy\r\n",
      "Successfully installed editdistpy-0.1.3 symspellpy-6.7.7\r\n",
      "\u001b[33mWARNING: Running pip as the 'root' user can result in broken permissions and conflicting behaviour with the system package manager. It is recommended to use a virtual environment instead: https://pip.pypa.io/warnings/venv\u001b[0m\u001b[33m\r\n",
      "\u001b[0m"
     ]
    }
   ],
   "source": [
    "!pip install symspellpy\n",
    "import pkg_resources\n",
    "from symspellpy import SymSpell, Verbosity\n",
    "\n",
    "import pandas as pd"
   ]
  },
  {
   "cell_type": "markdown",
   "id": "1bd96503",
   "metadata": {
    "papermill": {
     "duration": 0.004342,
     "end_time": "2023-02-06T03:20:00.149785",
     "exception": false,
     "start_time": "2023-02-06T03:20:00.145443",
     "status": "completed"
    },
    "tags": []
   },
   "source": [
    "The approach used here is to first find all the possible abbreviations using the Spell Checker. If the word is not in the dictionary, it might be an abbreviation/acronym. Then these abbreviations can be expanded to their full forms to add more information to the tweet. Let's first import the dictionary and create the spell checker instance. The SymSpell spell checker is used here as it is very fast and relatively accurate. The spell checker will raise an error if the word is not in the dictionary. The `maximum_dictionary_edit_distance` and `max_edit_distance` is set to zero to avoid spelling correction so that we can find as many abbreviations as possible. One other reason is that the abbreviations are generally composed of 2 to 4 letter and if the max_edit_distance is 2 or even 1, the spell checker might find a word in the dictionary 1 edit distance away from the abbreviation. "
   ]
  },
  {
   "cell_type": "code",
   "execution_count": 2,
   "id": "3cec3fac",
   "metadata": {
    "execution": {
     "iopub.execute_input": "2023-02-06T03:20:00.161184Z",
     "iopub.status.busy": "2023-02-06T03:20:00.160726Z",
     "iopub.status.idle": "2023-02-06T03:20:01.492838Z",
     "shell.execute_reply": "2023-02-06T03:20:01.491470Z"
    },
    "papermill": {
     "duration": 1.340922,
     "end_time": "2023-02-06T03:20:01.495359",
     "exception": false,
     "start_time": "2023-02-06T03:20:00.154437",
     "status": "completed"
    },
    "tags": []
   },
   "outputs": [
    {
     "data": {
      "text/plain": [
       "True"
      ]
     },
     "execution_count": 2,
     "metadata": {},
     "output_type": "execute_result"
    }
   ],
   "source": [
    "sym_spell = SymSpell(max_dictionary_edit_distance=0, prefix_length=7)\n",
    "dictionary_path = pkg_resources.resource_filename(\n",
    "    \"symspellpy\", \"frequency_dictionary_en_82_765.txt\"\n",
    ")\n",
    "sym_spell.load_dictionary(dictionary_path, term_index=0, count_index=1)"
   ]
  },
  {
   "cell_type": "markdown",
   "id": "3e17914a",
   "metadata": {
    "papermill": {
     "duration": 0.004639,
     "end_time": "2023-02-06T03:20:01.504986",
     "exception": false,
     "start_time": "2023-02-06T03:20:01.500347",
     "status": "completed"
    },
    "tags": []
   },
   "source": [
    "## Dataset "
   ]
  },
  {
   "cell_type": "code",
   "execution_count": 3,
   "id": "96f2c40d",
   "metadata": {
    "execution": {
     "iopub.execute_input": "2023-02-06T03:20:01.518400Z",
     "iopub.status.busy": "2023-02-06T03:20:01.517793Z",
     "iopub.status.idle": "2023-02-06T03:20:01.936691Z",
     "shell.execute_reply": "2023-02-06T03:20:01.935444Z"
    },
    "papermill": {
     "duration": 0.428912,
     "end_time": "2023-02-06T03:20:01.938957",
     "exception": false,
     "start_time": "2023-02-06T03:20:01.510045",
     "status": "completed"
    },
    "tags": []
   },
   "outputs": [
    {
     "data": {
      "text/html": [
       "<div>\n",
       "<style scoped>\n",
       "    .dataframe tbody tr th:only-of-type {\n",
       "        vertical-align: middle;\n",
       "    }\n",
       "\n",
       "    .dataframe tbody tr th {\n",
       "        vertical-align: top;\n",
       "    }\n",
       "\n",
       "    .dataframe thead th {\n",
       "        text-align: right;\n",
       "    }\n",
       "</style>\n",
       "<table border=\"1\" class=\"dataframe\">\n",
       "  <thead>\n",
       "    <tr style=\"text-align: right;\">\n",
       "      <th></th>\n",
       "      <th>Unnamed: 0</th>\n",
       "      <th>id</th>\n",
       "      <th>keyword</th>\n",
       "      <th>location</th>\n",
       "      <th>text</th>\n",
       "      <th>target</th>\n",
       "      <th>tweet</th>\n",
       "      <th>tweet_lower</th>\n",
       "      <th>tweet_noHTML</th>\n",
       "      <th>tweet_noContractions</th>\n",
       "      <th>...</th>\n",
       "      <th>tweet_noMention</th>\n",
       "      <th>tweet_noUnicode</th>\n",
       "      <th>tweet_noPuncts</th>\n",
       "      <th>tweet_noDigits</th>\n",
       "      <th>tweet_noStopwords</th>\n",
       "      <th>tweet_noExtraspace</th>\n",
       "      <th>tweet_lemmatised</th>\n",
       "      <th>tweet_spellcheck</th>\n",
       "      <th>tweet_spellcheck_compound</th>\n",
       "      <th>tweet_final</th>\n",
       "    </tr>\n",
       "  </thead>\n",
       "  <tbody>\n",
       "    <tr>\n",
       "      <th>311</th>\n",
       "      <td>311</td>\n",
       "      <td>454</td>\n",
       "      <td>armageddon</td>\n",
       "      <td>Wrigley Field</td>\n",
       "      <td>@KatieKatCubs you already know how this shit g...</td>\n",
       "      <td>0</td>\n",
       "      <td>armageddon @KatieKatCubs you already know how ...</td>\n",
       "      <td>armageddon @katiekatcubs you already know how ...</td>\n",
       "      <td>armageddon @katiekatcubs you already know how ...</td>\n",
       "      <td>armageddon @katiekatcubs you already know how ...</td>\n",
       "      <td>...</td>\n",
       "      <td>armageddon  you already know how this shit goe...</td>\n",
       "      <td>armageddon  you already know how this shit goe...</td>\n",
       "      <td>armageddon  you already know how this shit goe...</td>\n",
       "      <td>armageddon  you already know how this shit goe...</td>\n",
       "      <td>armageddon already know shit goes world series...</td>\n",
       "      <td>armageddon already know shit goes world series...</td>\n",
       "      <td>armageddon already know shit go world series a...</td>\n",
       "      <td>armageddon already know shit go world series a...</td>\n",
       "      <td>armageddon already know shit go world series a...</td>\n",
       "      <td>armageddon already know shit go world series a...</td>\n",
       "    </tr>\n",
       "    <tr>\n",
       "      <th>4970</th>\n",
       "      <td>4970</td>\n",
       "      <td>7086</td>\n",
       "      <td>meltdown</td>\n",
       "      <td>Two Up Two Down</td>\n",
       "      <td>@LeMaireLee @danharmon People Near Meltdown Co...</td>\n",
       "      <td>0</td>\n",
       "      <td>meltdown @LeMaireLee @danharmon People Near Me...</td>\n",
       "      <td>meltdown @lemairelee @danharmon people near me...</td>\n",
       "      <td>meltdown @lemairelee @danharmon people near me...</td>\n",
       "      <td>meltdown @lemairelee @danharmon people near me...</td>\n",
       "      <td>...</td>\n",
       "      <td>meltdown   people near meltdown comics who hav...</td>\n",
       "      <td>meltdown   people near meltdown comics who hav...</td>\n",
       "      <td>meltdown   people near meltdown comics who hav...</td>\n",
       "      <td>meltdown   people near meltdown comics who hav...</td>\n",
       "      <td>meltdown people near meltdown comics free time...</td>\n",
       "      <td>meltdown people near meltdown comics free time...</td>\n",
       "      <td>meltdown people near meltdown comic free time ...</td>\n",
       "      <td>meltdown people near meltdown comic free time ...</td>\n",
       "      <td>meltdown people near meltdown comic free time ...</td>\n",
       "      <td>meltdown people near meltdown comic free time ...</td>\n",
       "    </tr>\n",
       "    <tr>\n",
       "      <th>527</th>\n",
       "      <td>527</td>\n",
       "      <td>762</td>\n",
       "      <td>avalanche</td>\n",
       "      <td>Score Team Goals Buying @</td>\n",
       "      <td>1-6 TIX Calgary Flames vs COL Avalanche Presea...</td>\n",
       "      <td>0</td>\n",
       "      <td>avalanche 1-6 TIX Calgary Flames vs COL Avalan...</td>\n",
       "      <td>avalanche 1-6 tix calgary flames vs col avalan...</td>\n",
       "      <td>avalanche 1-6 tix calgary flames vs col avalan...</td>\n",
       "      <td>avalanche 1-6 tix calgary flames vs col avalan...</td>\n",
       "      <td>...</td>\n",
       "      <td>avalanche 1-6 tix calgary flames vs col avalan...</td>\n",
       "      <td>avalanche 1-6 tix calgary flames vs col avalan...</td>\n",
       "      <td>avalanche 1 6 tix calgary flames vs col avalan...</td>\n",
       "      <td>avalanche   tix calgary flames vs col avalanch...</td>\n",
       "      <td>avalanche tix calgary flames vs col avalanche ...</td>\n",
       "      <td>avalanche tix calgary flames vs col avalanche ...</td>\n",
       "      <td>avalanche tix calgary flame v col avalanche pr...</td>\n",
       "      <td>avalanche tax calgary flame a col avalanche pr...</td>\n",
       "      <td>avalanche tax calgary flame a col avalanche pr...</td>\n",
       "      <td>avalanche tax calgary flame col avalanche pres...</td>\n",
       "    </tr>\n",
       "    <tr>\n",
       "      <th>6362</th>\n",
       "      <td>6362</td>\n",
       "      <td>9094</td>\n",
       "      <td>suicide%20bomb</td>\n",
       "      <td>Roadside</td>\n",
       "      <td>If you ever think you running out of choices i...</td>\n",
       "      <td>0</td>\n",
       "      <td>suicide%20bomb If you ever think you running o...</td>\n",
       "      <td>suicide%20bomb if you ever think you running o...</td>\n",
       "      <td>suicide%20bomb if you ever think you running o...</td>\n",
       "      <td>suicide%20bomb if you ever think you running o...</td>\n",
       "      <td>...</td>\n",
       "      <td>suicide%20bomb if you ever think you running o...</td>\n",
       "      <td>suicide%20bomb if you ever think you running o...</td>\n",
       "      <td>suicide 20bomb if you ever think you running o...</td>\n",
       "      <td>suicide  if you ever think you running out of ...</td>\n",
       "      <td>suicide ever think running choices life rembr ...</td>\n",
       "      <td>suicide ever think running choices life rembr ...</td>\n",
       "      <td>suicide ever think running choice life rembr k...</td>\n",
       "      <td>suicide ever think running choice life member ...</td>\n",
       "      <td>suicide ever think running choice life member ...</td>\n",
       "      <td>suicide ever think running choice life member ...</td>\n",
       "    </tr>\n",
       "    <tr>\n",
       "      <th>800</th>\n",
       "      <td>800</td>\n",
       "      <td>1160</td>\n",
       "      <td>blight</td>\n",
       "      <td>Laventillemoorings</td>\n",
       "      <td>If you dotish to blight your car go right ahea...</td>\n",
       "      <td>0</td>\n",
       "      <td>blight If you dotish to blight your car go rig...</td>\n",
       "      <td>blight if you dotish to blight your car go rig...</td>\n",
       "      <td>blight if you dotish to blight your car go rig...</td>\n",
       "      <td>blight if you dotish to blight your car go rig...</td>\n",
       "      <td>...</td>\n",
       "      <td>blight if you dotish to blight your car go rig...</td>\n",
       "      <td>blight if you dotish to blight your car go rig...</td>\n",
       "      <td>blight if you dotish to blight your car go rig...</td>\n",
       "      <td>blight if you dotish to blight your car go rig...</td>\n",
       "      <td>blight dotish blight car go right ahead mine</td>\n",
       "      <td>blight dotish blight car go right ahead mine</td>\n",
       "      <td>blight dotish blight car go right ahead mine</td>\n",
       "      <td>blight dovish blight car go right ahead mine</td>\n",
       "      <td>blight dovish blight car go right ahead mine</td>\n",
       "      <td>blight dovish blight car go right ahead mine</td>\n",
       "    </tr>\n",
       "  </tbody>\n",
       "</table>\n",
       "<p>5 rows × 22 columns</p>\n",
       "</div>"
      ],
      "text/plain": [
       "      Unnamed: 0    id         keyword                   location  \\\n",
       "311          311   454      armageddon              Wrigley Field   \n",
       "4970        4970  7086        meltdown            Two Up Two Down   \n",
       "527          527   762       avalanche  Score Team Goals Buying @   \n",
       "6362        6362  9094  suicide%20bomb                   Roadside   \n",
       "800          800  1160          blight        Laventillemoorings    \n",
       "\n",
       "                                                   text  target  \\\n",
       "311   @KatieKatCubs you already know how this shit g...       0   \n",
       "4970  @LeMaireLee @danharmon People Near Meltdown Co...       0   \n",
       "527   1-6 TIX Calgary Flames vs COL Avalanche Presea...       0   \n",
       "6362  If you ever think you running out of choices i...       0   \n",
       "800   If you dotish to blight your car go right ahea...       0   \n",
       "\n",
       "                                                  tweet  \\\n",
       "311   armageddon @KatieKatCubs you already know how ...   \n",
       "4970  meltdown @LeMaireLee @danharmon People Near Me...   \n",
       "527   avalanche 1-6 TIX Calgary Flames vs COL Avalan...   \n",
       "6362  suicide%20bomb If you ever think you running o...   \n",
       "800   blight If you dotish to blight your car go rig...   \n",
       "\n",
       "                                            tweet_lower  \\\n",
       "311   armageddon @katiekatcubs you already know how ...   \n",
       "4970  meltdown @lemairelee @danharmon people near me...   \n",
       "527   avalanche 1-6 tix calgary flames vs col avalan...   \n",
       "6362  suicide%20bomb if you ever think you running o...   \n",
       "800   blight if you dotish to blight your car go rig...   \n",
       "\n",
       "                                           tweet_noHTML  \\\n",
       "311   armageddon @katiekatcubs you already know how ...   \n",
       "4970  meltdown @lemairelee @danharmon people near me...   \n",
       "527   avalanche 1-6 tix calgary flames vs col avalan...   \n",
       "6362  suicide%20bomb if you ever think you running o...   \n",
       "800   blight if you dotish to blight your car go rig...   \n",
       "\n",
       "                                   tweet_noContractions  ...  \\\n",
       "311   armageddon @katiekatcubs you already know how ...  ...   \n",
       "4970  meltdown @lemairelee @danharmon people near me...  ...   \n",
       "527   avalanche 1-6 tix calgary flames vs col avalan...  ...   \n",
       "6362  suicide%20bomb if you ever think you running o...  ...   \n",
       "800   blight if you dotish to blight your car go rig...  ...   \n",
       "\n",
       "                                        tweet_noMention  \\\n",
       "311   armageddon  you already know how this shit goe...   \n",
       "4970  meltdown   people near meltdown comics who hav...   \n",
       "527   avalanche 1-6 tix calgary flames vs col avalan...   \n",
       "6362  suicide%20bomb if you ever think you running o...   \n",
       "800   blight if you dotish to blight your car go rig...   \n",
       "\n",
       "                                        tweet_noUnicode  \\\n",
       "311   armageddon  you already know how this shit goe...   \n",
       "4970  meltdown   people near meltdown comics who hav...   \n",
       "527   avalanche 1-6 tix calgary flames vs col avalan...   \n",
       "6362  suicide%20bomb if you ever think you running o...   \n",
       "800   blight if you dotish to blight your car go rig...   \n",
       "\n",
       "                                         tweet_noPuncts  \\\n",
       "311   armageddon  you already know how this shit goe...   \n",
       "4970  meltdown   people near meltdown comics who hav...   \n",
       "527   avalanche 1 6 tix calgary flames vs col avalan...   \n",
       "6362  suicide 20bomb if you ever think you running o...   \n",
       "800   blight if you dotish to blight your car go rig...   \n",
       "\n",
       "                                         tweet_noDigits  \\\n",
       "311   armageddon  you already know how this shit goe...   \n",
       "4970  meltdown   people near meltdown comics who hav...   \n",
       "527   avalanche   tix calgary flames vs col avalanch...   \n",
       "6362  suicide  if you ever think you running out of ...   \n",
       "800   blight if you dotish to blight your car go rig...   \n",
       "\n",
       "                                      tweet_noStopwords  \\\n",
       "311   armageddon already know shit goes world series...   \n",
       "4970  meltdown people near meltdown comics free time...   \n",
       "527   avalanche tix calgary flames vs col avalanche ...   \n",
       "6362  suicide ever think running choices life rembr ...   \n",
       "800        blight dotish blight car go right ahead mine   \n",
       "\n",
       "                                     tweet_noExtraspace  \\\n",
       "311   armageddon already know shit goes world series...   \n",
       "4970  meltdown people near meltdown comics free time...   \n",
       "527   avalanche tix calgary flames vs col avalanche ...   \n",
       "6362  suicide ever think running choices life rembr ...   \n",
       "800        blight dotish blight car go right ahead mine   \n",
       "\n",
       "                                       tweet_lemmatised  \\\n",
       "311   armageddon already know shit go world series a...   \n",
       "4970  meltdown people near meltdown comic free time ...   \n",
       "527   avalanche tix calgary flame v col avalanche pr...   \n",
       "6362  suicide ever think running choice life rembr k...   \n",
       "800        blight dotish blight car go right ahead mine   \n",
       "\n",
       "                                       tweet_spellcheck  \\\n",
       "311   armageddon already know shit go world series a...   \n",
       "4970  meltdown people near meltdown comic free time ...   \n",
       "527   avalanche tax calgary flame a col avalanche pr...   \n",
       "6362  suicide ever think running choice life member ...   \n",
       "800        blight dovish blight car go right ahead mine   \n",
       "\n",
       "                              tweet_spellcheck_compound  \\\n",
       "311   armageddon already know shit go world series a...   \n",
       "4970  meltdown people near meltdown comic free time ...   \n",
       "527   avalanche tax calgary flame a col avalanche pr...   \n",
       "6362  suicide ever think running choice life member ...   \n",
       "800        blight dovish blight car go right ahead mine   \n",
       "\n",
       "                                            tweet_final  \n",
       "311   armageddon already know shit go world series a...  \n",
       "4970  meltdown people near meltdown comic free time ...  \n",
       "527   avalanche tax calgary flame col avalanche pres...  \n",
       "6362  suicide ever think running choice life member ...  \n",
       "800        blight dovish blight car go right ahead mine  \n",
       "\n",
       "[5 rows x 22 columns]"
      ]
     },
     "execution_count": 3,
     "metadata": {},
     "output_type": "execute_result"
    }
   ],
   "source": [
    "tweets_df = pd.read_csv(\"/kaggle/input/disaster-tweets-dataset-preprocessed-nlp/distaster_tweets_cleaned.csv\")\n",
    "tweets_df.sample(5, random_state=0)"
   ]
  },
  {
   "cell_type": "markdown",
   "id": "67c93286",
   "metadata": {
    "papermill": {
     "duration": 0.004807,
     "end_time": "2023-02-06T03:20:01.949114",
     "exception": false,
     "start_time": "2023-02-06T03:20:01.944307",
     "status": "completed"
    },
    "tags": []
   },
   "source": [
    "The dataset contains the tweets at different stages of preprocessing created using [this notebook](https://www.kaggle.com/code/rohitgarud/all-almost-data-preprocessing-techniques-for-nlp#Spelling-Correction). We have to now decide after which preprocessing step  should we do the abbreviation finding step. I this after removing the punctuations and before removing the digits should be good place to start with. Data at this stage is selected so as to have fairly clean data with digits such that abbreviations like MH370 (missing malaysia airlines flight) can be obtained."
   ]
  },
  {
   "cell_type": "code",
   "execution_count": 4,
   "id": "3a5ac73d",
   "metadata": {
    "execution": {
     "iopub.execute_input": "2023-02-06T03:20:01.961442Z",
     "iopub.status.busy": "2023-02-06T03:20:01.961022Z",
     "iopub.status.idle": "2023-02-06T03:20:01.975618Z",
     "shell.execute_reply": "2023-02-06T03:20:01.972913Z"
    },
    "papermill": {
     "duration": 0.024258,
     "end_time": "2023-02-06T03:20:01.978629",
     "exception": false,
     "start_time": "2023-02-06T03:20:01.954371",
     "status": "completed"
    },
    "tags": []
   },
   "outputs": [
    {
     "data": {
      "text/plain": [
       "array(['destruction so you have a new weapon that can cause un imaginable destruction ',\n",
       "       'deluge the f   things i do for  gishwhes just got soaked in a deluge going for pads and tampons  thanks     ',\n",
       "       'police dt   rt   the col police can catch a pickpocket in liverpool stree    ',\n",
       "       'aftershock aftershock back to school kick off was great  i want to thank everyone for making it possible  what a great night ',\n",
       "       'trauma in response to trauma children of addicts develop a defensive self   one that decreases vulnerability   3'],\n",
       "      dtype=object)"
      ]
     },
     "execution_count": 4,
     "metadata": {},
     "output_type": "execute_result"
    }
   ],
   "source": [
    "tweets_df[\"tweet_noPuncts\"].sample(5, random_state=42).values"
   ]
  },
  {
   "cell_type": "markdown",
   "id": "c967544e",
   "metadata": {
    "papermill": {
     "duration": 0.00668,
     "end_time": "2023-02-06T03:20:01.992762",
     "exception": false,
     "start_time": "2023-02-06T03:20:01.986082",
     "status": "completed"
    },
    "tags": []
   },
   "source": [
    "Now lets combine all text and try to find words which are not in the standard imported dictionary and see what words we get.  "
   ]
  },
  {
   "cell_type": "code",
   "execution_count": 5,
   "id": "b24be899",
   "metadata": {
    "execution": {
     "iopub.execute_input": "2023-02-06T03:20:02.007235Z",
     "iopub.status.busy": "2023-02-06T03:20:02.006433Z",
     "iopub.status.idle": "2023-02-06T03:20:02.015292Z",
     "shell.execute_reply": "2023-02-06T03:20:02.014353Z"
    },
    "papermill": {
     "duration": 0.018902,
     "end_time": "2023-02-06T03:20:02.018197",
     "exception": false,
     "start_time": "2023-02-06T03:20:01.999295",
     "status": "completed"
    },
    "tags": []
   },
   "outputs": [
    {
     "data": {
      "text/plain": [
       "'our deeds are the reason of this  earthquake may allah forgive us all forest fire near la ronge sask  canada all residents asked to  shelter in place  are being notified by officers  no other evacuation or shelter in place orders are expected 13 000 people receive  wildfires evacuation orders in california  just got sent this photo from ruby  alaska as smoke from  wildfires pours into a school   rockyfire update    california hwy  20 closed in both directions due to lake county fire    cafire  wildfires  flood  disaster heavy rain causes flash flooding of streets in manitou  colorado springs areas i am on top of the hill and i can see a fire in the woods    there is an emergency evacuation happening now in the building across the street i am afraid that the tornado is coming to our area    three people died from the heat wave so far haha south tampa is getting flooded hah  wait a second i live in south tampa what am i going to do what am i going to do fvck  flooding  raining  flooding '"
      ]
     },
     "execution_count": 5,
     "metadata": {},
     "output_type": "execute_result"
    }
   ],
   "source": [
    "all_text = \" \".join(tweets_df[\"tweet_noPuncts\"].values)\n",
    "all_text[:1000]"
   ]
  },
  {
   "cell_type": "code",
   "execution_count": 6,
   "id": "5e0e1325",
   "metadata": {
    "execution": {
     "iopub.execute_input": "2023-02-06T03:20:02.034661Z",
     "iopub.status.busy": "2023-02-06T03:20:02.034293Z",
     "iopub.status.idle": "2023-02-06T03:20:02.360201Z",
     "shell.execute_reply": "2023-02-06T03:20:02.359291Z"
    },
    "papermill": {
     "duration": 0.337998,
     "end_time": "2023-02-06T03:20:02.363852",
     "exception": false,
     "start_time": "2023-02-06T03:20:02.025854",
     "status": "completed"
    },
    "tags": []
   },
   "outputs": [
    {
     "name": "stdout",
     "output_type": "stream",
     "text": [
      "{'asf', 'ny1', 'ryans', '158', 'tpanic', '1965', 'realestate', 'maca', 'infact', 'idfire', 'aul', 'idgaf', 'wsls', 'kororinpa', 'orangi', 'bestival', 'entretenimento', 'alwx', '573', 'boyhaus', 'govegan', 'saddlebrooke', '40mln', '300', 'whitehouse', 'iredell', 'exofficio', 'tornados', '28700', 'selfavowed', 'longaberger', '2k15', 'avigdorliberman', 'lembra', 'skardu', 'chandanee', '4playthursdays', 'tweeting', 'camila', 'fingerrockfire', 'haha', 'film4', 'greyjoys', 'watchin', 'fx', 'backtoback', 'pnpizody', 'mydrought', 'kfc', 'dupree', 'sl', 'peritoengrafoscopia', 'identitytheft', 'nsf', 'workd', 'kamloops', 't', 'bcs', 'suggs', 'kro', 'gigant', 'soloquiero', 'ral', 'protoshoggoth', 'cydia', 'smh', '45600', 'bachmann', 'preppers', 'offroad', 'smp', 'lolla', 'jtw', 'movietheatre', 'morty', 'ands', 'rijn', '20', 'pft', 'enviromental', 'jewelry', 'indah', 'marketingmediocrity', 'meelllttting', 'jacinta', 'aks', 'hastle', 'lcc', '2b', 'feelin', 'africansinsf', '420', 'us70', 'notgoingoutinthat', 'difficultpeople', '6773', 'tgirl', 'nffc', 'nitclub', 'harman', 'warnerrobins', 'ak', 'dorret', 'senso', 'bronville', 'ssu', 'nema', 'vancouverisland', 'adhd', 'mulan', 'parkchat', 'kanger', 'connecto', '405', 'bcz', 'l6', 'ok', 'kwaaaaa', 'wouldnt', 'nwt', 'janata', 'conklin', 'oli', 'choppas', 'thatswhatfriendsarefor', 'warra', 'q2', 'clelli', 'vape', 'foto', 'nz', 'badchoices', 'i15', 'l', 'qiang', 'lungcancer', 'locksmithing', 'carmi', 'bamenda', '12news', 'vampiro', 'amiibos', 'qvc', '415', 'publichealth', 'keegan', 'coyi', 'lmaov', 'ren', 'malik', 'kindermorgan', 'lexi', 'cumberbatch', 'wsoc', 'tbt', '1986', 'mh370', 'palmoil', 'lyf', 'bosphore', 'goooooooaaaaaal', 'africanbaze', 'elven', 'adani', 'thehobbit', 'inciweb', 'lvl', 'indo', 'lich', 'hardline', 'yo', '4000', 'nia', 'ogt', 'iamdowntown', '96355', 'xela', 'deglin', 'bcpoli', 'membuahkan', 'najib', 'bancodeseries', 'idis', 'floored4', 'mfs', 'duda', 'udhampuragain', 'sanelesstheory', 'c', 'bbloggers', 'dothraki', 'thesensualeye', 'umntu', 'worldvision', 'depreciations', 'donnelly', '33', 'alllll', 'byr', 'lk', 'qave', 'ks94', '1935', 'minaj', 'wht', 'linkury', 'hardside', 'psychrewatch', 'childhooddefined', 'saltriverwildhorses', 'railguns', 'fatburning', 'holtz', 'jiwonle', 'tfb', 'vinnie', 'setsuko', 'savs', 'soultech', 'onlinea', '09', 'mtsalert', 'ww', 'overhostages', 'tps', 'thrarchives', 'clev', 'grayed', 'oh', 'lmfao', 'srs', 'faroeislands', 'jihadis', 'ceo', 'mmmm', 'nopower', 'defs', 'esports', 'enablement', 'elkhorn', 'killsone', 'foodstand', 'bbsnews', 'treeporn', '3460', '7', 'bullseye', 'master0fsloths', 'zayn', 'dcubecrafts', 'coloradoavalanche', 'cigs', 'shadowflame', 'ib', 'bigsby', '200000', 'since1970the', 'thnk', 'loa', 'dfr', 'spurgeon', 'akram', 'clergyforced', 'cnv', '550', 'bhramabull', 'mamata', 'instaquote', 'greatbritishbakeoff', 'kalmikya', 'kc5kh', 'graywardens', 'nother', 'disembarkment', 'hfo', '15th', 'kpdied', '1960s', 'mayweather', 'pornhub', 'oompah', 'internetradio', 'maddddd', 'mre', 'gmcr', 'statesville', 'espn', 'nightmarishly', 'pt1', 'driverlesscars', 'muzzamil', 'teemo', '20failure', 'sumn', 'weeklong', 'edcxo', 'reprocussions', 'ambleside', 'arfur', 'afp', 'alhaji', 'beforeitsnews', 'moms', '250k', '10pm', '124', 'wnw', 'nester', 'delany', 'landsli', 'mazing', 'usami', 'ps3', 'cybersecurity', 'shoutout', '109', 'yyj', 'driverless', '159', 'bestie', 'misfortunebut', '712c', 'oworoshoki', 'trump2016', 'activision', 'galifianakis', '2016', 'ahhhh', 'rchs', 'brucewillis', 'pixar', 'os', 'carolinaablaze', 'hunwx', 'hasil', 'lgbt', 'funtenna', 'trs', '10km', 'totoooooo', 'resque', 'abouts', 'indianperpetrated', 'residualincome', 'sif', 'kindof', 'disea', 'kiernan', 'boi', 'x1434', 'kach', '087809233445', 'lynchburg', 'kneelbot', 'naayf', 'chapoutier', 'siouxland', 'nurgle', '23km', 'ef', 'afrin', 'cnn', 'liguistic', 'artectura', 'blks', 'wknd', 'animatronics', 'prettyboyshyflizzy', 'win10', 'cityofmemphis', 'colleenmnelson', 'gymflow', 'horno', 'eyesss', 'rts', 'agw', 'akxbskdn', 'q99', 'kidsthesedays', 'richhomeydon', 'binladen', '129', 'tem', 'madinah', 'stormtrooper', 'mv', 'grahamwp', '5c', 'r3do', 'thinkpink', 'refugeesmatter', 'g7', 'amageddon', 'pitmix', 'urbanfashion', 'mukilteo', 'hr', 'ch', 'incase', 'brasswork', 'specialneeds', 'kelby', 'hashimoto', 'twimbos', 'stephenscifi', '12mm', 'rwa', 'renewsit', '401ks', 'redlands', 'kashmirconflict', '260th', 'yiraneuni', 'pra', 'netlabel', 'gbbo2015', 'somethin', 'thisdayinhistory', 'jonvoyage', 'veneto', 'www', 'chinas', 'ciggs', 'varagesale', 'roh3', 'vabengal', 'ushed', '04', 'phandom', 'contig', 'lifehacks', '238', '22days', 'forney', 'cuz', 'nyozi', 'inhofe', 'ilford', 'sarabia', 'lt', 'syd', '5sos', 'nkea', 'eonlinechat', 'dopest', 'tangletalk', 'tosu', 'elecman', 'lastma', 'kppolice', 'twia', 'photoshop', 'tc', 'messi', 'anthonys', 'shitton', 'vitesse', '20zone', 'tarmineta3', 'zar', 'n36', 'x1392', 'nnw', 'didn', 'sniiiiiiff', 'arwx', 'carryi', 'pt4', 'ultimalucha', 'tbr', 'frontpage', 'scotiabank', 'uhmmmm', 'cipinang', 'summerinsweden', '55436', 'pir', 'susiya', 'embra', 'ifunny', 'lorr', 'hatzolah', 'ey', 'fb', 'cle', 'penneys', 'butterlondon', 'pradesh', '1974', 'kuznetsova', 'molecularly', 'wmur9', 'ny1burst', 'sanfrancisco', 'goodlook', 'niall', 'guage', 'globi', 'gba', 'killhard', 'annonymous', 'yor', '24', 'skynews', 'vivaargentina', 'dustpig', 'thedoolinggroup', 'cityporn', '20disaster', 'colorism', 'fnaf', 'nyg', 'nui', 'ya', '325', 'hopeinchrist', 'iot', 'democracys', 'latestnews', 's61', '20emergency', 'brb', 'lrt', '911bombing', 'hw', 'offenses', 'uve', 'langtree', 'marinading', 'va', 'scuf', 'timey', 'uhhhhh', 'metrotown', 'tenshi', '20truck', 'u2', 'favors', 'airplane', 'akame', 'akilah', 'ftw', 'foxnews', '00', 'pbcanpcx', 'junko', '034', 'tiffanyfrizzell', 'benothing', 'splifs', 'timesofindia', 'possesion', 'femnism', 'mothe', 'seras', 'nasa', 'girardeau', 'cmon', '20plan', 'oneheartonemindonecss', 'soooo', 'ripriprip', 'heavydirtysoul', 'alisonannyoung', 'deutsch', 'tg', 'uv', 'triciaoneillphoto', 'moving2k15', '85v', 'ndtv', 'liye', 'lukebox', 'qew', '2pack', 'sys', '10th', 'funnynews', 'godslove', 'loko', 'iinet', 'blockchain', 'freyas', 'ftsnnewsdesk', 'oooooohhhh', 'cantmakeitup', 'wickett', 'britishbakeoff', 'individl', '97', 'edwing', 'gunfail', 'trapmusic', 'namjoon', 'teamscorpion', 'gishwhes', 'psfda', 'mallord', 'gmmbc', '62', '0', 'nite', '0000', 'necro', 'alphen', '4sake', '68', 'rpn', '4500', 'otp', 'tribez', '7000', 'droughtmonitor', 'grumpout', 'busines', 'salyers', 'raung', 'kuala', 'holmgren', 'o784', 'cleav', '1921', 'pcps', 'hicksville', 'peeters', '180', 'recordand', 'superfood', 'jihadi', 'bhaijaan', 'rindou', 'srk', 'onnnn', '1950', '16yr', 'sj', 'oliviamiles01', 'utv', 'yobe', 'chaning', 'tomislav', 'dorett', 'russellville', 's', 'postering', 'chim', 'rigga', 'citylink', '210', 'ahrar', 'modoc', 'dh30000', 'buted', 'tejc', 'ar', 'cri', 'wpri', 'ghost2', '263chat', 'goooooooo', '23', 'fanbase', 'jonesboro', 'wtc', 'sh', '1890', 'naypyidaw', 'versethe', 'onshit', '3rd', 'northland', '3x', 'scichat', 'naaa', 'emittin', '43rd', 'udom', 'itz', 'wahhabism', '400dr', 'uke', 'technews', 'jhaustin', 'zehrs', '40w', '26', 'offers2go', 'fergusons', 'windstorminsurer', 'iwate', 'evildead', 'disabledveterans', 'pacquiao', 'climatechange', 'patrickjbutler', 'jbumzqpk', 'indot', 'muaytai', 'guo', 'sherfield72', 'clegg', 'volgagrad', 'cobes', 'mk2', 'widout', 'hawaiianpaddlesports', '15901', 'ayyy', 'kitana', 'sedar', 'insanelimits', 'magnitudeml', 'doco', '582', '202', 'existant', 'snowden', 'newser', 'news3lv', 'fightterrorism', '4wd', 'wniagospel', '950', 'japton', 'langata', 'lmfaoooo', 'specialguest', 'choppergate', 'miprv', 'nowplaying', 'phuket', 'fpoj', 'ke', 'saadthe', 'spaceshiptwo', 'po', 'mygc', 'theneeds', 'siskiyou', '3g', 'colnharun', '20mins', 'writingtips', 'sizewell', 'accidentalprophecy', '179', 'illusoria', 'randomthought', 'stefano', 'troye', 'suncorp', 'h20', 'dawabsha', 'montanas', 'dt', 'dolla', 'osha', 'yycfringe', 'comeeeee', 'selfie', 'beisbol', '0880', 'gangstermail', 'humaza', 'unsensibly', 'sooo', 'pls', 'dfljev', 'bff', 'reliefweb', 'lovefood', '1000s', 'gop', 'yehuda', 'todays', 'bmx', 'picthis', 'takis', 'mafireems', 'askforalaska', 'scoopit', 'bangladeshflood', 'a3', 'assholes', 'hanneman', '1pack', 'fleek', 'aaaa', 'jammu', 'tarynel', 'borgeous', 'g3', 'asshole', '67', 'choosegod', 'lavenderpoetrycafe', 'prez', 'isao', 'mineness', 'thebachelorette', 'mechanicsburg', 'kno', 'beyondgps', 'rl', '38pm', '65', 'anders', 'lloyds', 'kcarosawmur', 'baan', 'championsblackfoot', 'grrrr', 'offramp', '999', 'cantar', 'elgato', 'ngata', 'ashes2ashes', 'anxietyproblems', 'ts', 'armory', 'apaz', '2006', '02pm', 'jerkface', 'weallheartonedirection', 'wom', 'ofclans', 'lu', 'ryt', 'uae', 'apc', 'shoook', 'gauteng', 'osama', 'cor4', 'thursd', 'hirochii0', 'giorgio', 'quantit', 'newave', 'megaquake', 'homebuyer', '4yygb', 'koz', 'oficial', 'libs', 'bd', 'disclos', 'fricken', 'nyt', 'uniteblue', 'ieee', 'hhs', '4got', 'as10004', 'nomiya', 'livin', 'edm', 'cabrillo', 'beyhive', 'reveillertm', 'queenmy', 'bestfriends', 'hahahaha', 'faq', '263789f4', '2013', 'ayyo', 'iembot', 'todayi', 'teamsurvivors', 'prebreak', '49', 'abcnews', 'eudrylantiqua', 'kai', 'nbc10', '06', 'starbs', 'unu', 'wonderkid', 'suryaray', 'm151a1', 'profittothepeople', 'janenelson097', 'ravioliwith', 'rv', '501', 'xoxo', 'hudhud', '1x1', 'bigrigradio', 'retweet', '0215', 'swanger', 'reidlake', 'doone', 'mofo', 'porcini', '1', 'loosers', 'totteham', 'macabrelolita', 'sr', 'unkn', 'abc', 'vip', 'ah', 'rousey', 'fennovoima', '295ss', 'besafe', 'sunnymeade', 'yr', 'cbs3', 'slanglucci', '15p', '61', 'chucker', 'ooooohshit', 'natwest', 'lyrium', 'biosurveillance', 'pageshi', 'afycso', 'southline', 'autoinsurance', 'pre', 'bkn032', 'proto', 'hcg', 'omgggg', 'afrikaan', 'romford', 'beheadings', 'marquei', '203rd', 'rsa', 'bankstown', 'raheelsharif', '2014', 'stormchase', 'larious', 'hw18', 'lanjut', '15', 'livestream', '1843', 'flechadas', 'ahhh', 'dumle', 'hwo', 'torrecilla', 'mc', 'newsarama', '22pm', 'loseit', 'rolo', 'instagramers', 'bjp', 'atc', 'indiatv', 'daviesmutia', 'crashsterling', 'hitech', 'txt', 'chann', '15pm', 'hwrf', 'overwatch', 'mpc', 'glononium', 'akito', 'greenway', 'home2', 'demco', 'arachys', 'westchester', 'rq', 'buzzfeed', 'suh', 'speedtech', 'emts', 'wn', 'eyefacts', 'familia', '1998', 'fn', 'moir', 'uvopwz', 'eb', 'lassics', 'evilempire', 'jeepsunk', 'engle', 'frontin', 'aa', '63rd', 'pediatric', 'lcb', 'homefolks', 'bioterrorismi', 'emi', 'sindh', 'us101', 'justaguess', 'wildhorses', 'ufo4ublogeurope', 'skywarn', 'paeds', 'lumpur', 'fkn', '214904', 'leonardville', 'rebecca', 'noranda', 'ojoubot', 'hoc', 'imeshika', 'cm', 'videoveranomtv', 'mmmmmm', '9newsmornings', 'masse', 'whitt', 'cadrought', 'nf', 'naved', 'medinah', 'hopfer', 'ri', 'ariana', 'potus', 'carlilescanoelivery', '6c', '911', '30pcs', 'cdc', 'vs', 'murlo', 'cbs', 'shanghais', 'parsholics', '7aal', 'meteoearth', 'sa15t', '29pm', 'cmcsa', 'motogp', '15000270364', 'listia', 'obtaing', 'forsythe', 'weddinghour', 'everwhe', 'nfl', 'thisiswhywecanthavenicethings', 'schwarber', 'dcfd', 'komen', 'ahhhhh', 'wpd', 'oef', 'castello', 'totaling', 'harwich', 'akx', 'lyeh', 'wdtv', 'waterboarding', 'ms', 'oktaviana', '25', 'zergele', '40hourfamine', '7amdollela', 'babality', '34', 'breaking411', 'catalinas', 'sportinggoods', 'gaynor', 'furst', 'birb', 'x', 'erally', 'bts', 'commenters', 'atamathon', 'ocnj', 'sandiego', '6m', '208', 'mixxtail', 'machida', 'gohans', '666', 'gmt', 'biztip', 'tac', 'higuain', 'sct012', 'alrasyid448iturasya', 'growingupspoiled', '90th', 'didnt', 'newep', 'namekians', 'shen', 'html5', '4103', '08', 'hotnewscake', 'runion', 'ani', 'usd', 'cld', 'altamonte', 'lapaka', 'recal', 'millcityio', 'electronicmusic', '8th', '10w', 'fdbdp', 'grande', '300k', 'alves', 'schiphol', '060', 'cawx', '8400', 'diretube', '11000000', 'ableg', 'iclown', 'shevlin', 'ghul', 'wrightsboro', 'eu', 'zhejiang', 'ps4', 'worstsummerjob', 'sothwest', '400000800000', 'pitchwars', 'fanfiction', '1800', 'shoalstraffic', 'trixie', 'michelebachman', 'lakeeffect', 'bloomberg', 'tornadogiveaway', '8591', 'gpm', 'dei', 'sigalert', 'googlemaps', 'dragneel', 'feinstein', 'willian', 'friend50', 'roga', 'nicki', 'dilawri', 'alsowhat', 'youtu', 'mixtape', 'fuddy', 'keurig', 'ignoranceshe', 'destinationimpact', 'rcmp', 'dlh', 'yuki', 'heheh', 'kerricktrial', 'natsu', 'orcot', 'handi', 'v6', 'au', 'moreland', 'beloeil', 'spyro', 'talkradio', 'socal', 'hometownglory', 'roddypiperautos', 'greystone', 'savebees', 'laois', 'ronge', 'katunews', '13', '143', 'banthebomb', 'warmbodies', 'thorin', 'ushanka', 'alabamaquake', 'duststorm', 'arin', 'leh', 'mgm', 'lanford', 'noemotion', 'syjexo', 'thomassmonson', 'ps1', 'mba', 'beinart', 'nuu', 'mlm', 'creamfields', 'z10', 'ajw', 'tennews', 'gwatt', 'dumuzid', 'boylesports', 'followback', 'yessum', 'sequalae', 'bitcoing', 'jsdf', '945hpa', 'whitewalkers', 'ptbo', '17th', 'marketwatch', 'japanjapan', 'mercados', 'nataly', 'wrked', 'll', 'hara', 'mi', 'b', 'humanconsumption', 'lnp', 'inec', 'fettilootch', '23rd', 'bama', 'saku', 'globalwarming', 'darude', 'hahah', 'sayin', 'sorrower', '3pack', 'bishopfred', 'yzf', 'wut', 'goblue', 'coun', 'smaug', 'badirandeal', 'bsg', '9pm', 'lakeisabella', 'billers', '516', 'iwontmakeit', 'headdesk', 'cgi', 'hlongwane', 'skylanders', 'vuln', 'silverman', 'gv', 'mins', 'fortworth', 'mrw', '28', 'rin', 'snapchat', 'fuckboy', 'handside', 'matako', 'womans', 'stephenking', 'samel', 'ombudsmanship', 'caraccidentlawyer', 'ori', 'nlwx', '90', 'rapidcity', '999day', '500', 'tumblr', 'drob', 'titolo', 'runkeeper', 'wrapup', 'bangin', 'siouxlan', 'netanyahu', 'rowysolouisville', 'dyxtmrydu', 'usagi', 'lh', '777', 'csx', 'aaaaaaallll', '74', 'growingupincolorado', 'diarrhea', 'eq', 'ltz', 'wsvr1686b', 'kenji', 'bronwynbishop', 'aashiqui', 'er', 'rolandonabeats', '2010', 'janta', 'hapa', 'connor', 'throwin', 'womengirls', 'thorgan', 'yamaguchi', '32', 'andchina', 'tha', 'washard', '12', 'har', 'neverforget', 'dmd', 'blacklivesmatter', 'vergil', 'dutton', '410', 'trinna', 'favs', 'symantec', 'faried', 'icaseit', 'pileq', 'monwabisi', 'usat', 'meds', 'q1', 'l9udest', 'nout', '20services', 'qendil', '2slow2report', 'favorita', 'robotcoingame', 'shestooyoung', 'uprootin', 'ootd', 'gujaratriot', 'emilee', 'teduka', 'georgecole', '16550', 'ir', 'dnbheaven', 'hashtags', 'erdogan', 'raffi', 'avi', 'ch4', 'bundy', 'mmk', 'geotech', '11', 'telangana', 'shidddd', '12hr', 'regr', 'mediterran', 'vi', 'jittering', 'elwoods', 'vra50', 'kbak', 'fbi', 'jasmines', 'mma', '1008pla', 'leveled', 'learni', 'mens', 'favori', 'diebold', 'arent', 'naturaldisasters', 'buroker', 'ig', 'atcinema', 'cpanel', '450', 'luchaunderground', 'nl', 'biolabs', 'jaylenejoybeligan', 'ari', 'esh', 'emmerdale', 'cutekitten', '3941', 'practicing', 'fotoset', 'windows10', 'xp', 'fighterdena', 'nbc15', 'newyork', '2pcs', 'dontexpectnothing', 'iwk', 'nasahurricane', 'ct', 'jak', 'desolationofsmaug', '8', 'shaabi', 'crptotech', 'jagm', 'awwww', '20bang', 'dlc', 'uks', 'mumbailocals', 'fecal', 'snuck', 'n15b', 'onesie', 'unfml', 'psqd', 'ireporter', 'bookboost', '45pm', 'whelen', 'demeanor', 'soz', 'keepingtheviginaclean', 'brbrs', 'indi', '20burning', 'metrobus', 'sha', 'yycwalks', '2781', '138', 'magisters', '10', 'faan', 'jaiden', 'cdcwhistleblower', 'noooooooo', 'idps', 'thr', 'pusssssssssy', 'uswarcrimes', 'nj36', 'sn', 'mav', 'orapinforma', 'wpo', 'mirad', 'gawx', 'topnews', 'efak', 'mataas', 'whatevs', 'hmmm', 'vir', 'acesse', 'newyear', 'thankyou', 'ipo', 'blaise', 'kontrolled', 'ihave44episodesofgg', 'ph0tos', 'labourleadership', 'countynews', 'ho', 'gamescom', 'swea', 'shawie17shawie', 'wctv', 'doublecups', 'mcv', 'areva', 'personalinjury', 'sizygwwf', 'demonstratio', 'forbath', 'exp0sed', 'legionnairesdisease', 'wahpeton', 'genisys', '61st', 'inws', 'criticalmedia', 'yoenis', 'knw', 'ft', 'wwa', 'ra', '6615434', '64', 'claimin', 'kanglaonline', 'rewatchingthepilot', 'donington', '18th', 'happing', 'sr22', 'biryani', 'intertissue', 'produc', 'dravet', '1895', 'rockstar', 'pawsox', 'ofnsixjks', '98', 'fidayeen', 'watermeloann', '20storm', 'ogun', 'lol', 'pt', 'dualcom', 'vroman', 'karymsky', 'rowyso', 'cecilthelion', 'hotspot', 'frofrofro', 'utc', 'm5', 'iheartradio', 'pbx', 'ncwx', 'xl', '752', 'dierks', 'otleyhour', 'stds', 'piperwearsthepants', 'scaligero', 'c4news', 'ee', 'bebacksoon', '4km', 'rosenthal', 'snotgreen', 'zrnf', 'shadowman', 'poconorecord', 'luiz', '52', 'dalroy', 'outbreed', '2d', '17', 'amssummer', 'backty', 'orpol', '4the', 'askh3cz', 'klimkin', 'iiii', 'oktxduo', 'renison', 'sd', 'nars', 'rickperry', 'hehe', 'ddnt', '15t', 'drjustinmazur', 'pulwama', 'moyo', 'yh', 'usama', 'noob', 'annoucement', 'francisunderwood', 'slideshare', 'modibo', 'amreading', 'nochilllukehammings', 'skanndtyagi', '030', 'buddys', 'albertans', 'madhya', 'roskomnadzor', 'ayekoradio', 'waterfur', 'zouma', 'tuffers', 'https', 'setanta', 'airasia', 'gravitychat', 'startrek', 'motordom', 'idek', 'trailheads', 'hirsch', 'dren', 'nwo', 'rodkiai', 'kyee', '12jst', 'socialmedia', '1970s', 'time2015', 'westmarch', 'xbox', 'cadenadeseguidores', 'freeallfour', 'holodomor', '05th', 'fwt', 'unfortunemelody', 'cr', '2327564d', 'bromleythe', 'bluehand', 'bing', '2minutemix', 'thh', 'dewdney', 'palinfoen', 'yeat', '540', 'barkevious', 'ijetalerts', 'elxn42', 'noooooooooooo', 'yday', 'wenger', 'efs300', 'cabramatta', 'fittscott', 'af', 'vallerand', 'trancy', 'khq', 'renew911health', 'bfore', 'jetengine', 'crossfit', 'kowing', 'summerslam', '103', '33333', 'plannedparenthood', 'awesomelove', 'douchebag', 'caaaaaall', 'semasirtalks', 'yyeso', 'nino', 'sg', 'redcliffe', 'lga', 'zzzz', 'intersectio', 'rc', 'populardemand', 'brics', 'ac', 'eventspalmbeach', 'warfighting', 'epiphanes', '4th', 'firenews', 'abq', 'liveleakfun', 'mordechai', 'looooooooooool', 'kulli', 'mello', 'noches', 'uk', 'mipasho', '509', 'epl', 'ssw', 'whipe', 'tdp', 'destroyd', 'trafficnetwork', 'truckcrash', 'top25', 'obispo', 'stil', 'bayarea', 'servicin', 'mattson', 'oth', 'tt', 'fb100', 'crozes', '5', 'wyrmwood', 'mhmmm', 'tounge', 'zabadani', '1200000', 'eastwood77', 'xb1', '8015', 'breivik', 'zimpapersviews', 'sona', 'eurotunnel', 'iger', 'kunstler', 'ssshhheeesshh', 'cbplawyers', 'nittys', 'dserialpcilp', 'buscemi', '547', '1880', 'dwarves', 'dqsvyusy', 'atcha', 'worseits', 'northerncalifornia', 'dorrie', '2002', 'te', 'goonda', 'mdash', 'antiochhickoryhollow', 'safeco', 'freesikhpoliticalprisnors', '3la', 'fcked', 'faminememories', 'songfor', 'fightin', '459', '14000', 'aoms', 'wyou', 'faved', 'mfi', 'hillarymass', 'nades', 'skyrim', 'puledo', 'rs40000cr', 'shania', 'apocalpytic', 'mchenry', 'littlewomenla', 'trafford', 'bsf', 'scwx', 'wompppp', '1999', 'defeater', 'vassalboro', 'muhamadjabal', 'wdym', 'wod', 'tomlinson', 'franta', 'razak', 'joeysterling', 'pieceofme', 'nitroglycerin', '2k13', 'coast2coastdjs', '20collapse', 'spos', 'standwithpp', '45m', '231a', 'soner', '130', 'oocvg', 'malaysiaairlines', 'epa', 'ihhen', 'barcousky', 'idm', '12u', 'thereisonlysex', 'tren', 'saat', 'indiefilm', '14th', 'rio2016', 'jacqui', 'eovm', 'pbban', 'tlc', 'ssb4', '917', 'stavola', 'volcanoinrussia', 'kia', '24v', 'bowhunting', 'nsfw', 'cfc', 'ha', 'ofr', 'ai', 'luka', 'jr', '13pm', 'videogame', 'wc', 'hua', 'jiahahahha', 'gpv', 'ruebs', 'falmer', 'otd', 'nra', 'llf', '1994', 'i5', 'usar2015', 'sinistras', 'digitalhealth', 'funtimes', '139055', 'followme', 'tb', '51', 'idwx', 'ibrahimmisau', 'carterville', 'foxnew', 'commiting', 'paracord', 'agnivesh', 'boltcyclone', 'thexfiles201days', 'ossington', 'okwx', 'usa', 'w', 'tp', 'spen', 'yougov', 'sfor', 'wxia', '1141', 'takecare', 'ndetention', 'insubcontinent', 'utp', 'km', 'earthquakenews', 'lilourry', 'rockyfire', 'theatershooting', 'thi', '350', 'ironman', 'woodlawn', 'fousey', 'usmnt', 'womem', 'chowchilla', '4pm', 'thereal', 'lotz', 'breakth', 'mwjcdk', '3novices', 'tawfmcaw', 'tracklist', 'angelriveralib', '1970', 'ibaraki', 'el', 'gns', 'skywars', 'berlatsky', 'bucs', 'antipozi', 'mk', 'lmao', 'dorette', 'pennlive', 'relaxinpr', 'winechat', 'mtvhottest', 'sk398', '309943', 'wbre', 'ziphimup', 'reator', 'uninvestigated', '2fast2furious', 'gta', 'msgdoing111welfareworks', 'demoness', 'suvs', 'msica', 'yugvani', 'hashtag', '1m', 'fowlers', 'nar', 'rubybot', '149', 'fartanxiety', 'argh', '17000', 'mylifestory', 'drumstep', 'lolo', 'buthidaung', 'kikes', 'asswipe', 'alwsl', 'essenceofme', 'sp', '2500', '3am', '178', 'thanku', 'blackburns', '100s', 'marvins', 'a2', 'jadehelm15', 'hashd', 'deadgrassandflowers', 'cus', 'packfor', 'abomb', 'undergroundbestsellers', 'undergroundrailraod', 'foragesecret', '4678', 'tna', 'ocalan', 'ferrochrome', 'drago', 'ktfounder', 'nycfc', 'zarharzar', 'yycstorm', 'weve', 'changefortheworse', 'techesback', 'jez', 'marek', '115', 'yycweather', '56', 'tesco', 'runnin', 'ziuw', '279', 'becyme', 'niiiice', '3x5', 'liveonstreamate', 'beatdown', 'ps', 'epicenter', 'wipp', 'katt', 'q13', '5km', 'comin', 'thugging', 'gisuserpr', 'cosima', 'hasarrived', '5pm', 'wackoes', 'sel', 'dmpl', '6l', 'v8', 'wasnt', 'prestons', 'cc', 'etisalat', 'reafs', 'ykelquiban', 'cerography', 'noooo', 'kelbytomlinson', 'br', 'theashes', 'greinke', 'tak', 'breakdancers', 'abha', 'gostei', 'wha', 'yumiko', 'gokitgo', '33pm', '293', 'infowars', 'cucks', 'saudimosque', 'splattershot', 'joestrong', 'wattys2015', 'tonights', 'carhot', 'snapchatselfie', 'tookitlikeaman', 'rsx', 'badu', 'precisionistic', '1700', 'abbandoned', '19th', 'repped', 'articals', 'endconflict', 'goulburn', '662', 'sb57', 'mp3', '60mph', 'icemoon', '80s', 'cnmi', 'mfrwauthor', 'lurkin', 'psalm34', 'pantherattack', 'newsdict', 'annddd', 'nonucleariran', 'natsnation', 'selfies', 'funko', 'wasn', '87', 'ary', 'amcx', 'charminar', 'wxky', 'r21', 'recip', 'nw', 'tittie', '133', '140', 'everythign', 'bruv', 'jimin', 'contentmarketing', 'ks57', 'boycottbears', 'redblood', '30th', 'masterchef', 'spsgsp', 'soudelor', 'stopevictions', 'bioter', 'mthe', 'dr', 'myfitnesspal', 'nba', 'tootrue', 'gesserit', 'uknews', 'dmt', 'ptsd', 'hil', 'butterfinger', 'floatin', 'mezcal', 'makewaterwork', '361', 'enders', 'txlege', 'fitz', 'okanagan', 'taxreturn', '100bn', 'nuh', 'sudans', 'lickin', 'venoms', 'dhalgren', '35', 'willinghearted', 'tarzana', 'splatdown', 'gtfo', 'barra', 'biolab', 'orshow', 'kca', 'raynor', 'warne', 'animalrescue', 'virg', 'maiga', '250', 'infectiousdiseases', 'ntsb', 'i405', '1916', 'fe', 'bago', 'espn2', '80', 'norge2040', 'sw', 'futurea', 'teamo', 'sidjsjdjekdjskdjd', 'prepper', 'gasparc', 'heavyrain', 'shtap', 'mizuta', 'bioterror', 'bhp', 'paramore', 'engvaus', 'gurion', 'imkeepingmydayjob', 'freebesieged', 'udhampur', 'aan', 'prophetmuhammad', '20reactor', 'burford', 'aar', 'edk', 'etoffe', 'technica', 'pelosi', 'ypg', 'icd10', 'dua', 'lovemyjob', 'piga', 'tru', 'rumor', 'platt', 'madara', 'schoenfeld', 'humanrights', 'radler', 'heared', '165000', '0840728', 'th', 'timebomb', 'thegame', '90blks', 'ks315', 'qzloremft', 'amazondeals', 'ww3', '12v', '52k', 'pbs', 'lbr', 'rt', 'trynna', 'fu', 'wrestleon', 'installment', 'soothmyslumber', 'ems1', 'electrocutedboiling', 'ik', 'gillibrand', 'theater', 'sittway', 'neighboring', 'autismawareness', 'ballew', 'cluei', 'tomclancy', 'tora', 'sydtraffic', '20bagging', 'lds', 'dyersburg', '1928', 'sparxxx', 'demi', 'fide', 'md', 'cheekiness', 'superv', 'latimes', 'rrbc', 'gagnon', 'wroug', 'kurokobot', 'badotweet', 'minamisoma', 'waimate', '3967', 'thingsihate', 'iof', 'ma', 'dagestan', 'dfir', 'pada', '8960', 'vulnera', 'theconspiracytheory', 'santaclara', 'assnchat', 'cins', 'chandrababu', 'szuter', '83', 'uhc', 'askconnor', 'delmont', 'losangeles', 'swiming', 'flatback', 'iit', 'ccot', 'mahalo', 'talkin', 'enkelbiljett', 'n', 'tra', '400t', 'disasterrecovery', 'hugomatz', 'r5live', 'mizzou', 'cascada', 'quals', 'clipuri', 'jst', 'oilandgas', 'ln', 'intl', 'nuff', 'iphoto', 'ce', 'jp', 'videoclip', 'windwaker', 'cramer', 'davison', 'festac', 'modis', 'fiya', '5000', 'm', '2030', 'hs', '3dc', 'molys', 'missionhills', 'enolagay', 'notificationsu', 'hm', '3', 'yeyeulala', 'freekashmir', 'l4', 'uruan', '8217', 'dtn', 'blackinamerica', 'tvshowtime', 'yee', 'jkl', 'keithyy', 'lzkely', 'crowe', 'dagens', 'hella', 'ppact', 'werent', 'p', '615', '28pm', 'usg', 'cnbc', '528', 'freeview', 'brooo', 'rubbin', 'ex', 'powerlines', 'lzktjnox', 'dealbreaker', 'bowe', 'hse', 'ukfloods', 'suruc', 'sterotypical', 'firefightr', 'influencers', 'debatequestionswewanttohear', 'cas', 'mumbai24x7', 'tdm', 'afghetc', '3d', 'kidscompany', 'sismo', 'tx', 'rembr', '20wave', 'flashflood', '41', 'pineview', 'smfh', 'gamergate', 'laughtraders', 'boxset', 'carbondale', 'clubbanger', 'guabxfv', 'deepak', 'sb', 'regc', 'r1354', 'hickson', 'allthenews', 'subreddits', 'mgs2', 'frp', 'nightbeat', 'littlebitofbass', 'vaxshill', 'okayyyyyy', 'exum', 'usar15', 'mcourt', 'shira', 'gyrsi', 'horndale', '20000k', 'henshaw', 'istg', 'walkthrough', 'mothernaturenetwork', 'rosenbergs', 'pierc', 'da', 'wpt', 'abstorm', 'dal', 'pajamas', 'bb17', 'quem', 'dominicana', 'puth', 'mirkwood', 'hea', 'farmr', '6pm', 'euroquake', 'hamptonroadsfor', 'harrybecareful', 'cooool', 'myreligion', 'flatliners', 'fifa16', 'nyack', 'stopharper', 'lamha', 'ocd', 'baekhyun', '60000', 'sinjar', 'destiel', 'awesomesauce', 'ooohshit', 'ev', 'q', 'eheks', 'shii', 'pixelsmovie', 'celebrety', 'cn', 'bokuto', 'bieber', 'bennycapricon', 'mino', 'mlk', '15000270653', 'xkdrx', 'favorite', 'ashrafiyah', 'deltachildren', '7k', 'crackin', 'jishin', 'funnydadcoach', 'colorectal', 'eo', 'westerncanadadrought', 'capoeira', 'ne', 'rhett', 'behaviors', 'pharma', 'misha', 'tusky', 'bi', 'redsox', '90225', 'devereaux', 'kc', 'mypillowstudio', 'wi', 'exo', '20accident', 'wishlist', 'nanking', '91f', 'milledgeville', 'killin', 'petebests', 'sanonofre', 'newberg', '18w', 'wftv', 'mothernature', '1980', '2a', 'scheer', 'iso', 'pretenses', 'marr', 'burnfat', 'fci', 'pakistans', 'usw', 'afc', 'calfires', 'bkn025', '3others', 'fav', 'tr', 'oppa', 'yazidis', 'navbl', 'silentmind', 'affleck', 'wwii', '1st', 'atk', 'cufi', 'storen', 'tweetstorm', 'nosso', 'cpr', 'pg', 'racco', 'kml', 'apga', 'aberystwyth', 'pulkovo', 'aia', 'nashsnewvideo', '160', 'nockthie', 'marians', 'cta', 'butiqob', 'idlenomore', 'ocampo', 'firefigthers', 'routecomplex', 'peice', '20177', 'pp15000266858', '6', 'hakogaku', 'uud', 'aogashima', 'tnwx', 'ransomware', 'knobhead', '27w', 'knott', 'mrrobinson', '46', 'jfb', 'worldoil', 'lmfaooo', 'wasilla', 'tweets', 'saintsfc', 'pov', '44', 'visting', 'mpp', 'kotaweather', 'wfp', 'ru', 'atleast', 'childfund', 'cuyahoga', 'jsunnews', 'laighign', 'smth', 'ime', '1945', 'noaa', 'giannis', 'drayesha4', '1600', 'bhavana', 'atomicbomb', 'silverwood', 'wcvb', 'captureyyc', 'm416', 'splatoon', 'vid', 'yeaahh', 'tsipras', 'seeweed', 'remodeled', 'gopdebate', '300000', 'popularmmos', 'chiang', '2015', 'fr', 'op', 'southkorea', 'colored', 'k3', 'bilic', 'savedenaliwolves', 'leedstraif', 'mopheme', 'alloosh', 'nda', 'kp', 'wps', 'popeyes', '1984', '20on', 'cometh', 'sansa', 'postexistence', 's3xleak', 'jamaicaplain', 'nrc', 'fco', 'poway', 'suho', 'newheights', '37592', 'orchs', 'bestnaijamade', 'bbc', '95', '1km', 'summerfate', '900037', 'haram', 'latinoand', 'mrc', 'crqck', 'headlinelike', 'tozlet', '000', 'tremont', 'um', 'jakartapost', 'berahino', 'mbiwa', 'cumshot', 'najibrazak', 'lolol', '320', 'cgg', 'pfft', '96km', 'accidently', 'pga', 'etcpb', 'brinx', 'fueling', 'chillin', 'sousse', '300m', 'ut', '60m', 'mxaaaa', 'niqqa', 'scraptrident', 'orianna', 'politifiact', 'vaginaorcake', 'clarksville', 'aq', 'm8', '1d', '20bags', 'barfield', 'jokin', 'rs5', 'achedin', 'ps2', 'tryna', 'striked', 'bbcnews', '0853', 'imdb', 'bwp', 'zippednews', 'g90', 'pletchs', '14028', 'novalismi', 'bickleton', 'cee', 'yazidi', 'yahistorical', 'goz', 'wholeteam3', 'mumbairiot92', 'owenrbroadhurst', 'auc', 'ohhhh', 'otrametlife', 'tsutomi', 'emsc', '82', 'smarttek', 'co2', 'uglypeople', 'mht', 'copperfields', 'esevu', 'benstracy', 'cbc', 'hatman', 'tepat', 'teenfiction', 'goodreads', 'gm', 'courtof', 'carb', 'alois', 'shedid', 'aluminum', 'easternoregon', 'zakuun', 'mn', 'jrowah', 'deai', 'mx', 'bcuz', 'eep', 'ermac', 'cafire', 'jackman', 'shaolin', 'commentes', 'wa', 'tloz', 'sfgate', '20bag', '370', 'ud', 'daem', '2008', '1000', 'teleported', 'azusa', 'homeimprovement', 'tae', 'zonewolf123', '2007he', 'ekiti', 'tfl', 'fo', 'golfball', 'eversafe', 'indepth', 'bo3', 'wakeupflorida', '265v', 'westminister', 'papi', 'motorcraft', 'ssp', '90s', 'kakeru', '93', 'si', 'heartdisease', 'souda', 'decisionsondecisions', 'vtc', 'kfvs12', 'temecula', 'explodingkittens', 'fentanyl', 'withannihilation', 'desecrates', 'nhs', 'follownflnews', 'rossbarton', 'shtf', '1a', 'preorder', 'assertative', 'sts', '60km', 'nats', 'dubstep', 'watertown', 'siteinvestigating', 'ab', 'roh3smantibatam', '30', 'urgentthere', 'tyar', '16', 'uluru', 'lookg', 'laudner', 'nytimes', 'twcnews', 'wilden', 'softenza', '60s', 'sa', 'sorrybutitstrue', 'zaman', 'rspca', 'lansdowne', 'portaloos', 'oooh', 'pagasa', 'bb4sp', 'trp', 'valle', 'wexler', 'youll', 'ish', 'db5', 'pl', 'bardo', 'rightways', 'landolina', 'aintsheperty', '85885473', 'watchout', 'wilshere', 'muschamp', 'bouta', 'gis', 'appreciativeinquiry', 'tv', 'donthate', 'shantaeforsmash', '12m', 'yiayplan', 'mcilroy', '2025', 'bomd', 'dubbo', 'wiwnpfxa', 'insurers163', 'colomr', 'livemint', 'jackholes', 'c720', 'rememberrabaa', 'dq', 'borderlands2', 'gulfport', 'yuuko', 'lawx', 'datingtips', '2007', 'cyhi', '2000', 'indiakomuntorjawabdo', 'droppd', '616', 'neighbor', 'htarvrgly', '36', 'tms7', '5sosfam', 'currensy', 'favorites', 'pkk', 'x1402', 'bangladeshaffected', 'twon', 'enrt', 'anza', 'mtvsummerstar', 'emv', 'oi', 'firstnations', 'fema', 'marketforce', 'untill', 'inspi', 'tweetlikeitsseptember11th2001', 'inbetween', 'justinbieber', 'gbbo', 'dtb', 'wholesaleent', 'cuana', 'tvjnews', 'isai', 'gunsense', 'wy', '0l', 'pascoe', 'mf', 'spx', '70000', 'loveislove', 'pdp', 'chpsre', 'wud', 'harperanetflixshow', 'saison', 'zotar', 'nbc', 'lpdkl', 'papiichampoo', 'notre', '100000', 'jolie', 'foxsportscom', 'tambo', 'bengston', 'deepwater', 'goodluck', 'sbnation', 'urself', 'nanotech', '166', 'oc73x', '9000', 'ks161', 'ufn', 'lotg', 'ohh', 'shanaynay', 'convivted', '358', 'ladins', 'e', 'bc19', 'meditationbymsg', 'urs', 'nne', 'kgb', '99', 'babri', 'sebee', 'indyfest', 'tubestrike', 'fte', 'korzhonov', 'stepkans', '3942', 'nhlducks', 'olap', 'fucktard', 'ky', '2pm', 'rumah', 'fvck', 'nieuws', 'kamindoz', 'ap', '513', 'wdyouth', 'retweeted', 'h', 'saudies', 'miyagi', 'ed', 'coulda', 'ki', 'gon', '17months', 'sportwatch', 'verhoek', 'hungerarticles', '7p', '105', 'smem', 'ay', 'chiasson', 'skyler', '100', 'utfire', '70years', 'ncms', 'smb', 'patriotsnation', '3939', 'maketh', 'youngins', 'hwy401', 'myelf', 'catechize', 'koin6news', 'thankkk', 'shingal', 'smartnews', 'plez', 'susinesses', 'wew', 'collegeradi', 'lan', 'fueled', 's01e09', 'plz', 'catfishmtv', 'enroute', '390', 'sixpenceee', 'newswatch', '30stm', 'b4federal', 'salopek', 'carfest', '800', 'pp15000266818', 'valleywx', 'hannaph', '877', 'mkx', 'vods', 'isla', 'rar', 'mileena', 'hiroshima70', 'smallbusiness', 'apcpdp', 'tunein', 'vmas', 'tottenham', '367', 'byebyesoundcloud', 'abc7eyewitness', 'acdelco', 'threatintel', 'caribean', 'nh', 'themhe', 'skh', '20buildings', 'hd', 'rbi', '7a', 'anjem', 'sensei', 'tos', 'abbswinston', 'androidgames', '30min', 'ruor', 'rihanna', 'metlife', 'mesick', 'beit', 'cislady', '48', 'legionstrackandfield', 'mtr', 'ny', 'warthen', 'shantae', 'yug', 'asbury', 'sustainourearth', 'fukurodani', 'mingo', 'chitral', 'leelanau', '7newsadl', 'preseasonworkouts', 'dw', 'movt', '54', 'igers', '1716', 'bumpin', 'arnley', 'gameofkittens', 'expertwhiner', '75', 'trois', 'jeb', 'cervelli', 'subsd', 'clico', 'justsaying', '311', 'wwe', '30bst', 'yakub', 'emerg', 'karnal', 'nno', 'menolippu', 'mp', 'saumur', 'wmata', 'friend59', 'bitcoin', 'dancefloor', 'inchaos', 'nawh', 'fergie', 'nghlth', 'lennox', 'preppertalk', '1145', 'thats', 'wiedemer', '141', 'suffield', '1942', 'peta', '20fires', 'wcw', 'yyc', 'rnk', 'smallbiz', 'browserhijacker', 'prabhu', 'magu', 'buddz', 'a10', 'hyatt', 'situ', 'an247', 'detouring', 'lujo', 'gmtty', 'prosser', '27', 'cs', 'oc', 'dialyses', 'rossum', '55', 'catsofinstagram', 'mattingly', 'kanye', 'whistleblower', 'ag', 'apd', 'rabidmonkeys1', 'io', 'tweeted', 'noirandeal', 'jaileens', 'wzbt', 'infosec', 'ouvindo', '627', 'ep03', 'ffvii', 'dhsscitech', 'fieg', 'x2', 'mets', 'kenosha', 'collab', 'trc', 'erykah', '91', '8392', 'ercjmnea', 'looney', 'sarumi', 'dumbass', '6th', 'bigstar', 'forbesasia', 'asics', 'ibooklove', 'ugc', 'kotolily', 'thisisfaz', 'atombomb', 'rb', 'ks100', 'mom', '79', 'mdt', 'goin', 'swingman', 'perrychat', 'nbn', '2011', 'thalapathi', 'seemeth', 'hhahaha', '5th', 'ij', 'goldstein', 'm27329', 'orchardalley', 'es', 'pomo', 'pharrell', 'carful', 'billneelynbc', 'kindlecountdown', 'ama', 'hixon', 'hagerstown', 'av', '29', 'pd', 'miville', 'sr14', 'askcharley', 'lowkey', 'aldridge', 'arrestpastornganga', 'ns', 'utd', 'prysmian', 'nvr', 'bayelsastate', 'troubleonmymind', 'wce', 'mcr', 'uribe', 'paulista', 'round2', 'usatoday', '00end', '2', 'middleeast', 'earthtwerk', 'tw4rw', 'salman', 'pizzarev', 'texaschainsawmassacre', '20bomber', 'lonelyness', 'robertwelch', 'ddos', 'lzk', 'pjnet', 'ahahahga', 'pantofel', 'yonews', 'instagram', 'magichairbump', 'twentynine', 'bloodbound', 'jetstar', 'sometimesi', 'ler', 'martinmj22', 'nycha', '100nd', 'musicvideo', 'nsw', 'ridah', 'theyd', '47km', 'dougkessler', 'totoooooooooo', 'nikeplus', 'lesnar', 'offr', '1008planet', 'guimaras', 'parliment', 'dc', 'katterpinstagram', 'seaworld', '20fire', 'pakpattan', 'viab', 'redeemeth', 'mommys', 'youve', 'sturgis', 'nomorehandouts', 'imouto', 'chronicillness', 'hyider', 'summer2k15', 'aaaaaand', 'insas', 'etp', 'boko', 'gotthard', 'tulowitzki', 'y', 'wb', 'speculatio', 'crosed', 'kesabaran', 'soulja', 'dems', 'modestmouseremix', 'thda', 'wsjthinktank', 'fdny', 'dotish', 'cliptv', 'gbonyin', '8m', 'babalmao', 'icelandreview', 'socialwots', '360', 'oomf', 'sunrays', 'awesomeeeeeeee', 'ivanberroa', '88', 'brixton', 'gh', 'sct014', 'todayhave', 'parter', 'cai', 'rizzo', 'charlize', 'v', 'lhh', 'fahlo', 'dl', 'benitez', 'banki', 'ouvir', 'commoditiesare', 'jariana', '60', 'pated', 'pdx911', 'pdx', 'romania', 'forgeting', 'orpik', 'reaad', '12am', 'tn', 'raisinfingers', 'mansehra', 'kessler', 'sni', 'playthrough', '429cj', '20bomb', '43', 'wattpad', 'onlinemh370', '500th', 'accepte', 'trickshot', 'damnnnn', 'flavorchargedtea', 'blowmandyup', 'ep18', 'churkin', 'sws', 'perrie', 'adiossuperbacterias', 'ika', 'worldpay', 'ifak', 'walerga', 'whiskey', 'copa', 'horrormovies', 'mumbaitimes', 'thundersnow', '31pm', 'scofield', 'gf', 'canontattoo', '4', 'daughtery', 'restoringpaths', 'badkitty', 'tlvfaces', '184', 'roomr', 'speakingfromexperience', 'cogxbox', 'hs2', 'roleplay', 'dvds', 'xl61', 'sevenfigz', 'welovela', '267', 'shaheed', 'interestraterise', 'whitbourne', 'e1', 'fm', 'kabwandi', 'jacquie', 'probs', 'clicca', 'irandeal', 'summervibes', 'addtexastonext1dtour', 'leitchfield', 'hahahah', '4am', 'suv', '3a', '30m', 'sps', 'newrelease', 'restrospect', '20bombing', 'thurlow', 'indiegogo', 'bene', 'x1441', 'idc', 'a1a', 'psp', '1236', 'omron', '8000', '688', 'gn', 'defensenews', 'piner', '039', 'firefighte', 'makinmemories', 'diaporama', 'ris', 'crbzfz', 'ba', '02', 'edt', 'watchthevideo', 'casu', 'nflexpertpicks', 'satoshis', '75000', 'sigue', 'js', '71st', 'onboard', 'rezaphotography', 'jen', 'usgs', 'dorling', 'nestleindia', 'wnd', 'noxdv', 'lonepine', 'photoset', 'multidimensi', 'selmo', 'everton', '40pm', 'svetlana', 'choudary', 'parleys', 'mkayla', 'dere', 'zaatari', '80m', 'benews', 'lovemydentist', 'finall', 'caruana', 'turdnado', 'xv', 'bk', 'humor', 'sippin', 'foxa', 'bloor', 'modi', 'honored', 'xd', 'neighborhood', 'lifeits', 'policylab', 'tch', '1943', 'sr37', '10k', 'tantonationalforest', 'ricin', '800000', '1500', 'serephina', 'bigconsequences', 'oso', '3km', 'occasion2b', 'kasabwe', 'm6x1', 'aggressif', 'np', 'busey', 'vashon', 'ashestoashes', 'b2', 'gratia', 'toosoon', 'gi', 'everydaynaija', 'gansey', 'indiannews', 'cultsierre', 'push2left', 'uh', '3p', 'friggin', '1940', 'doubleghats', 'gilbert23', 'lookss', 'bellerin', 'sq', 'fi', 'ive', '600', '54000', 'auspol', 'bae', 'cantwaittoplayinminneapolis', 'fant4stic', 'vai', 'notexplained', 'gr', 'shemesh', 'lez', 'dna', '6aug', 'lancasteronline', '994', 'strategicpatience', 'tj', 'maxsys', 'a1', 'besttalkradio', '12th', 'pickens', 'maaaaan', 'blowin', 'thuggin', 'ja', 'fanarmyfaceoff', 'givebackkalinwhiteaccount', 'thedarktower', 'queenswharf', 'straightfire', 'albertsons', 'beyondthebomb', 'disinfo', 'romanatwoodvlogs', 'deo', 'ronaldo', 'luhan', 'dajaal', 'bokoharam', '05', 'rohingya', 'paulhollywood', 'x36', 'soldi', 'canceling', 'mccains', '6bn', 'any1', 'ims', 'tlk', 'carmike', 'centers', 'chicagoscanner', 'stearns', 'poc', 'losdelsonido', 'transporta', 'saudiarabia', 'mb', 'deejayempiresound', 'growingupblack', 'ds', 'gravitymovie', 'chrissie', 'frvrgrateful', 'khuzdar', '58', 'okanowa', 'oup', 'actavis', '11am', 'aviationaddicts', 'lougheed', 'yamashiro', 'esn', 'mooresville', 'ttw', '119000', '2012', 'dojo', 'omfg', 'g20', 'joboozoso', 'beclearoncancer', 'aw', '8km', 'bloodymonday', 'tianta', 'wwi', 'dorrian', 'magginoodle', 'zumiez', 'drummond', 'capeann', 'reddit', 'ovo', 'marketforces', '737', 'ayhhhhhdjjfjrjjrdjjeks', 'healthinsurance', 'oun', 'ect', 'london3', 'twcnewsclt', 'isea2015', 'knowlddge', 'du19', 'zippoline', 'avysss', 'clothesless', 'acura', 'ye', 'sfgiants', '57', 'fel', 'cyber', 'aannnnd', 'fgcu', 'askin', 'dardanelle', 'acenewsdesk', 'lgl', 'harrystyles', 'childsexabuse', 'oneborn', '10x', 'vibez', 'alska', 'iartg', 'kettlebell', 'yennora', 'jarmusch', 'scseestapreparando', 'hpssjd', 'chinadotcom', 'conditionsprivation', 'a7', 'intragenerational', 'nort', 'milita', 'econom', 'ge', 'ny35', 'kurds', 'ramag', '23928835', 'candylit', 'ames', 'teamfollowback', 'bajrangi', 'weatherit', 'gameplay', 'qld', 'cubstalk', 'eto', '2day', 'sjubb', 'unfollow', 'nana', 'prayforsaipan', 'dvc', '21k', 'looooool', 'smantibatam', 'ashes2015', 'techniqu', 'detectado', '1979', '250000', 'trophyhunt', 'bayelsa', 'jfc', 'factsheet', 'woah', 'inbounds', 'mariah', 'cw500', 'riveeeeeer', 'whao', 'montego', 'silinski', 'mwednesday', 'aiii', 'terwilliger', 'kiri', 'ofcourse', 'campanha', 'kijangbank', 'tu', '5040', 'boing', 'astrologian', 'soundcloud', 'ty', 'clintons', '11000', 'bowknot', 'p2', 'citi', '2065', 'theramin', 'copalibertadores', 'endoccupation', 'sul', 'mohammed', 'mh17', 'homealone2', '1952', 'comdev', 'tcc', 'rsf', 'diggin', 'standforwolves', 'pearlharbor', '1967', 'papicongress', 'thepartyofmeanness', 'd', '3945', 'allthekidneybeansandsorbet4misha', 'gfe', '740', 'mo', 'oo', 'rayner', 'seeyouatamicos', '37b', 'sto', '1017', '120000', 'mateo', '06jst', 'ksbynews', 'doessnt', 'asae15', 'eh', 'bp', 'requa', 'megadeth', 'asb', 'visionzero', 'infographic', 'listenlive', 'grimrail', 'fforecast', 'lvg', 'bak', 'ight', 'cryibg', '30p', 'banksy', 'superintende', 'triciaoneill', 'moblin', 'amirite', '45', '100mb', 'bukidnon', 'stratford', 'banerjee', '629', 'diageo', 'rs', 'literarycakes', 'bantrophyhunting', '707d', 'wld', 'tix', 'fylde', 'diss', 'harbor', 'cs6', 'warcraft', '20responders', 'hiatt', 'spacex', 'megalpolis', 'ca', 'lightbulb', 'revitup', 'freebitcoin', 'streamyx', 'dogg', 'diablo', 'oakridge', 'nativehuman', 'urogyn', 'pci', 'janeenorman', 'dynamix', '1665', 'splatling', 'gameinsight', 'ohgod', 'traintragedy', 'shantaehalfgeniehero', 'utc2015', '1023', 'ppsellsbabyparts', 'northgate', 'greenspace', 'blowltan', 'holdin', 'jumpin', 'salvi', 'matchwood', 'booradleyvancullen', 'ckec', '163', 'sami', 'barak', '30a', 'slingnews', 'f', '73km', 'visto', 'enca', 'frontlines', 'cest', '925', 've', 'mcdonalds', 'lightningstrike', 'airhorns', 'roadid', 'lastingness', 'thestrain', 'phalaborwa', 'nlccollide', 'beatz', 'winik', 'mpers', 'zmne', 'cdnpoli', 'math', 'modiministry', 'hai', 'alot', 'stlnd', '905', 'manarmed', 'gallipoli', 'wrongperson', 'morethan', 'bwin', 'shouout', '00pm', 'srsly', 'jax', 'artisteoftheweekfact', '14', '37', 'lwb', '01', 'brinco', 'ploppy', 'nissannews', 'nj', 'shizune', 'marrie', 'dm', 'arreat', '4head', 'timestack', 'ferno', 'amsal', 'mido', 'nowwwwww', 'zicac', 'sbee', 'slosher', 'nhl', 'mina', 'kalle', 'treescape', 'breaking144', 'kissimmee', 'manchesterlite', 'i580', 'inj', 'bruh', '2nd', 'havnt', 'thisispublichealth', 'teslas', 'mandem', '101', 'vuzuhustle', 'thebookclub', 'truestory', 'waltdisney', 'wisdomwed', 'nc', 'lalaloopsy', 'njturnpike', 'buchana', 'ibeto', 'dessicated', 'yhngsjlg', 'chonce', 'realhiphop', 'sandunes', 'actionmoviestaughtus', 'tht', 'haaretz', 'cern', 'pop2015', 'musik', '50', '03', 'az', 'linerless', 'freeamirnow', 'kasab', 'lamarcus', 'ghe', 'fwo', 'ffa', 'arceen', '375', 'coppednews', 'wooooooo', 'lomasvisto', 'sheeran', 'rea', 'saveti', '530', 'rfp', 'shite', 'tedcruz2016', 'un', 'chargedup', 'kindersley', 'moveit', '89x', 'grupdates', 'christianvalues', '1028', '300w', 'maddie', '69', '2am', '75k', 'v4', '72', '70', 'cia', 'comingsoon', 'deadgirltalking', 'afte', 'mbataweel', 'pleb', 'whyor', 'pugwash', '495', 'buffett', 'akwa', 'j', 'z', 'chawalchorbjp', '2009', 'sirmixalot', 'news786', 'fastings', '2019', 'ancop', 'http', 'ahh', 'et', 'bernardino', 'oamsgajagahahah', 'realtime', '10m', 'hrsto', 'brenas', 'wantmyabsback', 'whocares', 'moshav', 'bangtan', 'dont', 'onlin', 'lawton', 'cilla', 'loveyouuuu', 'flavored', 'archipelagowolves', 'ga', '20murder', 'plsss', 'gg', 'bordento', '4regionnear', 'cty', 'nbanews', 'wedn', 'maailiss', 'streetjamzdotnet', 'rtrrt', 'wqow', 'pikin', 'poze', 'helpme', 'foamcc', 'bg', 'hao', 'argsuppose', 'socialnews', 'mhtw4fnet', 'dragonvale', 'tolewant', 'lowndes', '239', 'beconfident', 'ctd', 'nv', 'sht', 'counselors', 'toooooo', 'imagini', '1200', 'lessonforlife', '19yrs', 'ovofest', 'redbull', 'ls', 'odai', 'osbourne', '77', 'talibans', 'skynet', 'goku', 'momneedscoffee', '290', 'lizzie363', '107', 'kcrw', 'pp', 'legionna', 'hcsm', 'fukushima', 'wowo', 'drako', 'donzilla', 'dawgs', 'wbu', 'holomua', 'coya', 'evac', 'traveling', 'dhs', 'skaggs', 'weyburn', 'errrr', 'njenga', 'hinatobot', 'ineedexposure', 'togthe', 'opseaworld', 'en', 'urg', 'ezidigenocide', 'lim', 'hardstyle', 'wk', 's5', 'gladbach', 'qnh', 'lulgzimbestpicts', 'sirensicebreaker', 'bannukes', 'rockin', 'nd', 'mm', 'shud', 'hunterston', 'stoponesounds', 'aggarwal', '78', 'ks', 'riooooos', 'fitba', 'pisco', 'sama', 'ww1', 'galvnews', '46082474', 'wordk', 'romanticsuspense', 'postapocalypticflimflam', 'italianalps', '2500fps', 'emptive', 'yeda', '452', 'amalie', 'humanityi', 'worldnews', 'victimiser', 'bioterrorism', 'wedneday', 'enemity', 'highsmith', 'wth', 'fantabulous', 'vosloorus', 'honors', 'ibom', 'emsne', '198', 'ptsdchat', 'bbshelli', 'klitschko', 'azwx', 'ov', 'artistsunited', 'tnn', 'thebargain', 'stardate', 'mr', 'firey', 'amazin', 'ad', 'biblestudy', '2005', 'wbc2015', 'ftsn', 'weloveyoulouis', '0npzp', '4x4', '92', 'chachi', 'rp', 'invokces', 'kaldi', 'pple', '3934', 'bilsen', 'lgm', 'amo', 'minecraft', 'juanmthompson', 'croydonization', 'foodscare', 'lisowski', 'helens', 'freespeech', 'mgn', 'oem', 'vickers', 'psa', 'crazyideascollege', 'beastin', 'throwingknifes', 'kou', 'hmu', 'rss', 'inroices', 'setting4success', 'pll', 'vigilent', 'neighbors', 'mullin', 'hamayun', 'scifi', 'shootas', 'eurocrisis', 'speccy', '20fall', 'a5', '4k', 'upa', 'llegaste', 'hunhry', 'finsup', 'ashenforest', 'cdt', 'russaky89', 'mcgwire', 'gazans', 'govts', 'auz', 'suru', 'nsa', '9973', 'b2bagency', '18jst', 'legio', 'declarat', 'abia', 'gc', 'omw', 'foxdebatequestions', 'gif', 'tweet4taiji', 'nato', 'alllivesmatter', 'favorited', 'byityf', 'detersion', 'shar', 'trollingtilmeekdiss', '39', 'ullman', '96', 'aaarrrgghhh', 'directioners', 'tepco', 'bb', 'usfs', 'daubt', '10am', 'lindenow', 'starks', 'lawnegligence', 'alil', '53inch', 'juanny', 'rebahe', 'mycareer', 'arti', 'naemolgo', 'suresh', 'agnus', 'roblox', '10000', '40', 'bck', '8437150124', '241487', 'ramat', 'astroturfers', 'seasonfrom', '2hours', 'xboxone', 'nyse', 'generalnews', 'taungbazar', 'i77', 'kung', '18', '928', 'trafficalert', 'notley', '061', 'bakeofffriends', 'contruction', 't1000s', 'bluedio', 'khrone', 'unr', 'canadasuicide', 'ggindependencmessage', 'isil', 'reportly', 'nypd', 'socialtimes', 'cochrane', 'womens', 'dubloadz', 'tf', 'ks111', 'bu', '419', 'zombiefunrun2014', 'kamon', 'btwn', '22', 'cristiano', 'moseby', 'zenit', 'nojoke', 'harda', 'reblogged', 'atv', 'nuys', 'kash', 'onr', 'youuu', 'tkyonly1fmk', 'molave', 'ashville', 'brzjc', '2leezy', 'ginga', 'tcot', 'durvod', 'yuvi', 'x1411', 'xo', 'kasich', 'hisao', 'nueva', 's2g', 'foodborne', 'tommorow', 'notrocketscience', 'o', 'haiyan', 'wolforth', 'protectdenaliwolves', 'microsofts', 'magner', 'pa', 'floorburnt', 'ep', '21st', 'alrighty', 'nbcnightlynews', 'mt', 'fl', 'href', 'barrington', 'xekstrin', 'dambisa', 'nic', 'stuffin', 'topstories', 'dnb', 'aguero', '8whts', 'roimentor', 'waimea', 'agdq', 'gtxrwm', 'liveleak', 'crazyweather', 'jonathanferrell', 'dijk', '66', 'cbcto', 'amicospizzato', 'pb', 'mcgsecure', '38745', 'sllikely', 'bmw', 'fantasticfour', 'jitsu', 'noonan', 'vitaly', 'landi', 'heli', 'mapleridge', 'everytime', 'pochette', 'lightrail', 'wednes', '30pm', 'vanpoli', '148', 'crapgamer', 'sef', '660', 'sportsroadhouse', 'stormcoming', 'kombat', 'gio', 'starmade', 'rivieres', 'childress', 'onlinecommunities', 'cbs29', 'calgarians', 'pendleton', 'osteen', 'coquitlam', 'chp', 'dvd', 'fastpitch', 'victorinox', '1862', 'lume', 'disneys', 'amico', 'uber', 'haaaaaa', 'apch', 'westeros', 'ponting', 'ashayo', 'yolandaph', 'skc', '200', 'kody', 'frusciante', 'forrestmankins', 'ml', 'wakho', 'gilgit', '07', 'boutta', 'warriorcord', 'liv', 'pak', 'bbm', '15km', 'hlg', 'mmda', 'pvc', 'iwasdisappointedby', 'nikoniko12022', 'benzema', '13000', 'r', 'liveonk2', 'biggar', 'hangin', 'ep016', 'ruhl', 'cena', 'jhmnye', '9', 'forestservice', 'tecno', 'tmp', 'cis', 'setlist', 'bhusa', '9am', 'newsintweets', 'ttes', '10news', 'hahaha', 'media420', '325ci', 'tindering', 'musicadvisory', 'quoteoftheday', 'mainstage', 'senzu', 'i10', '150', 'nagaski', 'zarry', 'aseer', 'hav', 'sittwe', 'tfw', 'palin', 'forreal', 'otratmetlife', 'fundwhen', '125', 'rd', 'safsufa', 'pvris', 'youre', 'na', 'psm', 'dvbbs', 'fa', 'smugglersnabbed', 'gps', 'ccmusic', 'im', 'treatmen', 'fuso', 'air1bullet', 'massgrave', 'matias', 'whatsapp', 'electr', 'irannucleardeal', 'psd', 'macia', 'drumpf', 'anakin', 'ahamedis', '213', 'osp', 'gards', 'buildingswe', 'canpoli', 'zimmer', 'cedarglade2015', 'itrawcwb', 'wogc', 'worldwatchesferguson', 'merc', 'washingtonpost', '12pm', 'paci', 'baaaack', 'isnt', 'a40', '20spill', 'abbruchsimulator', 'frickin', 'transwomen', 'nside', 'damiengayle', 'sparkz', 'ohlordy', 'nyc', 'morebut', 'duckvillelol', 'ng2x5', 'cte', 'daesh', 'newbeginningsanimalrescue', 'micom', 'atl', 'scourgue', 'kijima', 'goodell', 'ip', 'letsfootball', 'thranduil', '19', '966', 'marinelines', '9km', 'beyonce', 'gt', 'amiddle', 'weiqin', '65000', 'gamefeed', 'goulding', '4kus', 'ashdod', 'ameribag', '50ft', 'aidan', 'xxhjesc', 'ipa', 'dredougie', '2017', '70th', 'forsure', 'm1', 'tafs', 'nashvilletraffic', 'bs', 'negara', 'bolasie', 'ldnr', 'ppc', '111020', 'sweetpea', 'damatu', 'pikachu', 'snd', 'espargaro', '731', 'nb', 'saddledome', 'instagrams', 'hendrixonfire', 'tullamarine', 'death2usa', 'caued', 'appx', 'b1g', 'menahem', 'islamaphobe', 'elanorofrohan', '30s', 'pwhvgwax', 'nri', 'intead', 'goode', '94', '73rd', 'm3', 'deflategate', 'se', '106', 'rabaa', 'ikpeazu', 'apts', 'butgod', 'haildamage', 'alaskaseafood', '924', 'fadc', 'arkan', 'forex', '319', 'gaelite', 'noi', 'voortrekker', 'otm', 'bn', 'csismica', 'canonbringit', 'bigbrother', 'stl', 'feelingmanly', 'thruuu', 'corii', 'hempoil', 'contries', 'htt', 'dum', 'remymarcel', 'bathandnortheastsomerset', 'antiochus', '72w', 'stlouis', 'cech', 'oper', '12000', 'alaskas', 'rgj', 'wx', 'trfc', 'devia', 'bf', '114', '1717', 'shakeology', 'osi2016', 'betz', 'huebel', 'flatts', 'wtf', 'murfreesboro', 'mufc', 'blackcats', 'f496d', 'x1386', 'favoritism', 'becarefulharry', 'metroid', 'newidea', 'gd', 'playingnow', 'omg', 'hinata', 'freiza', 'wolter', 'hillaryclinton', '64oz', 'su', 'ux', 'mta', 'belter', 'rey', 'aniston', 'vaping101', 'molloy', 'kisii', 'fdx', '5s', '172', 'sms', 'twisterlovesshania', 'lil', '2003', 'panik', 'kwwwkwwwk', 'mgtab', 'gmail', 'deadpool', 'tampabay', 'yagitudeh', '033', 'tita', 'umm', '31', 'gettin', 'mlb', 'icymi', 'deepthoughts', '5l', 'caf', 'wsj', 'sejorg', 'dk', 'muzzies', '20murderer', 'blaaaaaaa', 'slsp', 'bookslast', 'kijan', 'wo', 'bairstow', 'diyala', 'hermancranston', 'referencereference', 'k', '53', 'buren', 'fuckin', 'southdowns', 'metrofmtalk', 'msf', 'di', 'damaturu', 'badass', 'trib', 'mh', 'painthey', 'hollyw', 'whag', 'neces', 'soo', 'fyi', 'hsu', 'reggaeboyz', '1620', 'easton', '20yrs', 'australias', '544', 'nosurrender', '20s', '20150613', 'whatcanthedo', 'cst', 'cndpoli', 'wallybaiter', 'ars', 'offensivecontent', 'dj', 'be4', 'oif', 'qualit', 'onthisday', 'mybabies', 'votejkt48id', 'dilutional', '3m', 'cowx', 'pipeliners', 'yay', 'komo', 'leftwich', 'submitt', 'pugprobs', 'jawans', 'nuclearweapons', 'briliantly', 'lockdown', 'wd', 'metepec', 'sf', 'elephantintheroom', 'fd', 'invzices', 'nu', 'wmv', 'magne', 'sm', 'nowplay', 'wr', 'kurtkamka', 'theresmorewherethatcamefrom', 'achimota', 'breakingnews', 'zss', 'hotboy', '8550013', 'robertcalifornia', 'gms', '38', 'kamayani', 'gnwt', 'portgassdk', 'gfz', 'fangirling', 'shunichiro', 'teamhennessy', 'rdg', 'twx', 'calwildfires', 'joes', 'm4', 'ww2', 'hana', 'sirmione', 'bestia', 'watersafety', 'afterhaiyan', 'sciencefiction', 'liqd', 'labor', 'cl', 'shelli', 'aeg', 'citys', '1976', 'soni', 'hhbu', 'usnwsgov', 'b2b', 'narry', 'chilis', 'cosme', '171', '360wisenews', '751', 'grindhouse', 'morevoices', '20k', 'nws', '365disasters', 'dirumah', 'vaca', 'losangelestimes', 'santanico', 'nh1news', 'dorman', 'nm', 'liveonkbak', 'forsee', 'bkb066gp', 'gymtime', 'raheel', '21', 'catlow', 'g', 'purdies', 'stockwell', 'appy', 'amazingness', 'ppor', 'sfa', 'radneck', '20up', 'thesteveharveyshow', 'lightman', 'greetingcards', 'darsena', 'idp', 'helo', 'reimagining', 'nankana'}\n"
     ]
    }
   ],
   "source": [
    "possible_abbreviations = []\n",
    "for word in all_text.split():\n",
    "    try:\n",
    "        sym_spell.lookup(word, \n",
    "                          Verbosity.CLOSEST, \n",
    "                          max_edit_distance=0,\n",
    "                          include_unknown=False)[0].term\n",
    "    except:\n",
    "        possible_abbreviations.append(word)\n",
    "print(set(possible_abbreviations))"
   ]
  },
  {
   "cell_type": "code",
   "execution_count": 7,
   "id": "6438b0a7",
   "metadata": {
    "execution": {
     "iopub.execute_input": "2023-02-06T03:20:02.379518Z",
     "iopub.status.busy": "2023-02-06T03:20:02.377643Z",
     "iopub.status.idle": "2023-02-06T03:20:02.398753Z",
     "shell.execute_reply": "2023-02-06T03:20:02.397436Z"
    },
    "papermill": {
     "duration": 0.030897,
     "end_time": "2023-02-06T03:20:02.401024",
     "exception": false,
     "start_time": "2023-02-06T03:20:02.370127",
     "status": "completed"
    },
    "tags": []
   },
   "outputs": [
    {
     "data": {
      "text/plain": [
       "s           499\n",
       "2           214\n",
       "3           136\n",
       "1           115\n",
       "rt          111\n",
       "           ... \n",
       "kikes         1\n",
       "cluei         1\n",
       "yiayplan      1\n",
       "amiibos       1\n",
       "forney        1\n",
       "Length: 4787, dtype: int64"
      ]
     },
     "execution_count": 7,
     "metadata": {},
     "output_type": "execute_result"
    }
   ],
   "source": [
    "abb_df = pd.Series(possible_abbreviations)\n",
    "abb_df.value_counts()"
   ]
  },
  {
   "cell_type": "markdown",
   "id": "3e09efae",
   "metadata": {
    "papermill": {
     "duration": 0.005811,
     "end_time": "2023-02-06T03:20:02.413506",
     "exception": false,
     "start_time": "2023-02-06T03:20:02.407695",
     "status": "completed"
    },
    "tags": []
   },
   "source": [
    "There are many numbers in this list which need to be removed. Also, abbreviations has to be at least 2 letter long, so single letter words should also be removed."
   ]
  },
  {
   "cell_type": "code",
   "execution_count": 8,
   "id": "36afd0d3",
   "metadata": {
    "execution": {
     "iopub.execute_input": "2023-02-06T03:20:02.428884Z",
     "iopub.status.busy": "2023-02-06T03:20:02.428335Z",
     "iopub.status.idle": "2023-02-06T03:20:02.448710Z",
     "shell.execute_reply": "2023-02-06T03:20:02.447997Z"
    },
    "papermill": {
     "duration": 0.031992,
     "end_time": "2023-02-06T03:20:02.452709",
     "exception": false,
     "start_time": "2023-02-06T03:20:02.420717",
     "status": "completed"
    },
    "tags": []
   },
   "outputs": [
    {
     "name": "stdout",
     "output_type": "stream",
     "text": [
      "{'asf', 'ny1', 'ryans', 'tpanic', 'realestate', 'maca', 'infact', 'idfire', 'aul', 'idgaf', 'wsls', 'kororinpa', 'orangi', 'bestival', 'entretenimento', 'alwx', 'boyhaus', 'govegan', 'saddlebrooke', '40mln', 'whitehouse', 'iredell', 'exofficio', 'tornados', 'selfavowed', 'longaberger', '2k15', 'avigdorliberman', 'lembra', 'skardu', 'chandanee', '4playthursdays', 'tweeting', 'camila', 'fingerrockfire', 'haha', 'film4', 'greyjoys', 'watchin', 'fx', 'backtoback', 'pnpizody', 'mydrought', 'kfc', 'dupree', 'sl', 'peritoengrafoscopia', 'identitytheft', 'nsf', 'workd', 'kamloops', 'bcs', 'suggs', 'kro', 'gigant', 'soloquiero', 'ral', 'protoshoggoth', 'cydia', 'smh', 'bachmann', 'preppers', 'offroad', 'smp', 'lolla', 'jtw', 'movietheatre', 'morty', 'ands', 'rijn', 'pft', 'enviromental', 'jewelry', 'indah', 'marketingmediocrity', 'meelllttting', 'jacinta', 'aks', 'hastle', 'lcc', '2b', 'feelin', 'africansinsf', 'us70', 'notgoingoutinthat', 'difficultpeople', 'tgirl', 'nffc', 'nitclub', 'harman', 'warnerrobins', 'ak', 'dorret', 'senso', 'bronville', 'ssu', 'nema', 'vancouverisland', 'adhd', 'mulan', 'parkchat', 'kanger', 'connecto', 'bcz', 'l6', 'conklin', 'ok', 'kwaaaaa', 'wouldnt', 'nwt', 'janata', 'oli', 'choppas', 'thatswhatfriendsarefor', 'warra', 'q2', 'clelli', 'vape', 'foto', 'nz', 'badchoices', 'i15', 'qiang', 'lungcancer', 'locksmithing', 'carmi', 'bamenda', '12news', 'vampiro', 'amiibos', 'qvc', 'publichealth', 'keegan', 'coyi', 'lmaov', 'ren', 'malik', 'kindermorgan', 'lexi', 'cumberbatch', 'wsoc', 'tbt', 'mh370', 'palmoil', 'lyf', 'bosphore', 'goooooooaaaaaal', 'africanbaze', 'elven', 'adani', 'thehobbit', 'inciweb', 'lvl', 'indo', 'lich', 'hardline', 'yo', 'nia', 'ogt', 'iamdowntown', 'xela', 'deglin', 'bcpoli', 'membuahkan', 'najib', 'bancodeseries', 'idis', 'floored4', 'mfs', 'duda', 'udhampuragain', 'sanelesstheory', 'bbloggers', 'thesensualeye', 'dothraki', 'umntu', 'worldvision', 'depreciations', 'donnelly', 'alllll', 'byr', 'lk', 'qave', 'ks94', 'minaj', 'wht', 'linkury', 'hardside', 'psychrewatch', 'childhooddefined', 'saltriverwildhorses', 'railguns', 'fatburning', 'holtz', 'jiwonle', 'tfb', 'vinnie', 'setsuko', 'savs', 'soultech', 'onlinea', 'mtsalert', 'ww', 'overhostages', 'tps', 'thrarchives', 'clev', 'grayed', 'oh', 'lmfao', 'srs', 'faroeislands', 'jihadis', 'ceo', 'mmmm', 'nopower', 'defs', 'esports', 'enablement', 'elkhorn', 'killsone', 'foodstand', 'bbsnews', 'treeporn', 'bullseye', 'master0fsloths', 'zayn', 'dcubecrafts', 'coloradoavalanche', 'cigs', 'shadowflame', 'ib', 'bigsby', 'since1970the', 'thnk', 'loa', 'dfr', 'spurgeon', 'akram', 'clergyforced', 'cnv', 'bhramabull', 'mamata', 'instaquote', 'greatbritishbakeoff', 'kalmikya', 'kc5kh', 'graywardens', 'nother', 'disembarkment', 'hfo', '15th', 'kpdied', '1960s', 'mayweather', 'pornhub', 'oompah', 'internetradio', 'maddddd', 'mre', 'gmcr', 'statesville', 'espn', 'nightmarishly', 'pt1', 'driverlesscars', 'muzzamil', 'teemo', '20failure', 'sumn', 'weeklong', 'edcxo', 'reprocussions', 'ambleside', 'arfur', 'afp', 'alhaji', 'beforeitsnews', 'moms', '250k', '10pm', 'wnw', 'nester', 'mazing', 'delany', 'landsli', 'usami', 'cybersecurity', 'ps3', 'shoutout', 'driverless', 'yyj', 'bestie', 'misfortunebut', '712c', 'oworoshoki', 'trump2016', 'activision', 'galifianakis', 'ahhhh', 'rchs', 'brucewillis', 'pixar', 'os', 'carolinaablaze', 'hunwx', 'hasil', 'lgbt', 'funtenna', 'trs', '10km', 'totoooooo', 'resque', 'abouts', 'indianperpetrated', 'residualincome', 'sif', 'kindof', 'disea', 'kiernan', 'boi', 'x1434', 'kach', 'lynchburg', 'kneelbot', 'naayf', 'chapoutier', 'siouxland', 'nurgle', '23km', 'ef', 'afrin', 'cnn', 'liguistic', 'artectura', 'blks', 'wknd', 'animatronics', 'prettyboyshyflizzy', 'win10', 'cityofmemphis', 'colleenmnelson', 'gymflow', 'horno', 'eyesss', 'rts', 'agw', 'akxbskdn', 'q99', 'kidsthesedays', 'richhomeydon', 'binladen', 'tem', 'madinah', 'stormtrooper', 'mv', 'grahamwp', '5c', 'r3do', 'thinkpink', 'refugeesmatter', 'g7', 'amageddon', 'pitmix', 'urbanfashion', 'mukilteo', 'hr', 'ch', 'incase', 'brasswork', 'specialneeds', 'kelby', 'hashimoto', 'twimbos', 'stephenscifi', '12mm', 'rwa', 'renewsit', '401ks', 'redlands', 'kashmirconflict', '260th', 'yiraneuni', 'pra', 'netlabel', 'gbbo2015', 'somethin', 'thisdayinhistory', 'jonvoyage', 'veneto', 'www', 'chinas', 'ciggs', 'varagesale', 'roh3', 'vabengal', 'ushed', 'contig', 'lifehacks', '22days', 'forney', 'cuz', 'nyozi', 'inhofe', 'ilford', 'sarabia', 'lt', 'syd', '5sos', 'nkea', 'eonlinechat', 'dopest', 'tangletalk', 'tosu', 'elecman', 'lastma', 'kppolice', 'twia', 'photoshop', 'tc', 'messi', 'anthonys', 'shitton', 'vitesse', '20zone', 'tarmineta3', 'zar', 'n36', 'x1392', 'nnw', 'didn', 'sniiiiiiff', 'arwx', 'carryi', 'pt4', 'ultimalucha', 'tbr', 'frontpage', 'scotiabank', 'uhmmmm', 'cipinang', 'summerinsweden', 'lorr', 'pir', 'susiya', 'embra', 'ifunny', 'hatzolah', 'ey', 'fb', 'cle', 'penneys', 'butterlondon', 'pradesh', 'kuznetsova', 'molecularly', 'wmur9', 'ny1burst', 'sanfrancisco', 'goodlook', 'niall', 'guage', 'globi', 'gba', 'killhard', 'annonymous', 'yor', 'skynews', 'vivaargentina', 'dustpig', 'thedoolinggroup', 'cityporn', '20disaster', 'colorism', 'fnaf', 'nyg', 'nui', 'ya', 'hopeinchrist', 'iot', 'democracys', 'latestnews', 's61', '20emergency', 'brb', 'lrt', 'hw', 'offenses', 'uve', 'langtree', 'marinading', 'va', 'scuf', 'timey', 'uhhhhh', 'metrotown', 'tenshi', '20truck', 'u2', 'favors', 'airplane', 'akame', 'akilah', 'ftw', 'foxnews', 'pbcanpcx', 'junko', 'tiffanyfrizzell', 'benothing', 'splifs', 'timesofindia', 'possesion', 'femnism', 'mothe', 'seras', 'nasa', 'girardeau', 'cmon', '20plan', 'oneheartonemindonecss', 'soooo', 'ripriprip', 'heavydirtysoul', 'alisonannyoung', 'deutsch', 'tg', 'uv', 'triciaoneillphoto', 'moving2k15', '85v', 'ndtv', 'liye', 'lukebox', 'qew', '2pack', 'sys', '10th', 'funnynews', 'godslove', 'loko', 'iinet', 'blockchain', 'freyas', 'ftsnnewsdesk', 'oooooohhhh', 'cantmakeitup', 'wickett', 'britishbakeoff', 'individl', 'gunfail', 'edwing', 'trapmusic', 'namjoon', 'teamscorpion', 'gishwhes', 'psfda', 'mallord', 'gmmbc', 'nite', 'necro', 'alphen', '4sake', 'rpn', 'otp', 'tribez', 'droughtmonitor', 'grumpout', 'busines', 'salyers', 'raung', 'kuala', 'holmgren', 'o784', 'cleav', 'pcps', 'hicksville', 'peeters', 'recordand', 'superfood', 'jihadi', 'bhaijaan', 'rindou', 'srk', 'onnnn', '16yr', 'sj', 'oliviamiles01', 'utv', 'yobe', 'chaning', 'tomislav', 'dorett', 'russellville', 'postering', 'chim', 'citylink', 'rigga', 'modoc', 'ahrar', 'dh30000', 'buted', 'tejc', 'ar', 'cri', 'wpri', 'ghost2', '263chat', 'goooooooo', 'jonesboro', 'fanbase', 'wtc', 'sh', 'naypyidaw', 'versethe', 'onshit', '3rd', 'northland', '3x', 'scichat', 'naaa', 'emittin', '43rd', 'udom', 'itz', 'wahhabism', '400dr', 'uke', 'technews', 'jhaustin', 'zehrs', '40w', 'offers2go', 'fergusons', 'windstorminsurer', 'iwate', 'evildead', 'disabledveterans', 'pacquiao', 'climatechange', 'patrickjbutler', 'jbumzqpk', 'indot', 'muaytai', 'guo', 'sherfield72', 'clegg', 'volgagrad', 'cobes', 'mk2', 'widout', 'hawaiianpaddlesports', 'ayyy', 'kitana', 'sedar', 'insanelimits', 'magnitudeml', 'doco', 'newser', 'existant', 'snowden', 'fightterrorism', 'news3lv', '4wd', 'wniagospel', 'japton', 'langata', 'lmfaoooo', 'specialguest', 'choppergate', 'miprv', 'nowplaying', 'fpoj', 'phuket', 'ke', 'saadthe', 'spaceshiptwo', 'po', 'mygc', 'theneeds', 'siskiyou', '3g', 'colnharun', '20mins', 'writingtips', 'sizewell', 'accidentalprophecy', 'illusoria', 'randomthought', 'stefano', 'troye', 'suncorp', 'h20', 'dawabsha', 'montanas', 'dt', 'dolla', 'osha', 'yycfringe', 'comeeeee', 'selfie', 'beisbol', 'gangstermail', 'humaza', 'unsensibly', 'dfljev', 'sooo', 'pls', 'bff', 'reliefweb', 'lovefood', '1000s', 'gop', 'yehuda', 'todays', 'bmx', 'picthis', 'takis', 'mafireems', 'askforalaska', 'scoopit', 'bangladeshflood', 'a3', 'assholes', 'hanneman', '1pack', 'fleek', 'aaaa', 'jammu', 'tarynel', 'borgeous', 'g3', 'asshole', 'tittie', 'choosegod', 'lavenderpoetrycafe', 'prez', 'isao', 'mineness', 'thebachelorette', 'mechanicsburg', 'kno', 'beyondgps', 'rl', '38pm', 'anders', 'lloyds', 'kcarosawmur', 'baan', 'championsblackfoot', 'grrrr', 'offramp', 'cantar', 'elgato', 'ngata', 'ashes2ashes', 'anxietyproblems', 'ts', 'armory', 'apaz', 'weallheartonedirection', '02pm', 'jerkface', 'wom', 'ofclans', 'lu', 'ryt', 'uae', 'apc', 'shoook', 'gauteng', 'osama', 'cor4', 'thursd', 'hirochii0', 'giorgio', 'quantit', 'newave', 'megaquake', 'homebuyer', '4yygb', 'koz', 'oficial', 'libs', 'bd', 'disclos', 'fricken', 'nyt', 'uniteblue', 'ieee', 'hhs', '4got', 'as10004', 'nomiya', 'livin', 'edm', 'cabrillo', 'beyhive', 'reveillertm', 'queenmy', 'bestfriends', 'hahahaha', 'faq', '263789f4', 'ayyo', 'iembot', 'todayi', 'teamsurvivors', 'prebreak', 'abcnews', 'eudrylantiqua', 'kai', 'nbc10', 'starbs', 'unu', 'wonderkid', 'suryaray', 'm151a1', 'profittothepeople', 'janenelson097', 'ravioliwith', 'rv', '1x1', 'xoxo', 'hudhud', 'reidlake', 'bigrigradio', 'retweet', 'swanger', 'doone', 'mofo', 'porcini', 'loosers', 'unkn', 'totteham', 'sr', 'macabrelolita', 'abc', 'vip', 'ah', 'rousey', 'fennovoima', '295ss', 'besafe', 'sunnymeade', 'yr', 'cbs3', 'slanglucci', '15p', 'chucker', 'ooooohshit', 'natwest', 'lyrium', 'biosurveillance', 'pageshi', 'afycso', 'southline', 'autoinsurance', 'pre', 'bkn032', 'proto', 'hcg', 'omgggg', 'afrikaan', 'romford', 'beheadings', 'marquei', '203rd', 'rsa', 'bankstown', 'raheelsharif', 'stormchase', 'larious', 'hw18', 'lanjut', 'livestream', 'hwo', 'flechadas', 'ahhh', 'dumle', 'torrecilla', 'newsarama', 'mc', '22pm', 'loseit', 'rolo', 'instagramers', 'bjp', 'atc', 'indiatv', 'crashsterling', 'hitech', 'txt', 'chann', '15pm', 'hwrf', 'overwatch', 'mpc', 'glononium', 'akito', 'greenway', 'home2', 'demco', 'arachys', 'westchester', 'rq', 'buzzfeed', 'suh', 'speedtech', 'emts', 'wn', 'eyefacts', 'familia', 'evilempire', 'fn', 'moir', 'uvopwz', 'eb', 'lassics', 'jeepsunk', 'engle', 'frontin', 'aa', '63rd', 'pediatric', 'lcb', 'homefolks', 'bioterrorismi', 'emi', 'sindh', 'us101', 'justaguess', 'wildhorses', 'ufo4ublogeurope', 'skywarn', 'paeds', 'lumpur', 'fkn', 'leonardville', 'rebecca', 'noranda', 'ojoubot', 'hoc', 'imeshika', 'cm', 'videoveranomtv', 'mmmmmm', '9newsmornings', 'masse', 'whitt', 'cadrought', 'nf', 'naved', 'medinah', 'hopfer', 'ri', 'ariana', 'potus', 'carlilescanoelivery', '6c', '30pcs', 'cdc', 'vs', 'murlo', 'cbs', 'shanghais', 'parsholics', '7aal', 'meteoearth', 'sa15t', '29pm', 'cmcsa', 'motogp', 'listia', 'obtaing', 'forsythe', 'weddinghour', 'everwhe', 'nfl', 'thisiswhywecanthavenicethings', 'schwarber', 'dcfd', 'komen', 'ahhhhh', 'wpd', 'oef', 'castello', 'totaling', 'harwich', 'akx', 'lyeh', 'wdtv', 'waterboarding', 'ms', 'oktaviana', 'zergele', '40hourfamine', '7amdollela', 'babality', 'breaking411', 'catalinas', 'sportinggoods', 'gaynor', 'furst', 'birb', 'erally', 'ocnj', 'bts', 'commenters', 'atamathon', 'sandiego', '6m', 'mixxtail', 'machida', 'gohans', 'gmt', 'biztip', 'tac', 'higuain', 'sct012', 'alrasyid448iturasya', 'growingupspoiled', '90th', 'didnt', 'newep', 'namekians', 'shen', 'html5', 'hotnewscake', 'runion', 'ani', 'usd', 'cld', 'altamonte', 'lapaka', 'recal', 'millcityio', 'electronicmusic', '8th', '10w', 'fdbdp', 'grande', '300k', 'alves', 'schiphol', 'cawx', 'diretube', 'wrightsboro', 'ableg', 'iclown', 'shevlin', 'ghul', 'eu', 'zhejiang', 'ps4', 'worstsummerjob', 'sothwest', 'pitchwars', 'shoalstraffic', 'fanfiction', 'trixie', 'michelebachman', 'lakeeffect', 'bloomberg', 'tornadogiveaway', 'gpm', 'dei', 'sigalert', 'googlemaps', 'dragneel', 'feinstein', 'willian', 'friend50', 'roga', 'nicki', 'dilawri', 'alsowhat', 'youtu', 'mixtape', 'fuddy', 'keurig', 'ignoranceshe', 'destinationimpact', 'rcmp', 'dlh', 'yuki', 'heheh', 'kerricktrial', 'natsu', 'orcot', 'handi', 'v6', 'au', 'moreland', 'beloeil', 'spyro', 'talkradio', 'socal', 'hometownglory', 'roddypiperautos', 'greystone', 'savebees', 'laois', 'ronge', 'katunews', 'banthebomb', 'warmbodies', 'thorin', 'ushanka', 'alabamaquake', 'duststorm', 'arin', 'leh', 'mgm', 'lanford', 'noemotion', 'syjexo', 'thomassmonson', 'ps1', 'mba', 'beinart', 'nuu', 'mlm', 'creamfields', 'z10', 'ajw', 'tennews', 'gwatt', 'dumuzid', 'boylesports', 'followback', 'yessum', 'sequalae', 'bitcoing', 'jsdf', '945hpa', 'whitewalkers', 'ptbo', '17th', 'marketwatch', 'japanjapan', 'mercados', 'nataly', 'wrked', 'll', 'hara', 'mi', 'humanconsumption', 'lnp', 'inec', 'fettilootch', '23rd', 'bama', 'saku', 'globalwarming', 'darude', 'hahah', 'sayin', 'sorrower', '3pack', 'bishopfred', 'yzf', 'wut', 'goblue', 'coun', 'smaug', 'badirandeal', 'bsg', '9pm', 'lakeisabella', 'billers', 'iwontmakeit', 'headdesk', 'cgi', 'hlongwane', 'skylanders', 'vuln', 'silverman', 'gv', 'mins', 'fortworth', 'mrw', 'rin', 'snapchat', 'fuckboy', 'handside', 'matako', 'womans', 'stephenking', 'samel', 'ombudsmanship', 'caraccidentlawyer', 'ori', 'nlwx', 'rapidcity', '999day', 'tumblr', 'drob', 'titolo', 'runkeeper', 'wrapup', 'bangin', 'siouxlan', 'netanyahu', 'rowysolouisville', 'dyxtmrydu', 'usagi', 'lh', 'csx', 'aaaaaaallll', 'growingupincolorado', 'diarrhea', 'eq', 'ltz', 'wsvr1686b', 'kenji', 'bronwynbishop', 'aashiqui', 'er', 'rolandonabeats', 'janta', 'hapa', 'connor', 'throwin', 'womengirls', 'thorgan', 'yamaguchi', 'andchina', 'tha', 'washard', 'har', 'neverforget', 'dmd', 'blacklivesmatter', 'vergil', 'dutton', 'faried', 'trinna', 'favs', 'symantec', 'icaseit', 'pileq', 'monwabisi', 'usat', 'meds', 'q1', 'l9udest', 'nout', '20services', 'qendil', '2slow2report', 'favorita', 'robotcoingame', 'shestooyoung', 'uprootin', 'ootd', 'gujaratriot', 'emilee', 'teduka', 'georgecole', 'dnbheaven', 'ir', 'erdogan', 'hashtags', 'raffi', 'avi', 'ch4', 'bundy', 'mmk', 'geotech', 'telangana', 'shidddd', '12hr', 'regr', 'mediterran', 'vi', 'jittering', 'elwoods', 'vra50', 'kbak', 'fbi', 'jasmines', 'mma', '1008pla', 'leveled', 'learni', 'mens', 'favori', 'diebold', 'arent', 'naturaldisasters', 'buroker', 'ig', 'atcinema', 'cpanel', 'nl', 'luchaunderground', 'biolabs', 'jaylenejoybeligan', 'ari', 'esh', 'emmerdale', 'cutekitten', 'practicing', 'fotoset', 'windows10', 'xp', 'fighterdena', 'nbc15', 'newyork', '2pcs', 'dontexpectnothing', 'iwk', 'nasahurricane', 'ct', 'jak', 'desolationofsmaug', 'crptotech', 'jagm', 'awwww', '20bang', 'dlc', 'uks', 'mumbailocals', 'fecal', 'snuck', 'n15b', 'onesie', 'unfml', 'psqd', 'ireporter', 'bookboost', '45pm', 'whelen', 'demeanor', 'soz', 'keepingtheviginaclean', 'brbrs', 'indi', '20burning', 'metrobus', 'sha', 'yycwalks', 'claimin', 'magisters', 'faan', 'jaiden', 'cdcwhistleblower', 'noooooooo', 'idps', 'thr', 'pusssssssssy', 'uswarcrimes', 'nj36', 'sn', 'mav', 'orapinforma', 'wpo', 'mirad', 'gawx', 'topnews', 'efak', 'mataas', 'whatevs', 'hmmm', 'vir', 'acesse', 'newyear', 'thankyou', 'ipo', 'blaise', 'kontrolled', 'ihave44episodesofgg', 'ph0tos', 'labourleadership', 'countynews', 'ho', 'gamescom', 'swea', 'shawie17shawie', 'wctv', 'doublecups', 'mcv', 'areva', 'personalinjury', 'sizygwwf', 'demonstratio', 'forbath', 'exp0sed', 'legionnairesdisease', 'wahpeton', 'genisys', '61st', 'inws', 'criticalmedia', 'yoenis', 'knw', 'ft', 'wwa', 'ra', 'kanglaonline', 'rewatchingthepilot', 'donington', '18th', 'happing', 'sr22', 'biryani', 'intertissue', 'produc', 'dravet', 'rockstar', 'pawsox', 'ofnsixjks', 'fidayeen', 'watermeloann', '20storm', 'ogun', 'lol', 'pt', 'dualcom', 'vroman', 'karymsky', 'rowyso', 'cecilthelion', 'hotspot', 'frofrofro', 'utc', 'm5', 'iheartradio', 'pbx', 'ncwx', 'xl', 'dierks', 'otleyhour', 'stds', 'piperwearsthepants', 'scaligero', 'c4news', 'ee', 'bebacksoon', '4km', 'rosenthal', 'snotgreen', 'zrnf', 'shadowman', 'poconorecord', 'luiz', 'dalroy', 'outbreed', '2d', 'amssummer', 'backty', 'orpol', '4the', 'askh3cz', 'klimkin', 'iiii', 'oktxduo', 'renison', 'sd', 'nars', 'rickperry', 'hehe', 'ddnt', '15t', 'drjustinmazur', 'pulwama', 'moyo', 'yh', 'usama', 'noob', 'annoucement', 'francisunderwood', 'slideshare', 'modibo', 'amreading', 'nochilllukehammings', 'skanndtyagi', 'buddys', 'albertans', 'madhya', 'roskomnadzor', 'ayekoradio', 'waterfur', 'zouma', 'tuffers', 'https', 'setanta', 'airasia', 'gravitychat', 'startrek', 'motordom', 'idek', 'trailheads', 'hirsch', 'dren', 'nwo', 'rodkiai', 'kyee', '12jst', 'socialmedia', '1970s', 'time2015', 'westmarch', 'xbox', 'cadenadeseguidores', 'freeallfour', 'holodomor', '05th', 'fwt', 'unfortunemelody', 'cr', '2327564d', 'bromleythe', 'bluehand', 'bing', '2minutemix', 'thh', 'dewdney', 'palinfoen', 'yeat', 'barkevious', 'ijetalerts', 'elxn42', 'noooooooooooo', 'yday', 'wenger', 'efs300', 'cabramatta', 'fittscott', 'af', 'vallerand', 'trancy', 'khq', 'renew911health', 'bfore', 'jetengine', 'crossfit', 'kowing', 'summerslam', 'plannedparenthood', 'awesomelove', 'douchebag', 'caaaaaall', 'semasirtalks', 'yyeso', 'nino', 'sg', 'redcliffe', 'lga', 'zzzz', 'intersectio', 'rc', 'populardemand', 'brics', 'ac', 'eventspalmbeach', 'warfighting', 'epiphanes', '4th', 'firenews', 'abq', 'liveleakfun', 'mordechai', 'looooooooooool', 'kulli', 'mello', 'noches', 'uk', 'mipasho', 'epl', 'ssw', 'whipe', 'tdp', 'destroyd', 'trafficnetwork', 'truckcrash', 'top25', 'obispo', 'stil', 'bayarea', 'servicin', 'mattson', 'oth', 'tt', 'fb100', 'crozes', 'wyrmwood', 'mhmmm', 'tounge', 'zabadani', 'eastwood77', 'xb1', 'breivik', 'zimpapersviews', 'sona', 'eurotunnel', 'iger', 'kunstler', 'ssshhheeesshh', 'cbplawyers', 'nittys', 'dserialpcilp', 'buscemi', 'dqsvyusy', 'northerncalifornia', 'dwarves', 'atcha', 'postapocalypticflimflam', 'worseits', 'dorrie', 'goonda', 'te', 'mdash', 'antiochhickoryhollow', 'safeco', 'freesikhpoliticalprisnors', '3la', 'fcked', 'faminememories', 'songfor', 'fightin', 'aoms', 'wyou', 'faved', 'mfi', 'hillarymass', 'nades', 'skyrim', 'puledo', 'rs40000cr', 'shania', 'apocalpytic', 'mchenry', 'littlewomenla', 'trafford', 'bsf', 'scwx', 'wompppp', 'wdym', 'defeater', 'vassalboro', 'muhamadjabal', 'wod', 'tomlinson', 'franta', 'razak', 'joeysterling', 'pieceofme', 'nitroglycerin', '2k13', 'coast2coastdjs', '20collapse', 'spos', 'standwithpp', '45m', '231a', 'soner', 'oocvg', 'malaysiaairlines', 'epa', 'ihhen', 'barcousky', 'idm', '12u', 'thereisonlysex', 'tren', 'saat', 'indiefilm', '14th', 'rio2016', 'jacqui', 'eovm', 'pbban', 'tlc', 'ssb4', 'stavola', 'volcanoinrussia', 'kia', '24v', 'bowhunting', 'nsfw', 'cfc', 'ofr', 'ha', 'ai', 'luka', 'jr', '13pm', 'videogame', 'wc', 'hua', 'jiahahahha', 'gpv', 'ruebs', 'falmer', 'otd', 'nra', 'llf', 'i5', 'usar2015', 'sinistras', 'digitalhealth', 'funtimes', 'followme', 'carterville', 'tb', 'commiting', 'idwx', 'ibrahimmisau', 'agnivesh', 'foxnew', 'paracord', 'sfa', 'phandom', 'boltcyclone', 'thexfiles201days', 'ossington', 'okwx', 'usa', 'tp', 'spen', 'yougov', 'sfor', 'wxia', 'takecare', 'ndetention', 'insubcontinent', 'utp', 'km', 'earthquakenews', 'lilourry', 'rockyfire', 'theatershooting', 'thi', 'ironman', 'woodlawn', 'fousey', 'usmnt', 'womem', 'chowchilla', '4pm', 'thereal', 'lotz', 'breakth', 'mwjcdk', '3novices', 'tawfmcaw', 'tracklist', 'angelriveralib', 'daviesmutia', 'ibaraki', 'el', 'gns', 'skywars', 'berlatsky', 'bucs', 'antipozi', 'mk', 'lmao', 'dorette', 'pennlive', 'relaxinpr', 'winechat', 'mtvhottest', 'sk398', 'wbre', 'ziphimup', 'reator', 'uninvestigated', '2fast2furious', 'gta', 'msgdoing111welfareworks', 'demoness', 'suvs', 'msica', 'fowlers', 'yugvani', 'hashtag', '1m', 'nar', 'rubybot', 'fartanxiety', 'argh', 'mylifestory', 'drumstep', 'lolo', 'buthidaung', 'kikes', 'asswipe', 'alwsl', 'essenceofme', 'sp', '3am', 'thanku', 'blackburns', '100s', 'marvins', 'a2', 'jadehelm15', 'hashd', 'deadgrassandflowers', 'cus', 'packfor', 'abomb', 'undergroundbestsellers', 'undergroundrailraod', 'foragesecret', 'tna', 'ocalan', 'ferrochrome', 'drago', 'ktfounder', 'nycfc', 'zarharzar', 'yycstorm', 'weve', 'changefortheworse', 'techesback', 'jez', 'marek', 'yycweather', 'tesco', 'runnin', 'ziuw', 'becyme', 'niiiice', '3x5', 'liveonstreamate', 'beatdown', 'ps', 'epicenter', 'wipp', 'katt', 'q13', '5km', 'comin', 'thugging', 'gisuserpr', 'cosima', 'hasarrived', '5pm', 'wackoes', 'sel', 'dmpl', '6l', 'v8', 'wasnt', 'prestons', 'cc', 'etisalat', 'reafs', 'ykelquiban', 'cerography', 'noooo', 'kelbytomlinson', 'br', 'theashes', 'greinke', 'tak', 'breakdancers', 'abha', 'gostei', 'wha', 'yumiko', 'gokitgo', '33pm', 'splattershot', 'infowars', 'cucks', 'saudimosque', 'joestrong', 'wattys2015', 'tonights', 'carhot', 'snapchatselfie', 'tookitlikeaman', 'rsx', 'badu', 'precisionistic', 'abbandoned', '19th', 'repped', 'articals', 'endconflict', 'goulburn', 'sb57', 'mp3', '60mph', 'icemoon', '80s', 'cnmi', 'mfrwauthor', 'lurkin', 'psalm34', 'pantherattack', 'newsdict', 'annddd', 'nonucleariran', 'natsnation', 'selfies', 'funko', 'wasn', 'ary', 'amcx', 'charminar', 'wxky', 'r21', 'recip', 'nw', 'bruv', 'jimin', 'everythign', 'contentmarketing', 'ks57', 'boycottbears', 'redblood', '30th', 'masterchef', 'spsgsp', 'soudelor', 'stopevictions', 'bioter', 'mthe', 'dr', 'myfitnesspal', 'nba', 'tootrue', 'gesserit', 'uknews', 'dmt', 'ptsd', 'hil', 'butterfinger', 'floatin', 'mezcal', 'makewaterwork', 'enders', 'txlege', 'fitz', 'okanagan', 'taxreturn', '100bn', 'nuh', 'sudans', 'lickin', 'venoms', 'dhalgren', 'willinghearted', 'tarzana', 'splatdown', 'gtfo', 'barra', 'biolab', 'orshow', 'kca', 'raynor', 'warne', 'animalrescue', 'virg', 'maiga', 'infectiousdiseases', 'ntsb', 'i405', 'fe', 'sw', 'bago', 'espn2', 'norge2040', 'futurea', 'teamo', 'sidjsjdjekdjskdjd', 'prepper', 'gasparc', 'heavyrain', 'shtap', 'mizuta', 'bioterror', 'bhp', 'paramore', 'engvaus', 'gurion', 'imkeepingmydayjob', 'freebesieged', 'udhampur', 'aan', 'prophetmuhammad', '20reactor', 'burford', 'aar', 'edk', 'etoffe', 'technica', 'pelosi', 'ypg', 'icd10', 'dua', 'lovemyjob', 'piga', 'tru', 'rumor', 'platt', 'madara', 'schoenfeld', 'humanrights', 'radler', 'heared', 'thegame', 'th', 'timebomb', '90blks', 'ks315', 'qzloremft', 'amazondeals', 'ww3', '12v', '52k', 'pbs', 'lbr', 'rt', 'trynna', 'fu', 'wrestleon', 'installment', 'soothmyslumber', 'ems1', 'electrocutedboiling', 'ik', 'gillibrand', 'theater', 'sittway', 'neighboring', 'autismawareness', 'ballew', 'cluei', 'tomclancy', 'tora', 'sydtraffic', '20bagging', 'lds', 'dyersburg', 'sparxxx', 'demi', 'fide', 'md', 'cheekiness', 'superv', 'latimes', 'rrbc', 'gagnon', 'wroug', 'kurokobot', 'badotweet', 'minamisoma', 'waimate', 'thingsihate', 'iof', 'ma', 'dagestan', 'dfir', 'pada', 'vulnera', 'theconspiracytheory', 'santaclara', 'assnchat', 'cins', 'chandrababu', 'szuter', 'uhc', 'askconnor', 'losangeles', 'delmont', 'swiming', 'flatback', 'hangin', 'iit', 'ccot', 'mahalo', 'talkin', 'enkelbiljett', 'tra', '400t', 'disasterrecovery', 'hugomatz', 'r5live', 'mizzou', 'cascada', 'quals', 'clipuri', 'jst', 'oilandgas', 'ln', 'intl', 'nuff', 'iphoto', 'ce', 'jp', 'videoclip', 'windwaker', 'cramer', 'davison', 'festac', 'modis', 'fiya', 'hs', '3dc', 'molys', 'missionhills', 'enolagay', 'notificationsu', 'hm', 'yeyeulala', 'freekashmir', 'l4', 'uruan', 'dtn', 'blackinamerica', 'tvshowtime', 'yee', 'jkl', 'keithyy', 'lzkely', 'crowe', 'dagens', 'hella', 'ppact', 'werent', 'usg', '28pm', 'rubbin', 'cnbc', 'freeview', 'brooo', 'ex', 'powerlines', 'lzktjnox', 'dealbreaker', 'bowe', 'hse', 'ukfloods', 'suruc', 'sterotypical', 'firefightr', 'influencers', 'debatequestionswewanttohear', 'cas', 'mumbai24x7', 'tdm', 'afghetc', '3d', 'kidscompany', 'sismo', 'tx', 'rembr', '20wave', 'flashflood', 'pineview', 'smfh', 'gamergate', 'laughtraders', 'boxset', 'carbondale', 'clubbanger', 'guabxfv', 'deepak', 'sb', 'regc', 'r1354', 'hickson', 'allthenews', 'subreddits', 'mgs2', 'frp', 'nightbeat', 'littlebitofbass', 'vaxshill', 'okayyyyyy', 'exum', 'usar15', 'mcourt', 'shira', 'gyrsi', 'horndale', '20000k', 'henshaw', 'istg', 'walkthrough', 'mothernaturenetwork', 'rosenbergs', 'pierc', 'da', 'wpt', 'abstorm', 'dal', 'pajamas', 'bb17', 'quem', 'dominicana', 'puth', 'mirkwood', 'hea', 'farmr', '6pm', 'euroquake', 'hamptonroadsfor', 'harrybecareful', 'cooool', 'myreligion', 'flatliners', 'fifa16', 'nyack', 'stopharper', 'lamha', 'ocd', 'baekhyun', 'sinjar', 'destiel', 'awesomesauce', 'ooohshit', 'ev', 'eheks', 'shii', 'pixelsmovie', 'celebrety', 'cn', 'bokuto', 'bieber', 'bennycapricon', 'mino', 'mlk', 'xkdrx', 'favorite', 'ashrafiyah', 'deltachildren', '7k', 'crackin', 'jishin', 'funnydadcoach', 'colorectal', 'eo', 'westerncanadadrought', 'capoeira', 'ne', 'rhett', 'behaviors', 'pharma', 'misha', 'tusky', 'bi', 'redsox', 'devereaux', 'kc', 'mypillowstudio', 'wi', 'exo', '20accident', 'wishlist', 'nanking', '91f', 'milledgeville', 'killin', 'petebests', 'sanonofre', 'newberg', '18w', 'wftv', 'mothernature', 'iso', '2a', 'scheer', 'pretenses', 'marr', 'pakistans', 'burnfat', 'fci', 'usw', 'afc', 'calfires', 'bkn025', '3others', 'fav', 'tr', 'oppa', 'yazidis', 'navbl', 'silentmind', 'affleck', 'wwii', '1st', 'atk', 'cufi', 'storen', 'tweetstorm', 'nosso', 'cpr', 'pg', 'racco', 'kml', 'apga', 'aberystwyth', 'pulkovo', 'aia', 'nashsnewvideo', 'nockthie', 'marians', 'cta', 'butiqob', 'idlenomore', 'ocampo', 'firefigthers', 'routecomplex', 'peice', 'pp15000266858', 'hakogaku', 'aogashima', 'uud', 'tnwx', 'ransomware', 'knobhead', '27w', 'knott', 'mrrobinson', 'jfb', 'worldoil', 'lmfaooo', 'wasilla', 'tweets', 'saintsfc', 'pov', 'visting', 'mpp', 'kotaweather', 'wfp', 'ru', 'atleast', 'childfund', 'cuyahoga', 'jsunnews', 'laighign', 'smth', 'ime', 'noaa', 'giannis', 'drayesha4', 'atomicbomb', 'bhavana', 'silverwood', 'wcvb', 'captureyyc', 'm416', 'splatoon', 'vid', 'yeaahh', 'tsipras', 'seeweed', 'remodeled', 'gopdebate', 'chiang', 'popularmmos', 'op', 'fr', 'southkorea', 'colored', 'k3', 'bilic', 'savedenaliwolves', 'leedstraif', 'mopheme', 'alloosh', 'nda', 'kp', 'wps', 'popeyes', '20on', 'cometh', 'sansa', 'postexistence', 's3xleak', 'jamaicaplain', 'nrc', 'fco', 'poway', 'suho', 'newheights', 'orchs', 'bestnaijamade', 'bbc', '1km', 'summerfate', 'haram', 'latinoand', 'mrc', 'crqck', 'headlinelike', 'tozlet', 'um', 'tremont', 'jakartapost', 'berahino', 'mbiwa', 'cumshot', 'najibrazak', 'lolol', 'cgg', 'pfft', '96km', 'accidently', 'pga', 'etcpb', 'brinx', 'fueling', 'chillin', 'sousse', '300m', 'ut', '60m', 'mxaaaa', 'niqqa', 'scraptrident', 'orianna', 'politifiact', 'vaginaorcake', 'clarksville', 'aq', 'm8', '1d', '20bags', 'barfield', 'jokin', 'rs5', 'achedin', 'ps2', 'tryna', 'striked', 'bbcnews', 'imdb', 'bwp', 'zippednews', 'g90', 'pletchs', 'novalismi', 'bickleton', 'cee', 'yazidi', 'yahistorical', 'goz', 'wholeteam3', 'mumbairiot92', 'owenrbroadhurst', 'auc', 'ohhhh', 'otrametlife', 'tsutomi', 'emsc', 'smarttek', 'co2', 'uglypeople', 'mht', 'copperfields', 'esevu', 'benstracy', 'cbc', 'hatman', 'tepat', 'teenfiction', 'goodreads', 'gm', 'courtof', 'carb', 'alois', 'shedid', 'aluminum', 'easternoregon', 'zakuun', 'mn', 'jrowah', 'deai', 'mx', 'bcuz', 'eep', 'ermac', 'cafire', 'jackman', 'shaolin', 'commentes', 'wa', 'tloz', 'sfgate', '20bag', 'ud', 'daem', 'teleported', 'azusa', 'homeimprovement', 'tae', 'zonewolf123', '2007he', 'ekiti', 'tfl', 'fo', 'golfball', 'eversafe', 'indepth', 'bo3', 'wakeupflorida', '265v', 'westminister', 'papi', 'motorcraft', 'ssp', '90s', 'kakeru', 'si', 'souda', 'heartdisease', 'decisionsondecisions', 'vtc', 'kfvs12', 'temecula', 'explodingkittens', 'fentanyl', 'withannihilation', 'desecrates', 'nhs', 'follownflnews', 'rossbarton', 'shtf', '1a', 'preorder', 'assertative', 'sts', '60km', 'nats', 'dubstep', 'watertown', 'siteinvestigating', 'ab', 'roh3smantibatam', 'urgentthere', 'tyar', 'uluru', 'lookg', 'laudner', 'nytimes', 'twcnews', 'wilden', 'softenza', '60s', 'sa', 'sorrybutitstrue', 'zaman', 'rspca', 'lansdowne', 'portaloos', 'oooh', 'pagasa', 'bb4sp', 'trp', 'valle', 'wexler', 'youll', 'ish', 'db5', 'pl', 'bardo', 'rightways', 'landolina', 'aintsheperty', 'watchout', 'wilshere', 'muschamp', 'bouta', 'gis', 'appreciativeinquiry', 'tv', 'donthate', 'shantaeforsmash', '12m', 'yiayplan', 'mcilroy', 'bomd', 'dubbo', 'wiwnpfxa', 'insurers163', 'colomr', 'livemint', 'jackholes', 'c720', 'rememberrabaa', 'dq', 'borderlands2', 'gulfport', 'yuuko', 'lawx', 'datingtips', 'cyhi', 'indiakomuntorjawabdo', 'droppd', 'neighbor', 'htarvrgly', 'tms7', '5sosfam', 'currensy', 'favorites', 'pkk', 'x1402', 'bangladeshaffected', 'twon', 'enrt', 'anza', 'mtvsummerstar', 'emv', 'oi', 'firstnations', 'fema', 'marketforce', 'untill', 'inspi', 'tweetlikeitsseptember11th2001', 'inbetween', 'justinbieber', 'gbbo', 'dtb', 'wholesaleent', 'cuana', 'tvjnews', 'isai', 'gunsense', 'wy', '0l', 'pascoe', 'mf', 'spx', 'loveislove', 'pdp', 'chpsre', 'wud', 'harperanetflixshow', 'saison', 'zotar', 'nbc', 'lpdkl', 'papiichampoo', 'notre', 'jolie', 'foxsportscom', 'tambo', 'bengston', 'deepwater', 'goodluck', 'sbnation', 'urself', 'nanotech', 'oc73x', 'ufn', 'ks161', 'lotg', 'ohh', 'shanaynay', 'convivted', 'ladins', 'bc19', 'meditationbymsg', 'urs', 'nne', 'kgb', 'babri', 'sebee', 'indyfest', 'tubestrike', 'fte', 'korzhonov', 'stepkans', 'nhlducks', 'olap', 'fucktard', 'ky', '2pm', 'rumah', 'fvck', 'nieuws', 'kamindoz', 'ap', 'wdyouth', 'retweeted', 'saudies', 'miyagi', 'coulda', 'ed', 'ki', 'gon', '17months', 'sportwatch', 'verhoek', 'hungerarticles', '7p', 'smem', 'ay', 'chiasson', 'skyler', 'utfire', '70years', 'ncms', 'smb', 'patriotsnation', 'youngins', 'maketh', 'hwy401', 'myelf', 'catechize', 'koin6news', 'thankkk', 'shingal', 'smartnews', 'plez', 'susinesses', 'wew', 'collegeradi', 'lan', 'fueled', 's01e09', 'plz', 'catfishmtv', 'enroute', 'sixpenceee', 'newswatch', '30stm', 'b4federal', 'salopek', 'carfest', 'pp15000266818', 'valleywx', 'hannaph', 'mkx', 'vods', 'isla', 'rar', 'mileena', 'hiroshima70', 'smallbusiness', 'apcpdp', 'tunein', 'vmas', 'tottenham', 'abc7eyewitness', 'byebyesoundcloud', 'threatintel', 'acdelco', 'caribean', 'nh', 'themhe', 'skh', '20buildings', 'hd', 'rbi', '7a', 'anjem', 'tos', 'abbswinston', 'androidgames', '30min', 'ruor', 'rihanna', 'metlife', 'mesick', 'beit', 'cislady', 'legionstrackandfield', 'mtr', 'warthen', 'ny', 'shantae', 'yug', 'asbury', 'sustainourearth', 'fukurodani', 'mingo', 'chitral', 'leelanau', '7newsadl', 'preseasonworkouts', 'dw', 'movt', 'bumpin', 'arnley', 'gameofkittens', 'expertwhiner', 'trois', 'jeb', 'cervelli', 'subsd', 'clico', 'justsaying', '911bombing', 'wwe', '30bst', 'yakub', 'emerg', 'karnal', 'nno', 'menolippu', 'mp', 'saumur', 'wmata', 'friend59', 'bitcoin', 'dancefloor', 'inchaos', 'nawh', 'fergie', 'nghlth', 'lennox', 'preppertalk', 'thats', 'wiedemer', 'suffield', 'peta', '20fires', 'wcw', 'yyc', 'rnk', 'smallbiz', 'browserhijacker', 'prabhu', 'magu', 'buddz', 'a10', 'hyatt', 'situ', 'an247', 'detouring', 'lujo', 'gmtty', 'prosser', 'cs', 'oc', 'dialyses', 'rossum', 'catsofinstagram', 'mattingly', 'kanye', 'whistleblower', 'ag', 'apd', 'rabidmonkeys1', 'io', 'tweeted', 'noirandeal', 'jaileens', 'wzbt', 'infosec', 'ouvindo', 'ep03', 'ffvii', 'dhsscitech', 'fieg', 'x2', 'mets', 'kenosha', 'collab', 'trc', 'erykah', 'ercjmnea', 'looney', 'sarumi', 'dumbass', '6th', 'bigstar', 'forbesasia', 'asics', 'ibooklove', 'ugc', 'kotolily', 'thisisfaz', 'atombomb', 'rb', 'ks100', 'mom', 'mdt', 'goin', 'swingman', 'perrychat', 'nbn', 'thalapathi', 'seemeth', 'hhahaha', '5th', 'ij', 'goldstein', 'm27329', 'orchardalley', 'es', 'pomo', 'pharrell', 'carful', 'billneelynbc', 'kindlecountdown', 'ama', 'hixon', 'hagerstown', 'av', 'pd', 'miville', 'sr14', 'askcharley', 'lowkey', 'aldridge', 'arrestpastornganga', 'ns', 'utd', 'prysmian', 'nvr', 'bayelsastate', 'troubleonmymind', 'wce', 'mcr', 'uribe', 'paulista', 'round2', 'usatoday', '00end', 'middleeast', 'earthtwerk', 'tw4rw', 'salman', 'pizzarev', 'texaschainsawmassacre', '20bomber', 'lonelyness', 'robertwelch', 'ddos', 'lzk', 'pjnet', 'ahahahga', 'pantofel', 'yonews', 'instagram', 'magichairbump', 'twentynine', 'bloodbound', 'jetstar', 'sometimesi', 'ler', 'martinmj22', 'nycha', '100nd', 'musicvideo', 'nsw', 'ridah', 'theyd', '47km', 'dougkessler', 'totoooooooooo', 'nikeplus', 'lesnar', 'offr', '1008planet', 'guimaras', 'parliment', 'dc', 'katterpinstagram', 'seaworld', '20fire', 'pakpattan', 'viab', 'redeemeth', 'mommys', 'youve', 'sturgis', 'nomorehandouts', 'imouto', 'chronicillness', 'hyider', 'summer2k15', 'aaaaaand', 'insas', 'etp', 'boko', 'gotthard', 'tulowitzki', 'speculatio', 'wb', 'kesabaran', 'crosed', 'soulja', 'dems', 'modestmouseremix', 'thda', 'wsjthinktank', 'fdny', 'dotish', 'cliptv', 'gbonyin', '8m', 'babalmao', 'icelandreview', 'socialwots', 'oomf', 'sunrays', 'awesomeeeeeeee', 'ivanberroa', 'brixton', 'parter', 'gh', 'sct014', 'todayhave', 'cai', 'rizzo', 'charlize', 'lhh', 'fahlo', 'dl', 'benitez', 'banki', 'ouvir', 'commoditiesare', 'jariana', 'pated', 'pdx911', 'pdx', 'romania', 'forgeting', 'orpik', 'reaad', '12am', 'tn', 'raisinfingers', 'mansehra', 'kessler', 'sni', 'playthrough', '429cj', '20bomb', 'wattpad', 'onlinemh370', '500th', 'accepte', 'blowmandyup', 'trickshot', 'damnnnn', 'flavorchargedtea', 'ep18', 'churkin', 'sws', 'perrie', 'adiossuperbacterias', 'ika', 'worldpay', 'ifak', 'walerga', 'whiskey', 'copa', 'horrormovies', 'mumbaitimes', 'thundersnow', '31pm', 'scofield', 'gf', 'canontattoo', 'daughtery', 'restoringpaths', 'badkitty', 'tlvfaces', 'roomr', 'speakingfromexperience', 'cogxbox', 'hs2', 'roleplay', 'dvds', 'xl61', 'sevenfigz', 'welovela', 'shaheed', 'interestraterise', 'whitbourne', 'e1', 'fm', 'kabwandi', 'jacquie', 'probs', 'clicca', 'irandeal', 'summervibes', 'addtexastonext1dtour', 'leitchfield', 'hahahah', '4am', 'suv', '3a', '30m', 'sps', 'newrelease', 'restrospect', '20bombing', 'thurlow', 'indiegogo', 'bene', 'x1441', 'idc', 'a1a', 'psp', 'omron', 'gn', 'defensenews', 'piner', 'firefighte', 'makinmemories', 'diaporama', 'ris', 'crbzfz', 'ba', 'edt', 'watchthevideo', 'casu', 'nflexpertpicks', 'satoshis', 'sigue', 'js', '71st', 'onboard', 'rezaphotography', 'jen', 'usgs', 'dorling', 'nestleindia', 'wnd', 'noxdv', 'lonepine', 'photoset', 'multidimensi', 'selmo', 'everton', '40pm', 'svetlana', 'choudary', 'parleys', 'mkayla', 'dere', 'zaatari', '80m', 'benews', 'lovemydentist', 'finall', 'caruana', 'turdnado', 'xv', 'bk', 'humor', 'sippin', 'foxa', 'bloor', 'modi', 'honored', 'xd', 'neighborhood', 'lifeits', 'policylab', 'tch', 'sr37', '10k', 'tantonationalforest', 'ricin', 'serephina', 'bigconsequences', 'oso', '3km', 'occasion2b', 'kasabwe', 'm6x1', 'aggressif', 'np', 'busey', 'vashon', 'ashestoashes', 'b2', 'gratia', 'toosoon', 'gi', 'everydaynaija', 'gansey', 'indiannews', 'cultsierre', 'push2left', 'uh', '3p', 'friggin', 'doubleghats', 'gilbert23', 'lookss', 'bellerin', 'sq', 'fi', 'ive', 'bae', 'auspol', 'cantwaittoplayinminneapolis', 'fant4stic', 'vai', 'notexplained', 'gr', 'shemesh', 'lez', 'dna', '6aug', 'lancasteronline', 'strategicpatience', 'tj', 'maxsys', 'a1', 'besttalkradio', '12th', 'pickens', 'maaaaan', 'blowin', 'thuggin', 'ja', 'fanarmyfaceoff', 'givebackkalinwhiteaccount', 'thedarktower', 'queenswharf', 'straightfire', 'albertsons', 'beyondthebomb', 'disinfo', 'romanatwoodvlogs', 'deo', 'ronaldo', 'luhan', 'dajaal', 'bokoharam', 'rohingya', 'paulhollywood', 'x36', 'soldi', 'canceling', 'mccains', '6bn', 'any1', 'ims', 'tlk', 'carmike', 'centers', 'chicagoscanner', 'stearns', 'poc', 'losdelsonido', 'transporta', 'saudiarabia', 'mb', 'deejayempiresound', 'growingupblack', 'ds', 'gravitymovie', 'chrissie', 'frvrgrateful', 'khuzdar', 'okanowa', 'oup', 'actavis', '11am', 'aviationaddicts', 'lougheed', 'yamashiro', 'esn', 'mooresville', 'ttw', 'dojo', 'omfg', 'g20', 'joboozoso', 'beclearoncancer', 'aw', '8km', 'bloodymonday', 'tianta', 'wwi', 'dorrian', 'magginoodle', 'zumiez', 'drummond', 'capeann', 'reddit', 'ovo', 'marketforces', 'healthinsurance', 'ayhhhhhdjjfjrjjrdjjeks', 'oun', 'ect', 'london3', 'twcnewsclt', 'isea2015', 'knowlddge', 'du19', 'zippoline', 'avysss', 'clothesless', 'acura', 'ye', 'sfgiants', 'fel', 'cyber', 'aannnnd', 'fgcu', 'askin', 'dardanelle', 'acenewsdesk', 'lgl', 'harrystyles', 'childsexabuse', 'oneborn', '10x', 'vibez', 'alska', 'iartg', 'kettlebell', 'yennora', 'jarmusch', 'scseestapreparando', 'hpssjd', 'chinadotcom', 'conditionsprivation', 'a7', 'intragenerational', 'nort', 'milita', 'econom', 'ge', 'ny35', 'kurds', 'ramag', 'candylit', 'ames', 'teamfollowback', 'bajrangi', 'weatherit', 'gameplay', 'qld', 'cubstalk', 'eto', '2day', 'sjubb', 'unfollow', 'nana', 'prayforsaipan', 'dvc', '21k', 'looooool', 'smantibatam', 'ashes2015', 'techniqu', 'detectado', 'trophyhunt', 'bayelsa', 'jfc', 'factsheet', 'woah', 'inbounds', 'mariah', 'cw500', 'riveeeeeer', 'whao', 'montego', 'silinski', 'mwednesday', 'aiii', 'terwilliger', 'kiri', 'ofcourse', 'campanha', 'kijangbank', 'tu', 'boing', 'astrologian', 'soundcloud', 'ty', 'clintons', 'bowknot', 'p2', 'citi', 'theramin', 'copalibertadores', 'endoccupation', 'sul', 'mohammed', 'mh17', 'homealone2', 'comdev', 'tcc', 'rsf', 'diggin', 'standforwolves', 'pearlharbor', 'papicongress', 'thepartyofmeanness', 'allthekidneybeansandsorbet4misha', 'gfe', 'mo', 'oo', 'rayner', 'seeyouatamicos', '37b', 'sto', 'mateo', '06jst', 'ksbynews', 'doessnt', 'asae15', 'eh', 'bp', 'requa', 'megadeth', 'asb', 'visionzero', 'infographic', 'listenlive', 'grimrail', 'fforecast', 'lvg', 'bak', 'ight', 'cryibg', '30p', 'banksy', 'superintende', 'triciaoneill', 'moblin', 'amirite', '100mb', 'bukidnon', 'stratford', 'banerjee', 'diageo', 'bantrophyhunting', 'rs', 'literarycakes', '707d', 'wld', 'tix', 'fylde', 'diss', 'harbor', 'cs6', 'warcraft', '20responders', 'hiatt', 'spacex', 'megalpolis', 'ca', 'lightbulb', 'revitup', 'freebitcoin', 'streamyx', 'dogg', 'diablo', 'oakridge', 'nativehuman', 'urogyn', 'pci', 'janeenorman', 'dynamix', 'splatling', 'gameinsight', 'ohgod', 'traintragedy', 'shantaehalfgeniehero', 'utc2015', 'ppsellsbabyparts', 'northgate', 'holdin', 'greenspace', 'blowltan', 'sensei', 'jumpin', 'salvi', 'matchwood', 'booradleyvancullen', 'ckec', 'sami', 'barak', '30a', 'slingnews', '73km', 'visto', 'enca', 'frontlines', 'cest', 've', 'mcdonalds', 'lightningstrike', 'airhorns', 'roadid', 'lastingness', 'thestrain', 'phalaborwa', 'nlccollide', 'beatz', 'winik', 'mpers', 'zmne', 'cdnpoli', 'math', 'modiministry', 'hai', 'alot', 'stlnd', 'wrongperson', 'manarmed', 'gallipoli', 'morethan', 'bwin', 'shouout', '00pm', 'srsly', 'jax', 'artisteoftheweekfact', 'lwb', 'brinco', 'ploppy', 'nissannews', 'nj', 'shizune', 'marrie', 'dm', 'arreat', '4head', 'timestack', 'ferno', 'amsal', 'mido', 'nowwwwww', 'zicac', 'sbee', 'slosher', 'nhl', 'mina', 'kalle', 'treescape', 'breaking144', 'kissimmee', 'manchesterlite', 'i580', 'inj', 'bruh', '2nd', 'havnt', 'thisispublichealth', 'teslas', 'mandem', 'vuzuhustle', 'thebookclub', 'truestory', 'waltdisney', 'wisdomwed', 'nc', 'lalaloopsy', 'njturnpike', 'buchana', 'ibeto', 'dessicated', 'yhngsjlg', 'chonce', 'realhiphop', 'sandunes', 'actionmoviestaughtus', 'tht', 'haaretz', 'cern', 'pop2015', 'musik', 'az', 'linerless', 'kasab', 'freeamirnow', 'lamarcus', 'ghe', 'fwo', 'ffa', 'arceen', 'wooooooo', 'coppednews', 'lomasvisto', 'sheeran', 'rea', 'saveti', 'shite', 'rfp', '89x', 'tedcruz2016', 'un', 'chargedup', 'kindersley', 'moveit', 'grupdates', 'maddie', 'christianvalues', '300w', '2am', '75k', 'v4', 'comingsoon', 'cia', 'deadgirltalking', 'afte', 'mbataweel', 'pleb', 'whyor', 'pugwash', 'buffett', 'akwa', 'sirmixalot', 'chawalchorbjp', 'news786', 'fastings', 'ancop', 'http', 'ahh', 'et', 'bernardino', 'oamsgajagahahah', 'realtime', '10m', 'hrsto', 'brenas', 'wantmyabsback', 'whocares', 'moshav', 'bangtan', 'dont', 'onlin', 'lawton', 'cilla', 'loveyouuuu', 'flavored', 'archipelagowolves', 'ga', '20murder', 'plsss', 'gg', 'bordento', '4regionnear', 'cty', 'nbanews', 'wedn', 'maailiss', 'streetjamzdotnet', 'rtrrt', 'wqow', 'pikin', 'poze', 'helpme', 'foamcc', 'bg', 'hao', 'argsuppose', 'socialnews', 'mhtw4fnet', 'dragonvale', 'tolewant', 'lowndes', 'beconfident', 'ctd', 'nv', 'sht', 'counselors', 'toooooo', 'imagini', 'lessonforlife', '19yrs', 'ovofest', 'redbull', 'ls', 'odai', 'osbourne', 'talibans', 'skynet', 'goku', 'momneedscoffee', 'lizzie363', 'kcrw', 'pp', 'legionna', 'hcsm', 'fukushima', 'wowo', 'drako', 'donzilla', 'dawgs', 'wbu', 'holomua', 'coya', 'evac', 'traveling', 'dhs', 'skaggs', 'weyburn', 'errrr', 'njenga', 'hinatobot', 'ineedexposure', 'togthe', 'opseaworld', 'en', 'urg', 'ezidigenocide', 'lim', 'hardstyle', 'wk', 's5', 'gladbach', 'qnh', 'lulgzimbestpicts', 'sirensicebreaker', 'bannukes', 'rockin', 'nd', 'mm', 'shud', 'hunterston', 'stoponesounds', 'aggarwal', 'ks', 'riooooos', 'fitba', 'pisco', 'sama', 'ww1', 'galvnews', 'wordk', 'romanticsuspense', 'italianalps', '2500fps', 'emptive', 'yeda', 'amalie', 'humanityi', 'worldnews', 'victimiser', 'bioterrorism', 'wedneday', 'enemity', 'highsmith', 'wth', 'fantabulous', 'vosloorus', 'honors', 'ibom', 'emsne', 'ptsdchat', 'bbshelli', 'klitschko', 'azwx', 'ov', 'artistsunited', 'tnn', 'thebargain', 'stardate', 'mr', 'firey', 'amazin', 'ad', 'biblestudy', 'wbc2015', 'weloveyoulouis', 'ftsn', '0npzp', '4x4', 'chachi', 'rp', 'invokces', 'kaldi', 'pple', 'bilsen', 'amo', 'lgm', 'minecraft', 'juanmthompson', 'croydonization', 'foodscare', 'lisowski', 'helens', 'freespeech', 'mgn', 'oem', 'vickers', 'psa', 'crazyideascollege', 'beastin', 'throwingknifes', 'kou', 'hmu', 'rss', 'inroices', 'setting4success', 'pll', 'vigilent', 'neighbors', 'mullin', 'hamayun', 'scifi', 'shootas', 'eurocrisis', 'speccy', '20fall', 'a5', '4k', 'upa', 'llegaste', 'hunhry', 'finsup', 'ashenforest', 'cdt', 'russaky89', 'mcgwire', 'gazans', 'govts', 'auz', 'suru', 'nsa', 'legio', 'b2bagency', '18jst', 'declarat', 'abia', 'gc', 'omw', 'foxdebatequestions', 'gif', 'tweet4taiji', 'nato', 'alllivesmatter', 'favorited', 'byityf', 'detersion', 'shar', 'trollingtilmeekdiss', 'ullman', 'aaarrrgghhh', 'directioners', 'tepco', 'bb', 'usfs', 'daubt', '10am', 'lindenow', 'starks', 'lawnegligence', 'alil', '53inch', 'juanny', 'rebahe', 'mycareer', 'arti', 'naemolgo', 'suresh', 'agnus', 'roblox', 'bck', 'ramat', 'astroturfers', 'seasonfrom', '2hours', 'xboxone', 'nyse', 'generalnews', 'taungbazar', 'i77', 'kung', 'trafficalert', 'notley', 'bakeofffriends', 'contruction', 't1000s', 'bluedio', 'khrone', 'unr', 'canadasuicide', 'ggindependencmessage', 'isil', 'reportly', 'nypd', 'socialtimes', 'cochrane', 'womens', 'dubloadz', 'tf', 'ks111', 'bu', 'zombiefunrun2014', 'kamon', 'btwn', 'cristiano', 'moseby', 'zenit', 'nojoke', 'harda', 'reblogged', 'atv', 'nuys', 'kash', 'onr', 'youuu', 'tkyonly1fmk', 'molave', 'ashville', 'brzjc', '2leezy', 'ginga', 'tcot', 'durvod', 'yuvi', 'x1411', 'xo', 'kasich', 'hisao', 'nueva', 's2g', 'foodborne', 'tommorow', 'notrocketscience', 'haiyan', 'wolforth', 'magner', 'protectdenaliwolves', 'microsofts', 'smugglersnabbed', 'pa', 'floorburnt', 'ep', '21st', 'alrighty', 'nbcnightlynews', 'mt', 'fl', 'href', 'barrington', 'xekstrin', 'dambisa', 'nic', 'stuffin', 'topstories', 'dnb', 'aguero', '8whts', 'roimentor', 'waimea', 'agdq', 'gtxrwm', 'liveleak', 'crazyweather', 'jonathanferrell', 'dijk', 'cbcto', 'amicospizzato', 'pb', 'mcgsecure', 'sllikely', 'bmw', 'fantasticfour', 'jitsu', 'noonan', 'vitaly', 'landi', 'heli', 'mapleridge', 'everytime', 'pochette', 'lightrail', 'wednes', '30pm', 'vanpoli', 'crapgamer', 'sef', 'sportsroadhouse', 'stormcoming', 'kombat', 'gio', 'starmade', 'rivieres', 'childress', 'onlinecommunities', 'cbs29', 'calgarians', 'pendleton', 'osteen', 'coquitlam', 'chp', 'dvd', 'fastpitch', 'victorinox', 'lume', 'disneys', 'amico', 'uber', 'haaaaaa', 'apch', 'westeros', 'ponting', 'ashayo', 'yolandaph', 'skc', 'kody', 'frusciante', 'forrestmankins', 'ml', 'wakho', 'gilgit', 'boutta', 'warriorcord', 'liv', 'pak', 'bbm', '15km', 'hlg', 'mmda', 'pvc', 'iwasdisappointedby', 'nikoniko12022', 'benzema', 'liveonk2', 'biggar', 'ep016', 'ruhl', 'cena', 'jhmnye', 'forestservice', 'tecno', 'tmp', 'cis', 'setlist', 'bhusa', '9am', 'newsintweets', 'ttes', '10news', 'hahaha', 'media420', '325ci', 'musicadvisory', 'quoteoftheday', 'mainstage', 'senzu', 'i10', 'zarry', 'nagaski', 'aseer', 'hav', 'sittwe', 'tfw', 'palin', 'forreal', 'otratmetlife', 'fundwhen', 'rd', 'safsufa', 'pvris', 'youre', 'na', 'psm', 'dvbbs', 'fa', 'gps', 'ccmusic', 'im', 'treatmen', 'fuso', 'air1bullet', 'massgrave', 'matias', 'whatsapp', 'electr', 'irannucleardeal', 'psd', 'macia', 'drumpf', 'anakin', 'ahamedis', 'osp', 'gards', 'itrawcwb', 'buildingswe', 'canpoli', 'zimmer', 'cedarglade2015', 'worldwatchesferguson', 'wogc', 'igers', 'merc', 'washingtonpost', '12pm', 'paci', 'baaaack', 'isnt', 'a40', '20spill', 'abbruchsimulator', 'frickin', 'transwomen', 'nside', 'damiengayle', 'sparkz', 'ohlordy', 'nyc', 'morebut', 'duckvillelol', 'ng2x5', 'cte', 'daesh', 'newbeginningsanimalrescue', 'micom', 'atl', 'scourgue', 'kijima', 'goodell', 'ip', 'letsfootball', 'thranduil', 'marinelines', '9km', 'beyonce', 'gt', 'amiddle', 'weiqin', 'gamefeed', 'goulding', '4kus', 'ashdod', 'ameribag', '50ft', 'aidan', 'xxhjesc', 'ipa', 'dredougie', '70th', 'forsure', 'm1', 'tafs', 'nashvilletraffic', 'bs', 'negara', 'bolasie', 'ldnr', 'ppc', 'sweetpea', 'damatu', 'pikachu', 'snd', 'espargaro', 'nb', 'saddledome', 'instagrams', 'hendrixonfire', 'tullamarine', 'death2usa', 'caued', 'appx', 'b1g', 'menahem', 'islamaphobe', 'elanorofrohan', '30s', 'pwhvgwax', 'nri', 'intead', 'goode', '73rd', 'm3', 'deflategate', 'se', 'rabaa', 'ikpeazu', 'apts', 'butgod', 'haildamage', 'alaskaseafood', 'fadc', 'arkan', 'forex', 'gaelite', 'noi', 'voortrekker', 'otm', 'bn', 'csismica', 'canonbringit', 'bigbrother', 'stl', 'feelingmanly', 'thruuu', 'corii', 'hempoil', 'contries', 'htt', 'dum', 'remymarcel', 'bathandnortheastsomerset', 'antiochus', '72w', 'stlouis', 'cech', 'oper', 'alaskas', 'rgj', 'wx', 'trfc', 'devia', 'bf', 'shakeology', 'osi2016', 'betz', 'huebel', 'flatts', 'wtf', 'murfreesboro', 'mufc', 'blackcats', 'f496d', 'x1386', 'favoritism', 'becarefulharry', 'metroid', 'newidea', 'gd', 'playingnow', 'omg', 'hinata', 'freiza', 'wolter', 'hillaryclinton', '64oz', 'su', 'ux', 'mta', 'belter', 'rey', 'aniston', 'vaping101', 'molloy', 'kisii', 'fdx', '5s', 'sms', 'kwwwkwwwk', 'twisterlovesshania', 'lil', 'panik', 'mgtab', 'gmail', 'deadpool', 'tampabay', 'yagitudeh', 'tita', 'umm', 'gettin', 'mlb', 'icymi', 'deepthoughts', '5l', 'caf', 'wsj', 'sejorg', 'dk', 'muzzies', '20murderer', 'blaaaaaaa', 'slsp', 'bookslast', 'kijan', 'wo', 'bairstow', 'diyala', 'hermancranston', 'referencereference', 'buren', 'fuckin', 'southdowns', 'metrofmtalk', 'msf', 'di', 'damaturu', 'badass', 'trib', 'mh', 'painthey', 'hollyw', 'whag', 'neces', 'soo', 'fyi', 'hsu', 'reggaeboyz', 'nosurrender', 'easton', '20yrs', 'australias', '20s', 'whatcanthedo', 'cst', 'cndpoli', 'wallybaiter', 'ars', 'offensivecontent', 'dj', 'be4', 'oif', 'qualit', 'onthisday', 'mybabies', 'votejkt48id', 'dilutional', '3m', 'cowx', 'pipeliners', 'yay', 'komo', 'leftwich', 'submitt', 'pugprobs', 'jawans', 'nuclearweapons', 'briliantly', 'lockdown', 'wd', 'metepec', 'sf', 'elephantintheroom', 'fd', 'invzices', 'nu', 'wmv', 'magne', 'sm', 'nowplay', 'wr', 'kurtkamka', 'theresmorewherethatcamefrom', 'achimota', 'breakingnews', 'zss', 'hotboy', 'tindering', 'robertcalifornia', 'gms', 'kamayani', 'fangirling', 'gnwt', 'portgassdk', 'gfz', 'shunichiro', 'shaabi', 'teamhennessy', 'rdg', 'twx', 'calwildfires', 'joes', 'm4', 'ww2', 'hana', 'sirmione', 'bestia', 'watersafety', 'afterhaiyan', 'sciencefiction', 'liqd', 'labor', 'cl', 'shelli', 'aeg', 'citys', 'usnwsgov', 'soni', 'hhbu', 'b2b', 'narry', 'chilis', 'cosme', '360wisenews', 'grindhouse', 'morevoices', '20k', 'nws', '365disasters', 'dirumah', 'vaca', 'losangelestimes', 'santanico', 'nh1news', 'dorman', 'nm', 'liveonkbak', 'forsee', 'bkb066gp', 'gymtime', 'raheel', 'catlow', 'purdies', 'stockwell', 'appy', 'amazingness', 'ppor', 'radneck', '20up', 'thesteveharveyshow', 'lightman', 'greetingcards', 'darsena', 'idp', 'helo', 'reimagining', 'nankana'}\n"
     ]
    }
   ],
   "source": [
    "possible_abbreviations_noIntegers = []\n",
    "for word in possible_abbreviations:\n",
    "    if len(word) > 1:\n",
    "        try:\n",
    "            int(word)\n",
    "        except:\n",
    "            possible_abbreviations_noIntegers.append(word)\n",
    "print(set(possible_abbreviations_noIntegers))"
   ]
  },
  {
   "cell_type": "code",
   "execution_count": 9,
   "id": "2d7c23ed",
   "metadata": {
    "execution": {
     "iopub.execute_input": "2023-02-06T03:20:02.469706Z",
     "iopub.status.busy": "2023-02-06T03:20:02.469092Z",
     "iopub.status.idle": "2023-02-06T03:20:02.476694Z",
     "shell.execute_reply": "2023-02-06T03:20:02.475682Z"
    },
    "papermill": {
     "duration": 0.019848,
     "end_time": "2023-02-06T03:20:02.479441",
     "exception": false,
     "start_time": "2023-02-06T03:20:02.459593",
     "status": "completed"
    },
    "tags": []
   },
   "outputs": [
    {
     "data": {
      "text/plain": [
       "4408"
      ]
     },
     "execution_count": 9,
     "metadata": {},
     "output_type": "execute_result"
    }
   ],
   "source": [
    "len(set(possible_abbreviations_noIntegers))"
   ]
  },
  {
   "cell_type": "code",
   "execution_count": 10,
   "id": "2b702535",
   "metadata": {
    "execution": {
     "iopub.execute_input": "2023-02-06T03:20:02.495201Z",
     "iopub.status.busy": "2023-02-06T03:20:02.494749Z",
     "iopub.status.idle": "2023-02-06T03:20:02.508576Z",
     "shell.execute_reply": "2023-02-06T03:20:02.507820Z"
    },
    "papermill": {
     "duration": 0.024271,
     "end_time": "2023-02-06T03:20:02.510958",
     "exception": false,
     "start_time": "2023-02-06T03:20:02.486687",
     "status": "completed"
    },
    "tags": []
   },
   "outputs": [
    {
     "data": {
      "text/plain": [
       "rt              111\n",
       "20fires          88\n",
       "airplane         73\n",
       "mh370            72\n",
       "lol              71\n",
       "bioterror        70\n",
       "20storm          69\n",
       "20disaster       68\n",
       "20up             66\n",
       "reddit           63\n",
       "bioterrorism     58\n",
       "20fire           52\n",
       "20emergency      42\n",
       "20bags           41\n",
       "ok               38\n",
       "20spill          38\n",
       "20buildings      37\n",
       "20fall           36\n",
       "20reactor        36\n",
       "oh               35\n",
       "20collapse       35\n",
       "20failure        35\n",
       "20bomb           35\n",
       "20accident       35\n",
       "20burning        35\n",
       "20plan           35\n",
       "20wave           34\n",
       "20bang           34\n",
       "20on             33\n",
       "20services       33\n",
       "dtype: int64"
      ]
     },
     "execution_count": 10,
     "metadata": {},
     "output_type": "execute_result"
    }
   ],
   "source": [
    "abb_df = pd.Series(possible_abbreviations_noIntegers)\n",
    "abb_df.value_counts()[:30]"
   ]
  },
  {
   "cell_type": "markdown",
   "id": "947777eb",
   "metadata": {
    "papermill": {
     "duration": 0.006611,
     "end_time": "2023-02-06T03:20:02.524863",
     "exception": false,
     "start_time": "2023-02-06T03:20:02.518252",
     "status": "completed"
    },
    "tags": []
   },
   "source": [
    "It can be observed that mh370 comes 72 times in all of the tweets and can be replaced by the expanded version \"missing malaysia airlines flight\". Many of the other words are compound words and can be broken into dictionary words. Symspellpy offers a way to segment words. \"rt\" is most probably retweet. There are many dictionary words combined with 20, which will get removed in next steps after segmentation."
   ]
  },
  {
   "cell_type": "code",
   "execution_count": 11,
   "id": "e8f71876",
   "metadata": {
    "execution": {
     "iopub.execute_input": "2023-02-06T03:20:02.542257Z",
     "iopub.status.busy": "2023-02-06T03:20:02.541859Z",
     "iopub.status.idle": "2023-02-06T03:20:02.661686Z",
     "shell.execute_reply": "2023-02-06T03:20:02.660481Z"
    },
    "papermill": {
     "duration": 0.131606,
     "end_time": "2023-02-06T03:20:02.664532",
     "exception": false,
     "start_time": "2023-02-06T03:20:02.532926",
     "status": "completed"
    },
    "tags": []
   },
   "outputs": [
    {
     "name": "stdout",
     "output_type": "stream",
     "text": [
      "{'asf', 'ny1', 'ryans', 'tpanic', 'flat liners', 'pine view', 'no emotion', 'bell erin', 'kororinpa', 'wsls', 'aul', 'idgaf', 'bestival', 'entretenimento', 'alwx', 'boyhaus', '40mln', 'exofficio', 'tornados', 'longaberger', '2k15', 'avigdorliberman', 'skardu', '4playthursdays', 'chandanee', 'thor gan', 'fx', 'saddle brooke', 'fingerrockfire', 'bangladesh affected', 'film4', 'backtoback', 'pnpizody', 'talk radio', 'kfc', 'dupree', 'sl', 'peritoengrafoscopia', 'planned parenthood', 'yuk i', 'dumb ass', 'nsf', 'workd', 'fins up', 'kamloops', 'bcs', 'no i', 'suggs', 'kro', 'soloquiero', 'ral', 'protoshoggoth', 'gym time', 'cydia', 'smh', 'preppers', 'smp', 'court of', 'jtw', 'ands', 'morty', 'rijn', 'speed tech', 'pft', 'enviromental', 'jewelry', 'end conflict', 'home buyer', 'meelllttting', 'social news', 'jacinta', 'aks', 'or pol', 'hastle', 'lcc', '2b', 'africansinsf', 'us70', 'pauli sta', 'notgoingoutinthat', 'smugglers nabbed', 'tgirl', 'nffc', 'ak', 'ssu', 'bronville', 'nema', 'adhd', 'tweet storm', 'mulan', 'connecto', 'l6', 'bcz', 'oli', 'high smith', 'ok', 'kwaaaaa', 'wouldnt', 'nwt', 'janata', 'thatswhatfriendsarefor', 'mat tingly', 'warra', 'q2', 'clelli', 'vape', 'foto', 'nz', 'driver less', 'i15', 'qiang', 'bal lew', 'locksmithing', 'video clip', 'internet radio', 'carmi', 'bamenda', 'see weed', '12news', 'de touring', 'an akin', 'east on', 'vampiro', 'amiibos', 'qvc', 'keegan', 'lmaov', 'ren', 'malik', 'dem i', 'restoring paths', 'wsoc', 'soul tech', 'tbt', 'mh370', 'lyf', 'bosphore', 'goooooooaaaaaal', 'africanbaze', 'elven', 'inciweb', 'lynch burg', 'lvl', 'identity theft', 'lich', 'yo', 'nia', 'hang in', 'anis ton', 'ogt', 'iamdowntown', 'xela', 'membuahkan', 'bcpoli', 'post existence', 'najib', 'bancodeseries', 'floored4', 'mfs', 'udhampuragain', 'sanelesstheory', 'hen shaw', 'bbloggers', 'thesensualeye', 'depreciations', 'umntu', 'alllll', 'byr', 'lk', 'qave', 'ks94', 'talk in', 'minaj', 'wht', 'linkury', 'psychrewatch', 'am sal', 'matt son', 'saltriverwildhorses', 'tfb', 'holtz', 'jiwonle', 'vinnie', 'setsuko', 'savs', 'teen fiction', 'mtsalert', 'cen a', 'ww', 'neg ara', 'tps', 'never forget', 'thrarchives', 'hue bel', 'clev', 'grayed', 'oh', 'lmfao', 'srs', 'ceo', 'mmmm', 'defs', 'enablement', 'palm oil', 'bbsnews', 'motor dom', 'par leys', 'master0fsloths', 'zayn', 'glad bach', 'dcubecrafts', 'motor craft', 'lis tia', 'cigs', 'tech news', 'since1970the', 'ib', 'bigsby', 'thnk', 'loa', 'mumbai times', 'rad neck', 'dfr', 'akram', 'cnv', 'bhramabull', 'site investigating', 'mamata', 'instaquote', 'greatbritishbakeoff', 'kalmikya', 'kc5kh', 'disembarkment', 'hfo', '15th', 'kpdied', '1960s', 'summer vibes', 'buildings we', 'oompah', 'maddddd', 'mre', 'esp orts', 'gmcr', 'dual com', 'blood bound', 'statesville', 'espn', 'nightmarishly', 'pt1', 'storm trooper', 'kneel bot', 'driverlesscars', 'lurk in', 'muzzamil', 'teemo', '20failure', 'edcxo', 'sumn', 'jerk face', 'reprocussions', 'mus champ', 'arfur', 'afp', 'alhaji', 'beforeitsnews', 'moms', '250k', '10pm', 'wnw', 'nester', 'cybersecurity', 'landsli', 'mazing', 'afr in', 'ps3', 'fight in', 'yyj', 'fuck in', '712c', 'oworoshoki', 'trump2016', 'activision', 'galifianakis', 'cat low', 'ahhhh', 'rchs', 'hasil', 'pixar', 'hunwx', 'os', 'bio surveillance', 'lgbt', 'white house', 'funtenna', 'trs', '10km', 'totoooooo', 'sif', 'disea', 'boi', 'north land', 'x1434', 'kach', 'a kwa', 'a pts', 'naayf', 'chapoutier', 'lem bra', 'nurgle', '23km', 'ef', 'as swipe', 'cnn', 'liguistic', 'artectura', 'blks', 'wknd', 'movie theatre', 'animatronics', 'prettyboyshyflizzy', 'win10', 'cityofmemphis', 'colleenmnelson', 'eyesss', 'route complex', 'bey hive', 'thor in', 'candy lit', 'rts', 'agw', 'akxbskdn', 'la marcus', 'q99', 'kidsthesedays', 'richhomeydon', 'hi tech', 'my babies', 'tem', 'madinah', 'mv', 'grahamwp', '5c', 'r3do', 'g7', 'best friends', 'amageddon', 'sunny meade', 'mukilteo', 'hr', 'ch', 'hashimoto', 'redd it', 'kelby', 'twimbos', '12mm', 'stephenscifi', 'opp a', 'warner robins', 'rwa', '401ks', 'watch in', 'set list', '260th', 'yiraneuni', 'pra', 'hash tag', 'gbbo2015', 'koto lily', 'fighter dena', 'thisdayinhistory', 'veneto', 'www', 'ciggs', 'varagesale', 'roh3', 'vabengal', 'ushed', 'wild horses', 'wish list', 'contig', '22days', 'cuz', 'nyozi', 'inhofe', 'ilford', 'them he', 'sarabia', 'lt', 'syd', '5sos', 'nkea', 'eonlinechat', 'tosu', 'air plane', 'dor ling', 'elecman', 'lastma', 'kppolice', 'anthonys', 'tc', '20zone', 'vitesse', 'cal wildfires', 'tarmineta3', 'zar', 'n36', 'x1392', 'nnw', 'didn', 'sniiiiiiff', 'arwx', 'may weather', 'pt4', 'ultimalucha', 'tbr', 'buchan a', 'uhmmmm', 'cipinang', 'summerinsweden', 'lorr', 'pir', 'susiya', 'embra', 'fan base', 'hatzolah', 'ey', 'fb', 'cle', 'penneys', 'pradesh', 'games com', 'saudi mosque', 'molecularly', 'wmur9', 'ny1burst', 'viva argentina', 'in chaos', 'and china', 'niall', 'guage', 'gba', 'butter finger', 'queens wharf', 'annonymous', 'yor', '20disaster', 'thedoolinggroup', 'fnaf', 'nyg', 'nui', 'ya', 'thug gin', 'naga ski', 'hopeinchrist', 'par ter', 'iot', 'democracys', 'dig gin', 's61', '20emergency', 'brb', 'lrt', 'on board', 'women girls', 'sheer an', 'raisin fingers', 'offenses', 'uve', 'warrior cord', 'va', 'scuf', 'timey', 'uhhhhh', '20truck', 'u2', 'favors', 'match wood', 'akilah', 'ftw', 'junko', 'pbcanpcx', 'sal man', 'tiffanyfrizzell', 'splifs', 'timesofindia', 'lick in', 'hometown glory', 'femnism', 'nasa', 'team survivors', 'girardeau', 'cmon', 'as bury', '20plan', 'wolf orth', 'oneheartonemindonecss', 'soooo', 'ripriprip', 'heavydirtysoul', 'alisonannyoung', 'tg', 'uv', 'triciaoneillphoto', 'mad ara', 'moving2k15', '85v', 'chopper gate', 'double ghats', 'id fire', 'ndtv', 'liye', '2pack', 'qew', 'queen my', 'cape ann', 'sys', '10th', 'kettle bell', 'bow knot', 'loko', 'photo set', 'ftsnnewsdesk', 'oooooohhhh', 'cantmakeitup', 'wickett', 'britishbakeoff', 're cal', 'individl', 'exploding kittens', 'edwing', 'water town', 'act avis', 'namjoon', 'gishwhes', 'kinder morgan', 'psfda', 'of course', 'ashen forest', 'gmmbc', 'nite', 'fight terrorism', 'new release', 'native human', 'necro', '4sake', 'rpn', 'dire tube', 'otp', 'tribez', 'mod ibo', 'canon tattoo', 'macabre lolita', 'storm chase', 'salyers', 'raung', 'kuala', 'holmgren', 'o784', 'cleav', 'hell a', 'pcps', 'new idea', 'hicksville', 'peeters', 'bad ass', 'bhaijaan', 'rindou', 'srk', 'onnnn', 'i of', '16yr', 'sj', 'oliviamiles01', 'utv', 'harm an', 'yobe', 'washington post', 'chaning', 'tomislav', 'dorett', 'russellville', 'postering', 'chim', 'rigga', 'modoc', 'lonely ness', 'ahrar', 'de via', 'dh30000', 'cute kitten', 'buted', 'tejc', 'ar', 'cri', 'wpri', 'ghost2', '263chat', 'alabama quake', 'gulf port', 'goooooooo', 'jonesboro', 'a mes', 'wtc', 'sh', 'cubs talk', 'naypyidaw', 'of clans', 'sports roadhouse', 'charged up', '3rd', 'atomic bomb', '3x', 'red lands', 'naaa', '43rd', 'udom', 'itz', 'wahhabism', '400dr', 'uke', 'jhaustin', 'zehrs', '40w', 'offers2go', 'saddle dome', 'fergusons', 'iwate', 'pacquiao', 'patrickjbutler', 'jbumzqpk', 'muaytai', 'guo', 'sherfield72', 'disc los', 'clegg', 'mk2', 'son a', 'widout', 'hawaiianpaddlesports', 'humanity i', 'ayyy', 'sedar', 'scrap trident', 'magnitudeml', 'my elf', 'news3lv', 'car hot', '4wd', 'wniagospel', 'hot boy', 'langata', 'lmfaoooo', 'think pink', 'miprv', 'fpoj', 'phuket', 'coy a', 'ke', 'saadthe', 'indie film', 'po', 'mygc', 'siskiyou', '3g', 'colnharun', '20mins', 'child fund', 'illusoria', 'san francisco', 'stefano', 'troye', 'h20', 'dawabsha', 'dt', 'osha', 'yycfringe', 'comeeeee', 'selfie', 'beisbol', 'humaza', 'geo tech', 'unsensibly', 'dfljev', 'sooo', 'pls', 'sold i', 'bff', '1000s', 'gop', 'yehuda', 'beat down', 'do co', 'bmx', 'get tin', 'takis', 'mafireems', 'askforalaska', '1pack', 'borgeous', 'a3', 'surya ray', 'float in', 'fleek', 'aaaa', 'jammu', 'tarynel', 'g3', 'lavenderpoetrycafe', 'prez', 'isao', 'kno', 'beyondgps', 'rl', 'anders', 'lloyds', 'the needs', 'kcarosawmur', 'baan', 'grrrr', 'elgato', 'ngata', 'ashes2ashes', 'ts', 'armory', 'apaz', 'weallheartonedirection', '02pm', 'wom', 'i ger', 'lu', 'ryt', 'ignorance she', 'uae', 'hirochii0', 'shoook', 'gauteng', 'osama', 'cor4', 'thursd', 'giorgio', 'writing tips', '4yygb', 'kill hard', 'law ton', 'koz', 'oficial', 'libs', 'bd', 'fricken', 'hicks on', 'nyt', 'ieee', 'met life', 'hhs', '4got', 'as10004', 'nomiya', 'livin', 'edm', 'cabrillo', 'reveillertm', 'trap music', 'hand i', 'hahahaha', 'faq', '263789f4', 'ayyo', 'patriots nation', 'iembot', 'prebreak', 'abcnews', 'eudrylantiqua', 'kai', 'nbc10', 'unu', 'profittothepeople', 'm151a1', 'janenelson097', 'rv', '1x1', 'xoxo', 'hudhud', 'bigrigradio', 'mofo', 'porcini', 'loosers', 'unkn', 'totteham', 'sr', '295ss', 'abc', 'vip', 'ah', 'rousey', 'anxiety problems', 'fennovoima', 'arg suppose', 'kier nan', 'yr', 'cbs3', 'slanglucci', '15p', 'hel i', 'too true', 'chucker', 'ooooohshit', 'flat back', 'lyrium', 'afycso', 'forge ting', 'sound cloud', 'raff i', 'pre', 'bkn032', 'hcg', 'omgggg', 'some thin', 'afrikaan', 'fart anxiety', 'i funny', '203rd', 'rsa', 'larious', 'faroe islands', 'raheelsharif', 'destination impact', 'war fighting', 'hw18', 'lanjut', 'global warming', 'men ahem', 'alp hen', 'hwo', 'flechadas', 'ahhh', 'dumle', 'torrecilla', 'newsarama', 'mc', '22pm', 'labour leadership', 'fast pitch', 'rolo', 'instagramers', 'bjp', 'atc', 'big brother', 'indiatv', 'golf ball', 'tole want', 'txt', 'chann', '15pm', 'hwrf', 'fund when', 'mpc', 'glononium', 'beast in', 'akito', 'set anta', 'home2', 'feeling manly', 'arachys', 'rq', 'tor a', 'suh', 'posses ion', 'pete bests', 'emts', 'wn', 'fn', 'moir', 'uvopwz', 'eb', 'electrocuted boiling', 'monte go', 'engle', 'hold in', 'kashmir conflict', '63rd', 'pediatric', 'lcb', 'bioterrorismi', 'emi', 'sindh', 'us101', 'orchard alley', 'rub bin', 'justaguess', 'air asia', 'ufo4ublogeurope', 'paeds', 'lumpur', 'fkn', 'dilution al', 'leonardville', 'rebecca', 'tom clancy', 'noranda', 'ojoubot', 'hoc', 'imeshika', 'cm', 'videoveranomtv', 'mmmmmm', '9newsmornings', 'masse', 'whitt', 'cadrought', 'nf', 'naved', 'market forces', 'ri', 'carlilescanoelivery', '6c', '30pcs', 'cdc', 'buzz feed', 'vs', 'murlo', 'cbs', 'shanghais', 'parsholics', '7aal', 'meteoearth', 'manchester lite', 'sa15t', '29pm', 'cmcsa', 'in dot', 'zipped news', 'deter sion', 'motogp', 'obtaing', 'forsythe', 'everwhe', 'nfl', 'thisiswhywecanthavenicethings', 'schwarber', 'dcfd', 'am reading', 'komen', 'euro crisis', 'ahhhhh', 'wpd', 'oef', 'castello', 'totaling', 'harwich', 'akx', 'lyeh', 'wdtv', 'tune in', 'life its', 'he he', 'ms', 'oktaviana', 'warm bodies', 'a a', 'zergele', '40hourfamine', '7amdollela', 'babality', 'ban nukes', 'breaking411', 'catalinas', 'black burns', 'qua lit', 'south line', 'birb', 'erally', 'ocnj', 'bts', 'atamathon', '6m', 'gun fail', 'mixxtail', 'goo de', 'gmt', 'volga grad', 'science fiction', 'tac', 'higuain', 'forage secret', 'i gers', 'sct012', 'alrasyid448iturasya', 'growingupspoiled', '90th', 'didnt', 'newep', 'namekians', 'team scorpion', 'shen', 'html5', 'good reads', 'the strain', 'hotnewscake', 'hot spot', 'usd', 'cld', 'wally baiter', 'millcityio', '8th', '10w', 'true story', 'fdbdp', '300k', 'alves', 'brass work', 'schiphol', 'cawx', 'cumber batch', 'mine craft', 'wrightsboro', 'ableg', 'shevlin', 'ghul', 'top stories', 'eu', 'zhejiang', 'carolina ablaze', 'ps4', 'worstsummerjob', 'sothwest', 'sport watch', 'bulls eye', 'trixie', 'michelebachman', 'digital health', 'han neman', 'gpm', 'friend50', 'dragneel', 'feinstein', 'rep ped', 'roga', 'sweet pea', 'end occupation', 'dilawri', 'keurig', 'youtu', 'fuddy', 'rcmp', 'dlh', 'kerricktrial', 'heheh', 'natsu', 'deut sch', 'v6', 'au', 'beloeil', 'spyro', 'roddypiperautos', 'ire dell', 'ronge', 'katunews', 'online communities', 'i iii', 'banthebomb', 'ushanka', 'latino and', 'live leak', 'arin', 'leh', 'mgm', 'fire news', 'lanford', 'syjexo', 're blogged', 'i dps', 'thomassmonson', 'ps1', 'beinart', 'mba', 'nuu', 'mlm', 'z10', 'ajw', 'gwatt', 'dumuzid', 'carbon dale', 'bitcoing', 'sequalae', 'she mesh', 'jsdf', '945hpa', 'ptbo', 'gag non', '17th', 'walt disney', 'san diego', 'mercados', 'nataly', 'wrked', 'll', 'ind i', 'hara', 'mi', 'sans a', 'be headings', 'lnp', 'sky wars', 'inec', 'fettilootch', '23rd', 'urgent there', 'shell i', 'bama', 'saku', 'darude', 'hahah', 'bang in', 'news watch', 'sorrower', 'bloom berg', '3pack', 'yzf', 'wut', 'bio lab', 'gig ant', 'coun', 'smaug', 'badirandeal', 'bsg', 'master chef', '9pm', 'billers', 'iwontmakeit', 'cgi', 'hlongwane', 'skylanders', 'vuln', 'ass hole', 'gv', 'mins', 'mrw', 'rin', 'womans', 'matako', 'samel', 'caraccidentlawyer', 'amble side', 'nlwx', '999day', 'tumblr', 'yen nora', 'al ska', 'drob', 'titolo', 'cha chi', 'netanyahu', 'siouxlan', 'rowysolouisville', 'lh', 'dyxtmrydu', 'usagi', 'for real', 'liner less', 'csx', 'aaaaaaallll', 'my career', 'growingupincolorado', 'swing man', 'diarrhea', 'eq', 'ltz', 'wsvr1686b', 'kenji', 'bronwynbishop', 'aashiqui', 'er', 'rolandonabeats', 'janta', 'preseason workouts', 'lone pine', 'yamaguchi', 'jack man', 'tha', 'har', 'dmd', 'blacklivesmatter', 'vergil', 'dutton', 'faried', 'trinna', 'favs', 'symantec', 'mod is', 'icaseit', 'conn or', 'pileq', 'monwabisi', 'life hacks', 'meds', 'q1', 'l9udest', 'noon an', 'mix tape', 'nout', '20services', 'bump in', 'qendil', '2slow2report', 'favorita', 'robotcoingame', 'shestooyoung', 'ootd', 'teduka', 'emilee', 'erdogan', 'vision zero', 'spurge on', 'dnbheaven', 'ir', 'co sima', 'avi', 'ch4', 'bundy', 'mmk', 'telangana', 'shidddd', '12hr', 'regr', 'mediterran', 'crack in', 'vi', 'man dem', 'jittering', 'elwoods', 'vra50', 'kbak', 'fbi', 'mma', '1008pla', 'leveled', 'animal rescue', 'mens', 'auto insurance', 'buroker', 'ig', 'nl', 'cpanel', 'luchaunderground', 'jaylenejoybeligan', 'ari', 'esh', 'practicing', 'fotoset', 'windows10', 'a lois', 'xp', 'wrap up', 'nbc15', '2pcs', 'iwk', 'dontexpectnothing', 'go vegan', 'with annihilation', 'nasahurricane', 'ct', 'jak', 'desolationofsmaug', 'dub step', 'west eros', 'crptotech', 'jagm', 'awwww', '20bang', 'dlc', 'uks', 'tdm', 'chicago scanner', 'snuck', 'n15b', 'onesie', 'unfml', 'psqd', '45pm', 'deep thoughts', 'hard side', 'whelen', 'sirens icebreaker', 'grump out', 'soz', 'keepingtheviginaclean', 'brbrs', '20burning', 'sha', 'yycwalks', 'magisters', 'faan', 'jaiden', 'ark an', 'yes sum', 'cdcwhistleblower', 'noooooooo', 'thr', 'pusssssssssy', 'uswarcrimes', 'bar field', 'nj36', 'sn', 'mav', 'orapinforma', 'wpo', 'mirad', 'gawx', 'efak', 'mataas', 'whatevs', 'ever safe', 'hmmm', 'vir', 'acesse', 'ipo', 'personal injury', 'blaise', 're portly', 'kontrolled', 'ihave44episodesofgg', 'ph0tos', 'jon voyage', 'ho', 'shawie17shawie', 'swea', 'wctv', 'mcv', 'sizygwwf', 'de re', 'hah a', 'green way', 'fort worth', 'demonstratio', 'exp0sed', 'wahpeton', 'genisys', '61st', 'inws', 'yoenis', 'sci chat', 'knw', 'ft', 'wwa', 'ra', 'kanglaonline', 'rewatchingthepilot', 'donington', 'bey once', 'cross fit', 'porn hub', '18th', 'sr22', 'biryani', 'produc', 'dravet', 'whistle blower', 'pawsox', 'ofnsixjks', 'fidayeen', 'watermeloann', '20storm', 'ogun', 'lol', 'pt', 'out breed', 'bang tan', 'greeting cards', 'vroman', 'karymsky', 'rowyso', 'cecilthelion', 'frofrofro', 'utc', 'm5', 'iheartradio', 'pbx', 'ncwx', 'xl', 'ugly people', 'dierks', 'bloody monday', 'otleyhour', 'stds', 'piperwearsthepants', 'scaligero', 'c4news', 'i so', 'ee', 'bebacksoon', '4km', 'rosenthal', 'metro id', 'pros ser', 'zrnf', 'luiz', 'dalroy', 'misfortune but', '2d', 'amssummer', 'backty', 'bolt cyclone', 'good look', '4the', 'askh3cz', 'klimkin', 'oktxduo', 'sd', 'nars', 'dead pool', '15t', 'ddnt', 'drjustinmazur', 'pulwama', 'moyo', 'yh', 'usama', 'noob', 'annoucement', 'ass holes', 'nochilllukehammings', 'train tragedy', 'skanndtyagi', 'buddys', 'madhya', 'roskomnadzor', 'offensive content', 'ayekoradio', 'zouma', 'tuffers', 'the bachelorette', 'https', 'watt pad', 'war then', 'idek', 'market force', 'hirsch', 'dren', 'nwo', 'rodkiai', 'kyee', '12jst', '1970s', 'time2015', 'cadenadeseguidores', 'xbox', '05th', 'freeallfour', 'park chat', 'holodomor', 'fwt', 'unfortunemelody', 'cr', '2327564d', 'bing', 'listen live', 'gil git', '2minutemix', 'hop fer', 'white walkers', 'thh', 'uproot in', 'dewdney', 'palinfoen', 'barkevious', 'ijetalerts', 'elxn42', 'noooooooooooo', 'cos me', 'yday', 'tens hi', 'efs300', 'nick i', 'cabramatta', 'fittscott', 'west march', 'tit tie', 'af', 'vallerand', 'trancy', 'khq', 'play through', 'renew911health', 'metro bus', 'bfore', 'prophet muhammad', 'horror movies', 'kowing', 'mull in', 'caaaaaall', 'semasirtalks', 'yyeso', 'nino', 'sg', 'redcliffe', 'new heights', 'favor i', 'lga', 'zzzz', 'intersectio', 'rc', 'mari ans', 'brics', 'ac', 'star made', 'eventspalmbeach', 'emit tin', 'epiphanes', '4th', 'abq', 'liveleakfun', 'mordechai', 'club banger', 'looooooooooool', 'kulli', 'mello', 'every time', 'home improvement', 'noches', 'uk', 'mipasho', 'epl', 'ssw', 'whipe', 'tdp', 'clue i', 'destroyd', 'top25', 'obispo', 'stil', 'kan ger', 'servicin', 'live mint', 'oth', 'tt', 'fb100', 'rick perry', 'crozes', 'wyrmwood', 'mhmmm', 'tounge', 'zabadani', 'eastwood77', 'xb1', 'breivik', 'i it', 'grey joys', 'zimpapersviews', 'lao is', 'kunstler', 'ssshhheeesshh', 'cbplawyers', 'choose god', 'nittys', 'dserialpcilp', 'buscemi', 'dqsvyusy', 'dwarves', 'postapocalypticflimflam', 'dorrie', 'goonda', 'te', 'mdash', 'antiochhickoryhollow', 'freesikhpoliticalprisnors', '3la', 'hemp oil', 'fcked', 'wyou', 'faved', 'mfi', 'county news', 'nades', 'sin jar', 'shania', 'rs40000cr', 'apocalpytic', 'bio labs', 'mchenry', 'littlewomenla', 'trafford', 'bsf', 'scwx', 'wompppp', 'wdym', 'vassalboro', 'muhamadjabal', 'las sics', 'wod', 'inst agram', 'franta', 'has arrived', 'ray nor', 'razak', 'fer gie', 'trans women', 'jaw ans', 'pieceofme', 'nitroglycerin', '2k13', 'coast2coastdjs', '20collapse', 'spos', 'standwithpp', '45m', '231a', 'borden to', 'soner', 'fan fiction', 'oocvg', 'epa', 'chin as', 'grey stone', 'ihhen', 'barcousky', 'idm', 'no joke', '12u', 'thereisonlysex', 'red blood', 'tren', 'saat', 'fox news', 'pit mix', '14th', 'rio2016', 'jacqui', 'floor burnt', 'eovm', 'pbban', 'tlc', 'ssb4', 'stavola', 'volcanoinrussia', 'kia', 'marine lines', '24v', 'bank i', 'lang tree', 'nsfw', 'cfc', 'ofr', 'ha', 'top news', 'luka', 'jr', '13pm', 'sig alert', 'hua', 'jiahahahha', 'gpv', 'but god', 'dor ret', 'ruebs', 'otd', 'nra', 'llf', 'sky news', 'i5', 'usar2015', 'sinistras', 'lets football', 'carterville', 'tb', 'commiting', 'idwx', 'ibrahimmisau', 'agnivesh', 'sfa', 'phandom', 'thexfiles201days', 'ossington', 'okwx', 'enc a', 'tp', 'climate change', 'spen', 'sfor', 'wxia', 'ndetention', 'utp', 'or i', 'km', 'lilourry', 'theatershooting', 'thi', 'dominican a', 'fousey', 'usmnt', 'womem', 'chowchilla', 'at least', 'wc', '4pm', 'lotz', 'breakth', 'mwjcdk', '3novices', 'tawfmcaw', 'angelriveralib', 'daviesmutia', 'ibaraki', 'co meth', 'world news', 'el', 'gns', 'silver wood', 'berlatsky', 'bucs', 'antipozi', 'mk', 'lmao', 'dorette', 'penn live', 'relaxinpr', 'mtvhottest', 'sk398', 'wbre', 'ziphimup', 'reator', 'uninvestigated', '2fast2furious', 'gta', 'msgdoing111welfareworks', 'suvs', 'msica', 'scoop it', 'fowlers', 'yugvani', 'co bes', '1m', 'nar', 'in between', 'argh', 'mylifestory', 'lolo', 'buthidaung', 'kikes', 'essenceofme', 'bromley the', 'alwsl', 'sp', '3am', 'jihad i', 'thanku', '100s', 'hap ping', 'marvins', 'a2', 'jadehelm15', 'hashd', 'deadgrassandflowers', 'cus', 'undergroundrailraod', 'free view', 'tna', 'ocalan', 'ferrochrome', 'swan ger', 'drago', 'ktfounder', 'nycfc', 'zarharzar', 'id is', 'yycstorm', 'weve', 'changefortheworse', 'techesback', 'light bulb', 'jez', 'now play', 'marek', 'yycweather', 'evil empire', 'tesco', 'runnin', 'ziuw', 'deal breaker', 'becyme', 'niiiice', '3x5', 'liveonstreamate', 'lasting ness', 'free kashmir', 'ps', 'reni son', 'wipp', 'katt', 'q13', '5km', 'thugging', 'throwing knifes', 'gisuserpr', 'my drought', '5pm', 'wackoes', 'sel', 'today have', 'dmpl', 'slide share', '6l', 'v8', 'wasnt', 'canada suicide', 'disaster recovery', 'aid an', 'cc', 'del any', 'etisalat', 'reafs', 'ykelquiban', 'cerography', 'noooo', 'kelbytomlinson', 'st earns', 'br', 'greinke', 'tak', 'abha', 'gostei', 'in bounds', 'dance floor', 'hap a', 'wha', 'yumiko', 'gokitgo', '33pm', 'joey sterling', 'cucks', 'wattys2015', 'scotia bank', 'colo red', 'snapchatselfie', 'dust storm', 'tookitlikeaman', 'rsx', 'badu', 'precisionistic', 'abbandoned', '19th', 'articals', 'see meth', 'too soon', 'goulburn', 'first nations', 'new ave', 'sb57', 'mp3', 'conk lin', '60mph', '80s', 'cnmi', 'mfrwauthor', 'my religion', 'psalm34', 'in case', 'annddd', 'nonucleariran', 'natsnation', 'selfies', 'funko', 'wasn', 'aviation addicts', 'ary', 'amcx', 'south korea', 'front in', 'charminar', 'wxky', 'r21', 'recip', 'nw', 'bruv', 'unite blue', 'everythign', 'ks57', 'st arks', 'spsgsp', '30th', 'soudelor', 'mthe', 'dr', 'myfitnesspal', 'nba', 'kindle countdown', 'gesserit', 'uknews', 'dmt', 'ptsd', 'hil', 'enders', 'mezcal', 'harry styles', 'makewaterwork', 'txlege', 'fitz', 'okanagan', '100bn', 'nuh', 'dhalgren', 'gtfo', 'kca', 'con tries', 'warne', 'virg', 'maiga', 'ntsb', 'i405', 'fe', 'sw', 'bago', 'espn2', 'norge2040', 'teamo', 'bio terror', 'sky net', 'gold stein', 'sidjsjdjekdjskdjd', 'shtap', 'nat west', 'mizuta', 'bhp', 'euro tunnel', 'engvaus', 'imkeepingmydayjob', 'insp i', 'udhampur', '20reactor', 'nestle india', 'edk', 'aar', 'pelosi', 'etoffe', 'ypg', 'icd10', 'dua', 'ombudsman ship', 'lovemyjob', 'tru', 'social media', 'platt', 'ald ridge', 'schoenfeld', 'radler', 'heared', 'neigh bors', 'th', '90blks', 'ks315', 'qzloremft', 'ww3', '12v', '52k', 'pbs', 'lbr', 'rt', 'trynna', 'boyle sports', 'power lines', 'fu', 'installment', 'soothmyslumber', 'ems1', 'bible study', 'ik', 'twi a', 'gillibrand', 'sittway', 'sydtraffic', 'lds', '20bagging', 'west chester', 'pack for', 'fide', 'md', 'cheekiness', 'superv', 'rrbc', 'color ism', 'wroug', 'kurokobot', 'badotweet', 'minamisoma', 'waimate', 'an cop', 'thingsihate', 'ram at', 'whats app', 'northern california', 'hor no', 'sud ans', 'ma', 'dagestan', 'dfir', 'vulnera', 'theconspiracytheory', 'cins', 'szuter', 'restrospect', 'chandrababu', 'swiming', 'uhc', 'askconnor', 'storm coming', 'crazy weather', 'ccot', 'mahalo', 'gravity movie', 'banks town', 'enkelbiljett', 'tra', '400t', 'awesome sauce', 'threat intel', 'ser as', 'hugomatz', 'r5live', 'mizzou', 'bruce willis', 'cascada', 'quals', 'clipuri', 'jst', 'oilandgas', 'new ser', 'ln', 'intl', 'nuff', 'windwaker', 'ce', 'jp', 'world pay', 'move it', 'artists united', 'cramer', 'festac', 'bar do', 'fiya', 'hs', 'also what', '3dc', 'molys', 'enolagay', 'notificationsu', 'hm', 'yeyeulala', 'conditions privation', 'l4', 'dtn', 'blackinamerica', 'a bomb', 'tvshowtime', 'yee', 'jkl', 'keithyy', 'lzkely', 'dyers burg', 'crowe', 'headline like', 'ppact', 'gaz ans', 'usg', '28pm', 'cnbc', 'brooo', 'pic this', 'ex', 'tangle talk', 'sun rays', 'browser hijacker', 'lzktjnox', 'zen it', 'lung cancer', 'bowe', 'hse', 'ukfloods', 'suruc', 'sterotypical', 'low key', 'nissan news', 'mob lin', 'blow in', 'firefightr', 'influencers', 'debatequestionswewanttohear', 'cas', 'mumbai24x7', 'afghetc', '3d', 'milit a', 'sismo', 'tx', 'rembr', 'cum shot', '20wave', 'be nothing', 'die bold', 'smfh', 'colo rectal', 'guabxfv', 'deepak', 'sb', 'regc', 'r1354', 'allthenews', 'subreddits', 'music advisory', 'mgs2', 'flash flood', 'deg lin', 'frp', 'jet engine', 'littlebitofbass', 'sense i', 'vaxshill', 'okayyyyyy', 'marina ding', 'fat burning', 'exum', 'usar15', 'mcourt', 'shira', 'gyrsi', '20000k', 'stop harper', 'trophy hunt', 'mothernaturenetwork', 'rosenbergs', 'pierc', 'burn fat', 'da', 'wpt', 'abstorm', 'dal', 'pajamas', 'bb17', 'quem', 'damien gayle', 'puth', 'barring ton', 'mirkwood', 'farmr', '6pm', 'not her', 'live stream', 'hamptonroadsfor', 'harrybecareful', 'rail guns', 'cooool', 'nyack', 'fifa16', 'lamha', 'a pc', 'ocd', 'baekhyun', 'destiel', 'whit bourne', 're a', 'idp', 'ooohshit', 'ev', 'eheks', 'shii', 'up a', 'celebrety', 'vas hon', 'cn', 'bokuto', 'chill in', 'bieber', 'bennycapricon', 'we rent', 'mino', 'mlk', 'xkdrx', 'hrs to', 'books last', 'favorite', 'ashrafiyah', 'i reporter', '7k', 'jishin', 'funnydadcoach', 'eo', 'westerncanadadrought', 'capoeira', 'ne', 'rhett', 'behaviors', 'gangster mail', 'pharma', 'misha', 'tusky', 'bi', 'chronic illness', 'redsox', 'content marketing', 'stock well', 'devereaux', 'kc', 'mypillowstudio', 'wi', 'exo', '20accident', 'for see', '91f', 'milledgeville', 'sanonofre', '18w', 'wftv', 'pretenses', 'marr', 'spar xxx', '2a', 'scheer', 'pakistans', 'ronal do', 'fci', 'usw', 'afc', 'bkn025', '3others', 'fav', 'tr', 'dud a', 'go blue', 'yazidis', 'navbl', 'affleck', 'a seer', 'wwii', '1st', 'atk', 'cufi', 'cpr', 'pg', 'racco', 'kml', 'not ley', 'playing now', 'apga', 'aberystwyth', 'at cha', 'pulkovo', 'aia', 'in fact', 'nashsnewvideo', 'nockthie', 'dis info', 'cta', 'butiqob', 'idlenomore', 'sam i', 'def eater', 'ocampo', 'firefigthers', 'peice', 'pp15000266858', 'hakogaku', 'nuclear weapons', 'aogashima', 'uud', 'tnwx', 'no power', '27w', 'marketing mediocrity', 'knott', 'mrrobinson', 'jfb', 'lmfaooo', 'wasilla', 'tweets', 'saintsfc', 'visting', 'mpp', 'kotaweather', 'wfp', 'gujarat riot', 'ru', 'on lin', 'cuyahoga', 'jsunnews', 'malaysia airlines', 'laighign', 'smth', 'mach ida', 'noaa', 'giannis', 'drayesha4', 'bhavana', 'more land', 'wcvb', 'captureyyc', 'm416', 'splatoon', 'vid', 'yeaahh', 'tsipras', 'remodeled', 'indy fest', 'grind house', 'eye facts', 'gopdebate', 'chiang', 'popularmmos', 'op', 'fr', 'vancouver island', 'throw in', 'k3', 'bilic', 'savedenaliwolves', 'leedstraif', 'mopheme', 'alloosh', 'nda', 'walk through', 'kp', 'wps', '20on', 'weather it', 's3xleak', 'traffic network', 'nrc', 'fco', 'poway', 'suho', 'bestnaijamade', 'bbc', 'albert ans', '1km', 'time stack', 'haram', 'amazing ness', 'mrc', 'crqck', 'st louis', 'han a', 'tozlet', 'popular demand', 'um', 'tremont', 'najibrazak', 'berahino', 'mbiwa', 'car mike', 'knob head', 'lolol', 'to days', 'hi att', 'cgg', 'pfft', '96km', 'accidently', 'pga', 'etcpb', 'brinx', 'fueling', 'sousse', 'mxaaaa', '300m', 'ut', '60m', 'niqqa', 'heart disease', 'orianna', 'politifiact', 'song for', 'vaginaorcake', 'clarksville', 'aq', 'm8', '1d', 'front page', '20bags', 'archipelago wolves', 'jokin', 'rs5', 'ps2', 'music video', 'tryna', 'striked', 'bbcnews', 'wonder kid', 'light man', 'imdb', 'bwp', 'fun times', 'g90', 'pletchs', 'natural disasters', 'novalismi', 'bickleton', 'be safe', 'cee', 'yazidi', 'yahistorical', 'goz', 'wholeteam3', 'mumbairiot92', 'owenrbroadhurst', 'auc', 'ohhhh', 'summer slam', 'otrametlife', 'tsutomi', 'emsc', 'appreciative inquiry', 'north gate', 'smarttek', 'co2', 'grim rail', 'com in', 'glob i', 'was hard', 'kids company', 'mht', 'esevu', 'cbc', 'tepat', 'gm', 'difficult people', 'st oren', 'carb', 'claim in', 'aluminum', 'i clown', 'zakuun', 'mn', 'jrowah', 'deai', 'mx', 'bcuz', 'eep', 'ermac', 'cafire', 'shaolin', 'commentes', 'wa', 'tloz', 'sfgate', '20bag', 'ud', 'daem', 'teleported', 'coming soon', 'windstorm insurer', 'azusa', 'tae', 'zonewolf123', 'mac a', 'neigh boring', '2007he', 'ekiti', 'tfl', 'fo', 'star date', 'bo3', 're qua', 'wakeupflorida', 'lancaster online', '265v', 'kakeru', 'ssp', '90s', 'si', 'souda', 'decisionsondecisions', 'vtc', 'night beat', 'kfvs12', 'temecula', 'fentanyl', 'desecrates', 'nhs', 'follownflnews', '1a', 'shtf', 'why or', 'info wars', 'pitch wars', 'preorder', 'assertative', 'jonathan ferrell', 'sts', '60km', 'nats', 'strategic patience', 'ab', 'love food', 'tornado giveaway', 'roh3smantibatam', 'lose it', 'treat men', 'tyar', 'gamer gate', 'uluru', 'lookg', 'laudner', 'nytimes', 'record and', 'twcnews', 'wilden', 'softenza', '60s', 'sa', 'sorrybutitstrue', 'zaman', 'rspca', 'rom ford', 'lansdowne', 'portaloos', 'oooh', 'pagasa', 'bb4sp', 'be it', 'middle east', 'trp', 'valle', 'wexler', 'youll', 'ish', 'db5', 'pl', 'landolina', 'aintsheperty', 'wilshere', 'or chs', 'more but', 'gis', 'tv', 'donthate', 'special guest', 'shantaeforsmash', '12m', 'yiayplan', 'mcilroy', 'bomd', 'dubbo', 'wiwnpfxa', 'insurers163', 'frigg in', 'colomr', 'c720', 'rememberrabaa', 'dq', 'borderlands2', 'you re', 'yuuko', 'lawx', 'breaking news', 'residual income', 'cyhi', 'indiakomuntorjawabdo', 'droppd', 'neighbor', 'htarvrgly', 'underground bestsellers', 'tms7', '5sosfam', 'christian values', 'follow back', 'real estate', 'mother nature', 'bout a', 'currensy', 'favorites', 'pkk', 'x1402', 'twon', 'enrt', 'anza', 'me sick', 'mtvsummerstar', 'emv', 'nike plus', 'oi', 'pal in', 'bes tia', 'untill', 'demo ness', 'italian alps', 'splatter shot', 'tweetlikeitsseptember11th2001', 'justinbieber', 'gbbo', 'shadow flame', 'dtb', 'wholesaleent', 'cuana', 'tvjnews', 'nos so', 'isai', 'wy', '0l', 'gran de', 'pascoe', 'mf', 'fact sheet', 'ami co', 'to nights', 'spx', 'loveislove', 'pdp', 'chpsre', 'wud', 'jas mines', 'harperanetflixshow', 'saison', 'zotar', 'nbc', 'kill in', 'lpdkl', 'papiichampoo', 'jolie', 'foxsportscom', 'tambo', 'bengston', 'car fest', 'she did', 'gravity chat', 'a an', 'sbnation', 'urself', 'nanotech', 'oc73x', 'ufn', 'ks161', 'demean or', 'lotg', 'oak ridge', 'ohh', 'shanaynay', 'convivted', 'bishop fred', 'book boost', 'bc19', 'meditationbymsg', 'urs', 'nne', 'bin laden', 'kgb', 'babri', 'sebee', 'fte', 'korzhonov', 'nhlducks', 'olap', 'fucktard', 'ky', '2pm', 'rumah', 'defense news', 'fvck', 'nieuws', 'kamindoz', 'ap', 'wdyouth', 'retweeted', 'saudies', 'miyagi', 'hard style', 'ed', 'perry chat', 'public health', 'ki', 'gon', '17months', 'verhoek', '7p', 'smem', 'ay', 'chiasson', 'skyler', 'metro town', 'utfire', 'a gnus', '70years', 'ncms', 'smb', 'youngins', 'maketh', 'shake ology', 'hwy401', 'koin6news', 'catechize', 'thankkk', 'relief web', 'plez', 'susinesses', 'wew', 'collegeradi', 'lan', 'fueled', 's01e09', 'ami rite', 'plz', 'sky rim', 'catfishmtv', 'enroute', 'sixpenceee', '30stm', 'the ashes', 'week long', 'b4federal', 'salopek', 'wisdom wed', 'japan japan', 'pp15000266818', 'valleywx', 'hannaph', 'save bees', 'luke box', 'mkx', 'vods', 'mileena', 'rar', 'apcpdp', 'hiroshima70', 'good ell', 'vmas', 'tottenham', 'abc7eyewitness', 'byebyesoundcloud', 'new york', 'good luck', 'acdelco', 'caribean', 'electronic music', 'nh', 'skh', '20buildings', 'more than', 'hd', 'rbi', 'clergy forced', '7a', 'anjem', 'tos', 'abbswinston', '30min', 'ruor', 'rihanna', 'cislady', 'legionstrackandfield', 'mtr', 'ny', 'shantae', 'yug', 'sustainourearth', 'fukurodani', 'chitral', 'la dins', 'leelanau', '7newsadl', 'dw', 'movt', 'front lines', 'time bomb', 'arnley', 'take care', 'evil dead', 'gameofkittens', 'trois', 'jeb', 'cervelli', 'subsd', 'clico', '911bombing', 'pov', 'wwe', '30bst', 'yakub', 'emerg', 'karnal', 'nno', 'double cups', 'new berg', 'menolippu', 'mp', 'saumur', 'wmata', 'friend59', 'bes tie', 'the bargain', 'gun sense', 'city link', 'nawh', 'in do', 'del mont', 'nghlth', 'lennox', 'preppertalk', 'thats', 'wiedemer', 'the game', 'suffield', '20fires', 'wcw', 'yyc', 'rnk', 'prabhu', 'magu', 'buddz', 'a10', 'hyatt', 'situ', 'ten news', 'an247', 'wood lawn', 'lujo', 'gmtty', 'albert sons', 'so cal', 'autism awareness', 'cs', 'oc', 'dialyses', 'drought monitor', 'gray wardens', 'rossum', 'catsofinstagram', 'falmer', 'free besieged', 'shadow man', 'kanye', 'ag', 'apd', 'rabidmonkeys1', 'io', 'noirandeal', 'jaileens', 'wzbt', 'rocky fire', 'carry i', 'ouvindo', 'ep03', 'ffvii', 'dhsscitech', 'chop pas', 'fieg', 'x2', 'mets', 'kenosha', 'ercjmnea', 'trc', 'erykah', 'looney', 'sarumi', 'rock in', '6th', 'free speech', 'ii net', 'ibooklove', 'ugc', 'pap i', 'a sics', 'thunder snow', 'thisisfaz', 'vac a', 'rb', 'ks100', 'mom', 'mdt', 'thalapathi', 'nbn', 'nan king', 'shin gal', 'hhahaha', '5th', 'ij', 'm27329', 'es', 'pomo', 'pharrell', 'carful', 'billneelynbc', 'forest service', 'hixon', 'hagerstown', 'av', 'dag ens', 'pd', 'miville', 'sr14', 'reid lake', 'lock down', 'arrestpastornganga', 'video game', 'ns', 'utd', 'prysmian', 'nvr', 'bayelsastate', 'troubleonmymind', 'wce', 'special needs', 'human rights', 'mcr', 'uribe', 'round2', 'refugees matter', 'usatoday', '00end', 'pizza rev', 'art i', 'earthtwerk', 'tw4rw', 'texaschainsawmassacre', 'help me', '20bomber', 'summer fate', 'robertwelch', 'ddos', 'crap gamer', 'lzk', 'pjnet', 'ahahahga', 'pantofel', 'yonews', 'nashville traffic', 'magichairbump', 'real hiphop', 'bens tracy', 'ler', 'martinmj22', 'arr eat', 'nycha', 'sea world', '100nd', 'mont anas', 'nsw', 'ridah', 'theyd', '47km', 'dougkessler', 'totoooooooooo', 'george cole', 'lesnar', 'offr', 'big star', '1008planet', 'guimaras', 'ruby bot', 'romantic suspense', 'la times', 'parliment', 'dc', 'spaceship two', 'mess i', 'katterpinstagram', '20fire', 'pakpattan', 'viab', 'inter tissue', 'mommys', 'youve', 'sturgis', 'lex i', 'health insurance', 'pis co', 'nomorehandouts', 'imouto', 'hyider', 'summer2k15', 'aaaaaand', 'insas', 'blue hand', 'etp', 'boko', 'gotthard', 'tulowitzki', 'speculatio', 'wb', 'kesabaran', 'crosed', 'soulja', 'dems', 'modestmouseremix', 'thda', 'wsjthinktank', 'fdny', 'dotish', 'cliptv', 'gbonyin', 'rah eel', 'quant it', '8m', 'babalmao', 'socialwots', 'jamaica plain', 'oomf', 'splat down', 'awesomeeeeeeee', 'ivanberroa', 'jakarta post', 'or show', 'brixton', 'gh', 'sct014', 'a rent', 'bus ines', 'sky warn', 'cai', 'rizzo', 'charlize', 'lhh', 'one born', 'fahlo', 'lind enow', 'you gov', 'dl', 'benitez', 'ouvir', 'jariana', 'pated', 'pdx911', 'pdx', 'orpik', 'crash sterling', 'reaad', '12am', 'cor ii', 'tn', 'mansehra', 'kessler', 'a oms', 'sni', '429cj', '20bomb', 'verse the', 'onlinemh370', '500th', 'accepte', 'blowmandyup', 'damnnnn', 'dem co', 'accidental prophecy', 'ravioli with', 'flavorchargedtea', 'ep18', 'hum or', 'sioux land', 'sws', 'perrie', 'adiossuperbacterias', 'ika', 'ifak', 'walerga', 'whiskey', '31pm', 'scofield', 'gf', 'a lot', 'daughtery', 'today i', 'law negligence', 'tlvfaces', 'fec al', 'roomr', 'speakingfromexperience', 'cogxbox', 'hs2', 'dvds', 'xl61', 'market watch', 'sevenfigz', 'welovela', 'south downs', 'shaheed', 'interestraterise', 'e1', 'fm', 'kabwandi', 'jet star', 'jacquie', 'probs', 'clicca', 'addtexastonext1dtour', 'leitchfield', 'fox a', 'hahahah', '4am', 'suv', '3a', '30m', 'sps', '20bombing', 'indiegogo', 'bene', 'x1441', 'idc', 'watch out', 'a1a', 'psp', 'omron', 'thank you', 'gn', 'piner', 'firefighte', 'makinmemories', 'diaporama', 'hand side', 'ris', 'crbzfz', 'ba', 'edt', 'i photo', 'watchthevideo', 'joe strong', 'casu', 'nflexpertpicks', 'satoshis', 'hunger articles', 'lake isabella', 'barr a', 'sigue', 'js', 'hillary mass', '71st', 'run ion', 'rezaphotography', 'jen', 'usgs', 'wnd', 'noxdv', 'multidimensi', 'atom bomb', 'selmo', '40pm', 'svetlana', 'choudary', 'rum or', 'tricks hot', 'gods love', 'mkayla', 'world oil', 'zaatari', 'pro to', 'a bouts', '80m', 'pain they', 'lovemydentist', 'caruana', 'turdnado', 'xv', 'bk', 'min a', 'news dict', 'bloor', 'straight fire', 'i me', 'honored', 'xd', 'neighborhood', '10k', 'tch', 'sr37', 'tantonationalforest', 'ricin', 'new year', 'serephina', 'oso', 'm6x1', '3km', 'occasion2b', 'kasabwe', 'reba he', 'the real', 'aggressif', 'np', 'busey', 'ashestoashes', 'b2', 'gratia', 'i stg', 'gi', 'us ami', 'everydaynaija', 'gansey', '3p', 'cultsierre', 'push2left', 'uh', 'chi lis', 'bur ford', 'go in', 'gilbert23', 'sporting goods', 'lookss', 'sq', 'fi', 'ive', 'bae', 'cantwaittoplayinminneapolis', 'marque i', 'fant4stic', 'vai', 'gr', 'lez', 'right ways', 'dna', '6aug', 'tj', 'bio terrorism', 'maxsys', 'a1', 'besttalkradio', '12th', 'wrestle on', 'maaaaan', 'ja', 'fanarmyfaceoff', 'givebackkalinwhiteaccount', 'thedarktower', 'romanatwoodvlogs', 'deo', 'luhan', 'wedding hour', 'beyondthebomb', 'mechanics burg', 'dajaal', 'legionnaires disease', 'bokoharam', 'real time', 'rohingya', 'x36', 'canceling', 'mccains', '6bn', 'any1', 'ims', 'tlk', 'fantastic four', 'poc', 'centers', 'losdelsonido', 'ask in', 'mb', 'deejayempiresound', 'growingupblack', 'ds', 'chrissie', 'frvrgrateful', 'khuzdar', 'ask charley', 'eastern oregon', 'okanowa', 'oup', '11am', 'lougheed', 'yamashiro', 'esn', 'mooresville', 'ttw', 'nan a', 'dojo', 'omfg', 'g20', 'joboozoso', 'beclearoncancer', 'aw', '8km', 'for sure', 'tianta', 'wwi', 'dorrian', 'china dotcom', 'magginoodle', 'rob lox', 'zumiez', 'follow me', 'drummond', 'oun', 'ect', 'kit ana', 'ovo', 'deep water', 'ayhhhhhdjjfjrjjrdjjeks', 'london3', 'twcnewsclt', 'isea2015', 'knowlddge', 'du19', 'home folks', 'rock star', 'zippoline', 'avysss', 'acura', 'ye', 'sfgiants', 'fel', 'cyber', 'aannnnd', 'fgcu', 'dardanelle', 'acenewsdesk', 'gur ion', 'lgl', 'shit ton', 'childsexabuse', 'redeem eth', '10x', 'vibez', 'fam ilia', 'iartg', 'twee ted', 'cream fields', 'city porn', 'jarmusch', 'scseestapreparando', 'hpssjd', 'red bull', 'a7', 'intragenerational', 'doth raki', 'nort', 'a i', 'para more', 'romani a', 'ge', 'ny35', 'kurds', 'ramag', 'stephen king', 'childhood defined', 're imagining', 'qld', 'teamfollowback', 'bajrangi', 'game feed', 'prayforsaipan', 'eto', '2day', 'sjubb', 'mot he', 'unfollow', 'dvc', '21k', 'fox new', 'role play', 'looooool', 'smantibatam', 'ashes2015', 'doll a', 'techniqu', 'fer no', 'jfc', 'woah', 'fur st', 'mariah', 'cw500', 'android games', 'riveeeeeer', 'step kans', 'whao', 'silinski', 'mwednesday', 'kiri', 'terwilliger', 'campanha', 'tu', 'kijangbank', 'critical media', 'boing', 'astrologian', 'ty', 'clintons', 'bay elsa', 'p2', 'bach mann', 'theramin', 'copalibertadores', 'sul', 'mohammed', 'kind of', 'water safety', 'mh17', 'us a', 'homealone2', 'in dah', 'comdev', 'tcc', 'rsf', 'standforwolves', 'water fur', 'pearlharbor', 'pop eyes', 'papicongress', 'be confident', 'thepartyofmeanness', 'allthekidneybeansandsorbet4misha', 'gfe', 'antioch us', 'mo', 'oo', 'rayner', 'seeyouatamicos', 'comm enters', '37b', 'worse its', 'frey as', 'sto', 'cam ila', 'dust pig', 'info graphic', 'aus pol', 'us at', 'mateo', '06jst', 'ksbynews', 'wen ger', 'doessnt', 'asae15', 'eh', 'bp', 'megadeth', 'food stand', 'asb', 'fforecast', 'lvg', 'bak', 'ight', 'cryibg', '30p', 'banksy', 'superintende', 'triciaoneill', '100mb', 'bukidnon', 'stratford', 'banerjee', 'online a', 'diageo', 'bantrophyhunting', 'rs', '707d', 'who cares', 'bit coin', 'air horns', 'mol ave', 'wld', 'tix', 'thea ter', 'small biz', 'fylde', 'diss', 'harbor', 'cs6', '20responders', 'spacex', 'now playing', 'megalpolis', 'twee ting', 'ca', 'revitup', 'freebitcoin', 'streamyx', 'dogg', 'diablo', 'urogyn', 'janeenorman', 'dynamix', 'go hans', 'ohgod', 'shantaehalfgeniehero', 'utc2015', 'ppsellsbabyparts', 'blowltan', 'salvi', 'booradleyvancullen', 'ckec', 'snap chat', 'euro quake', 'expert whiner', 'barak', '30a', 'infectious diseases', 'ross barton', '73km', 'gasp arc', 'visto', 'could a', 'cest', 've', 'mcdonalds', 'transport a', 'bangladesh flood', 'phalaborwa', 'maple ridge', 'nlccollide', 'beatz', 'francis underwood', 'winik', 'mpers', 'zmne', 'cdnpoli', 'math', 'modiministry', 'chur kin', 'hai', 'stlnd', 'game insight', 'gallipoli', 'jim in', 'bwin', 'shouout', 'para cord', '00pm', 'srsly', 'jax', 'artisteoftheweekfact', 'lwb', 'brinco', 'jihad is', 'food borne', 'ploppy', 'wine chat', 'technic a', 'alta monte', 'green space', 'nj', 'shizune', 'drum step', 'marrie', 'tomlin son', 'dm', 'champions blackfoot', 'bow hunting', '4head', 'lightning strike', 'iron man', 'mido', 'nowwwwww', 'zicac', 'sbee', 'head desk', 'slosher', 'nhl', 'a iii', 'kalle', 'breaking144', 'kissimmee', 'twenty nine', 'land i', 'i580', 'mass grave', 'inj', 'bruh', 'cit i', '2nd', 'havnt', 'the hobbit', 'thisispublichealth', 'teslas', 'vuzuhustle', 'hat man', 'thebookclub', 'lalaloopsy', 'nc', 'njturnpike', 'ibeto', 'sen so', 'road id', 'famine memories', 'dessicated', 'yhngsjlg', 'chonce', 'actionmoviestaughtus', 'tht', 'haaretz', 'cern', 'snow den', 'pop2015', 'alaska seafood', 'musik', 'az', 'kasab', 'freeamirnow', 'ghe', 'silent mind', 'fwo', 'just saying', 'ffa', 'arceen', 'wooooooo', 'lomasvisto', 'hail damage', 'saveti', 'shite', 'rfp', '89x', 'tedcruz2016', 'un', 'kindersley', 'grupdates', '300w', 'break dancers', 'pot us', '2am', '75k', 'v4', 'cia', 'deadgirltalking', 'star trek', 'afte', 'mbataweel', 'pleb', 'buffett', 'pc i', 'sirmixalot', 'chawalchorbjp', 'news786', 'fastings', 'sip pin', 'http', 'ahh', 'et', 'bernardino', 'panther attack', 'not explained', 'oamsgajagahahah', 'evert on', '10m', 'brenas', 'wantmyabsback', 'he lens', 'lake effect', 'moshav', 'big gar', 'dont', 'over watch', 'trail heads', 'cilla', 'loveyouuuu', 'flavored', '20murder', 'ga', 'plsss', 'forney', 'gg', 'cty', '4regionnear', 'nbanews', 'wqow', 'wedn', 'maailiss', 'streetjamzdotnet', 'rtrrt', 'davis on', 'pikin', 'black cats', 'poze', 'foamcc', 'copped news', 'bg', 'dorm an', 'hao', 'mhtw4fnet', 'fin all', 'lowndes', 'kuznets ova', 'adan i', 'ctd', 'nv', 'sht', 'counselors', 'toooooo', 'imagini', 'he a', 'lessonforlife', '19yrs', 'ovofest', 'urban fashion', 'ls', 'odai', 'emmer dale', 'osbourne', 'tax return', 'bad choices', 'goku', 'momneedscoffee', 'lizzie363', 'kcrw', 'pp', 'legionna', 'hcsm', 'fukushima', 'wowo', 'drako', 'donzilla', 'dawgs', 'or cot', 'wbu', 'holomua', 'evac', 'tali bans', 'dhs', 'skaggs', 'weyburn', 'errrr', 'njenga', 'epic enter', 'hinatobot', 'ineedexposure', 'opseaworld', 'en', 'photo shop', 'urg', 'ezidigenocide', 'lim', 'at cinema', 'wk', 'mine ness', 'exist ant', 's5', 'qnh', 'lulgzimbestpicts', 'shout out', 'nd', 'awesome love', 'mm', 'shud', 'cal fires', 'stoponesounds', 'google maps', 'aggarwal', 'ks', 'riooooos', 'clothes less', 'fitba', 'ww1', 'galvnews', 'uru an', 'wordk', 'iran deal', '2500fps', 'insane limits', 'emptive', 'yeda', 'more voices', 'amalie', 'victimiser', 'mall ord', 'wedneday', 'los angeles', 'enemity', 'run keeper', 'wth', 'fantabulous', 'vosloorus', 'butter london', 'honors', 'paul hollywood', 'human consumption', 'ibom', 'emsne', 'ptsdchat', 'bbshelli', 'game play', 'klitschko', 'azwx', 'ov', 'tnn', 'mr', 'small business', 'fem a', 'firey', 'amazin', 'gay nor', 'jump in', 'ad', 'wbc2015', 'weloveyoulouis', 'ftsn', '0npzp', '4x4', 'jack holes', 'tampa bay', 'rp', 'saudi arabia', 'invokces', 'kaldi', 'pple', 'bilsen', 'amo', 'literary cakes', 'lgm', 'juanmthompson', 'croydonization', 'lisowski', 'trees cape', 'mgn', 'robert california', 'oem', 'vickers', 'psa', 'crazyideascollege', 'colorado avalanche', 'hw', 'kou', 'hmu', 'rss', 'inroices', 'setting4success', 'pll', 'vigilent', 'hamayun', 'scifi', 'speccy', 'net label', '20fall', 'mumbai locals', 'a5', '4k', 'llegaste', 'hunhry', 'pages hi', 'orang i', 'cdt', 'social times', 'russaky89', 'mcgwire', 'govts', 'bio ter', 'auz', 'suru', 'nsa', 'legio', 'box set', 'b2bagency', '18jst', 'declarat', 'abia', 'pug wash', 'gc', 'omw', 'foxdebatequestions', 'gif', 'tweet4taiji', 'nato', 'sling news', 'alllivesmatter', 'favorited', 'byityf', 'ransom ware', 'hash tags', 'shar', 'trollingtilmeekdiss', 'ullman', 'policy lab', 'super food', 'self avowed', 'aaarrrgghhh', 'directioners', 'tepco', 'bb', 'usfs', 'daubt', '10am', 'pres tons', 'alil', 'lab or', '53inch', 'juanny', 'suresh', 'naemolgo', 'renews it', 'deflate gate', 'bck', 'over hostages', 'hard a', 'astroturfers', '2hours', 'xboxone', 'nyse', 'taungbazar', 'dragon vale', 'i77', 'for bath', 'kung', 'be news', 'hah aha', 'bakeofffriends', 'contruction', 't1000s', 'bluedio', 'smart news', 'khrone', 'unr', 'ggindependencmessage', 'isil', 'nypd', 'silver man', 'cochrane', 'womens', 'dubloadz', 'tf', 'ks111', 'bu', 'kills one', 'delta children', 'zombiefunrun2014', 'kamon', 'jeep sunk', 'laugh traders', 'btwn', 'cristiano', 'moseby', 'a middle', 'atv', 'nuys', 'pocono record', 'kash', 'onr', 'youuu', 'tkyonly1fmk', 'brzjc', 'ashville', '2leezy', 'ginga', 'tcot', 'durvod', 'yuvi', 'x1411', 'xo', 'sam a', 'kasich', 'hisao', 'nueva', 's2g', 'haiyan', 'tommorow', 'notrocketscience', 'magner', 'reference reference', 'tube strike', 'protectdenaliwolves', 'microsofts', 'col lab', 'pa', 'earthquake news', 'ep', '21st', 'alrighty', 'nbcnightlynews', 'mt', 'fl', 'href', 'xekstrin', 'aguero', 'dambisa', 'nic', 'roimentor', 'dnb', 'man armed', '8whts', 'waimea', 'agdq', 'gtxrwm', 'will ian', 'arian a', 'eco nom', 'dijk', 'cbcto', 'amicospizzato', 'lap aka', 'pb', 'mcgsecure', 'no surrender', 'sllikely', 'bmw', 'jitsu', 'vitaly', 'shoot as', 'vanpoli', 'pochette', 'wednes', '30pm', 'son i', 'mission hills', 'stuff in', 'sef', 'kombat', 'gio', 'shoals traffic', 'rivieres', 'childress', 'cbs29', 'calgarians', 'pendleton', 'osteen', 'truck crash', 'coquitlam', 'chp', 'dvd', 'victorinox', 'lume', 'disneys', 'uber', 'haaaaaa', 'apch', 'mete pec', 'ponting', 'santa clara', 'ashayo', 'yolandaph', 'skc', 'kody', 'tree porn', 'world vision', 'frusciante', 'forrestmankins', 'ml', 'wakho', 'boutta', 'season from', 'nit club', 'liv', 'pak', 'bbm', '15km', 'hlg', 'mmda', 'pvc', 'iwasdisappointedby', 'nikoniko12022', 'benzema', 'liveonk2', 'foods care', 'ep016', 'san dunes', 'ruhl', 'iceland review', 'jhmnye', 'gym flow', 'funny news', 'tecno', 'tmp', 'cis', 'bhusa', '9am', 'newsintweets', 'ttes', '10news', 'media420', '325ci', 'quoteoftheday', 'senzu', 'sub mitt', 'i10', 'zarry', 'hav', 'elk horn', 'general news', 'sittwe', 'tfw', 'otratmetlife', 'willing hearted', 'min go', 'disabled veterans', 'rd', 'safsufa', 'pvris', 'na', 'dvbbs', 'psm', 'fa', 'pick ens', 'copper fields', 'gps', 'ccmusic', 'im', 'fuso', 'air1bullet', 'sometimes i', 'matias', 'electr', 'irannucleardeal', 'psd', 'macia', 'drumpf', 'ahamedis', 'osp', 'gards', 'itrawcwb', 'me dinah', 'canpoli', 'zimmer', 'tog the', 'cedarglade2015', 'worldwatchesferguson', 'wogc', 'merc', 'learn i', '12pm', 'west minister', 'paci', 'baaaack', 'off road', 'isnt', 'a40', '20spill', 'an i', 'abbruchsimulator', 'mega quake', 'frickin', 'nside', 'sparkz', 'ohlordy', 'nyc', 'say in', 'water boarding', 'duckvillelol', 'pet a', 'ng2x5', 'cte', 'daesh', 'newbeginningsanimalrescue', 'micom', 'indian news', 'atl', 'scourgue', 'kijima', 'ip', 'thranduil', '9km', 'gt', 'pig a', 'weiqin', 'pixels movie', 'goulding', '4kus', 'ashdod', 'ameribag', '50ft', 'hard line', 'sun corp', 'xxhjesc', 'ipa', 'coy i', 'dredougie', '70th', 'jap ton', 'm1', 'tafs', 'main stage', 'bs', 'bolasie', 'forbes asia', 'ldnr', 're tweet', 'ppc', 'aka me', 'damatu', 'pikachu', 'snd', 'espargaro', 'nb', 'instagrams', 'hendrixonfire', 'tullamarine', 'death2usa', 'caued', 'in depth', 'appx', 'b1g', 'islamaphobe', 'elanorofrohan', '30s', 'info sec', 'pwhvgwax', 'nri', 'intead', '73rd', 'm3', 'res que', 'se', 'rabaa', 'ikpeazu', 'do pest', 'fadc', 'forex', 'pipe liners', 'mad die', 'gaelite', 'voortrekker', 'otm', 'bn', 'csismica', 'canonbringit', 'stl', 'thruuu', 'bad kitty', 'htt', 'dum', 'latest news', 'do one', 'stop evictions', 'trave ling', 'remymarcel', 'bathandnortheastsomerset', '72w', 'cech', 'oper', 'indian perpetrated', 'alaskas', 'light rail', 'rgj', 'wx', 'trfc', 'bf', 'osi2016', 'dating tips', 'betz', 'can tar', 'st arbs', 'thur low', 'flatts', 'wtf', 'murfreesboro', 'mufc', 'f496d', 'pad a', 'x1386', 'favoritism', 'becarefulharry', 'gd', 'omg', 'hinata', 'detect ado', 'freiza', 'wolter', '64oz', 'ice moon', 'su', 'ux', 'in subcontinent', 'mta', 'rey', 'vaping101', 'molloy', 'kisii', 'fdx', '5s', 'sms', 'kwwwkwwwk', 'twisterlovesshania', 'lil', 'panik', 'mgtab', 'heavy rain', 'team hennessy', 'gmail', 'yagitudeh', 'de i', 'umm', 'mlb', 'icymi', '5l', 'wsj', 'is la', 'hunters ton', 'caf', 'sejorg', 'dk', 'muzzies', '20murderer', 'blaaaaaaa', 'slsp', 'kijan', 'wo', 'not re', 'bairstow', 'diyala', 'hermancranston', 'buren', 'am a', 'track list', 'metrofmtalk', 'boycott bears', 'msf', 'a reva', 'di', 'damaturu', 'big consequences', 'trib', 'mh', 'hollyw', 'whag', 'neces', 'splat ling', 'soo', 'fyi', 'hsu', 'reggaeboyz', '20s', '20yrs', 'australias', 'don nelly', 'whatcanthedo', 'cst', 'amazon deals', 'on shit', 'cndpoli', 'ars', 'dj', 'be4', 'oif', 'tarzan a', 'onthisday', 'horn dale', 'votejkt48id', 'rapid city', 'cowx', 'traffic alert', 'yay', 'komo', 'leftwich', 'feel in', 'safe co', 'pule do', 'pugprobs', 'commodities are', 'briliantly', 'wd', 'sf', 'elephantintheroom', 'fd', 'invzices', 'nu', 'douche bag', 'wmv', 'magne', 'sm', '38pm', '3m', 'wr', 'kurtkamka', 'theresmorewherethatcamefrom', 'achimota', 'zss', 'tindering', 'shaabi', 'gms', 'kamayani', 'fangirling', 'gnwt', 'portgassdk', 'gfz', 'shunichiro', 'rdg', 'twx', 'joes', 'm4', 'ww2', 'sirmione', 'afterhaiyan', 'liqd', 'cl', 'aeg', 'citys', 'usnwsgov', 'hhbu', 'off ramp', 'b2b', 'nan kana', 'narry', '360wisenews', 'assn chat', 'bel ter', 'biz tip', 'war craft', '20k', 'nws', '365disasters', 'dirumah', 'wrong person', 'tit a', 'losangelestimes', 'santanico', 'bay area', 'nh1news', 'nm', 'ven oms', 'liveonkbak', 'bkb066gp', 'loll a', 'size well', 'snot green', 'hillary clinton', 'mod i', 'purdies', 'appy', 'ached in', 'fuck boy', 'ppor', '20up', 'prep per', 'random thought', 'thesteveharveyshow', 'future a', 'cop a', 'yeat', 'darsena', 'block chain', 'helo'}\n"
     ]
    }
   ],
   "source": [
    "possible_abbreviations_segmented = []\n",
    "for word in set(possible_abbreviations_noIntegers):\n",
    "    result  = sym_spell.lookup_compound(word, max_edit_distance=0)[0].term\n",
    "    possible_abbreviations_segmented.append(result)\n",
    "\n",
    "print(set(possible_abbreviations_segmented))"
   ]
  },
  {
   "cell_type": "code",
   "execution_count": 12,
   "id": "c724569b",
   "metadata": {
    "execution": {
     "iopub.execute_input": "2023-02-06T03:20:02.681547Z",
     "iopub.status.busy": "2023-02-06T03:20:02.681170Z",
     "iopub.status.idle": "2023-02-06T03:20:02.695268Z",
     "shell.execute_reply": "2023-02-06T03:20:02.694061Z"
    },
    "papermill": {
     "duration": 0.026008,
     "end_time": "2023-02-06T03:20:02.698076",
     "exception": false,
     "start_time": "2023-02-06T03:20:02.672068",
     "status": "completed"
    },
    "tags": []
   },
   "outputs": [
    {
     "data": {
      "text/plain": [
       "asf              1\n",
       "magichairbump    1\n",
       "martinmj22       1\n",
       "ler              1\n",
       "sometimes i      1\n",
       "jet star         1\n",
       "blood bound      1\n",
       "twenty nine      1\n",
       "inst agram       1\n",
       "20fire           1\n",
       "yonews           1\n",
       "pantofel         1\n",
       "ahahahga         1\n",
       "pjnet            1\n",
       "lzk              1\n",
       "ddos             1\n",
       "nycha            1\n",
       "100nd            1\n",
       "music video      1\n",
       "nsw              1\n",
       "ridah            1\n",
       "theyd            1\n",
       "47km             1\n",
       "dougkessler      1\n",
       "totoooooooooo    1\n",
       "nike plus        1\n",
       "lesnar           1\n",
       "offr             1\n",
       "1008planet       1\n",
       "guimaras         1\n",
       "dtype: int64"
      ]
     },
     "execution_count": 12,
     "metadata": {},
     "output_type": "execute_result"
    }
   ],
   "source": [
    "abb_df1 = pd.Series(possible_abbreviations_segmented)\n",
    "abb_df1.value_counts()[:30]"
   ]
  },
  {
   "cell_type": "markdown",
   "id": "a02112e6",
   "metadata": {
    "papermill": {
     "duration": 0.007211,
     "end_time": "2023-02-06T03:20:02.713239",
     "exception": false,
     "start_time": "2023-02-06T03:20:02.706028",
     "status": "completed"
    },
    "tags": []
   },
   "source": [
    "This is creating so many multi segmented words, we need to refine and filter them "
   ]
  }
 ],
 "metadata": {
  "kernelspec": {
   "display_name": "Python 3",
   "language": "python",
   "name": "python3"
  },
  "language_info": {
   "codemirror_mode": {
    "name": "ipython",
    "version": 3
   },
   "file_extension": ".py",
   "mimetype": "text/x-python",
   "name": "python",
   "nbconvert_exporter": "python",
   "pygments_lexer": "ipython3",
   "version": "3.7.12"
  },
  "papermill": {
   "default_parameters": {},
   "duration": 23.812058,
   "end_time": "2023-02-06T03:20:03.644249",
   "environment_variables": {},
   "exception": null,
   "input_path": "__notebook__.ipynb",
   "output_path": "__notebook__.ipynb",
   "parameters": {},
   "start_time": "2023-02-06T03:19:39.832191",
   "version": "2.3.4"
  }
 },
 "nbformat": 4,
 "nbformat_minor": 5
}
