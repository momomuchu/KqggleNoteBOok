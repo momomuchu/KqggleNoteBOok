{
 "cells": [
  {
   "cell_type": "code",
   "execution_count": 1,
   "id": "endless-cream",
   "metadata": {
    "_cell_guid": "b1076dfc-b9ad-4769-8c92-a6c4dae69d19",
    "_uuid": "8f2839f25d086af736a60e9eeb907d3b93b6e0e5",
    "execution": {
     "iopub.execute_input": "2021-04-04T14:02:15.845405Z",
     "iopub.status.busy": "2021-04-04T14:02:15.844680Z",
     "iopub.status.idle": "2021-04-04T14:02:15.861533Z",
     "shell.execute_reply": "2021-04-04T14:02:15.860639Z"
    },
    "papermill": {
     "duration": 0.053117,
     "end_time": "2021-04-04T14:02:15.861712",
     "exception": false,
     "start_time": "2021-04-04T14:02:15.808595",
     "status": "completed"
    },
    "tags": []
   },
   "outputs": [
    {
     "name": "stdout",
     "output_type": "stream",
     "text": [
      "/kaggle/input/ppkm-twitter-dataset/dataset_rzl.csv\n",
      "/kaggle/input/ppkm-twitter-dataset/stopword_rzl.txt\n"
     ]
    }
   ],
   "source": [
    "# This Python 3 environment comes with many helpful analytics libraries installed\n",
    "# It is defined by the kaggle/python Docker image: https://github.com/kaggle/docker-python\n",
    "# For example, here's several helpful packages to load\n",
    "\n",
    "import numpy as np # linear algebra\n",
    "import pandas as pd # data processing, CSV file I/O (e.g. pd.read_csv)\n",
    "\n",
    "# Input data files are available in the read-only \"../input/\" directory\n",
    "# For example, running this (by clicking run or pressing Shift+Enter) will list all files under the input directory\n",
    "\n",
    "import os\n",
    "for dirname, _, filenames in os.walk('/kaggle/input'):\n",
    "    for filename in filenames:\n",
    "        print(os.path.join(dirname, filename))\n",
    "\n",
    "# You can write up to 20GB to the current directory (/kaggle/working/) that gets preserved as output when you create a version using \"Save & Run All\" \n",
    "# You can also write temporary files to /kaggle/temp/, but they won't be saved outside of the current session"
   ]
  },
  {
   "cell_type": "markdown",
   "id": "included-martin",
   "metadata": {
    "papermill": {
     "duration": 0.027201,
     "end_time": "2021-04-04T14:02:15.918790",
     "exception": false,
     "start_time": "2021-04-04T14:02:15.891589",
     "status": "completed"
    },
    "tags": []
   },
   "source": [
    "> # Before"
   ]
  },
  {
   "cell_type": "markdown",
   "id": "welsh-disclosure",
   "metadata": {
    "papermill": {
     "duration": 0.030745,
     "end_time": "2021-04-04T14:02:15.980483",
     "exception": false,
     "start_time": "2021-04-04T14:02:15.949738",
     "status": "completed"
    },
    "tags": []
   },
   "source": [
    "> Install Library"
   ]
  },
  {
   "cell_type": "code",
   "execution_count": 2,
   "id": "raising-domain",
   "metadata": {
    "execution": {
     "iopub.execute_input": "2021-04-04T14:02:16.061381Z",
     "iopub.status.busy": "2021-04-04T14:02:16.046016Z",
     "iopub.status.idle": "2021-04-04T14:03:23.847382Z",
     "shell.execute_reply": "2021-04-04T14:03:23.846403Z"
    },
    "papermill": {
     "duration": 67.837388,
     "end_time": "2021-04-04T14:03:23.847561",
     "exception": false,
     "start_time": "2021-04-04T14:02:16.010173",
     "status": "completed"
    },
    "tags": []
   },
   "outputs": [
    {
     "name": "stdout",
     "output_type": "stream",
     "text": [
      "Collecting swifter\r\n",
      "  Downloading swifter-1.0.7.tar.gz (633 kB)\r\n",
      "\u001b[K     |████████████████████████████████| 633 kB 894 kB/s \r\n",
      "\u001b[?25hRequirement already satisfied: pandas>=1.0.0 in /opt/conda/lib/python3.7/site-packages (from swifter) (1.2.2)\r\n",
      "Requirement already satisfied: psutil>=5.6.6 in /opt/conda/lib/python3.7/site-packages (from swifter) (5.8.0)\r\n",
      "Requirement already satisfied: dask[dataframe]>=2.10.0 in /opt/conda/lib/python3.7/site-packages (from swifter) (2021.3.0)\r\n",
      "Requirement already satisfied: tqdm>=4.33.0 in /opt/conda/lib/python3.7/site-packages (from swifter) (4.56.2)\r\n",
      "Requirement already satisfied: ipywidgets>=7.0.0cloudpickle>=0.2.2 in /opt/conda/lib/python3.7/site-packages (from swifter) (7.6.3)\r\n",
      "Requirement already satisfied: parso>0.4.0 in /opt/conda/lib/python3.7/site-packages (from swifter) (0.7.1)\r\n",
      "Requirement already satisfied: bleach>=3.1.1 in /opt/conda/lib/python3.7/site-packages (from swifter) (3.3.0)\r\n",
      "Collecting modin[ray]>=0.8.1.1\r\n",
      "  Downloading modin-0.9.1-py3-none-manylinux1_x86_64.whl (579 kB)\r\n",
      "\u001b[K     |████████████████████████████████| 579 kB 3.8 MB/s \r\n",
      "\u001b[?25hRequirement already satisfied: six>=1.9.0 in /opt/conda/lib/python3.7/site-packages (from bleach>=3.1.1->swifter) (1.15.0)\r\n",
      "Requirement already satisfied: packaging in /opt/conda/lib/python3.7/site-packages (from bleach>=3.1.1->swifter) (20.9)\r\n",
      "Requirement already satisfied: webencodings in /opt/conda/lib/python3.7/site-packages (from bleach>=3.1.1->swifter) (0.5.1)\r\n",
      "Requirement already satisfied: pyyaml in /opt/conda/lib/python3.7/site-packages (from dask[dataframe]>=2.10.0->swifter) (5.3.1)\r\n",
      "Requirement already satisfied: toolz>=0.8.2 in /opt/conda/lib/python3.7/site-packages (from dask[dataframe]>=2.10.0->swifter) (0.11.1)\r\n",
      "Requirement already satisfied: fsspec>=0.6.0 in /opt/conda/lib/python3.7/site-packages (from dask[dataframe]>=2.10.0->swifter) (0.8.5)\r\n",
      "Requirement already satisfied: partd>=0.3.10 in /opt/conda/lib/python3.7/site-packages (from dask[dataframe]>=2.10.0->swifter) (1.1.0)\r\n",
      "Requirement already satisfied: numpy>=1.15.1 in /opt/conda/lib/python3.7/site-packages (from dask[dataframe]>=2.10.0->swifter) (1.19.5)\r\n",
      "Requirement already satisfied: ipython>=4.0.0 in /opt/conda/lib/python3.7/site-packages (from ipywidgets>=7.0.0cloudpickle>=0.2.2->swifter) (7.20.0)\r\n",
      "Requirement already satisfied: widgetsnbextension~=3.5.0 in /opt/conda/lib/python3.7/site-packages (from ipywidgets>=7.0.0cloudpickle>=0.2.2->swifter) (3.5.1)\r\n",
      "Requirement already satisfied: ipykernel>=4.5.1 in /opt/conda/lib/python3.7/site-packages (from ipywidgets>=7.0.0cloudpickle>=0.2.2->swifter) (5.1.1)\r\n",
      "Requirement already satisfied: nbformat>=4.2.0 in /opt/conda/lib/python3.7/site-packages (from ipywidgets>=7.0.0cloudpickle>=0.2.2->swifter) (5.1.2)\r\n",
      "Requirement already satisfied: jupyterlab-widgets>=1.0.0 in /opt/conda/lib/python3.7/site-packages (from ipywidgets>=7.0.0cloudpickle>=0.2.2->swifter) (1.0.0)\r\n",
      "Requirement already satisfied: traitlets>=4.3.1 in /opt/conda/lib/python3.7/site-packages (from ipywidgets>=7.0.0cloudpickle>=0.2.2->swifter) (5.0.5)\r\n",
      "Requirement already satisfied: jupyter-client in /opt/conda/lib/python3.7/site-packages (from ipykernel>=4.5.1->ipywidgets>=7.0.0cloudpickle>=0.2.2->swifter) (6.1.11)\r\n",
      "Requirement already satisfied: tornado>=4.2 in /opt/conda/lib/python3.7/site-packages (from ipykernel>=4.5.1->ipywidgets>=7.0.0cloudpickle>=0.2.2->swifter) (5.0.2)\r\n",
      "Requirement already satisfied: pexpect>4.3 in /opt/conda/lib/python3.7/site-packages (from ipython>=4.0.0->ipywidgets>=7.0.0cloudpickle>=0.2.2->swifter) (4.8.0)\r\n",
      "Requirement already satisfied: backcall in /opt/conda/lib/python3.7/site-packages (from ipython>=4.0.0->ipywidgets>=7.0.0cloudpickle>=0.2.2->swifter) (0.2.0)\r\n",
      "Requirement already satisfied: pygments in /opt/conda/lib/python3.7/site-packages (from ipython>=4.0.0->ipywidgets>=7.0.0cloudpickle>=0.2.2->swifter) (2.8.0)\r\n",
      "Requirement already satisfied: pickleshare in /opt/conda/lib/python3.7/site-packages (from ipython>=4.0.0->ipywidgets>=7.0.0cloudpickle>=0.2.2->swifter) (0.7.5)\r\n",
      "Requirement already satisfied: jedi>=0.16 in /opt/conda/lib/python3.7/site-packages (from ipython>=4.0.0->ipywidgets>=7.0.0cloudpickle>=0.2.2->swifter) (0.17.2)\r\n",
      "Requirement already satisfied: decorator in /opt/conda/lib/python3.7/site-packages (from ipython>=4.0.0->ipywidgets>=7.0.0cloudpickle>=0.2.2->swifter) (4.4.2)\r\n",
      "Requirement already satisfied: setuptools>=18.5 in /opt/conda/lib/python3.7/site-packages (from ipython>=4.0.0->ipywidgets>=7.0.0cloudpickle>=0.2.2->swifter) (49.6.0.post20210108)\r\n",
      "Requirement already satisfied: prompt-toolkit!=3.0.0,!=3.0.1,<3.1.0,>=2.0.0 in /opt/conda/lib/python3.7/site-packages (from ipython>=4.0.0->ipywidgets>=7.0.0cloudpickle>=0.2.2->swifter) (3.0.16)\r\n",
      "Collecting pandas>=1.0.0\r\n",
      "  Downloading pandas-1.2.3-cp37-cp37m-manylinux1_x86_64.whl (9.9 MB)\r\n",
      "\u001b[K     |████████████████████████████████| 9.9 MB 5.9 MB/s \r\n",
      "\u001b[?25hCollecting pyarrow==1.0\r\n",
      "  Downloading pyarrow-1.0.0-cp37-cp37m-manylinux2014_x86_64.whl (17.2 MB)\r\n",
      "\u001b[K     |████████████████████████████████| 17.2 MB 18.2 MB/s \r\n",
      "\u001b[?25hCollecting ray<1.2.0,>=1.0.0\r\n",
      "  Downloading ray-1.1.0-cp37-cp37m-manylinux2014_x86_64.whl (48.5 MB)\r\n",
      "\u001b[K     |████████████████████████████████| 48.5 MB 25.9 MB/s \r\n",
      "\u001b[?25hRequirement already satisfied: python-dateutil>=2.7.3 in /opt/conda/lib/python3.7/site-packages (from pandas>=1.0.0->swifter) (2.8.1)\r\n",
      "Requirement already satisfied: pytz>=2017.3 in /opt/conda/lib/python3.7/site-packages (from pandas>=1.0.0->swifter) (2021.1)\r\n",
      "Requirement already satisfied: jsonschema!=2.5.0,>=2.4 in /opt/conda/lib/python3.7/site-packages (from nbformat>=4.2.0->ipywidgets>=7.0.0cloudpickle>=0.2.2->swifter) (3.2.0)\r\n",
      "Requirement already satisfied: jupyter-core in /opt/conda/lib/python3.7/site-packages (from nbformat>=4.2.0->ipywidgets>=7.0.0cloudpickle>=0.2.2->swifter) (4.7.1)\r\n",
      "Requirement already satisfied: ipython-genutils in /opt/conda/lib/python3.7/site-packages (from nbformat>=4.2.0->ipywidgets>=7.0.0cloudpickle>=0.2.2->swifter) (0.2.0)\r\n",
      "Requirement already satisfied: attrs>=17.4.0 in /opt/conda/lib/python3.7/site-packages (from jsonschema!=2.5.0,>=2.4->nbformat>=4.2.0->ipywidgets>=7.0.0cloudpickle>=0.2.2->swifter) (20.3.0)\r\n",
      "Requirement already satisfied: pyrsistent>=0.14.0 in /opt/conda/lib/python3.7/site-packages (from jsonschema!=2.5.0,>=2.4->nbformat>=4.2.0->ipywidgets>=7.0.0cloudpickle>=0.2.2->swifter) (0.17.3)\r\n",
      "Requirement already satisfied: importlib-metadata in /opt/conda/lib/python3.7/site-packages (from jsonschema!=2.5.0,>=2.4->nbformat>=4.2.0->ipywidgets>=7.0.0cloudpickle>=0.2.2->swifter) (3.4.0)\r\n",
      "Requirement already satisfied: locket in /opt/conda/lib/python3.7/site-packages (from partd>=0.3.10->dask[dataframe]>=2.10.0->swifter) (0.2.1)\r\n",
      "Requirement already satisfied: ptyprocess>=0.5 in /opt/conda/lib/python3.7/site-packages (from pexpect>4.3->ipython>=4.0.0->ipywidgets>=7.0.0cloudpickle>=0.2.2->swifter) (0.7.0)\r\n",
      "Requirement already satisfied: wcwidth in /opt/conda/lib/python3.7/site-packages (from prompt-toolkit!=3.0.0,!=3.0.1,<3.1.0,>=2.0.0->ipython>=4.0.0->ipywidgets>=7.0.0cloudpickle>=0.2.2->swifter) (0.2.5)\r\n",
      "Requirement already satisfied: opencensus in /opt/conda/lib/python3.7/site-packages (from ray<1.2.0,>=1.0.0->modin[ray]>=0.8.1.1->swifter) (0.7.12)\r\n",
      "Requirement already satisfied: aiohttp-cors in /opt/conda/lib/python3.7/site-packages (from ray<1.2.0,>=1.0.0->modin[ray]>=0.8.1.1->swifter) (0.7.0)\r\n",
      "Requirement already satisfied: colorful in /opt/conda/lib/python3.7/site-packages (from ray<1.2.0,>=1.0.0->modin[ray]>=0.8.1.1->swifter) (0.5.4)\r\n",
      "Requirement already satisfied: grpcio>=1.28.1 in /opt/conda/lib/python3.7/site-packages (from ray<1.2.0,>=1.0.0->modin[ray]>=0.8.1.1->swifter) (1.32.0)\r\n",
      "Requirement already satisfied: redis>=3.5.0 in /opt/conda/lib/python3.7/site-packages (from ray<1.2.0,>=1.0.0->modin[ray]>=0.8.1.1->swifter) (3.5.3)\r\n",
      "Requirement already satisfied: py-spy>=0.2.0 in /opt/conda/lib/python3.7/site-packages (from ray<1.2.0,>=1.0.0->modin[ray]>=0.8.1.1->swifter) (0.3.4)\r\n",
      "Requirement already satisfied: requests in /opt/conda/lib/python3.7/site-packages (from ray<1.2.0,>=1.0.0->modin[ray]>=0.8.1.1->swifter) (2.25.1)\r\n",
      "Requirement already satisfied: msgpack<2.0.0,>=1.0.0 in /opt/conda/lib/python3.7/site-packages (from ray<1.2.0,>=1.0.0->modin[ray]>=0.8.1.1->swifter) (1.0.2)\r\n",
      "Requirement already satisfied: filelock in /opt/conda/lib/python3.7/site-packages (from ray<1.2.0,>=1.0.0->modin[ray]>=0.8.1.1->swifter) (3.0.12)\r\n",
      "Requirement already satisfied: protobuf>=3.8.0 in /opt/conda/lib/python3.7/site-packages (from ray<1.2.0,>=1.0.0->modin[ray]>=0.8.1.1->swifter) (3.15.6)\r\n",
      "Requirement already satisfied: click>=7.0 in /opt/conda/lib/python3.7/site-packages (from ray<1.2.0,>=1.0.0->modin[ray]>=0.8.1.1->swifter) (7.1.2)\r\n",
      "Requirement already satisfied: aioredis in /opt/conda/lib/python3.7/site-packages (from ray<1.2.0,>=1.0.0->modin[ray]>=0.8.1.1->swifter) (1.3.1)\r\n",
      "Requirement already satisfied: aiohttp in /opt/conda/lib/python3.7/site-packages (from ray<1.2.0,>=1.0.0->modin[ray]>=0.8.1.1->swifter) (3.7.3)\r\n",
      "Requirement already satisfied: gpustat in /opt/conda/lib/python3.7/site-packages (from ray<1.2.0,>=1.0.0->modin[ray]>=0.8.1.1->swifter) (0.6.0)\r\n",
      "Requirement already satisfied: colorama in /opt/conda/lib/python3.7/site-packages (from ray<1.2.0,>=1.0.0->modin[ray]>=0.8.1.1->swifter) (0.4.4)\r\n",
      "Requirement already satisfied: prometheus-client>=0.7.1 in /opt/conda/lib/python3.7/site-packages (from ray<1.2.0,>=1.0.0->modin[ray]>=0.8.1.1->swifter) (0.9.0)\r\n",
      "Requirement already satisfied: notebook>=4.4.1 in /opt/conda/lib/python3.7/site-packages (from widgetsnbextension~=3.5.0->ipywidgets>=7.0.0cloudpickle>=0.2.2->swifter) (5.5.0)\r\n",
      "Requirement already satisfied: Send2Trash in /opt/conda/lib/python3.7/site-packages (from notebook>=4.4.1->widgetsnbextension~=3.5.0->ipywidgets>=7.0.0cloudpickle>=0.2.2->swifter) (1.5.0)\r\n",
      "Requirement already satisfied: pyzmq>=17 in /opt/conda/lib/python3.7/site-packages (from notebook>=4.4.1->widgetsnbextension~=3.5.0->ipywidgets>=7.0.0cloudpickle>=0.2.2->swifter) (22.0.3)\r\n",
      "Requirement already satisfied: terminado>=0.8.1 in /opt/conda/lib/python3.7/site-packages (from notebook>=4.4.1->widgetsnbextension~=3.5.0->ipywidgets>=7.0.0cloudpickle>=0.2.2->swifter) (0.9.2)\r\n",
      "Requirement already satisfied: nbconvert in /opt/conda/lib/python3.7/site-packages (from notebook>=4.4.1->widgetsnbextension~=3.5.0->ipywidgets>=7.0.0cloudpickle>=0.2.2->swifter) (6.0.7)\r\n",
      "Requirement already satisfied: jinja2 in /opt/conda/lib/python3.7/site-packages (from notebook>=4.4.1->widgetsnbextension~=3.5.0->ipywidgets>=7.0.0cloudpickle>=0.2.2->swifter) (2.11.3)\r\n",
      "Requirement already satisfied: yarl<2.0,>=1.0 in /opt/conda/lib/python3.7/site-packages (from aiohttp->ray<1.2.0,>=1.0.0->modin[ray]>=0.8.1.1->swifter) (1.6.3)\r\n",
      "Requirement already satisfied: multidict<7.0,>=4.5 in /opt/conda/lib/python3.7/site-packages (from aiohttp->ray<1.2.0,>=1.0.0->modin[ray]>=0.8.1.1->swifter) (5.1.0)\r\n",
      "Requirement already satisfied: chardet<4.0,>=2.0 in /opt/conda/lib/python3.7/site-packages (from aiohttp->ray<1.2.0,>=1.0.0->modin[ray]>=0.8.1.1->swifter) (3.0.4)\r\n",
      "Requirement already satisfied: typing-extensions>=3.6.5 in /opt/conda/lib/python3.7/site-packages (from aiohttp->ray<1.2.0,>=1.0.0->modin[ray]>=0.8.1.1->swifter) (3.7.4.3)\r\n",
      "Requirement already satisfied: async-timeout<4.0,>=3.0 in /opt/conda/lib/python3.7/site-packages (from aiohttp->ray<1.2.0,>=1.0.0->modin[ray]>=0.8.1.1->swifter) (3.0.1)\r\n",
      "Requirement already satisfied: idna>=2.0 in /opt/conda/lib/python3.7/site-packages (from yarl<2.0,>=1.0->aiohttp->ray<1.2.0,>=1.0.0->modin[ray]>=0.8.1.1->swifter) (2.10)\r\n",
      "Requirement already satisfied: hiredis in /opt/conda/lib/python3.7/site-packages (from aioredis->ray<1.2.0,>=1.0.0->modin[ray]>=0.8.1.1->swifter) (1.1.0)\r\n",
      "Requirement already satisfied: blessings>=1.6 in /opt/conda/lib/python3.7/site-packages (from gpustat->ray<1.2.0,>=1.0.0->modin[ray]>=0.8.1.1->swifter) (1.7)\r\n",
      "Requirement already satisfied: nvidia-ml-py3>=7.352.0 in /opt/conda/lib/python3.7/site-packages (from gpustat->ray<1.2.0,>=1.0.0->modin[ray]>=0.8.1.1->swifter) (7.352.0)\r\n",
      "Requirement already satisfied: zipp>=0.5 in /opt/conda/lib/python3.7/site-packages (from importlib-metadata->jsonschema!=2.5.0,>=2.4->nbformat>=4.2.0->ipywidgets>=7.0.0cloudpickle>=0.2.2->swifter) (3.4.0)\r\n",
      "Requirement already satisfied: MarkupSafe>=0.23 in /opt/conda/lib/python3.7/site-packages (from jinja2->notebook>=4.4.1->widgetsnbextension~=3.5.0->ipywidgets>=7.0.0cloudpickle>=0.2.2->swifter) (1.1.1)\r\n",
      "Requirement already satisfied: jupyterlab-pygments in /opt/conda/lib/python3.7/site-packages (from nbconvert->notebook>=4.4.1->widgetsnbextension~=3.5.0->ipywidgets>=7.0.0cloudpickle>=0.2.2->swifter) (0.1.2)\r\n",
      "Requirement already satisfied: defusedxml in /opt/conda/lib/python3.7/site-packages (from nbconvert->notebook>=4.4.1->widgetsnbextension~=3.5.0->ipywidgets>=7.0.0cloudpickle>=0.2.2->swifter) (0.6.0)\r\n",
      "Requirement already satisfied: entrypoints>=0.2.2 in /opt/conda/lib/python3.7/site-packages (from nbconvert->notebook>=4.4.1->widgetsnbextension~=3.5.0->ipywidgets>=7.0.0cloudpickle>=0.2.2->swifter) (0.3)\r\n",
      "Requirement already satisfied: nbclient<0.6.0,>=0.5.0 in /opt/conda/lib/python3.7/site-packages (from nbconvert->notebook>=4.4.1->widgetsnbextension~=3.5.0->ipywidgets>=7.0.0cloudpickle>=0.2.2->swifter) (0.5.2)\r\n",
      "Requirement already satisfied: pandocfilters>=1.4.1 in /opt/conda/lib/python3.7/site-packages (from nbconvert->notebook>=4.4.1->widgetsnbextension~=3.5.0->ipywidgets>=7.0.0cloudpickle>=0.2.2->swifter) (1.4.2)\r\n",
      "Requirement already satisfied: mistune<2,>=0.8.1 in /opt/conda/lib/python3.7/site-packages (from nbconvert->notebook>=4.4.1->widgetsnbextension~=3.5.0->ipywidgets>=7.0.0cloudpickle>=0.2.2->swifter) (0.8.4)\r\n",
      "Requirement already satisfied: testpath in /opt/conda/lib/python3.7/site-packages (from nbconvert->notebook>=4.4.1->widgetsnbextension~=3.5.0->ipywidgets>=7.0.0cloudpickle>=0.2.2->swifter) (0.4.4)\r\n",
      "Requirement already satisfied: nest-asyncio in /opt/conda/lib/python3.7/site-packages (from nbclient<0.6.0,>=0.5.0->nbconvert->notebook>=4.4.1->widgetsnbextension~=3.5.0->ipywidgets>=7.0.0cloudpickle>=0.2.2->swifter) (1.4.3)\r\n",
      "Requirement already satisfied: async-generator in /opt/conda/lib/python3.7/site-packages (from nbclient<0.6.0,>=0.5.0->nbconvert->notebook>=4.4.1->widgetsnbextension~=3.5.0->ipywidgets>=7.0.0cloudpickle>=0.2.2->swifter) (1.10)\r\n",
      "Requirement already satisfied: google-api-core<2.0.0,>=1.0.0 in /opt/conda/lib/python3.7/site-packages (from opencensus->ray<1.2.0,>=1.0.0->modin[ray]>=0.8.1.1->swifter) (1.22.4)\r\n",
      "Requirement already satisfied: opencensus-context==0.1.2 in /opt/conda/lib/python3.7/site-packages (from opencensus->ray<1.2.0,>=1.0.0->modin[ray]>=0.8.1.1->swifter) (0.1.2)\r\n",
      "Requirement already satisfied: googleapis-common-protos<2.0dev,>=1.6.0 in /opt/conda/lib/python3.7/site-packages (from google-api-core<2.0.0,>=1.0.0->opencensus->ray<1.2.0,>=1.0.0->modin[ray]>=0.8.1.1->swifter) (1.52.0)\r\n",
      "Requirement already satisfied: google-auth<2.0dev,>=1.21.1 in /opt/conda/lib/python3.7/site-packages (from google-api-core<2.0.0,>=1.0.0->opencensus->ray<1.2.0,>=1.0.0->modin[ray]>=0.8.1.1->swifter) (1.24.0)\r\n",
      "Requirement already satisfied: cachetools<5.0,>=2.0.0 in /opt/conda/lib/python3.7/site-packages (from google-auth<2.0dev,>=1.21.1->google-api-core<2.0.0,>=1.0.0->opencensus->ray<1.2.0,>=1.0.0->modin[ray]>=0.8.1.1->swifter) (4.2.1)\r\n",
      "Requirement already satisfied: rsa<5,>=3.1.4 in /opt/conda/lib/python3.7/site-packages (from google-auth<2.0dev,>=1.21.1->google-api-core<2.0.0,>=1.0.0->opencensus->ray<1.2.0,>=1.0.0->modin[ray]>=0.8.1.1->swifter) (4.7.1)\r\n",
      "Requirement already satisfied: pyasn1-modules>=0.2.1 in /opt/conda/lib/python3.7/site-packages (from google-auth<2.0dev,>=1.21.1->google-api-core<2.0.0,>=1.0.0->opencensus->ray<1.2.0,>=1.0.0->modin[ray]>=0.8.1.1->swifter) (0.2.7)\r\n",
      "Requirement already satisfied: pyasn1<0.5.0,>=0.4.6 in /opt/conda/lib/python3.7/site-packages (from pyasn1-modules>=0.2.1->google-auth<2.0dev,>=1.21.1->google-api-core<2.0.0,>=1.0.0->opencensus->ray<1.2.0,>=1.0.0->modin[ray]>=0.8.1.1->swifter) (0.4.8)\r\n",
      "Requirement already satisfied: urllib3<1.27,>=1.21.1 in /opt/conda/lib/python3.7/site-packages (from requests->ray<1.2.0,>=1.0.0->modin[ray]>=0.8.1.1->swifter) (1.26.3)\r\n",
      "Requirement already satisfied: certifi>=2017.4.17 in /opt/conda/lib/python3.7/site-packages (from requests->ray<1.2.0,>=1.0.0->modin[ray]>=0.8.1.1->swifter) (2020.12.5)\r\n",
      "Requirement already satisfied: pyparsing>=2.0.2 in /opt/conda/lib/python3.7/site-packages (from packaging->bleach>=3.1.1->swifter) (2.4.7)\r\n",
      "Building wheels for collected packages: swifter\r\n",
      "  Building wheel for swifter (setup.py) ... \u001b[?25l-\b \b\\\b \bdone\r\n",
      "\u001b[?25h  Created wheel for swifter: filename=swifter-1.0.7-py3-none-any.whl size=13976 sha256=cf5b7ba778a9c0b02b2886e629678296094fdb6ab1674f0dc626179cdfb53a88\r\n",
      "  Stored in directory: /root/.cache/pip/wheels/49/44/5b/2c3fcb044734cb9969adbeeab8de419e571fb3d9d0b9f62dae\r\n",
      "Successfully built swifter\r\n",
      "Installing collected packages: pandas, ray, pyarrow, modin, swifter\r\n",
      "  Attempting uninstall: pandas\r\n",
      "    Found existing installation: pandas 1.2.2\r\n",
      "    Uninstalling pandas-1.2.2:\r\n",
      "      Successfully uninstalled pandas-1.2.2\r\n",
      "  Attempting uninstall: ray\r\n",
      "    Found existing installation: ray 1.2.0\r\n",
      "    Uninstalling ray-1.2.0:\r\n",
      "      Successfully uninstalled ray-1.2.0\r\n",
      "  Attempting uninstall: pyarrow\r\n",
      "    Found existing installation: pyarrow 3.0.0\r\n",
      "    Uninstalling pyarrow-3.0.0:\r\n",
      "      Successfully uninstalled pyarrow-3.0.0\r\n",
      "Successfully installed modin-0.9.1 pandas-1.2.3 pyarrow-1.0.0 ray-1.1.0 swifter-1.0.7\r\n",
      "Collecting Sastrawi\r\n",
      "  Downloading Sastrawi-1.0.1-py2.py3-none-any.whl (209 kB)\r\n",
      "\u001b[K     |████████████████████████████████| 209 kB 890 kB/s \r\n",
      "\u001b[?25hInstalling collected packages: Sastrawi\r\n",
      "Successfully installed Sastrawi-1.0.1\r\n"
     ]
    }
   ],
   "source": [
    "!pip install swifter\n",
    "!pip install Sastrawi"
   ]
  },
  {
   "cell_type": "markdown",
   "id": "heated-exclusive",
   "metadata": {
    "papermill": {
     "duration": 0.10737,
     "end_time": "2021-04-04T14:03:24.060422",
     "exception": false,
     "start_time": "2021-04-04T14:03:23.953052",
     "status": "completed"
    },
    "tags": []
   },
   "source": [
    "> Import library"
   ]
  },
  {
   "cell_type": "code",
   "execution_count": 3,
   "id": "utility-hindu",
   "metadata": {
    "execution": {
     "iopub.execute_input": "2021-04-04T14:03:24.307639Z",
     "iopub.status.busy": "2021-04-04T14:03:24.306927Z",
     "iopub.status.idle": "2021-04-04T14:03:28.220135Z",
     "shell.execute_reply": "2021-04-04T14:03:28.218907Z"
    },
    "papermill": {
     "duration": 4.034735,
     "end_time": "2021-04-04T14:03:28.220322",
     "exception": false,
     "start_time": "2021-04-04T14:03:24.185587",
     "status": "completed"
    },
    "tags": []
   },
   "outputs": [],
   "source": [
    "# matplot\n",
    "import matplotlib\n",
    "import seaborn as sns\n",
    "from wordcloud import WordCloud\n",
    "import matplotlib.pyplot as plt\n",
    "\n",
    "# sklearn\n",
    "from sklearn.svm import LinearSVC\n",
    "from sklearn.naive_bayes import BernoulliNB\n",
    "from sklearn.linear_model import LogisticRegression\n",
    "\n",
    "from sklearn.model_selection import train_test_split, StratifiedKFold\n",
    "from sklearn.feature_extraction.text import TfidfVectorizer\n",
    "from sklearn.metrics import confusion_matrix, classification_report\n",
    "\n",
    "#nltk\n",
    "import nltk\n",
    "from nltk.stem import WordNetLemmatizer\n",
    "from nltk.corpus import stopwords\n",
    "from nltk.stem import PorterStemmer\n",
    "from nltk.tokenize import sent_tokenize, word_tokenize\n",
    "\n",
    "#sastrawi\n",
    "import Sastrawi.Stemmer\n",
    "from Sastrawi.Stemmer.StemmerFactory import StemmerFactory\n",
    "from Sastrawi.StopWordRemover.StopWordRemoverFactory import StopWordRemoverFactory\n",
    "import swifter\n",
    "\n",
    "#util\n",
    "import re\n",
    "import string\n",
    "from string import digits\n",
    "from collections import Counter\n",
    "import re\n",
    "import pickle\n",
    "import numpy as np\n",
    "import pandas as pd\n",
    "#import inline as inline"
   ]
  },
  {
   "cell_type": "markdown",
   "id": "valid-analyst",
   "metadata": {
    "papermill": {
     "duration": 0.097326,
     "end_time": "2021-04-04T14:03:28.413951",
     "exception": false,
     "start_time": "2021-04-04T14:03:28.316625",
     "status": "completed"
    },
    "tags": []
   },
   "source": [
    "> Pendeklarasian Dataset"
   ]
  },
  {
   "cell_type": "code",
   "execution_count": 4,
   "id": "hidden-humor",
   "metadata": {
    "execution": {
     "iopub.execute_input": "2021-04-04T14:03:28.610873Z",
     "iopub.status.busy": "2021-04-04T14:03:28.610193Z",
     "iopub.status.idle": "2021-04-04T14:03:28.640586Z",
     "shell.execute_reply": "2021-04-04T14:03:28.639811Z"
    },
    "papermill": {
     "duration": 0.131248,
     "end_time": "2021-04-04T14:03:28.640752",
     "exception": false,
     "start_time": "2021-04-04T14:03:28.509504",
     "status": "completed"
    },
    "tags": []
   },
   "outputs": [],
   "source": [
    "#importing the dataset\n",
    "DATASET_COLUMNS  = [\"kategori\",\"text\"]\n",
    "DATASET_ENCODING = \"ISO-8859-1\"\n",
    "dataset = pd.read_csv('/kaggle/input/ppkm-twitter-dataset/dataset_rzl.csv',\n",
    "                      encoding=DATASET_ENCODING , names=DATASET_COLUMNS)"
   ]
  },
  {
   "cell_type": "markdown",
   "id": "electoral-probability",
   "metadata": {
    "papermill": {
     "duration": 0.096936,
     "end_time": "2021-04-04T14:03:28.833904",
     "exception": false,
     "start_time": "2021-04-04T14:03:28.736968",
     "status": "completed"
    },
    "tags": []
   },
   "source": [
    "> Melihat kuantitas data yang dimiliki"
   ]
  },
  {
   "cell_type": "code",
   "execution_count": 5,
   "id": "verbal-chicken",
   "metadata": {
    "execution": {
     "iopub.execute_input": "2021-04-04T14:03:29.043034Z",
     "iopub.status.busy": "2021-04-04T14:03:29.042166Z",
     "iopub.status.idle": "2021-04-04T14:03:29.260891Z",
     "shell.execute_reply": "2021-04-04T14:03:29.260234Z"
    },
    "papermill": {
     "duration": 0.32854,
     "end_time": "2021-04-04T14:03:29.261032",
     "exception": false,
     "start_time": "2021-04-04T14:03:28.932492",
     "status": "completed"
    },
    "tags": []
   },
   "outputs": [
    {
     "data": {
      "image/png": "[encoded data removed]",
      "text/plain": [
       "<Figure size 720x360 with 1 Axes>"
      ]
     },
     "metadata": {
      "needs_background": "light"
     },
     "output_type": "display_data"
    }
   ],
   "source": [
    "ax = dataset['kategori'].value_counts().plot(kind='bar', figsize=(10,5),fontsize=16,color='#33ccff')\n",
    "ax.set_title('Jumlah Data positif, negatif dan netral', size=20, pad=30)\n",
    "ax.set_ylabel('Jumlah Angka', fontsize=20)\n",
    "\n",
    "for i in ax.patches:\n",
    "    ax.text(i.get_x() + 0.19, i.get_height() - 30, str(round(i.get_height(), 5)), fontsize=15)"
   ]
  },
  {
   "cell_type": "markdown",
   "id": "earned-cincinnati",
   "metadata": {
    "papermill": {
     "duration": 0.098068,
     "end_time": "2021-04-04T14:03:29.454625",
     "exception": false,
     "start_time": "2021-04-04T14:03:29.356557",
     "status": "completed"
    },
    "tags": []
   },
   "source": [
    "> # During"
   ]
  },
  {
   "cell_type": "markdown",
   "id": "authentic-doctor",
   "metadata": {
    "papermill": {
     "duration": 0.098741,
     "end_time": "2021-04-04T14:03:29.650693",
     "exception": false,
     "start_time": "2021-04-04T14:03:29.551952",
     "status": "completed"
    },
    "tags": []
   },
   "source": [
    "> Pre-Processing"
   ]
  },
  {
   "cell_type": "code",
   "execution_count": 6,
   "id": "gross-stopping",
   "metadata": {
    "execution": {
     "iopub.execute_input": "2021-04-04T14:03:29.865085Z",
     "iopub.status.busy": "2021-04-04T14:03:29.863919Z",
     "iopub.status.idle": "2021-04-04T14:03:29.884746Z",
     "shell.execute_reply": "2021-04-04T14:03:29.885257Z"
    },
    "papermill": {
     "duration": 0.133454,
     "end_time": "2021-04-04T14:03:29.885447",
     "exception": false,
     "start_time": "2021-04-04T14:03:29.751993",
     "status": "completed"
    },
    "tags": []
   },
   "outputs": [],
   "source": [
    "factory = StemmerFactory()\n",
    "stemmer = factory.create_stemmer()"
   ]
  },
  {
   "cell_type": "code",
   "execution_count": 7,
   "id": "solar-labor",
   "metadata": {
    "execution": {
     "iopub.execute_input": "2021-04-04T14:03:30.090382Z",
     "iopub.status.busy": "2021-04-04T14:03:30.089285Z",
     "iopub.status.idle": "2021-04-04T14:03:30.100868Z",
     "shell.execute_reply": "2021-04-04T14:03:30.101363Z"
    },
    "papermill": {
     "duration": 0.118003,
     "end_time": "2021-04-04T14:03:30.101552",
     "exception": false,
     "start_time": "2021-04-04T14:03:29.983549",
     "status": "completed"
    },
    "tags": []
   },
   "outputs": [],
   "source": [
    "def preprocessing(data):\n",
    "    fitur_ekstraksi0 = []\n",
    "    for cuitan in range(0, len(data)):\n",
    "        tmp = str(data[cuitan]).lower()\n",
    "        fitur_ekstraksi0.append(tmp)\n",
    "    fitur_ekstraksi1 = []\n",
    "    for cuitan in range(0, len(fitur_ekstraksi0)):\n",
    "        tmp = fitur_ekstraksi0[cuitan].translate(str.maketrans(' ', ' ', digits))  # membuang karakter angka\n",
    "        fitur_ekstraksi1.append(tmp)\n",
    "    fitur_ekstraksi2 = []\n",
    "    for cuitan in range(0, len(fitur_ekstraksi1)):\n",
    "        tmp = fitur_ekstraksi1[cuitan].translate(str.maketrans(' ', ' ', string.punctuation))  # membuang karakter\n",
    "        fitur_ekstraksi2.append(tmp)\n",
    "    fitur_ekstraksi3 = []\n",
    "    # fitur_ekstraksi = []\n",
    "    for cuitan in range(0, len(fitur_ekstraksi2)):\n",
    "        tmp = re.sub(r'\\\\W', ' ',str(fitur_ekstraksi2[cuitan])) # membuang karakter khusus selain angka dan huruf\n",
    "        tmp = re.sub(r'\\\\s+[a-zA-Z]\\\\s+', ' ',str(fitur_ekstraksi2[cuitan])) # membuang kata yang hanya satu huruf\n",
    "        tmp = re.sub(r'\\\\^[a-zA-Z]\\\\s+', ' ',str(fitur_ekstraksi2[cuitan])) # membuang kata yang hanya satu huruf dari awal\n",
    "        tmp = re.sub(r'\\\\s+', ' ',str(fitur_ekstraksi2[cuitan])) # mengganti spasi ganda dengan spasi tunggal\n",
    "        fitur_ekstraksi3.append(tmp)\n",
    "    fitur_ekstraksi5 = []\n",
    "    for cuitan in range(0, len(fitur_ekstraksi3)):\n",
    "        tmp = word_tokenize(str(fitur_ekstraksi3[cuitan]))\n",
    "        fitur_ekstraksi5.append(tmp)\n",
    "    return fitur_ekstraksi5"
   ]
  },
  {
   "cell_type": "code",
   "execution_count": 8,
   "id": "revolutionary-belief",
   "metadata": {
    "execution": {
     "iopub.execute_input": "2021-04-04T14:03:30.302706Z",
     "iopub.status.busy": "2021-04-04T14:03:30.301664Z",
     "iopub.status.idle": "2021-04-04T14:03:30.337212Z",
     "shell.execute_reply": "2021-04-04T14:03:30.337787Z"
    },
    "papermill": {
     "duration": 0.13758,
     "end_time": "2021-04-04T14:03:30.337986",
     "exception": false,
     "start_time": "2021-04-04T14:03:30.200406",
     "status": "completed"
    },
    "tags": []
   },
   "outputs": [],
   "source": [
    "stopwordp1 = open('/kaggle/input/ppkm-twitter-dataset/stopword_rzl.txt', 'r')\n",
    "stopwordp2 = stopwordp1.read()\n",
    "stopwordp = word_tokenize(stopwordp2)"
   ]
  },
  {
   "cell_type": "code",
   "execution_count": 9,
   "id": "greater-geometry",
   "metadata": {
    "execution": {
     "iopub.execute_input": "2021-04-04T14:03:30.557590Z",
     "iopub.status.busy": "2021-04-04T14:03:30.556872Z",
     "iopub.status.idle": "2021-04-04T14:03:30.560398Z",
     "shell.execute_reply": "2021-04-04T14:03:30.560974Z"
    },
    "papermill": {
     "duration": 0.120477,
     "end_time": "2021-04-04T14:03:30.561198",
     "exception": false,
     "start_time": "2021-04-04T14:03:30.440721",
     "status": "completed"
    },
    "tags": []
   },
   "outputs": [],
   "source": [
    "def swr(a, b):\n",
    "    filtered_sentence = []\n",
    "    for w in a:\n",
    "        if w not in b:\n",
    "            filtered_sentence.append(w)\n",
    "    return filtered_sentence"
   ]
  },
  {
   "cell_type": "code",
   "execution_count": 10,
   "id": "unnecessary-living",
   "metadata": {
    "execution": {
     "iopub.execute_input": "2021-04-04T14:03:30.775251Z",
     "iopub.status.busy": "2021-04-04T14:03:30.774237Z",
     "iopub.status.idle": "2021-04-04T14:03:30.778097Z",
     "shell.execute_reply": "2021-04-04T14:03:30.777490Z"
    },
    "papermill": {
     "duration": 0.108059,
     "end_time": "2021-04-04T14:03:30.778267",
     "exception": false,
     "start_time": "2021-04-04T14:03:30.670208",
     "status": "completed"
    },
    "tags": []
   },
   "outputs": [],
   "source": [
    "fitur = dataset.iloc[:,1].values\n",
    "labels = dataset.iloc[:,0].values"
   ]
  },
  {
   "cell_type": "code",
   "execution_count": 11,
   "id": "variable-algebra",
   "metadata": {
    "execution": {
     "iopub.execute_input": "2021-04-04T14:03:31.059209Z",
     "iopub.status.busy": "2021-04-04T14:03:31.038562Z",
     "iopub.status.idle": "2021-04-04T14:03:31.314107Z",
     "shell.execute_reply": "2021-04-04T14:03:31.313523Z"
    },
    "papermill": {
     "duration": 0.429587,
     "end_time": "2021-04-04T14:03:31.314268",
     "exception": false,
     "start_time": "2021-04-04T14:03:30.884681",
     "status": "completed"
    },
    "tags": []
   },
   "outputs": [],
   "source": [
    "callbackvalue = preprocessing(fitur)"
   ]
  },
  {
   "cell_type": "code",
   "execution_count": 12,
   "id": "honest-irrigation",
   "metadata": {
    "execution": {
     "iopub.execute_input": "2021-04-04T14:03:31.559626Z",
     "iopub.status.busy": "2021-04-04T14:03:31.549535Z",
     "iopub.status.idle": "2021-04-04T14:03:31.626091Z",
     "shell.execute_reply": "2021-04-04T14:03:31.625479Z"
    },
    "papermill": {
     "duration": 0.209967,
     "end_time": "2021-04-04T14:03:31.626238",
     "exception": false,
     "start_time": "2021-04-04T14:03:31.416271",
     "status": "completed"
    },
    "tags": []
   },
   "outputs": [
    {
     "name": "stdout",
     "output_type": "stream",
     "text": [
      "['ayo', 'luurr', 'nderek', 'pemerintah', 'mawon', 'ojo', 'lali', 'nganggo', 'masker', 'jaga', 'jarak', 'jaga', 'kesehatanben', 'slamet', 'kabehnek', 'rezeki', 'iso', 'golek', 'i', 'nek', 'nyowo', 'ming', 'sijidiemaneman', 'yo', 'lurjatim', 'lawancorona', 'madiunraya']\n",
      "\\n\n"
     ]
    }
   ],
   "source": [
    "def stopw(datanext):\n",
    "    fitur_ekstraksiku = []\n",
    "    for cuitan in range(0, len(datanext)):\n",
    "        tmp = swr(datanext[cuitan], stopwordp)\n",
    "        fitur_ekstraksiku.append(tmp)\n",
    "    return fitur_ekstraksiku\n",
    "fitur_ekstraksinext = stopw(callbackvalue)\n",
    "print(fitur_ekstraksinext[15])\n",
    "print('\\\\n')"
   ]
  },
  {
   "cell_type": "code",
   "execution_count": 13,
   "id": "olympic-occupation",
   "metadata": {
    "execution": {
     "iopub.execute_input": "2021-04-04T14:03:31.853173Z",
     "iopub.status.busy": "2021-04-04T14:03:31.852395Z",
     "iopub.status.idle": "2021-04-04T14:03:31.908086Z",
     "shell.execute_reply": "2021-04-04T14:03:31.908653Z"
    },
    "papermill": {
     "duration": 0.183054,
     "end_time": "2021-04-04T14:03:31.908833",
     "exception": false,
     "start_time": "2021-04-04T14:03:31.725779",
     "status": "completed"
    },
    "tags": []
   },
   "outputs": [],
   "source": [
    "def identity_tokenizer(text):\n",
    "    return text\n",
    "\n",
    "from sklearn.feature_extraction.text import TfidfVectorizer\n",
    "\n",
    "vektor_kata = TfidfVectorizer(tokenizer=identity_tokenizer, lowercase=False)\n",
    "fitur_ekstraksisiap = vektor_kata.fit_transform(fitur_ekstraksinext).toarray()\n",
    "\n",
    "fitur_ekstraksi = []\n",
    "for cuitan in range(0, len(callbackvalue)):\n",
    "    tmp = fitur_ekstraksisiap[cuitan]\n",
    "    fitur_ekstraksi.append(tmp)\n",
    "\n",
    "fitur_ekstraksitest = []\n",
    "for cuitan in range(len(callbackvalue), len(fitur_ekstraksisiap)):\n",
    "    tmp = fitur_ekstraksisiap[cuitan]\n",
    "    fitur_ekstraksitest.append(tmp)"
   ]
  },
  {
   "cell_type": "markdown",
   "id": "dramatic-drinking",
   "metadata": {
    "papermill": {
     "duration": 0.116642,
     "end_time": "2021-04-04T14:03:32.126063",
     "exception": false,
     "start_time": "2021-04-04T14:03:32.009421",
     "status": "completed"
    },
    "tags": []
   },
   "source": [
    "> Pembagian Data Training dan Data Test"
   ]
  },
  {
   "cell_type": "code",
   "execution_count": 14,
   "id": "unexpected-beverage",
   "metadata": {
    "execution": {
     "iopub.execute_input": "2021-04-04T14:03:32.333531Z",
     "iopub.status.busy": "2021-04-04T14:03:32.332550Z",
     "iopub.status.idle": "2021-04-04T14:03:32.340865Z",
     "shell.execute_reply": "2021-04-04T14:03:32.341363Z"
    },
    "papermill": {
     "duration": 0.11808,
     "end_time": "2021-04-04T14:03:32.341555",
     "exception": false,
     "start_time": "2021-04-04T14:03:32.223475",
     "status": "completed"
    },
    "tags": []
   },
   "outputs": [],
   "source": [
    "from sklearn.model_selection import train_test_split\n",
    "    \n",
    "X_train,X_test,y_train,y_test = train_test_split(fitur_ekstraksi,labels,test_size=0.2,random_state=42, shuffle=True, stratify=labels)"
   ]
  },
  {
   "cell_type": "markdown",
   "id": "incorporated-arabic",
   "metadata": {
    "papermill": {
     "duration": 0.099529,
     "end_time": "2021-04-04T14:03:32.539113",
     "exception": false,
     "start_time": "2021-04-04T14:03:32.439584",
     "status": "completed"
    },
    "tags": []
   },
   "source": [
    "> Pembangunan Model"
   ]
  },
  {
   "cell_type": "code",
   "execution_count": 15,
   "id": "humanitarian-inspector",
   "metadata": {
    "execution": {
     "iopub.execute_input": "2021-04-04T14:03:32.745625Z",
     "iopub.status.busy": "2021-04-04T14:03:32.744742Z",
     "iopub.status.idle": "2021-04-04T14:03:32.849605Z",
     "shell.execute_reply": "2021-04-04T14:03:32.848672Z"
    },
    "papermill": {
     "duration": 0.210897,
     "end_time": "2021-04-04T14:03:32.849780",
     "exception": false,
     "start_time": "2021-04-04T14:03:32.638883",
     "status": "completed"
    },
    "tags": []
   },
   "outputs": [],
   "source": [
    "from sklearn.neighbors import KNeighborsClassifier\n",
    "from sklearn.naive_bayes import GaussianNB, MultinomialNB, BernoulliNB\n",
    "from sklearn.linear_model import LogisticRegression, SGDClassifier\n",
    "from sklearn.svm import SVC, LinearSVC, NuSVC\n",
    "from sklearn.metrics import accuracy_score, classification_report"
   ]
  },
  {
   "cell_type": "code",
   "execution_count": 16,
   "id": "strong-wallet",
   "metadata": {
    "execution": {
     "iopub.execute_input": "2021-04-04T14:03:33.066633Z",
     "iopub.status.busy": "2021-04-04T14:03:33.065946Z",
     "iopub.status.idle": "2021-04-04T14:03:33.070633Z",
     "shell.execute_reply": "2021-04-04T14:03:33.070038Z"
    },
    "papermill": {
     "duration": 0.119574,
     "end_time": "2021-04-04T14:03:33.070793",
     "exception": false,
     "start_time": "2021-04-04T14:03:32.951219",
     "status": "completed"
    },
    "tags": []
   },
   "outputs": [],
   "source": [
    "gnb = GaussianNB()\n",
    "KNN = KNeighborsClassifier(n_neighbors=1)\n",
    "MNB = MultinomialNB()\n",
    "BNB = BernoulliNB()\n",
    "LR = LogisticRegression()\n",
    "SDG = SGDClassifier()\n",
    "SVC = SVC()\n",
    "LSVC = LinearSVC()\n",
    "NSVC = NuSVC()"
   ]
  },
  {
   "cell_type": "markdown",
   "id": "formal-warehouse",
   "metadata": {
    "papermill": {
     "duration": 0.103841,
     "end_time": "2021-04-04T14:03:33.276803",
     "exception": false,
     "start_time": "2021-04-04T14:03:33.172962",
     "status": "completed"
    },
    "tags": []
   },
   "source": [
    "> # After"
   ]
  },
  {
   "cell_type": "markdown",
   "id": "similar-repeat",
   "metadata": {
    "papermill": {
     "duration": 0.107025,
     "end_time": "2021-04-04T14:03:33.513979",
     "exception": false,
     "start_time": "2021-04-04T14:03:33.406954",
     "status": "completed"
    },
    "tags": []
   },
   "source": [
    "> Build Model"
   ]
  },
  {
   "cell_type": "code",
   "execution_count": 17,
   "id": "preliminary-oklahoma",
   "metadata": {
    "execution": {
     "iopub.execute_input": "2021-04-04T14:03:33.735686Z",
     "iopub.status.busy": "2021-04-04T14:03:33.734952Z",
     "iopub.status.idle": "2021-04-04T14:03:33.737370Z",
     "shell.execute_reply": "2021-04-04T14:03:33.737910Z"
    },
    "papermill": {
     "duration": 0.108055,
     "end_time": "2021-04-04T14:03:33.738094",
     "exception": false,
     "start_time": "2021-04-04T14:03:33.630039",
     "status": "completed"
    },
    "tags": []
   },
   "outputs": [],
   "source": [
    "def model_Evaluate(model):\n",
    "    \n",
    "    # Predict values for Test dataset\n",
    "    y_pred = model.predict(X_test)\n",
    "\n",
    "    # Print the evaluation metrics for the dataset.\n",
    "    print(classification_report(y_test, y_pred))"
   ]
  },
  {
   "cell_type": "markdown",
   "id": "gorgeous-selection",
   "metadata": {
    "papermill": {
     "duration": 0.10419,
     "end_time": "2021-04-04T14:03:33.944796",
     "exception": false,
     "start_time": "2021-04-04T14:03:33.840606",
     "status": "completed"
    },
    "tags": []
   },
   "source": [
    "> Hasil Proses"
   ]
  },
  {
   "cell_type": "markdown",
   "id": "characteristic-opera",
   "metadata": {
    "papermill": {
     "duration": 0.101966,
     "end_time": "2021-04-04T14:03:34.150632",
     "exception": false,
     "start_time": "2021-04-04T14:03:34.048666",
     "status": "completed"
    },
    "tags": []
   },
   "source": [
    "GaussianNB"
   ]
  },
  {
   "cell_type": "code",
   "execution_count": 18,
   "id": "chemical-paragraph",
   "metadata": {
    "execution": {
     "iopub.execute_input": "2021-04-04T14:03:34.356952Z",
     "iopub.status.busy": "2021-04-04T14:03:34.356238Z",
     "iopub.status.idle": "2021-04-04T14:03:34.460565Z",
     "shell.execute_reply": "2021-04-04T14:03:34.459343Z"
    },
    "papermill": {
     "duration": 0.212014,
     "end_time": "2021-04-04T14:03:34.460725",
     "exception": false,
     "start_time": "2021-04-04T14:03:34.248711",
     "status": "completed"
    },
    "tags": []
   },
   "outputs": [
    {
     "name": "stdout",
     "output_type": "stream",
     "text": [
      "GaussianNB Accuracy : 0.7081081081081081\n",
      "\n",
      "              precision    recall  f1-score   support\n",
      "\n",
      "     negatif       0.83      0.71      0.77        62\n",
      "      netral       0.59      0.77      0.67        61\n",
      "     positif       0.75      0.65      0.70        62\n",
      "\n",
      "    accuracy                           0.71       185\n",
      "   macro avg       0.73      0.71      0.71       185\n",
      "weighted avg       0.73      0.71      0.71       185\n",
      "\n"
     ]
    }
   ],
   "source": [
    "gnb.fit(X_train, y_train)\n",
    "y2_GNB_model = gnb.predict(X_test)\n",
    "print(\"GaussianNB Accuracy :\", accuracy_score(y_test, y2_GNB_model))\n",
    "print(\"\")\n",
    "model_Evaluate(gnb)"
   ]
  },
  {
   "cell_type": "markdown",
   "id": "experienced-defense",
   "metadata": {
    "papermill": {
     "duration": 0.105207,
     "end_time": "2021-04-04T14:03:34.665564",
     "exception": false,
     "start_time": "2021-04-04T14:03:34.560357",
     "status": "completed"
    },
    "tags": []
   },
   "source": [
    "KNeighborsClassifier"
   ]
  },
  {
   "cell_type": "code",
   "execution_count": 19,
   "id": "environmental-classic",
   "metadata": {
    "execution": {
     "iopub.execute_input": "2021-04-04T14:03:34.873942Z",
     "iopub.status.busy": "2021-04-04T14:03:34.871755Z",
     "iopub.status.idle": "2021-04-04T14:03:36.582855Z",
     "shell.execute_reply": "2021-04-04T14:03:36.582108Z"
    },
    "papermill": {
     "duration": 1.817739,
     "end_time": "2021-04-04T14:03:36.583020",
     "exception": false,
     "start_time": "2021-04-04T14:03:34.765281",
     "status": "completed"
    },
    "tags": []
   },
   "outputs": [
    {
     "name": "stdout",
     "output_type": "stream",
     "text": [
      "KNN Accuracy : 0.7135135135135136\n",
      "\n",
      "              precision    recall  f1-score   support\n",
      "\n",
      "     negatif       0.72      0.66      0.69        62\n",
      "      netral       0.67      0.74      0.70        61\n",
      "     positif       0.75      0.74      0.75        62\n",
      "\n",
      "    accuracy                           0.71       185\n",
      "   macro avg       0.72      0.71      0.71       185\n",
      "weighted avg       0.72      0.71      0.71       185\n",
      "\n"
     ]
    }
   ],
   "source": [
    "KNN.fit(X_train,y_train)\n",
    "y2_KNN_model = KNN.predict(X_test)\n",
    "print(\"KNN Accuracy :\", accuracy_score(y_test, y2_KNN_model))\n",
    "print(\"\")\n",
    "model_Evaluate(KNN)"
   ]
  },
  {
   "cell_type": "markdown",
   "id": "revised-reproduction",
   "metadata": {
    "papermill": {
     "duration": 0.101238,
     "end_time": "2021-04-04T14:03:36.783930",
     "exception": false,
     "start_time": "2021-04-04T14:03:36.682692",
     "status": "completed"
    },
    "tags": []
   },
   "source": [
    "MultinomialNB"
   ]
  },
  {
   "cell_type": "code",
   "execution_count": 20,
   "id": "treated-desperate",
   "metadata": {
    "execution": {
     "iopub.execute_input": "2021-04-04T14:03:37.002466Z",
     "iopub.status.busy": "2021-04-04T14:03:37.001774Z",
     "iopub.status.idle": "2021-04-04T14:03:37.052967Z",
     "shell.execute_reply": "2021-04-04T14:03:37.053785Z"
    },
    "papermill": {
     "duration": 0.160554,
     "end_time": "2021-04-04T14:03:37.054060",
     "exception": false,
     "start_time": "2021-04-04T14:03:36.893506",
     "status": "completed"
    },
    "tags": []
   },
   "outputs": [
    {
     "name": "stdout",
     "output_type": "stream",
     "text": [
      "MNB Accuracy : 0.7351351351351352\n",
      "\n",
      "              precision    recall  f1-score   support\n",
      "\n",
      "     negatif       0.75      0.82      0.78        62\n",
      "      netral       0.72      0.67      0.69        61\n",
      "     positif       0.73      0.71      0.72        62\n",
      "\n",
      "    accuracy                           0.74       185\n",
      "   macro avg       0.73      0.73      0.73       185\n",
      "weighted avg       0.73      0.74      0.73       185\n",
      "\n"
     ]
    }
   ],
   "source": [
    "MNB.fit(X_train,y_train)\n",
    "y2_MNB_model = MNB.predict(X_test)\n",
    "print(\"MNB Accuracy :\", accuracy_score(y_test, y2_MNB_model))\n",
    "print(\"\")\n",
    "model_Evaluate(MNB)"
   ]
  },
  {
   "cell_type": "markdown",
   "id": "amazing-english",
   "metadata": {
    "papermill": {
     "duration": 0.102797,
     "end_time": "2021-04-04T14:03:37.275759",
     "exception": false,
     "start_time": "2021-04-04T14:03:37.172962",
     "status": "completed"
    },
    "tags": []
   },
   "source": [
    "BernoulliNB"
   ]
  },
  {
   "cell_type": "code",
   "execution_count": 21,
   "id": "arctic-optics",
   "metadata": {
    "execution": {
     "iopub.execute_input": "2021-04-04T14:03:37.482571Z",
     "iopub.status.busy": "2021-04-04T14:03:37.481664Z",
     "iopub.status.idle": "2021-04-04T14:03:37.560450Z",
     "shell.execute_reply": "2021-04-04T14:03:37.561024Z"
    },
    "papermill": {
     "duration": 0.18207,
     "end_time": "2021-04-04T14:03:37.561210",
     "exception": false,
     "start_time": "2021-04-04T14:03:37.379140",
     "status": "completed"
    },
    "tags": []
   },
   "outputs": [
    {
     "name": "stdout",
     "output_type": "stream",
     "text": [
      "BNB Accuracy : 0.7189189189189189\n",
      "\n",
      "              precision    recall  f1-score   support\n",
      "\n",
      "     negatif       0.70      0.84      0.76        62\n",
      "      netral       0.72      0.69      0.71        61\n",
      "     positif       0.74      0.63      0.68        62\n",
      "\n",
      "    accuracy                           0.72       185\n",
      "   macro avg       0.72      0.72      0.72       185\n",
      "weighted avg       0.72      0.72      0.72       185\n",
      "\n"
     ]
    }
   ],
   "source": [
    "BNB.fit(X_train,y_train)\n",
    "y2_BNB_model = BNB.predict(X_test)\n",
    "print(\"BNB Accuracy :\", accuracy_score(y_test, y2_BNB_model))\n",
    "print(\"\")\n",
    "model_Evaluate(BNB)"
   ]
  },
  {
   "cell_type": "markdown",
   "id": "complicated-worcester",
   "metadata": {
    "papermill": {
     "duration": 0.108033,
     "end_time": "2021-04-04T14:03:37.771952",
     "exception": false,
     "start_time": "2021-04-04T14:03:37.663919",
     "status": "completed"
    },
    "tags": []
   },
   "source": [
    "LogisticRegression"
   ]
  },
  {
   "cell_type": "code",
   "execution_count": 22,
   "id": "eastern-harrison",
   "metadata": {
    "execution": {
     "iopub.execute_input": "2021-04-04T14:03:37.984610Z",
     "iopub.status.busy": "2021-04-04T14:03:37.983809Z",
     "iopub.status.idle": "2021-04-04T14:03:39.393869Z",
     "shell.execute_reply": "2021-04-04T14:03:39.395071Z"
    },
    "papermill": {
     "duration": 1.520368,
     "end_time": "2021-04-04T14:03:39.395423",
     "exception": false,
     "start_time": "2021-04-04T14:03:37.875055",
     "status": "completed"
    },
    "tags": []
   },
   "outputs": [
    {
     "name": "stdout",
     "output_type": "stream",
     "text": [
      "LR Accuracy : 0.7567567567567568\n",
      "\n",
      "              precision    recall  f1-score   support\n",
      "\n",
      "     negatif       0.73      0.85      0.79        62\n",
      "      netral       0.86      0.62      0.72        61\n",
      "     positif       0.72      0.79      0.75        62\n",
      "\n",
      "    accuracy                           0.76       185\n",
      "   macro avg       0.77      0.76      0.75       185\n",
      "weighted avg       0.77      0.76      0.75       185\n",
      "\n"
     ]
    }
   ],
   "source": [
    "LR.fit(X_train,y_train)\n",
    "y2_LR_model = LR.predict(X_test)\n",
    "print(\"LR Accuracy :\", accuracy_score(y_test, y2_LR_model))\n",
    "print(\"\")\n",
    "model_Evaluate(LR)"
   ]
  },
  {
   "cell_type": "markdown",
   "id": "minus-filing",
   "metadata": {
    "papermill": {
     "duration": 0.100708,
     "end_time": "2021-04-04T14:03:39.620499",
     "exception": false,
     "start_time": "2021-04-04T14:03:39.519791",
     "status": "completed"
    },
    "tags": []
   },
   "source": [
    "Stochastic Descent Gradient Classifier"
   ]
  },
  {
   "cell_type": "code",
   "execution_count": 23,
   "id": "spectacular-shakespeare",
   "metadata": {
    "execution": {
     "iopub.execute_input": "2021-04-04T14:03:39.832328Z",
     "iopub.status.busy": "2021-04-04T14:03:39.831582Z",
     "iopub.status.idle": "2021-04-04T14:03:40.306142Z",
     "shell.execute_reply": "2021-04-04T14:03:40.304993Z"
    },
    "papermill": {
     "duration": 0.585469,
     "end_time": "2021-04-04T14:03:40.306375",
     "exception": false,
     "start_time": "2021-04-04T14:03:39.720906",
     "status": "completed"
    },
    "tags": []
   },
   "outputs": [
    {
     "name": "stdout",
     "output_type": "stream",
     "text": [
      "SDG Accuracy : 0.7621621621621621\n",
      "\n",
      "              precision    recall  f1-score   support\n",
      "\n",
      "     negatif       0.78      0.69      0.74        62\n",
      "      netral       0.68      0.82      0.75        61\n",
      "     positif       0.84      0.77      0.81        62\n",
      "\n",
      "    accuracy                           0.76       185\n",
      "   macro avg       0.77      0.76      0.76       185\n",
      "weighted avg       0.77      0.76      0.76       185\n",
      "\n"
     ]
    }
   ],
   "source": [
    "SDG.fit(X_train,y_train)\n",
    "y2_SDG_model = SDG.predict(X_test)\n",
    "print(\"SDG Accuracy :\", accuracy_score(y_test, y2_SDG_model))\n",
    "print(\"\")\n",
    "model_Evaluate(SDG)"
   ]
  },
  {
   "cell_type": "markdown",
   "id": "ambient-serbia",
   "metadata": {
    "papermill": {
     "duration": 0.102231,
     "end_time": "2021-04-04T14:03:40.515752",
     "exception": false,
     "start_time": "2021-04-04T14:03:40.413521",
     "status": "completed"
    },
    "tags": []
   },
   "source": [
    "Support Vector Classification"
   ]
  },
  {
   "cell_type": "code",
   "execution_count": 24,
   "id": "educated-senior",
   "metadata": {
    "execution": {
     "iopub.execute_input": "2021-04-04T14:03:40.723984Z",
     "iopub.status.busy": "2021-04-04T14:03:40.723289Z",
     "iopub.status.idle": "2021-04-04T14:03:43.169618Z",
     "shell.execute_reply": "2021-04-04T14:03:43.169023Z"
    },
    "papermill": {
     "duration": 2.552966,
     "end_time": "2021-04-04T14:03:43.169765",
     "exception": false,
     "start_time": "2021-04-04T14:03:40.616799",
     "status": "completed"
    },
    "tags": []
   },
   "outputs": [
    {
     "name": "stdout",
     "output_type": "stream",
     "text": [
      "SVC Accuracy : 0.7783783783783784\n",
      "\n",
      "              precision    recall  f1-score   support\n",
      "\n",
      "     negatif       0.67      0.94      0.78        62\n",
      "      netral       0.89      0.67      0.77        61\n",
      "     positif       0.85      0.73      0.78        62\n",
      "\n",
      "    accuracy                           0.78       185\n",
      "   macro avg       0.80      0.78      0.78       185\n",
      "weighted avg       0.80      0.78      0.78       185\n",
      "\n"
     ]
    }
   ],
   "source": [
    "SVC.fit(X_train,y_train)\n",
    "y2_SVC_model = SVC.predict(X_test)\n",
    "print(\"SVC Accuracy :\", accuracy_score(y_test, y2_SVC_model))\n",
    "print(\"\")\n",
    "model_Evaluate(SVC)"
   ]
  },
  {
   "cell_type": "markdown",
   "id": "blessed-barrel",
   "metadata": {
    "papermill": {
     "duration": 0.102682,
     "end_time": "2021-04-04T14:03:43.383002",
     "exception": false,
     "start_time": "2021-04-04T14:03:43.280320",
     "status": "completed"
    },
    "tags": []
   },
   "source": [
    "Linear Support Vector Classification"
   ]
  },
  {
   "cell_type": "code",
   "execution_count": 25,
   "id": "editorial-musical",
   "metadata": {
    "execution": {
     "iopub.execute_input": "2021-04-04T14:03:43.613511Z",
     "iopub.status.busy": "2021-04-04T14:03:43.611462Z",
     "iopub.status.idle": "2021-04-04T14:03:43.663865Z",
     "shell.execute_reply": "2021-04-04T14:03:43.664341Z"
    },
    "papermill": {
     "duration": 0.17757,
     "end_time": "2021-04-04T14:03:43.664546",
     "exception": false,
     "start_time": "2021-04-04T14:03:43.486976",
     "status": "completed"
    },
    "tags": []
   },
   "outputs": [
    {
     "name": "stdout",
     "output_type": "stream",
     "text": [
      "LSVC Accuracy : 0.7837837837837838\n",
      "\n",
      "              precision    recall  f1-score   support\n",
      "\n",
      "     negatif       0.75      0.81      0.78        62\n",
      "      netral       0.80      0.77      0.78        61\n",
      "     positif       0.81      0.77      0.79        62\n",
      "\n",
      "    accuracy                           0.78       185\n",
      "   macro avg       0.79      0.78      0.78       185\n",
      "weighted avg       0.79      0.78      0.78       185\n",
      "\n"
     ]
    }
   ],
   "source": [
    "LSVC.fit(X_train,y_train)\n",
    "y2_LSVC_model = LSVC.predict(X_test)\n",
    "print(\"LSVC Accuracy :\", accuracy_score(y_test, y2_LSVC_model))\n",
    "print(\"\")\n",
    "model_Evaluate(LSVC)"
   ]
  },
  {
   "cell_type": "markdown",
   "id": "hearing-whale",
   "metadata": {
    "papermill": {
     "duration": 0.108065,
     "end_time": "2021-04-04T14:03:43.876044",
     "exception": false,
     "start_time": "2021-04-04T14:03:43.767979",
     "status": "completed"
    },
    "tags": []
   },
   "source": [
    "Nu Support Vector Classification"
   ]
  },
  {
   "cell_type": "code",
   "execution_count": 26,
   "id": "rough-serum",
   "metadata": {
    "execution": {
     "iopub.execute_input": "2021-04-04T14:03:44.101819Z",
     "iopub.status.busy": "2021-04-04T14:03:44.101157Z",
     "iopub.status.idle": "2021-04-04T14:03:46.974833Z",
     "shell.execute_reply": "2021-04-04T14:03:46.974140Z"
    },
    "papermill": {
     "duration": 2.991987,
     "end_time": "2021-04-04T14:03:46.975003",
     "exception": false,
     "start_time": "2021-04-04T14:03:43.983016",
     "status": "completed"
    },
    "tags": []
   },
   "outputs": [
    {
     "name": "stdout",
     "output_type": "stream",
     "text": [
      "NSVC Accuracy : 0.7837837837837838\n",
      "\n",
      "              precision    recall  f1-score   support\n",
      "\n",
      "     negatif       0.72      0.82      0.77        62\n",
      "      netral       0.82      0.74      0.78        61\n",
      "     positif       0.83      0.79      0.81        62\n",
      "\n",
      "    accuracy                           0.78       185\n",
      "   macro avg       0.79      0.78      0.78       185\n",
      "weighted avg       0.79      0.78      0.78       185\n",
      "\n"
     ]
    }
   ],
   "source": [
    "NSVC.fit(X_train,y_train)\n",
    "y2_NSVC_model = NSVC.predict(X_test)\n",
    "print(\"NSVC Accuracy :\", accuracy_score(y_test, y2_NSVC_model))\n",
    "print(\"\")\n",
    "model_Evaluate(NSVC)"
   ]
  }
 ],
 "metadata": {
  "kernelspec": {
   "display_name": "Python 3",
   "language": "python",
   "name": "python3"
  },
  "language_info": {
   "codemirror_mode": {
    "name": "ipython",
    "version": 3
   },
   "file_extension": ".py",
   "mimetype": "text/x-python",
   "name": "python",
   "nbconvert_exporter": "python",
   "pygments_lexer": "ipython3",
   "version": "3.7.9"
  },
  "papermill": {
   "default_parameters": {},
   "duration": 100.193147,
   "end_time": "2021-04-04T14:03:47.994470",
   "environment_variables": {},
   "exception": null,
   "input_path": "__notebook__.ipynb",
   "output_path": "__notebook__.ipynb",
   "parameters": {},
   "start_time": "2021-04-04T14:02:07.801323",
   "version": "2.3.2"
  }
 },
 "nbformat": 4,
 "nbformat_minor": 5
}
