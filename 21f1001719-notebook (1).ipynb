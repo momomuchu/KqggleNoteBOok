{
 "cells": [
  {
   "cell_type": "code",
   "execution_count": 1,
   "id": "f69ecc0b",
   "metadata": {
    "_cell_guid": "b1076dfc-b9ad-4769-8c92-a6c4dae69d19",
    "_uuid": "8f2839f25d086af736a60e9eeb907d3b93b6e0e5",
    "execution": {
     "iopub.execute_input": "2023-02-06T01:48:34.001283Z",
     "iopub.status.busy": "2023-02-06T01:48:34.000786Z",
     "iopub.status.idle": "2023-02-06T01:48:34.015004Z",
     "shell.execute_reply": "2023-02-06T01:48:34.013713Z"
    },
    "papermill": {
     "duration": 0.023144,
     "end_time": "2023-02-06T01:48:34.017184",
     "exception": false,
     "start_time": "2023-02-06T01:48:33.994040",
     "status": "completed"
    },
    "tags": []
   },
   "outputs": [
    {
     "name": "stdout",
     "output_type": "stream",
     "text": [
      "/kaggle/input/e-commerce-shoppers-behaviour-understanding/test_data_v2.csv\n",
      "/kaggle/input/e-commerce-shoppers-behaviour-understanding/train_data_v2.csv\n",
      "/kaggle/input/e-commerce-shoppers-behaviour-understanding/sample.csv\n"
     ]
    }
   ],
   "source": [
    "# This Python 3 environment comes with many helpful analytics libraries installed\n",
    "# It is defined by the kaggle/python Docker image: https://github.com/kaggle/docker-python\n",
    "# For example, here's several helpful packages to load\n",
    "\n",
    "import numpy as np # linear algebra\n",
    "import pandas as pd # data processing, CSV file I/O (e.g. pd.read_csv)\n",
    "\n",
    "# Input data files are available in the read-only \"../input/\" directory\n",
    "# For example, running this (by clicking run or pressing Shift+Enter) will list all files under the input directory\n",
    "\n",
    "import os\n",
    "for dirname, _, filenames in os.walk('/kaggle/input'):\n",
    "    for filename in filenames:\n",
    "        print(os.path.join(dirname, filename))\n",
    "\n",
    "# You can write up to 20GB to the current directory (/kaggle/working/) that gets preserved as output when you create a version using \"Save & Run All\" \n",
    "# You can also write temporary files to /kaggle/temp/, but they won't be saved outside of the current session"
   ]
  },
  {
   "cell_type": "code",
   "execution_count": 2,
   "id": "d2fea6bd",
   "metadata": {
    "execution": {
     "iopub.execute_input": "2023-02-06T01:48:34.027480Z",
     "iopub.status.busy": "2023-02-06T01:48:34.027134Z",
     "iopub.status.idle": "2023-02-06T01:48:34.110510Z",
     "shell.execute_reply": "2023-02-06T01:48:34.109461Z"
    },
    "papermill": {
     "duration": 0.090744,
     "end_time": "2023-02-06T01:48:34.112763",
     "exception": false,
     "start_time": "2023-02-06T01:48:34.022019",
     "status": "completed"
    },
    "tags": []
   },
   "outputs": [],
   "source": [
    "train = pd.read_csv('/kaggle/input/e-commerce-shoppers-behaviour-understanding/train_data_v2.csv')"
   ]
  },
  {
   "cell_type": "code",
   "execution_count": 3,
   "id": "e7239bd7",
   "metadata": {
    "execution": {
     "iopub.execute_input": "2023-02-06T01:48:34.122852Z",
     "iopub.status.busy": "2023-02-06T01:48:34.122537Z",
     "iopub.status.idle": "2023-02-06T01:48:34.156603Z",
     "shell.execute_reply": "2023-02-06T01:48:34.155721Z"
    },
    "papermill": {
     "duration": 0.041431,
     "end_time": "2023-02-06T01:48:34.158695",
     "exception": false,
     "start_time": "2023-02-06T01:48:34.117264",
     "status": "completed"
    },
    "tags": []
   },
   "outputs": [
    {
     "data": {
      "text/html": [
       "<div>\n",
       "<style scoped>\n",
       "    .dataframe tbody tr th:only-of-type {\n",
       "        vertical-align: middle;\n",
       "    }\n",
       "\n",
       "    .dataframe tbody tr th {\n",
       "        vertical-align: top;\n",
       "    }\n",
       "\n",
       "    .dataframe thead th {\n",
       "        text-align: right;\n",
       "    }\n",
       "</style>\n",
       "<table border=\"1\" class=\"dataframe\">\n",
       "  <thead>\n",
       "    <tr style=\"text-align: right;\">\n",
       "      <th></th>\n",
       "      <th>HomePage</th>\n",
       "      <th>HomePage_Duration</th>\n",
       "      <th>LandingPage</th>\n",
       "      <th>LandingPage_Duration</th>\n",
       "      <th>ProductDescriptionPage</th>\n",
       "      <th>ProductDescriptionPage_Duration</th>\n",
       "      <th>GoogleMetric:Bounce Rates</th>\n",
       "      <th>GoogleMetric:Exit Rates</th>\n",
       "      <th>GoogleMetric:Page Values</th>\n",
       "      <th>SeasonalPurchase</th>\n",
       "      <th>...</th>\n",
       "      <th>SearchEngine</th>\n",
       "      <th>Zone</th>\n",
       "      <th>Type of Traffic</th>\n",
       "      <th>CustomerType</th>\n",
       "      <th>Gender</th>\n",
       "      <th>Cookies Setting</th>\n",
       "      <th>Education</th>\n",
       "      <th>Marital Status</th>\n",
       "      <th>WeekendPurchase</th>\n",
       "      <th>Made_Purchase</th>\n",
       "    </tr>\n",
       "  </thead>\n",
       "  <tbody>\n",
       "    <tr>\n",
       "      <th>0</th>\n",
       "      <td>0.0</td>\n",
       "      <td>0.0</td>\n",
       "      <td>0.0</td>\n",
       "      <td>0.0</td>\n",
       "      <td>1.0</td>\n",
       "      <td>0.000000</td>\n",
       "      <td>0.20</td>\n",
       "      <td>0.20</td>\n",
       "      <td>0.0</td>\n",
       "      <td>0.0</td>\n",
       "      <td>...</td>\n",
       "      <td>1.0</td>\n",
       "      <td>9.0</td>\n",
       "      <td>3.0</td>\n",
       "      <td>Returning_Visitor</td>\n",
       "      <td>Not Specified</td>\n",
       "      <td>Deny</td>\n",
       "      <td>Not Specified</td>\n",
       "      <td>Other</td>\n",
       "      <td>0.0</td>\n",
       "      <td>False</td>\n",
       "    </tr>\n",
       "    <tr>\n",
       "      <th>1</th>\n",
       "      <td>0.0</td>\n",
       "      <td>0.0</td>\n",
       "      <td>0.0</td>\n",
       "      <td>0.0</td>\n",
       "      <td>2.0</td>\n",
       "      <td>2.666667</td>\n",
       "      <td>0.05</td>\n",
       "      <td>0.14</td>\n",
       "      <td>0.0</td>\n",
       "      <td>0.0</td>\n",
       "      <td>...</td>\n",
       "      <td>2.0</td>\n",
       "      <td>2.0</td>\n",
       "      <td>4.0</td>\n",
       "      <td>Returning_Visitor</td>\n",
       "      <td>Female</td>\n",
       "      <td>Deny</td>\n",
       "      <td>Others</td>\n",
       "      <td>Married</td>\n",
       "      <td>0.0</td>\n",
       "      <td>False</td>\n",
       "    </tr>\n",
       "    <tr>\n",
       "      <th>2</th>\n",
       "      <td>0.0</td>\n",
       "      <td>0.0</td>\n",
       "      <td>0.0</td>\n",
       "      <td>0.0</td>\n",
       "      <td>10.0</td>\n",
       "      <td>627.500000</td>\n",
       "      <td>0.02</td>\n",
       "      <td>0.05</td>\n",
       "      <td>0.0</td>\n",
       "      <td>0.0</td>\n",
       "      <td>...</td>\n",
       "      <td>3.0</td>\n",
       "      <td>1.0</td>\n",
       "      <td>4.0</td>\n",
       "      <td>Returning_Visitor</td>\n",
       "      <td>Female</td>\n",
       "      <td>ALL</td>\n",
       "      <td>Others</td>\n",
       "      <td>Married</td>\n",
       "      <td>1.0</td>\n",
       "      <td>False</td>\n",
       "    </tr>\n",
       "    <tr>\n",
       "      <th>3</th>\n",
       "      <td>0.0</td>\n",
       "      <td>0.0</td>\n",
       "      <td>0.0</td>\n",
       "      <td>0.0</td>\n",
       "      <td>1.0</td>\n",
       "      <td>0.000000</td>\n",
       "      <td>0.20</td>\n",
       "      <td>0.20</td>\n",
       "      <td>0.0</td>\n",
       "      <td>0.4</td>\n",
       "      <td>...</td>\n",
       "      <td>4.0</td>\n",
       "      <td>3.0</td>\n",
       "      <td>3.0</td>\n",
       "      <td>Returning_Visitor</td>\n",
       "      <td>Male</td>\n",
       "      <td>ALL</td>\n",
       "      <td>Diploma</td>\n",
       "      <td>Single</td>\n",
       "      <td>0.0</td>\n",
       "      <td>False</td>\n",
       "    </tr>\n",
       "    <tr>\n",
       "      <th>4</th>\n",
       "      <td>1.0</td>\n",
       "      <td>0.0</td>\n",
       "      <td>0.0</td>\n",
       "      <td>0.0</td>\n",
       "      <td>0.0</td>\n",
       "      <td>0.000000</td>\n",
       "      <td>0.20</td>\n",
       "      <td>0.20</td>\n",
       "      <td>0.0</td>\n",
       "      <td>0.0</td>\n",
       "      <td>...</td>\n",
       "      <td>2.0</td>\n",
       "      <td>1.0</td>\n",
       "      <td>5.0</td>\n",
       "      <td>Returning_Visitor</td>\n",
       "      <td>Male</td>\n",
       "      <td>Deny</td>\n",
       "      <td>Diploma</td>\n",
       "      <td>Other</td>\n",
       "      <td>1.0</td>\n",
       "      <td>False</td>\n",
       "    </tr>\n",
       "  </tbody>\n",
       "</table>\n",
       "<p>5 rows × 22 columns</p>\n",
       "</div>"
      ],
      "text/plain": [
       "   HomePage  HomePage_Duration  LandingPage  LandingPage_Duration  \\\n",
       "0       0.0                0.0          0.0                   0.0   \n",
       "1       0.0                0.0          0.0                   0.0   \n",
       "2       0.0                0.0          0.0                   0.0   \n",
       "3       0.0                0.0          0.0                   0.0   \n",
       "4       1.0                0.0          0.0                   0.0   \n",
       "\n",
       "   ProductDescriptionPage  ProductDescriptionPage_Duration  \\\n",
       "0                     1.0                         0.000000   \n",
       "1                     2.0                         2.666667   \n",
       "2                    10.0                       627.500000   \n",
       "3                     1.0                         0.000000   \n",
       "4                     0.0                         0.000000   \n",
       "\n",
       "   GoogleMetric:Bounce Rates  GoogleMetric:Exit Rates  \\\n",
       "0                       0.20                     0.20   \n",
       "1                       0.05                     0.14   \n",
       "2                       0.02                     0.05   \n",
       "3                       0.20                     0.20   \n",
       "4                       0.20                     0.20   \n",
       "\n",
       "   GoogleMetric:Page Values  SeasonalPurchase  ... SearchEngine  Zone  \\\n",
       "0                       0.0               0.0  ...          1.0   9.0   \n",
       "1                       0.0               0.0  ...          2.0   2.0   \n",
       "2                       0.0               0.0  ...          3.0   1.0   \n",
       "3                       0.0               0.4  ...          4.0   3.0   \n",
       "4                       0.0               0.0  ...          2.0   1.0   \n",
       "\n",
       "   Type of Traffic       CustomerType         Gender Cookies Setting  \\\n",
       "0              3.0  Returning_Visitor  Not Specified            Deny   \n",
       "1              4.0  Returning_Visitor         Female            Deny   \n",
       "2              4.0  Returning_Visitor         Female             ALL   \n",
       "3              3.0  Returning_Visitor           Male             ALL   \n",
       "4              5.0  Returning_Visitor           Male            Deny   \n",
       "\n",
       "       Education Marital Status WeekendPurchase Made_Purchase  \n",
       "0  Not Specified          Other             0.0         False  \n",
       "1         Others        Married             0.0         False  \n",
       "2         Others        Married             1.0         False  \n",
       "3        Diploma         Single             0.0         False  \n",
       "4        Diploma          Other             1.0         False  \n",
       "\n",
       "[5 rows x 22 columns]"
      ]
     },
     "execution_count": 3,
     "metadata": {},
     "output_type": "execute_result"
    }
   ],
   "source": [
    "train.head()"
   ]
  },
  {
   "cell_type": "code",
   "execution_count": 4,
   "id": "86c70a99",
   "metadata": {
    "execution": {
     "iopub.execute_input": "2023-02-06T01:48:34.169848Z",
     "iopub.status.busy": "2023-02-06T01:48:34.169486Z",
     "iopub.status.idle": "2023-02-06T01:48:34.177711Z",
     "shell.execute_reply": "2023-02-06T01:48:34.176781Z"
    },
    "papermill": {
     "duration": 0.016214,
     "end_time": "2023-02-06T01:48:34.179813",
     "exception": false,
     "start_time": "2023-02-06T01:48:34.163599",
     "status": "completed"
    },
    "tags": []
   },
   "outputs": [
    {
     "data": {
      "text/plain": [
       "HomePage                           float64\n",
       "HomePage_Duration                  float64\n",
       "LandingPage                        float64\n",
       "LandingPage_Duration               float64\n",
       "ProductDescriptionPage             float64\n",
       "ProductDescriptionPage_Duration    float64\n",
       "GoogleMetric:Bounce Rates          float64\n",
       "GoogleMetric:Exit Rates            float64\n",
       "GoogleMetric:Page Values           float64\n",
       "SeasonalPurchase                   float64\n",
       "Month_SeasonalPurchase              object\n",
       "OS                                 float64\n",
       "SearchEngine                       float64\n",
       "Zone                               float64\n",
       "Type of Traffic                    float64\n",
       "CustomerType                        object\n",
       "Gender                              object\n",
       "Cookies Setting                     object\n",
       "Education                           object\n",
       "Marital Status                      object\n",
       "WeekendPurchase                    float64\n",
       "Made_Purchase                         bool\n",
       "dtype: object"
      ]
     },
     "execution_count": 4,
     "metadata": {},
     "output_type": "execute_result"
    }
   ],
   "source": [
    "train.dtypes"
   ]
  },
  {
   "cell_type": "code",
   "execution_count": 5,
   "id": "f02638fa",
   "metadata": {
    "execution": {
     "iopub.execute_input": "2023-02-06T01:48:34.190594Z",
     "iopub.status.busy": "2023-02-06T01:48:34.190244Z",
     "iopub.status.idle": "2023-02-06T01:48:34.202968Z",
     "shell.execute_reply": "2023-02-06T01:48:34.201759Z"
    },
    "papermill": {
     "duration": 0.020534,
     "end_time": "2023-02-06T01:48:34.205275",
     "exception": false,
     "start_time": "2023-02-06T01:48:34.184741",
     "status": "completed"
    },
    "tags": []
   },
   "outputs": [],
   "source": [
    "train = train.select_dtypes(include = ['float64','bool'])\n",
    "train.fillna(0,inplace = True)"
   ]
  },
  {
   "cell_type": "code",
   "execution_count": 6,
   "id": "8d6d9c41",
   "metadata": {
    "execution": {
     "iopub.execute_input": "2023-02-06T01:48:34.216189Z",
     "iopub.status.busy": "2023-02-06T01:48:34.215927Z",
     "iopub.status.idle": "2023-02-06T01:48:35.238587Z",
     "shell.execute_reply": "2023-02-06T01:48:35.237644Z"
    },
    "papermill": {
     "duration": 1.030332,
     "end_time": "2023-02-06T01:48:35.240668",
     "exception": false,
     "start_time": "2023-02-06T01:48:34.210336",
     "status": "completed"
    },
    "tags": []
   },
   "outputs": [],
   "source": [
    "from sklearn.ensemble import RandomForestClassifier"
   ]
  },
  {
   "cell_type": "code",
   "execution_count": 7,
   "id": "8fb175a4",
   "metadata": {
    "execution": {
     "iopub.execute_input": "2023-02-06T01:48:35.251846Z",
     "iopub.status.busy": "2023-02-06T01:48:35.251234Z",
     "iopub.status.idle": "2023-02-06T01:48:35.260401Z",
     "shell.execute_reply": "2023-02-06T01:48:35.259485Z"
    },
    "papermill": {
     "duration": 0.01673,
     "end_time": "2023-02-06T01:48:35.262323",
     "exception": false,
     "start_time": "2023-02-06T01:48:35.245593",
     "status": "completed"
    },
    "tags": []
   },
   "outputs": [],
   "source": [
    "y_train = train['Made_Purchase']\n",
    "x_train = train.drop(columns = 'Made_Purchase')"
   ]
  },
  {
   "cell_type": "code",
   "execution_count": 8,
   "id": "9b67bafd",
   "metadata": {
    "execution": {
     "iopub.execute_input": "2023-02-06T01:48:35.273004Z",
     "iopub.status.busy": "2023-02-06T01:48:35.272352Z",
     "iopub.status.idle": "2023-02-06T01:48:37.967549Z",
     "shell.execute_reply": "2023-02-06T01:48:37.966476Z"
    },
    "papermill": {
     "duration": 2.702589,
     "end_time": "2023-02-06T01:48:37.969576",
     "exception": false,
     "start_time": "2023-02-06T01:48:35.266987",
     "status": "completed"
    },
    "tags": []
   },
   "outputs": [
    {
     "data": {
      "text/plain": [
       "RandomForestClassifier()"
      ]
     },
     "execution_count": 8,
     "metadata": {},
     "output_type": "execute_result"
    }
   ],
   "source": [
    "model = RandomForestClassifier()\n",
    "model.fit(x_train,y_train)"
   ]
  },
  {
   "cell_type": "code",
   "execution_count": 9,
   "id": "a4cd93e8",
   "metadata": {
    "execution": {
     "iopub.execute_input": "2023-02-06T01:48:37.981479Z",
     "iopub.status.busy": "2023-02-06T01:48:37.980479Z",
     "iopub.status.idle": "2023-02-06T01:48:38.295361Z",
     "shell.execute_reply": "2023-02-06T01:48:38.294712Z"
    },
    "papermill": {
     "duration": 0.322729,
     "end_time": "2023-02-06T01:48:38.297306",
     "exception": false,
     "start_time": "2023-02-06T01:48:37.974577",
     "status": "completed"
    },
    "tags": []
   },
   "outputs": [],
   "source": [
    "y_pred = model.predict(x_train)"
   ]
  },
  {
   "cell_type": "code",
   "execution_count": 10,
   "id": "fd12a6b8",
   "metadata": {
    "execution": {
     "iopub.execute_input": "2023-02-06T01:48:38.308619Z",
     "iopub.status.busy": "2023-02-06T01:48:38.307611Z",
     "iopub.status.idle": "2023-02-06T01:48:38.312697Z",
     "shell.execute_reply": "2023-02-06T01:48:38.311273Z"
    },
    "papermill": {
     "duration": 0.012745,
     "end_time": "2023-02-06T01:48:38.314947",
     "exception": false,
     "start_time": "2023-02-06T01:48:38.302202",
     "status": "completed"
    },
    "tags": []
   },
   "outputs": [],
   "source": [
    "from sklearn.metrics import f1_score"
   ]
  },
  {
   "cell_type": "code",
   "execution_count": 11,
   "id": "d35b78bd",
   "metadata": {
    "execution": {
     "iopub.execute_input": "2023-02-06T01:48:38.326425Z",
     "iopub.status.busy": "2023-02-06T01:48:38.326092Z",
     "iopub.status.idle": "2023-02-06T01:48:38.337920Z",
     "shell.execute_reply": "2023-02-06T01:48:38.337043Z"
    },
    "papermill": {
     "duration": 0.019895,
     "end_time": "2023-02-06T01:48:38.340052",
     "exception": false,
     "start_time": "2023-02-06T01:48:38.320157",
     "status": "completed"
    },
    "tags": []
   },
   "outputs": [
    {
     "data": {
      "text/plain": [
       "0.7087901136137134"
      ]
     },
     "execution_count": 11,
     "metadata": {},
     "output_type": "execute_result"
    }
   ],
   "source": [
    "f1_score(y_train,y_pred)"
   ]
  },
  {
   "cell_type": "code",
   "execution_count": 12,
   "id": "901722fb",
   "metadata": {
    "execution": {
     "iopub.execute_input": "2023-02-06T01:48:38.352163Z",
     "iopub.status.busy": "2023-02-06T01:48:38.351267Z",
     "iopub.status.idle": "2023-02-06T01:48:38.389378Z",
     "shell.execute_reply": "2023-02-06T01:48:38.388694Z"
    },
    "papermill": {
     "duration": 0.046113,
     "end_time": "2023-02-06T01:48:38.391369",
     "exception": false,
     "start_time": "2023-02-06T01:48:38.345256",
     "status": "completed"
    },
    "tags": []
   },
   "outputs": [],
   "source": [
    "test = pd.read_csv('/kaggle/input/e-commerce-shoppers-behaviour-understanding/test_data_v2.csv')"
   ]
  },
  {
   "cell_type": "code",
   "execution_count": 13,
   "id": "85ef79d6",
   "metadata": {
    "execution": {
     "iopub.execute_input": "2023-02-06T01:48:38.404366Z",
     "iopub.status.busy": "2023-02-06T01:48:38.403051Z",
     "iopub.status.idle": "2023-02-06T01:48:38.410352Z",
     "shell.execute_reply": "2023-02-06T01:48:38.409582Z"
    },
    "papermill": {
     "duration": 0.015673,
     "end_time": "2023-02-06T01:48:38.412000",
     "exception": false,
     "start_time": "2023-02-06T01:48:38.396327",
     "status": "completed"
    },
    "tags": []
   },
   "outputs": [],
   "source": [
    "test = test.select_dtypes(include = ['float64','bool'])\n",
    "test.fillna(0,inplace = True)"
   ]
  },
  {
   "cell_type": "code",
   "execution_count": 14,
   "id": "3913e4ef",
   "metadata": {
    "execution": {
     "iopub.execute_input": "2023-02-06T01:48:38.423008Z",
     "iopub.status.busy": "2023-02-06T01:48:38.422486Z",
     "iopub.status.idle": "2023-02-06T01:48:38.580719Z",
     "shell.execute_reply": "2023-02-06T01:48:38.579887Z"
    },
    "papermill": {
     "duration": 0.165724,
     "end_time": "2023-02-06T01:48:38.582610",
     "exception": false,
     "start_time": "2023-02-06T01:48:38.416886",
     "status": "completed"
    },
    "tags": []
   },
   "outputs": [
    {
     "data": {
      "text/plain": [
       "array([ True,  True,  True, ..., False, False, False])"
      ]
     },
     "execution_count": 14,
     "metadata": {},
     "output_type": "execute_result"
    }
   ],
   "source": [
    "pred = model.predict(test)\n",
    "pred"
   ]
  },
  {
   "cell_type": "code",
   "execution_count": 15,
   "id": "3aeeb7eb",
   "metadata": {
    "execution": {
     "iopub.execute_input": "2023-02-06T01:48:38.593824Z",
     "iopub.status.busy": "2023-02-06T01:48:38.593529Z",
     "iopub.status.idle": "2023-02-06T01:48:38.604382Z",
     "shell.execute_reply": "2023-02-06T01:48:38.603615Z"
    },
    "papermill": {
     "duration": 0.018726,
     "end_time": "2023-02-06T01:48:38.606489",
     "exception": false,
     "start_time": "2023-02-06T01:48:38.587763",
     "status": "completed"
    },
    "tags": []
   },
   "outputs": [],
   "source": [
    "sample = pd.read_csv('/kaggle/input/e-commerce-shoppers-behaviour-understanding/sample.csv')"
   ]
  },
  {
   "cell_type": "code",
   "execution_count": 16,
   "id": "913c2f0c",
   "metadata": {
    "execution": {
     "iopub.execute_input": "2023-02-06T01:48:38.617390Z",
     "iopub.status.busy": "2023-02-06T01:48:38.617109Z",
     "iopub.status.idle": "2023-02-06T01:48:38.624937Z",
     "shell.execute_reply": "2023-02-06T01:48:38.624128Z"
    },
    "papermill": {
     "duration": 0.015185,
     "end_time": "2023-02-06T01:48:38.626751",
     "exception": false,
     "start_time": "2023-02-06T01:48:38.611566",
     "status": "completed"
    },
    "tags": []
   },
   "outputs": [
    {
     "data": {
      "text/html": [
       "<div>\n",
       "<style scoped>\n",
       "    .dataframe tbody tr th:only-of-type {\n",
       "        vertical-align: middle;\n",
       "    }\n",
       "\n",
       "    .dataframe tbody tr th {\n",
       "        vertical-align: top;\n",
       "    }\n",
       "\n",
       "    .dataframe thead th {\n",
       "        text-align: right;\n",
       "    }\n",
       "</style>\n",
       "<table border=\"1\" class=\"dataframe\">\n",
       "  <thead>\n",
       "    <tr style=\"text-align: right;\">\n",
       "      <th></th>\n",
       "      <th>id</th>\n",
       "      <th>Made_Purchase</th>\n",
       "    </tr>\n",
       "  </thead>\n",
       "  <tbody>\n",
       "    <tr>\n",
       "      <th>0</th>\n",
       "      <td>0</td>\n",
       "      <td>False</td>\n",
       "    </tr>\n",
       "    <tr>\n",
       "      <th>1</th>\n",
       "      <td>1</td>\n",
       "      <td>False</td>\n",
       "    </tr>\n",
       "    <tr>\n",
       "      <th>2</th>\n",
       "      <td>2</td>\n",
       "      <td>False</td>\n",
       "    </tr>\n",
       "    <tr>\n",
       "      <th>3</th>\n",
       "      <td>3</td>\n",
       "      <td>False</td>\n",
       "    </tr>\n",
       "    <tr>\n",
       "      <th>4</th>\n",
       "      <td>4</td>\n",
       "      <td>False</td>\n",
       "    </tr>\n",
       "  </tbody>\n",
       "</table>\n",
       "</div>"
      ],
      "text/plain": [
       "   id  Made_Purchase\n",
       "0   0          False\n",
       "1   1          False\n",
       "2   2          False\n",
       "3   3          False\n",
       "4   4          False"
      ]
     },
     "execution_count": 16,
     "metadata": {},
     "output_type": "execute_result"
    }
   ],
   "source": [
    "sample.head()"
   ]
  },
  {
   "cell_type": "code",
   "execution_count": 17,
   "id": "9bd700ea",
   "metadata": {
    "execution": {
     "iopub.execute_input": "2023-02-06T01:48:38.638042Z",
     "iopub.status.busy": "2023-02-06T01:48:38.637720Z",
     "iopub.status.idle": "2023-02-06T01:48:38.658016Z",
     "shell.execute_reply": "2023-02-06T01:48:38.656876Z"
    },
    "papermill": {
     "duration": 0.028561,
     "end_time": "2023-02-06T01:48:38.660507",
     "exception": false,
     "start_time": "2023-02-06T01:48:38.631946",
     "status": "completed"
    },
    "tags": []
   },
   "outputs": [],
   "source": [
    "submission = pd.DataFrame(columns = ['id','Made_Purchase'])\n",
    "submission['id'] = [i for i in range(len(pred))]\n",
    "submission['Made_Purchase'] = pred\n",
    "submission.to_csv('submission.csv',index = False)"
   ]
  },
  {
   "cell_type": "code",
   "execution_count": 18,
   "id": "b3cd68d0",
   "metadata": {
    "execution": {
     "iopub.execute_input": "2023-02-06T01:48:38.673654Z",
     "iopub.status.busy": "2023-02-06T01:48:38.673284Z",
     "iopub.status.idle": "2023-02-06T01:48:38.683631Z",
     "shell.execute_reply": "2023-02-06T01:48:38.682771Z"
    },
    "papermill": {
     "duration": 0.018789,
     "end_time": "2023-02-06T01:48:38.685376",
     "exception": false,
     "start_time": "2023-02-06T01:48:38.666587",
     "status": "completed"
    },
    "tags": []
   },
   "outputs": [
    {
     "data": {
      "text/html": [
       "<div>\n",
       "<style scoped>\n",
       "    .dataframe tbody tr th:only-of-type {\n",
       "        vertical-align: middle;\n",
       "    }\n",
       "\n",
       "    .dataframe tbody tr th {\n",
       "        vertical-align: top;\n",
       "    }\n",
       "\n",
       "    .dataframe thead th {\n",
       "        text-align: right;\n",
       "    }\n",
       "</style>\n",
       "<table border=\"1\" class=\"dataframe\">\n",
       "  <thead>\n",
       "    <tr style=\"text-align: right;\">\n",
       "      <th></th>\n",
       "      <th>id</th>\n",
       "      <th>Made_Purchase</th>\n",
       "    </tr>\n",
       "  </thead>\n",
       "  <tbody>\n",
       "    <tr>\n",
       "      <th>0</th>\n",
       "      <td>0</td>\n",
       "      <td>True</td>\n",
       "    </tr>\n",
       "    <tr>\n",
       "      <th>1</th>\n",
       "      <td>1</td>\n",
       "      <td>True</td>\n",
       "    </tr>\n",
       "    <tr>\n",
       "      <th>2</th>\n",
       "      <td>2</td>\n",
       "      <td>True</td>\n",
       "    </tr>\n",
       "    <tr>\n",
       "      <th>3</th>\n",
       "      <td>3</td>\n",
       "      <td>True</td>\n",
       "    </tr>\n",
       "    <tr>\n",
       "      <th>4</th>\n",
       "      <td>4</td>\n",
       "      <td>True</td>\n",
       "    </tr>\n",
       "    <tr>\n",
       "      <th>...</th>\n",
       "      <td>...</td>\n",
       "      <td>...</td>\n",
       "    </tr>\n",
       "    <tr>\n",
       "      <th>6594</th>\n",
       "      <td>6594</td>\n",
       "      <td>False</td>\n",
       "    </tr>\n",
       "    <tr>\n",
       "      <th>6595</th>\n",
       "      <td>6595</td>\n",
       "      <td>False</td>\n",
       "    </tr>\n",
       "    <tr>\n",
       "      <th>6596</th>\n",
       "      <td>6596</td>\n",
       "      <td>False</td>\n",
       "    </tr>\n",
       "    <tr>\n",
       "      <th>6597</th>\n",
       "      <td>6597</td>\n",
       "      <td>False</td>\n",
       "    </tr>\n",
       "    <tr>\n",
       "      <th>6598</th>\n",
       "      <td>6598</td>\n",
       "      <td>False</td>\n",
       "    </tr>\n",
       "  </tbody>\n",
       "</table>\n",
       "<p>6599 rows × 2 columns</p>\n",
       "</div>"
      ],
      "text/plain": [
       "        id  Made_Purchase\n",
       "0        0           True\n",
       "1        1           True\n",
       "2        2           True\n",
       "3        3           True\n",
       "4        4           True\n",
       "...    ...            ...\n",
       "6594  6594          False\n",
       "6595  6595          False\n",
       "6596  6596          False\n",
       "6597  6597          False\n",
       "6598  6598          False\n",
       "\n",
       "[6599 rows x 2 columns]"
      ]
     },
     "execution_count": 18,
     "metadata": {},
     "output_type": "execute_result"
    }
   ],
   "source": [
    "submission"
   ]
  },
  {
   "cell_type": "code",
   "execution_count": null,
   "id": "9477f7e6",
   "metadata": {
    "papermill": {
     "duration": 0.005078,
     "end_time": "2023-02-06T01:48:38.695945",
     "exception": false,
     "start_time": "2023-02-06T01:48:38.690867",
     "status": "completed"
    },
    "tags": []
   },
   "outputs": [],
   "source": []
  }
 ],
 "metadata": {
  "kernelspec": {
   "display_name": "Python 3",
   "language": "python",
   "name": "python3"
  },
  "language_info": {
   "codemirror_mode": {
    "name": "ipython",
    "version": 3
   },
   "file_extension": ".py",
   "mimetype": "text/x-python",
   "name": "python",
   "nbconvert_exporter": "python",
   "pygments_lexer": "ipython3",
   "version": "3.7.12"
  },
  "papermill": {
   "default_parameters": {},
   "duration": 12.091987,
   "end_time": "2023-02-06T01:48:39.321228",
   "environment_variables": {},
   "exception": null,
   "input_path": "__notebook__.ipynb",
   "output_path": "__notebook__.ipynb",
   "parameters": {},
   "start_time": "2023-02-06T01:48:27.229241",
   "version": "2.3.4"
  }
 },
 "nbformat": 4,
 "nbformat_minor": 5
}
